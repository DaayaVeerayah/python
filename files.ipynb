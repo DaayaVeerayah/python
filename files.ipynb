{
  "nbformat": 4,
  "nbformat_minor": 0,
  "metadata": {
    "colab": {
      "name": "Untitled1.ipynb",
      "provenance": [],
      "authorship_tag": "ABX9TyMTjGe3Y2BCNJWiGBN6v+ao",
      "include_colab_link": true
    },
    "kernelspec": {
      "name": "python3",
      "display_name": "Python 3"
    }
  },
  "cells": [
    {
      "cell_type": "markdown",
      "metadata": {
        "id": "view-in-github",
        "colab_type": "text"
      },
      "source": [
        "<a href=\"https://colab.research.google.com/github/meghasyam/python/blob/master/files.ipynb\" target=\"_parent\"><img src=\"https://colab.research.google.com/assets/colab-badge.svg\" alt=\"Open In Colab\"/></a>"
      ]
    },
    {
      "cell_type": "code",
      "metadata": {
        "id": "B981kjRpRckO",
        "colab_type": "code",
        "colab": {}
      },
      "source": [
        "with open(\"test.txt\",'w',encoding = 'utf-8') as f:\n",
        "   f.write(\"my first file\\n\")\n",
        "   f.write(\"This file\\n\\n\")\n",
        "   f.write(\"contains three lines\\n\")"
      ],
      "execution_count": 0,
      "outputs": []
    },
    {
      "cell_type": "code",
      "metadata": {
        "id": "qCia_sGnSQor",
        "colab_type": "code",
        "colab": {
          "base_uri": "https://localhost:8080/",
          "height": 87
        },
        "outputId": "404f9691-5ae1-4e5d-f7aa-23fb370c2cca"
      },
      "source": [
        "with open(\"test.txt\",'r',encoding = 'utf-8') as f:\n",
        "  print(f.read(4))\n",
        "  print(f.tell())\n",
        "  print(f.read(4))\n",
        "  f.seek(0)\n",
        "  print(f.read(4))  "
      ],
      "execution_count": 8,
      "outputs": [
        {
          "output_type": "stream",
          "text": [
            "my f\n",
            "4\n",
            "irst\n",
            "my f\n"
          ],
          "name": "stdout"
        }
      ]
    },
    {
      "cell_type": "code",
      "metadata": {
        "id": "MzemX0pxS3GT",
        "colab_type": "code",
        "colab": {
          "base_uri": "https://localhost:8080/",
          "height": 52
        },
        "outputId": "f0f00e96-89ab-4a7f-8053-ef8670958b7c"
      },
      "source": [
        "with open(\"test.txt\",'r',encoding = 'utf-8') as f:\n",
        "  print(f.readline())"
      ],
      "execution_count": 4,
      "outputs": [
        {
          "output_type": "stream",
          "text": [
            "my first file\n",
            "\n"
          ],
          "name": "stdout"
        }
      ]
    },
    {
      "cell_type": "code",
      "metadata": {
        "id": "VJt31T2RTDYg",
        "colab_type": "code",
        "colab": {}
      },
      "source": [
        "with open(\"test.txt\",'r',encoding = 'utf-8') as f:\n",
        "  list = f.readlines()"
      ],
      "execution_count": 0,
      "outputs": []
    },
    {
      "cell_type": "code",
      "metadata": {
        "id": "4KYM3Ql9T0ym",
        "colab_type": "code",
        "colab": {}
      },
      "source": [
        "with open(\"test.txt\",'a',encoding = 'utf-8') as f:\n",
        "  f.writelines(list)"
      ],
      "execution_count": 0,
      "outputs": []
    },
    {
      "cell_type": "code",
      "metadata": {
        "id": "tR8gXmbVUTQy",
        "colab_type": "code",
        "colab": {
          "base_uri": "https://localhost:8080/",
          "height": 35
        },
        "outputId": "3eb77693-7b1c-44b6-9ea6-4dd460ad6fd4"
      },
      "source": [
        "with open(\"test.txt\",'r',encoding = 'utf-8') as f: # ascii / unicode (unicode text format)\n",
        "  print(f.readlines())"
      ],
      "execution_count": 16,
      "outputs": [
        {
          "output_type": "stream",
          "text": [
            "['my first file\\n', 'This file\\n', '\\n', 'contains three lines\\n', 'my first file\\n', 'This file\\n', '\\n', 'contains three lines\\n']\n"
          ],
          "name": "stdout"
        }
      ]
    },
    {
      "cell_type": "code",
      "metadata": {
        "id": "SrzVSZ4dU0yd",
        "colab_type": "code",
        "colab": {
          "base_uri": "https://localhost:8080/",
          "height": 69
        },
        "outputId": "2698d70e-80a7-4109-e8e8-bef1a9697573"
      },
      "source": [
        "import os\n",
        "\n",
        "print(os.getcwd())\n",
        "\n",
        "with open(\"test.txt\",'w',encoding = 'utf-8') as f:\n",
        "   f.write(\"my first file\\n\")\n",
        "   f.write(\"This file\\n\\n\")\n",
        "   f.write(\"contains three lines\\n\")\n",
        "\n",
        "print(os.listdir())\n",
        "os.remove(\"test.txt\")\n",
        "os.rmdir(\"new_one\")\n",
        "print(os.listdir())"
      ],
      "execution_count": 33,
      "outputs": [
        {
          "output_type": "stream",
          "text": [
            "/content\n",
            "['.config', 'new_one', 'test.txt', 'sample_data']\n",
            "['.config', 'sample_data']\n"
          ],
          "name": "stdout"
        }
      ]
    }
  ]
}