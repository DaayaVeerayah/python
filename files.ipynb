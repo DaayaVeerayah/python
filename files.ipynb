{
  "nbformat": 4,
  "nbformat_minor": 0,
  "metadata": {
    "colab": {
      "name": "Untitled1.ipynb",
      "provenance": [],
      "authorship_tag": "ABX9TyMwTwPTn01I47CJudKBouLV",
      "include_colab_link": true
    },
    "kernelspec": {
      "name": "python3",
      "display_name": "Python 3"
    }
  },
  "cells": [
    {
      "cell_type": "markdown",
      "metadata": {
        "id": "view-in-github",
        "colab_type": "text"
      },
      "source": [
        "<a href=\"https://colab.research.google.com/github/meghasyam/python/blob/master/files.ipynb\" target=\"_parent\"><img src=\"https://colab.research.google.com/assets/colab-badge.svg\" alt=\"Open In Colab\"/></a>"
      ]
    },
    {
      "cell_type": "code",
      "metadata": {
        "id": "oy0U5onyr2w3",
        "colab_type": "code",
        "colab": {}
      },
      "source": [
        "try:\n",
        "  f = open(\"test.txt\", encoding = 'utf-8')\n",
        "  # perform file operations\n",
        "  f.close()\n",
        "except:\n",
        "  pass  "
      ],
      "execution_count": 0,
      "outputs": []
    },
    {
      "cell_type": "code",
      "metadata": {
        "id": "1pt36TN3sjkf",
        "colab_type": "code",
        "colab": {}
      },
      "source": [
        "!cat test.txt"
      ],
      "execution_count": 0,
      "outputs": []
    },
    {
      "cell_type": "code",
      "metadata": {
        "id": "B981kjRpRckO",
        "colab_type": "code",
        "colab": {}
      },
      "source": [
        "with open(\"test.txt\",'w',encoding = 'utf-8') as f:\n",
        "   f.write(\"my first file\\n\")\n",
        "   f.write(\"This file\\n\\n\")\n",
        "   f.write(\"contains three lines\\n\")"
      ],
      "execution_count": 0,
      "outputs": []
    },
    {
      "cell_type": "code",
      "metadata": {
        "id": "qCia_sGnSQor",
        "colab_type": "code",
        "colab": {}
      },
      "source": [
        "with open(\"test.txt\",'r',encoding = 'utf-8') as f:\n",
        "  print(f.read(4))\n",
        "  print(f.tell())\n",
        "  print(f.read(4))\n",
        "  f.seek(0)\n",
        "  print(f.read(4))  "
      ],
      "execution_count": 0,
      "outputs": []
    },
    {
      "cell_type": "code",
      "metadata": {
        "id": "MzemX0pxS3GT",
        "colab_type": "code",
        "colab": {}
      },
      "source": [
        "with open(\"test.txt\",'r',encoding = 'utf-8') as f:\n",
        "  print(f.readline(2))"
      ],
      "execution_count": 0,
      "outputs": []
    },
    {
      "cell_type": "code",
      "metadata": {
        "id": "VJt31T2RTDYg",
        "colab_type": "code",
        "colab": {}
      },
      "source": [
        "with open(\"test.txt\",'r',encoding = 'utf-8') as f:\n",
        "  list = f.readlines(2)\n",
        "  print(list)"
      ],
      "execution_count": 0,
      "outputs": []
    },
    {
      "cell_type": "code",
      "metadata": {
        "id": "4KYM3Ql9T0ym",
        "colab_type": "code",
        "colab": {}
      },
      "source": [
        "with open(\"test.txt\",'a',encoding = 'utf-8') as f:\n",
        "  f.writelines(list)"
      ],
      "execution_count": 0,
      "outputs": []
    },
    {
      "cell_type": "code",
      "metadata": {
        "id": "tFh5yADUucif",
        "colab_type": "code",
        "colab": {}
      },
      "source": [
        "with open(\"test.txt\",'a',encoding = 'utf-8') as f:\n",
        "  f.truncate(100)\n",
        "  #print(f.readlines())"
      ],
      "execution_count": 0,
      "outputs": []
    },
    {
      "cell_type": "code",
      "metadata": {
        "id": "sUww4NXZuxLX",
        "colab_type": "code",
        "colab": {}
      },
      "source": [
        "with open(\"test.txt\",'r',encoding = 'utf-8') as f:\n",
        "  #f.truncate()\n",
        "  print(f.readlines())"
      ],
      "execution_count": 0,
      "outputs": []
    },
    {
      "cell_type": "code",
      "metadata": {
        "id": "tR8gXmbVUTQy",
        "colab_type": "code",
        "colab": {}
      },
      "source": [
        "with open(\"test.txt\",'r',encoding = 'utf-8') as f: # ascii / unicode (unicode text format)\n",
        "  print(f.readlines())"
      ],
      "execution_count": 0,
      "outputs": []
    },
    {
      "cell_type": "code",
      "metadata": {
        "id": "SrzVSZ4dU0yd",
        "colab_type": "code",
        "outputId": "8aae26fe-9a7c-4707-d20e-bd2065ae86ce",
        "colab": {
          "base_uri": "https://localhost:8080/",
          "height": 69
        }
      },
      "source": [
        "import os\n",
        "\n",
        "print(os.getcwd())\n",
        "\n",
        "with open(\"test.txt\",'w',encoding = 'utf-8') as f:\n",
        "   f.write(\"my first file\\n\")\n",
        "   f.write(\"This file\\n\\n\")\n",
        "   f.write(\"contains three lines\\n\")\n",
        "\n",
        "print(os.listdir())\n",
        "os.remove(\"test.txt\")\n",
        "#os.rmdir(\"new_one\")\n",
        "print(os.listdir()) #listdir,mkdir,rmdir,rename -directory\n",
        "#remove - file removed"
      ],
      "execution_count": 36,
      "outputs": [
        {
          "output_type": "stream",
          "text": [
            "/content\n",
            "['.config', 'test.txt', 'sample_data']\n",
            "['.config', 'sample_data']\n"
          ],
          "name": "stdout"
        }
      ]
    }
  ]
}