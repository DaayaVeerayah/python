{
  "nbformat": 4,
  "nbformat_minor": 0,
  "metadata": {
    "colab": {
      "name": "Untitled13.ipynb",
      "provenance": [],
      "authorship_tag": "ABX9TyOgXnX8J9mKFd27tLK49/Yy",
      "include_colab_link": true
    },
    "kernelspec": {
      "name": "python3",
      "display_name": "Python 3"
    }
  },
  "cells": [
    {
      "cell_type": "markdown",
      "metadata": {
        "id": "view-in-github",
        "colab_type": "text"
      },
      "source": [
        "<a href=\"https://colab.research.google.com/github/meghasyam/python/blob/master/libray-fuctions2.ipynb\" target=\"_parent\"><img src=\"https://colab.research.google.com/assets/colab-badge.svg\" alt=\"Open In Colab\"/></a>"
      ]
    },
    {
      "cell_type": "code",
      "metadata": {
        "id": "lejg8E4OYRR6",
        "colab_type": "code",
        "colab": {}
      },
      "source": [
        "help()"
      ],
      "execution_count": 0,
      "outputs": []
    },
    {
      "cell_type": "code",
      "metadata": {
        "id": "9T4ubd4kYgLi",
        "colab_type": "code",
        "colab": {}
      },
      "source": [
        "help(list)"
      ],
      "execution_count": 0,
      "outputs": []
    },
    {
      "cell_type": "code",
      "metadata": {
        "id": "x1KNswtXYnLZ",
        "colab_type": "code",
        "colab": {}
      },
      "source": [
        "help(help)"
      ],
      "execution_count": 0,
      "outputs": []
    },
    {
      "cell_type": "code",
      "metadata": {
        "id": "db1O1OZ3Ysdb",
        "colab_type": "code",
        "colab": {}
      },
      "source": [
        "number = 435\n",
        "print(number, 'in hex =', hex(number))\n",
        "\n",
        "number = 0\n",
        "print(number, 'in hex =', hex(number))\n",
        "\n",
        "number = -34\n",
        "print(number, 'in hex =', hex(number))\n",
        "\n",
        "returnType = type(hex(number))\n",
        "print('Return type from hex() is', returnType)"
      ],
      "execution_count": 0,
      "outputs": []
    },
    {
      "cell_type": "code",
      "metadata": {
        "id": "dWTqY6QxY0s6",
        "colab_type": "code",
        "colab": {}
      },
      "source": [
        "number = 2.5\n",
        "print(number, 'in hex =', float.hex(number))\n",
        "\n",
        "number = 0.0\n",
        "print(number, 'in hex =', float.hex(number))\n",
        "\n",
        "number = 10.5\n",
        "print(number, 'in hex =', float.hex(number))"
      ],
      "execution_count": 0,
      "outputs": []
    },
    {
      "cell_type": "code",
      "metadata": {
        "id": "1wigtJRxZHE_",
        "colab_type": "code",
        "colab": {}
      },
      "source": [
        "# hash for integer unchanged\n",
        "print('Hash for 181 is:', hash(181))\n",
        "\n",
        "# hash for decimal\n",
        "print('Hash for 181.23 is:',hash(181.23))\n",
        "\n",
        "# hash for string\n",
        "print('Hash for Python is:', hash('Python'))"
      ],
      "execution_count": 0,
      "outputs": []
    },
    {
      "cell_type": "code",
      "metadata": {
        "id": "VYbSAascZRMU",
        "colab_type": "code",
        "colab": {}
      },
      "source": [
        "# tuple of vowels\n",
        "vowels = ('a', 'e', 'i', 'o', 'u')\n",
        "\n",
        "print('The hash is:', hash(vowels))"
      ],
      "execution_count": 0,
      "outputs": []
    },
    {
      "cell_type": "code",
      "metadata": {
        "id": "aCbQth1WZrN5",
        "colab_type": "code",
        "colab": {}
      },
      "source": [
        "class Person:\n",
        "    def __init__(self, age, name):\n",
        "        self.age = age\n",
        "        self.name = name\n",
        "\n",
        "    def __eq__(self, other):\n",
        "        return self.age == other.age and self.name == other.name\n",
        "\n",
        "    def __hash__(self):\n",
        "        print('The hash is:')\n",
        "        return hash((self.age, self.name))\n",
        "\n",
        "person = Person(23, 'Adam')\n",
        "print(hash(person))"
      ],
      "execution_count": 0,
      "outputs": []
    },
    {
      "cell_type": "code",
      "metadata": {
        "id": "bAs1_xRtfnU4",
        "colab_type": "code",
        "colab": {}
      },
      "source": [
        "# get input from user\n",
        "\n",
        "inputString = input()\n",
        "\n",
        "print('The inputted string is:', inputString)"
      ],
      "execution_count": 0,
      "outputs": []
    },
    {
      "cell_type": "code",
      "metadata": {
        "id": "kxpl22wkgCRG",
        "colab_type": "code",
        "colab": {}
      },
      "source": [
        "# get input from user\n",
        "\n",
        "inputString = input('Enter a string:')\n",
        "\n",
        "print('The inputted string is:', inputString)"
      ],
      "execution_count": 0,
      "outputs": []
    },
    {
      "cell_type": "code",
      "metadata": {
        "id": "O7_CqCbRgFfb",
        "colab_type": "code",
        "colab": {}
      },
      "source": [
        "class Foo:\n",
        "    b = 5\n",
        "\n",
        "dummyFoo = Foo()\n",
        "print('id of dummyFoo =',id(dummyFoo))"
      ],
      "execution_count": 0,
      "outputs": []
    },
    {
      "cell_type": "code",
      "metadata": {
        "id": "27v91a2ZgV-3",
        "colab_type": "code",
        "colab": {}
      },
      "source": [
        "print('id of 5 =',id(5))\n",
        "\n",
        "a = 5\n",
        "print('id of a =',id(a))\n",
        "\n",
        "b = a\n",
        "print('id of b =',id(b))\n",
        "\n",
        "c = 5.0\n",
        "print('id of c =',id(c))"
      ],
      "execution_count": 0,
      "outputs": []
    },
    {
      "cell_type": "code",
      "metadata": {
        "id": "KQreS-gigmTm",
        "colab_type": "code",
        "colab": {}
      },
      "source": [
        "class Foo:\n",
        "  a = 5\n",
        "  \n",
        "fooInstance = Foo()\n",
        "\n",
        "print(isinstance(fooInstance, Foo))\n",
        "print(isinstance(fooInstance, (list, tuple)))\n",
        "print(isinstance(fooInstance, (list, tuple, Foo)))"
      ],
      "execution_count": 0,
      "outputs": []
    },
    {
      "cell_type": "code",
      "metadata": {
        "id": "jNvvw7EOgvS7",
        "colab_type": "code",
        "colab": {}
      },
      "source": [
        "numbers = [1, 2, 3]\n",
        "\n",
        "result = isinstance(numbers, list)\n",
        "print(numbers,'instance of list?', result)\n",
        "\n",
        "result = isinstance(numbers, dict)\n",
        "print(numbers,'instance of dict?', result)\n",
        "\n",
        "result = isinstance(numbers, (dict, list))\n",
        "print(numbers,'instance of dict or list?', result)\n",
        "\n",
        "number = 5\n",
        "\n",
        "result = isinstance(number, list)\n",
        "print(number,'instance of list?', result)\n",
        "\n",
        "result = isinstance(number, int)\n",
        "print(number,'instance of int?', result)"
      ],
      "execution_count": 0,
      "outputs": []
    },
    {
      "cell_type": "code",
      "metadata": {
        "id": "MAhv4sKHhAmu",
        "colab_type": "code",
        "colab": {}
      },
      "source": [
        "# integer\n",
        "print(\"int(123) is:\", int(123))\n",
        "\n",
        "# float\n",
        "print(\"int(123.23) is:\", int(123.23))\n",
        "\n",
        "# string\n",
        "print(\"int('123') is:\", int('123'))"
      ],
      "execution_count": 0,
      "outputs": []
    },
    {
      "cell_type": "code",
      "metadata": {
        "id": "ld2XXYU_hKM7",
        "colab_type": "code",
        "colab": {}
      },
      "source": [
        "# binary 0b or 0B\n",
        "print(\"For 1010, int is:\", int('1010', 2))\n",
        "print(\"For 0b1010, int is:\", int('0b1010', 2))\n",
        "\n",
        "# octal 0o or 0O\n",
        "print(\"For 12, int is:\", int('12', 8))\n",
        "print(\"For 0o12, int is:\", int('0o12', 8))\n",
        "\n",
        "# hexadecimal\n",
        "print(\"For A, int is:\", int('A', 16))\n",
        "print(\"For 0xA, int is:\", int('0xA', 16))"
      ],
      "execution_count": 0,
      "outputs": []
    },
    {
      "cell_type": "code",
      "metadata": {
        "id": "1CSkY2C7hdiX",
        "colab_type": "code",
        "colab": {}
      },
      "source": [
        "class Person:\n",
        "    age = 23\n",
        "\n",
        "    def __index__(self):\n",
        "        return self.age\n",
        "    \n",
        "    def __int__(self):\n",
        "        return self.age\n",
        "\n",
        "person = Person()\n",
        "print('int(person) is:', int(person))"
      ],
      "execution_count": 0,
      "outputs": []
    },
    {
      "cell_type": "code",
      "metadata": {
        "id": "64eb1a0bhm9M",
        "colab_type": "code",
        "colab": {}
      },
      "source": [
        "class Polygon:\n",
        "  def __init__(polygonType):\n",
        "    print('Polygon is a ', polygonType)\n",
        "\n",
        "class Triangle(Polygon):\n",
        "  def __init__(self):\n",
        "    Polygon.__init__('triangle')\n",
        "    \n",
        "print(issubclass(Triangle, Polygon))\n",
        "print(issubclass(Triangle, list))\n",
        "print(issubclass(Triangle, (list, Polygon)))\n",
        "print(issubclass(Polygon, (list, Polygon)))"
      ],
      "execution_count": 0,
      "outputs": []
    },
    {
      "cell_type": "code",
      "metadata": {
        "id": "cBVo8NYhiHzY",
        "colab_type": "code",
        "colab": {}
      },
      "source": [
        "locals()"
      ],
      "execution_count": 0,
      "outputs": []
    },
    {
      "cell_type": "code",
      "metadata": {
        "id": "ob2afkXZicee",
        "colab_type": "code",
        "colab": {}
      },
      "source": [
        "def localsNotPresent():\n",
        "    return locals()\n",
        "\n",
        "def localsPresent():\n",
        "    present = True\n",
        "    return locals()\n",
        "\n",
        "print('localsNotPresent:', localsNotPresent())\n",
        "print('localsPresent:', localsPresent())"
      ],
      "execution_count": 0,
      "outputs": []
    },
    {
      "cell_type": "code",
      "metadata": {
        "id": "gLQt89s8iqzR",
        "colab_type": "code",
        "colab": {}
      },
      "source": [
        "def localsPresent():\n",
        "    present = True\n",
        "    print(present)\n",
        "    locals()['present'] = False;\n",
        "    print(present)\n",
        "    return locals()\n",
        "\n",
        "print(localsPresent())"
      ],
      "execution_count": 0,
      "outputs": []
    },
    {
      "cell_type": "code",
      "metadata": {
        "id": "Q9sfMnh-HW4q",
        "colab_type": "code",
        "colab": {}
      },
      "source": [
        "testList = []\n",
        "print(testList, 'length is', len(testList))\n",
        "\n",
        "testList = [1, 2, 3]\n",
        "print(testList, 'length is', len(testList))\n",
        "\n",
        "testTuple = (1, 2, 3)\n",
        "print(testTuple, 'length is', len(testTuple))\n",
        "\n",
        "testRange = range(1, 10)\n",
        "print('Length of', testRange, 'is', len(testRange))"
      ],
      "execution_count": 0,
      "outputs": []
    },
    {
      "cell_type": "code",
      "metadata": {
        "id": "ErWbJ7bjHwqE",
        "colab_type": "code",
        "colab": {}
      },
      "source": [
        "testString = ''\n",
        "print('Length of', testString, 'is', len(testString))\n",
        "\n",
        "testString = 'Python'\n",
        "print('Length of', testString, 'is', len(testString))\n",
        "\n",
        "# byte object\n",
        "testByte = b'Python'\n",
        "print('Length of', testByte, 'is', len(testByte))\n",
        "\n",
        "testList = [1, 2, 3]\n",
        "\n",
        "# converting to bytes object\n",
        "testByte = bytes(testList)\n",
        "print('Length of', testByte, 'is', len(testByte))"
      ],
      "execution_count": 0,
      "outputs": []
    },
    {
      "cell_type": "code",
      "metadata": {
        "id": "HtlxLKy0H-u3",
        "colab_type": "code",
        "colab": {}
      },
      "source": [
        "testSet = {1, 2, 3}\n",
        "print(testSet, 'length is', len(testSet))\n",
        "\n",
        "# Empty Set\n",
        "testSet = set()\n",
        "print(testSet, 'length is', len(testSet))\n",
        "\n",
        "testDict = {1: 'one', 2: 'two'}\n",
        "print(testDict, 'length is', len(testDict))\n",
        "\n",
        "testDict = {}\n",
        "print(testDict, 'length is', len(testDict))\n",
        "\n",
        "testSet = {1, 2}\n",
        "# frozenSet\n",
        "frozenTestSet = frozenset(testSet)\n",
        "print(frozenTestSet, 'length is', len(frozenTestSet))"
      ],
      "execution_count": 0,
      "outputs": []
    },
    {
      "cell_type": "code",
      "metadata": {
        "id": "SqwVfTEoIIQz",
        "colab_type": "code",
        "colab": {}
      },
      "source": [
        "class Session:\n",
        "    def __init__(self, number = 0):\n",
        "      self.number = number\n",
        "    \n",
        "    def __len__(self):\n",
        "      return self.number\n",
        "\n",
        "\n",
        "# default length is 0\n",
        "s1 = Session()\n",
        "print(len(s1))\n",
        "\n",
        "# giving custom length\n",
        "s2 = Session(6)\n",
        "print(len(s2))"
      ],
      "execution_count": 0,
      "outputs": []
    },
    {
      "cell_type": "code",
      "metadata": {
        "id": "pC-KA1yAIY9u",
        "colab_type": "code",
        "colab": {}
      },
      "source": [
        "number = [3, 2, 8, 5, 10, 6]\n",
        "largest_number = max(number);\n",
        "\n",
        "print(\"The largest number is:\", largest_number)"
      ],
      "execution_count": 0,
      "outputs": []
    },
    {
      "cell_type": "code",
      "metadata": {
        "id": "Ce1DydmPIiRB",
        "colab_type": "code",
        "colab": {}
      },
      "source": [
        "languages = [\"Python\", \"C Programming\", \"Java\", \"JavaScript\"]\n",
        "largest_string = max(languages);\n",
        "\n",
        "print(\"The largest string is:\", largest_string)"
      ],
      "execution_count": 0,
      "outputs": []
    },
    {
      "cell_type": "code",
      "metadata": {
        "id": "NfiMpeuiIm57",
        "colab_type": "code",
        "colab": {}
      },
      "source": [
        "square = {2: 4, -3: 9, -1: 1, -2: 4}\n",
        "\n",
        "# the largest key\n",
        "key1 = max(square)  \n",
        "print(\"The largest key:\", key1)    # 2\n",
        "\n",
        "# the key whose value is the largest\n",
        "key2 = max(square, key = lambda k: square[k])\n",
        "\n",
        "print(\"The key with the largest value:\", key2)    # -3\n",
        "\n",
        "# getting the largest value\n",
        "print(\"The largest value:\", square[key2])    # "
      ],
      "execution_count": 0,
      "outputs": []
    },
    {
      "cell_type": "code",
      "metadata": {
        "id": "2aW5DdjfJXfK",
        "colab_type": "code",
        "colab": {}
      },
      "source": [
        "result = max(4, -5, 23, 5)\n",
        "print(\"The maximum number is:\", result)"
      ],
      "execution_count": 0,
      "outputs": []
    },
    {
      "cell_type": "code",
      "metadata": {
        "id": "goZR825ZJhBl",
        "colab_type": "code",
        "colab": {}
      },
      "source": [
        "number = [3, 2, 8, 5, 10, 6]\n",
        "smallest_number = min(number);\n",
        "\n",
        "print(\"The smallest number is:\", smallest_number)"
      ],
      "execution_count": 0,
      "outputs": []
    },
    {
      "cell_type": "code",
      "metadata": {
        "id": "HcUSRM2-Jkmp",
        "colab_type": "code",
        "colab": {}
      },
      "source": [
        "languages = [\"Python\", \"C Programming\", \"Java\", \"JavaScript\"]\n",
        "smallest_string = min(languages);\n",
        "\n",
        "print(\"The smallest string is:\", smallest_string)"
      ],
      "execution_count": 0,
      "outputs": []
    },
    {
      "cell_type": "code",
      "metadata": {
        "id": "3QGKjiSmJoNw",
        "colab_type": "code",
        "colab": {}
      },
      "source": [
        "square = {2: 4, 3: 9, -1: 1, -2: 4}\n",
        "\n",
        "# the smallest key\n",
        "key1 = min(square)\n",
        "print(\"The smallest key:\", key1)    # -2\n",
        "\n",
        "# the key whose value is the smallest\n",
        "key2 = min(square, key = lambda k: square[k])\n",
        "\n",
        "print(\"The key with the smallest value:\", key2)    # -1\n",
        "\n",
        "# getting the smallest value\n",
        "print(\"The smallest value:\", square[key2])    # 1"
      ],
      "execution_count": 0,
      "outputs": []
    },
    {
      "cell_type": "code",
      "metadata": {
        "id": "cnZWBhNMJy5T",
        "colab_type": "code",
        "colab": {
          "base_uri": "https://localhost:8080/",
          "height": 35
        },
        "outputId": "35f33e2a-18e0-4a9e-b12f-8985aea02567"
      },
      "source": [
        "result = min(4, -5, 23, 5)\n",
        "print(\"The minimum number is:\", result)"
      ],
      "execution_count": 15,
      "outputs": [
        {
          "output_type": "stream",
          "text": [
            "The minimum number is: -5\n"
          ],
          "name": "stdout"
        }
      ]
    }
  ]
}