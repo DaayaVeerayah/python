{
  "nbformat": 4,
  "nbformat_minor": 0,
  "metadata": {
    "colab": {
      "name": "Untitled13.ipynb",
      "provenance": [],
      "authorship_tag": "ABX9TyPOBSDaIJA1oDmEqemaBBth",
      "include_colab_link": true
    },
    "kernelspec": {
      "name": "python3",
      "display_name": "Python 3"
    }
  },
  "cells": [
    {
      "cell_type": "markdown",
      "metadata": {
        "id": "view-in-github",
        "colab_type": "text"
      },
      "source": [
        "<a href=\"https://colab.research.google.com/github/meghasyam/python/blob/master/libray-fuctions2.ipynb\" target=\"_parent\"><img src=\"https://colab.research.google.com/assets/colab-badge.svg\" alt=\"Open In Colab\"/></a>"
      ]
    },
    {
      "cell_type": "code",
      "metadata": {
        "id": "lejg8E4OYRR6",
        "colab_type": "code",
        "colab": {}
      },
      "source": [
        "help()"
      ],
      "execution_count": 0,
      "outputs": []
    },
    {
      "cell_type": "code",
      "metadata": {
        "id": "9T4ubd4kYgLi",
        "colab_type": "code",
        "colab": {}
      },
      "source": [
        "help(list)"
      ],
      "execution_count": 0,
      "outputs": []
    },
    {
      "cell_type": "code",
      "metadata": {
        "id": "x1KNswtXYnLZ",
        "colab_type": "code",
        "colab": {}
      },
      "source": [
        "help(help)"
      ],
      "execution_count": 0,
      "outputs": []
    },
    {
      "cell_type": "code",
      "metadata": {
        "id": "db1O1OZ3Ysdb",
        "colab_type": "code",
        "colab": {}
      },
      "source": [
        "number = 435\n",
        "print(number, 'in hex =', hex(number))\n",
        "\n",
        "number = 0\n",
        "print(number, 'in hex =', hex(number))\n",
        "\n",
        "number = -34\n",
        "print(number, 'in hex =', hex(number))\n",
        "\n",
        "returnType = type(hex(number))\n",
        "print('Return type from hex() is', returnType)"
      ],
      "execution_count": 0,
      "outputs": []
    },
    {
      "cell_type": "code",
      "metadata": {
        "id": "dWTqY6QxY0s6",
        "colab_type": "code",
        "colab": {}
      },
      "source": [
        "number = 2.5\n",
        "print(number, 'in hex =', float.hex(number))\n",
        "\n",
        "number = 0.0\n",
        "print(number, 'in hex =', float.hex(number))\n",
        "\n",
        "number = 10.5\n",
        "print(number, 'in hex =', float.hex(number))"
      ],
      "execution_count": 0,
      "outputs": []
    },
    {
      "cell_type": "code",
      "metadata": {
        "id": "1wigtJRxZHE_",
        "colab_type": "code",
        "colab": {}
      },
      "source": [
        "# hash for integer unchanged\n",
        "print('Hash for 181 is:', hash(181))\n",
        "\n",
        "# hash for decimal\n",
        "print('Hash for 181.23 is:',hash(181.23))\n",
        "\n",
        "# hash for string\n",
        "print('Hash for Python is:', hash('Python'))"
      ],
      "execution_count": 0,
      "outputs": []
    },
    {
      "cell_type": "code",
      "metadata": {
        "id": "VYbSAascZRMU",
        "colab_type": "code",
        "colab": {}
      },
      "source": [
        "# tuple of vowels\n",
        "vowels = ('a', 'e', 'i', 'o', 'u')\n",
        "\n",
        "print('The hash is:', hash(vowels))"
      ],
      "execution_count": 0,
      "outputs": []
    },
    {
      "cell_type": "code",
      "metadata": {
        "id": "aCbQth1WZrN5",
        "colab_type": "code",
        "colab": {}
      },
      "source": [
        "class Person:\n",
        "    def __init__(self, age, name):\n",
        "        self.age = age\n",
        "        self.name = name\n",
        "\n",
        "    def __eq__(self, other):\n",
        "        return self.age == other.age and self.name == other.name\n",
        "\n",
        "    def __hash__(self):\n",
        "        print('The hash is:')\n",
        "        return hash((self.age, self.name))\n",
        "\n",
        "person = Person(23, 'Adam')\n",
        "print(hash(person))"
      ],
      "execution_count": 0,
      "outputs": []
    },
    {
      "cell_type": "code",
      "metadata": {
        "id": "bAs1_xRtfnU4",
        "colab_type": "code",
        "colab": {}
      },
      "source": [
        "# get input from user\n",
        "\n",
        "inputString = input()\n",
        "\n",
        "print('The inputted string is:', inputString)"
      ],
      "execution_count": 0,
      "outputs": []
    },
    {
      "cell_type": "code",
      "metadata": {
        "id": "kxpl22wkgCRG",
        "colab_type": "code",
        "colab": {}
      },
      "source": [
        "# get input from user\n",
        "\n",
        "inputString = input('Enter a string:')\n",
        "\n",
        "print('The inputted string is:', inputString)"
      ],
      "execution_count": 0,
      "outputs": []
    },
    {
      "cell_type": "code",
      "metadata": {
        "id": "O7_CqCbRgFfb",
        "colab_type": "code",
        "colab": {}
      },
      "source": [
        "class Foo:\n",
        "    b = 5\n",
        "\n",
        "dummyFoo = Foo()\n",
        "print('id of dummyFoo =',id(dummyFoo))"
      ],
      "execution_count": 0,
      "outputs": []
    },
    {
      "cell_type": "code",
      "metadata": {
        "id": "27v91a2ZgV-3",
        "colab_type": "code",
        "colab": {}
      },
      "source": [
        "print('id of 5 =',id(5))\n",
        "\n",
        "a = 5\n",
        "print('id of a =',id(a))\n",
        "\n",
        "b = a\n",
        "print('id of b =',id(b))\n",
        "\n",
        "c = 5.0\n",
        "print('id of c =',id(c))"
      ],
      "execution_count": 0,
      "outputs": []
    },
    {
      "cell_type": "code",
      "metadata": {
        "id": "KQreS-gigmTm",
        "colab_type": "code",
        "colab": {}
      },
      "source": [
        "class Foo:\n",
        "  a = 5\n",
        "  \n",
        "fooInstance = Foo()\n",
        "\n",
        "print(isinstance(fooInstance, Foo))\n",
        "print(isinstance(fooInstance, (list, tuple)))\n",
        "print(isinstance(fooInstance, (list, tuple, Foo)))"
      ],
      "execution_count": 0,
      "outputs": []
    },
    {
      "cell_type": "code",
      "metadata": {
        "id": "jNvvw7EOgvS7",
        "colab_type": "code",
        "colab": {}
      },
      "source": [
        "numbers = [1, 2, 3]\n",
        "\n",
        "result = isinstance(numbers, list)\n",
        "print(numbers,'instance of list?', result)\n",
        "\n",
        "result = isinstance(numbers, dict)\n",
        "print(numbers,'instance of dict?', result)\n",
        "\n",
        "result = isinstance(numbers, (dict, list))\n",
        "print(numbers,'instance of dict or list?', result)\n",
        "\n",
        "number = 5\n",
        "\n",
        "result = isinstance(number, list)\n",
        "print(number,'instance of list?', result)\n",
        "\n",
        "result = isinstance(number, int)\n",
        "print(number,'instance of int?', result)"
      ],
      "execution_count": 0,
      "outputs": []
    },
    {
      "cell_type": "code",
      "metadata": {
        "id": "MAhv4sKHhAmu",
        "colab_type": "code",
        "colab": {}
      },
      "source": [
        "# integer\n",
        "print(\"int(123) is:\", int(123))\n",
        "\n",
        "# float\n",
        "print(\"int(123.23) is:\", int(123.23))\n",
        "\n",
        "# string\n",
        "print(\"int('123') is:\", int('123'))"
      ],
      "execution_count": 0,
      "outputs": []
    },
    {
      "cell_type": "code",
      "metadata": {
        "id": "ld2XXYU_hKM7",
        "colab_type": "code",
        "colab": {}
      },
      "source": [
        "# binary 0b or 0B\n",
        "print(\"For 1010, int is:\", int('1010', 2))\n",
        "print(\"For 0b1010, int is:\", int('0b1010', 2))\n",
        "\n",
        "# octal 0o or 0O\n",
        "print(\"For 12, int is:\", int('12', 8))\n",
        "print(\"For 0o12, int is:\", int('0o12', 8))\n",
        "\n",
        "# hexadecimal\n",
        "print(\"For A, int is:\", int('A', 16))\n",
        "print(\"For 0xA, int is:\", int('0xA', 16))"
      ],
      "execution_count": 0,
      "outputs": []
    },
    {
      "cell_type": "code",
      "metadata": {
        "id": "1CSkY2C7hdiX",
        "colab_type": "code",
        "colab": {}
      },
      "source": [
        "class Person:\n",
        "    age = 23\n",
        "\n",
        "    def __index__(self):\n",
        "        return self.age\n",
        "    \n",
        "    def __int__(self):\n",
        "        return self.age\n",
        "\n",
        "person = Person()\n",
        "print('int(person) is:', int(person))"
      ],
      "execution_count": 0,
      "outputs": []
    },
    {
      "cell_type": "code",
      "metadata": {
        "id": "64eb1a0bhm9M",
        "colab_type": "code",
        "colab": {}
      },
      "source": [
        "class Polygon:\n",
        "  def __init__(polygonType):\n",
        "    print('Polygon is a ', polygonType)\n",
        "\n",
        "class Triangle(Polygon):\n",
        "  def __init__(self):\n",
        "    Polygon.__init__('triangle')\n",
        "    \n",
        "print(issubclass(Triangle, Polygon))\n",
        "print(issubclass(Triangle, list))\n",
        "print(issubclass(Triangle, (list, Polygon)))\n",
        "print(issubclass(Polygon, (list, Polygon)))"
      ],
      "execution_count": 0,
      "outputs": []
    },
    {
      "cell_type": "code",
      "metadata": {
        "id": "cBVo8NYhiHzY",
        "colab_type": "code",
        "colab": {}
      },
      "source": [
        "locals()"
      ],
      "execution_count": 0,
      "outputs": []
    },
    {
      "cell_type": "code",
      "metadata": {
        "id": "ob2afkXZicee",
        "colab_type": "code",
        "colab": {}
      },
      "source": [
        "def localsNotPresent():\n",
        "    return locals()\n",
        "\n",
        "def localsPresent():\n",
        "    present = True\n",
        "    return locals()\n",
        "\n",
        "print('localsNotPresent:', localsNotPresent())\n",
        "print('localsPresent:', localsPresent())"
      ],
      "execution_count": 0,
      "outputs": []
    },
    {
      "cell_type": "code",
      "metadata": {
        "id": "gLQt89s8iqzR",
        "colab_type": "code",
        "colab": {
          "base_uri": "https://localhost:8080/",
          "height": 69
        },
        "outputId": "09d6897f-6728-4bea-a0c1-a695c198e53d"
      },
      "source": [
        "def localsPresent():\n",
        "    present = True\n",
        "    print(present)\n",
        "    locals()['present'] = False;\n",
        "    print(present)\n",
        "    return locals()\n",
        "\n",
        "print(localsPresent())"
      ],
      "execution_count": 16,
      "outputs": [
        {
          "output_type": "stream",
          "text": [
            "True\n",
            "True\n",
            "{'present': True}\n"
          ],
          "name": "stdout"
        }
      ]
    }
  ]
}