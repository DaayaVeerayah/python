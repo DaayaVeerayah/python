{
  "nbformat": 4,
  "nbformat_minor": 0,
  "metadata": {
    "colab": {
      "name": "Untitled27.ipynb",
      "provenance": [],
      "authorship_tag": "ABX9TyPNPh3x/DDOMdhGtfSAKNVU",
      "include_colab_link": true
    },
    "kernelspec": {
      "name": "python3",
      "display_name": "Python 3"
    }
  },
  "cells": [
    {
      "cell_type": "markdown",
      "metadata": {
        "id": "view-in-github",
        "colab_type": "text"
      },
      "source": [
        "<a href=\"https://colab.research.google.com/github/meghasyam/python/blob/master/datatypes-part2.ipynb\" target=\"_parent\"><img src=\"https://colab.research.google.com/assets/colab-badge.svg\" alt=\"Open In Colab\"/></a>"
      ]
    },
    {
      "cell_type": "code",
      "metadata": {
        "id": "QNVeD8xp1MbU",
        "colab_type": "code",
        "colab": {}
      },
      "source": [
        "a = 5\n",
        "\n",
        "print(type(a))\n",
        "\n",
        "print(type(5.0))\n",
        "\n",
        "c = 5 + 3j\n",
        "print(c + 3)\n",
        "\n",
        "print(isinstance(c, complex))"
      ],
      "execution_count": 0,
      "outputs": []
    },
    {
      "cell_type": "code",
      "metadata": {
        "id": "5u_jxyF41-f3",
        "colab_type": "code",
        "colab": {}
      },
      "source": [
        "# Output: 107\n",
        "print(0b1101011)\n",
        "\n",
        "# Output: 253 (251 + 2)\n",
        "print(0xFB + 0b10)\n",
        "\n",
        "# Output: 13\n",
        "print(0o15)"
      ],
      "execution_count": 0,
      "outputs": []
    },
    {
      "cell_type": "code",
      "metadata": {
        "id": "ZSQ0hSfj2ISd",
        "colab_type": "code",
        "colab": {}
      },
      "source": [
        "1+2.3"
      ],
      "execution_count": 0,
      "outputs": []
    },
    {
      "cell_type": "code",
      "metadata": {
        "id": "9aJboy9r2RFy",
        "colab_type": "code",
        "colab": {}
      },
      "source": [
        "new  = \"2333\"\n",
        "#new  = \"2333aaa\"\n",
        "print(type(new))\n",
        "\n",
        "x = int(new)\n",
        "\n",
        "print(x,type(x))"
      ],
      "execution_count": 0,
      "outputs": []
    },
    {
      "cell_type": "code",
      "metadata": {
        "id": "6-KNX4HI2oSH",
        "colab_type": "code",
        "colab": {}
      },
      "source": [
        "import decimal\n",
        "\n",
        "print(0.1)\n",
        "\n",
        "print(decimal.Decimal(0.1))"
      ],
      "execution_count": 0,
      "outputs": []
    },
    {
      "cell_type": "code",
      "metadata": {
        "id": "lfsqGDjT3CdS",
        "colab_type": "code",
        "colab": {}
      },
      "source": [
        "from decimal import Decimal as D\n",
        "\n",
        "print(D('1.1') + D('2.2'))\n",
        "\n",
        "print(D('1.2') * D('2.50'))"
      ],
      "execution_count": 0,
      "outputs": []
    },
    {
      "cell_type": "code",
      "metadata": {
        "id": "DTm_bu1U3R9i",
        "colab_type": "code",
        "colab": {}
      },
      "source": [
        "import fractions\n",
        "\n",
        "print(fractions.Fraction(1.57777))\n",
        "print(fractions.Fraction(5))\n",
        "print(fractions.Fraction(1,3))"
      ],
      "execution_count": 0,
      "outputs": []
    },
    {
      "cell_type": "code",
      "metadata": {
        "id": "2DXGQKXk3jxP",
        "colab_type": "code",
        "colab": {}
      },
      "source": [
        "import fractions\n",
        "print(fractions.Fraction(1.1))\n",
        "print(fractions.Fraction('1.1'))"
      ],
      "execution_count": 0,
      "outputs": []
    },
    {
      "cell_type": "code",
      "metadata": {
        "id": "pvzHNfMh30G5",
        "colab_type": "code",
        "colab": {}
      },
      "source": [
        "import math\n",
        "\n",
        "print(math.pi)\n",
        "\n",
        "print(math.cos(math.pi))\n",
        "\n",
        "print(math.exp(10))\n",
        "\n",
        "print(math.log10(1000))\n",
        "\n",
        "print(math.sinh(1))\n",
        "\n",
        "print(math.factorial(6))"
      ],
      "execution_count": 0,
      "outputs": []
    },
    {
      "cell_type": "code",
      "metadata": {
        "id": "IVGqLgG-36wV",
        "colab_type": "code",
        "colab": {
          "base_uri": "https://localhost:8080/",
          "height": 86
        },
        "outputId": "bc029a43-9b25-4c4d-801e-12eaf1d13d04"
      },
      "source": [
        "import random\n",
        "\n",
        "print(random.randrange(10, 20))\n",
        "x = ['a', 'b', 'c', 'd', 'e']\n",
        "print(random.choice(x))\n",
        "random.shuffle(x)\n",
        "print(x)\n",
        "print(random.random())"
      ],
      "execution_count": 19,
      "outputs": [
        {
          "output_type": "stream",
          "text": [
            "15\n",
            "e\n",
            "['a', 'e', 'd', 'c', 'b']\n",
            "0.6350827425309885\n"
          ],
          "name": "stdout"
        }
      ]
    }
  ]
}