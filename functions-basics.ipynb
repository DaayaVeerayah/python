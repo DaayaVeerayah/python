{
  "nbformat": 4,
  "nbformat_minor": 0,
  "metadata": {
    "colab": {
      "name": "Untitled25.ipynb",
      "provenance": [],
      "authorship_tag": "ABX9TyMgFF7kR0j86sN7m0A8p6Gb",
      "include_colab_link": true
    },
    "kernelspec": {
      "name": "python3",
      "display_name": "Python 3"
    }
  },
  "cells": [
    {
      "cell_type": "markdown",
      "metadata": {
        "id": "view-in-github",
        "colab_type": "text"
      },
      "source": [
        "<a href=\"https://colab.research.google.com/github/meghasyam/python/blob/master/functions-basics.ipynb\" target=\"_parent\"><img src=\"https://colab.research.google.com/assets/colab-badge.svg\" alt=\"Open In Colab\"/></a>"
      ]
    },
    {
      "cell_type": "code",
      "metadata": {
        "id": "K0TOM43ujItn",
        "colab_type": "code",
        "colab": {}
      },
      "source": [
        "def fun(name):\n",
        "  \"\"\" this is my first function\"\"\"\n",
        "  print(\"this is passed\",name)\n",
        "\n",
        "fun(\"python\")  \n",
        "\n",
        "print(fun.__doc__)\n",
        "\n",
        "help(fun)"
      ],
      "execution_count": 0,
      "outputs": []
    },
    {
      "cell_type": "code",
      "metadata": {
        "id": "sZ4HhOwfkFJt",
        "colab_type": "code",
        "colab": {}
      },
      "source": [
        "def absolute_value(num):\n",
        "    \"\"\"This function returns the absolute\n",
        "    value of the entered number\"\"\"\n",
        "\n",
        "    if num >= 0:\n",
        "        return num\n",
        "    else:\n",
        "        return -num\n",
        "\n",
        "\n",
        "x = absolute_value(67)\n",
        "y = absolute_value(-67)\n",
        "print(x,y)"
      ],
      "execution_count": 0,
      "outputs": []
    },
    {
      "cell_type": "code",
      "metadata": {
        "id": "tb0QFPEskFRt",
        "colab_type": "code",
        "colab": {}
      },
      "source": [
        "def my_func():\n",
        "\t#x = 10\n",
        "\tprint(\"Value inside function:\",x)\n",
        "\n",
        "x = 20\n",
        "my_func()\n",
        "print(\"Value outside function:\",x)"
      ],
      "execution_count": 0,
      "outputs": []
    },
    {
      "cell_type": "code",
      "metadata": {
        "id": "MVvaoXk0lhjp",
        "colab_type": "code",
        "colab": {}
      },
      "source": [
        "def add(x,y):\n",
        "  return x+y\n",
        "\n",
        "add(211,22)\n",
        "add(34,22)"
      ],
      "execution_count": 0,
      "outputs": []
    },
    {
      "cell_type": "code",
      "metadata": {
        "id": "MPCShHD4l9yg",
        "colab_type": "code",
        "colab": {}
      },
      "source": [
        "def fun1(x,y,z=\"new\",k=1):\n",
        "   print(x,y,z,k)\n",
        "\n",
        "fun1(2,3,\"nnnn\",\"ddd\")\n",
        "\n",
        "\n",
        "fun1(k=\"aksjhfalkdsj\",x=\"ajsdhflksajdf\",y=\"alksjdfkj\")"
      ],
      "execution_count": 0,
      "outputs": []
    },
    {
      "cell_type": "code",
      "metadata": {
        "id": "XlgGJH9qm1yy",
        "colab_type": "code",
        "colab": {}
      },
      "source": [
        "def varArug(*names):\n",
        "  for i in names:\n",
        "    print(i)\n",
        "\n",
        "varArug()\n",
        "varArug(\"one\")\n",
        "varArug(\"one\",\"two\",\"three\")\n",
        "varArug(2,4,\"dfsdf\",4.555)"
      ],
      "execution_count": 0,
      "outputs": []
    },
    {
      "cell_type": "code",
      "metadata": {
        "id": "GGPRGrnongIw",
        "colab_type": "code",
        "colab": {}
      },
      "source": [
        "def calc_factorial(x):\n",
        "    \"\"\"This is a recursive function\n",
        "    to find the factorial of an integer\"\"\"\n",
        "\n",
        "    if x == 1:\n",
        "        return 1\n",
        "    else:\n",
        "        return (x * calc_factorial(x-1))\n",
        "\n",
        "\n",
        "num = 4\n",
        "print(\"The factorial of\", num, \"is\", calc_factorial(num))"
      ],
      "execution_count": 0,
      "outputs": []
    },
    {
      "cell_type": "code",
      "metadata": {
        "id": "-2-D6lAdnxCv",
        "colab_type": "code",
        "colab": {}
      },
      "source": [
        "def sum1(n):\n",
        "  if n == 0:\n",
        "    return 0\n",
        "  else:\n",
        "    return n+sum1(n-1)\n",
        "\n",
        "sum1(4)"
      ],
      "execution_count": 0,
      "outputs": []
    },
    {
      "cell_type": "code",
      "metadata": {
        "id": "vqMkI-TIosZ1",
        "colab_type": "code",
        "colab": {}
      },
      "source": [
        "def recursor():\n",
        "    recursor()\n",
        "#recursor()"
      ],
      "execution_count": 0,
      "outputs": []
    },
    {
      "cell_type": "code",
      "metadata": {
        "id": "Edecl6D3pJWP",
        "colab_type": "code",
        "colab": {}
      },
      "source": [
        "fun = lambda x,y:x+y \n",
        "\n",
        "print(fun(2,3))"
      ],
      "execution_count": 0,
      "outputs": []
    },
    {
      "cell_type": "code",
      "metadata": {
        "id": "ddWxyFm_qPTG",
        "colab_type": "code",
        "colab": {}
      },
      "source": [
        "l1 =[2,3,3,3,3,3,3,4]\n",
        "\n",
        "x = list(filter(lambda x: (x%2==0),l1))\n",
        "\n",
        "print(x)\n",
        "\n",
        "def fun(x):\n",
        "  if x%2 == 0:\n",
        "    return x\n",
        "def manFilter(fun,l1):\n",
        "  l2=[]\n",
        "  for i in l1:\n",
        "    x=fun(i)\n",
        "    if x is not None:\n",
        "      l2.append(x)\n",
        "  return l2  \n",
        "\n",
        "l2 = manFilter(fun,l1)\n",
        "\n",
        "print(l2)"
      ],
      "execution_count": 0,
      "outputs": []
    },
    {
      "cell_type": "code",
      "metadata": {
        "id": "cxgEShGJsVT9",
        "colab_type": "code",
        "colab": {}
      },
      "source": [
        "my_list = [1, 5, 4, 6, 8, 11, 3, 12]\n",
        "new_list = list(map(lambda x: x , my_list))\n",
        "print(new_list)"
      ],
      "execution_count": 0,
      "outputs": []
    },
    {
      "cell_type": "code",
      "metadata": {
        "id": "JIHMzU9FtK3F",
        "colab_type": "code",
        "colab": {}
      },
      "source": [
        "#x = \"global\"\n",
        "\n",
        "def foo():\n",
        "  global x\n",
        "  x= x+\"new\"\n",
        "  print(\"x inside:\", x)\n",
        "\n",
        "foo()\n",
        "print(\"x outside:\", x)"
      ],
      "execution_count": 0,
      "outputs": []
    },
    {
      "cell_type": "code",
      "metadata": {
        "id": "aLz4H_6gt_yB",
        "colab_type": "code",
        "colab": {}
      },
      "source": [
        "def foo():\n",
        "  abc = \"local\"\n",
        "  print(abc)\n",
        "\n",
        "foo()"
      ],
      "execution_count": 0,
      "outputs": []
    },
    {
      "cell_type": "code",
      "metadata": {
        "id": "hjKW-vlOuXyR",
        "colab_type": "code",
        "colab": {}
      },
      "source": [
        ""
      ],
      "execution_count": 0,
      "outputs": []
    },
    {
      "cell_type": "code",
      "metadata": {
        "id": "kFdj8VZ7uX2B",
        "colab_type": "code",
        "colab": {}
      },
      "source": [
        "x = \"global\"\n",
        "\n",
        "def foo(z):\n",
        " z1 = z\n",
        " global x\n",
        " y = \"local\"\n",
        " x = x * 2\n",
        " print(x)\n",
        " print(y)\n",
        " print(z1)\n",
        " \n",
        "foo(\"passing\")"
      ],
      "execution_count": 0,
      "outputs": []
    },
    {
      "cell_type": "code",
      "metadata": {
        "id": "j6FWwPAdvDhs",
        "colab_type": "code",
        "colab": {}
      },
      "source": [
        "x = 5\n",
        "\n",
        "def foo():\n",
        " global x\n",
        " x1 = 10\n",
        " print(\"local x:\", x1,x)\n",
        " \n",
        " \n",
        "\n",
        "foo()\n",
        "print(\"global x:\", x)"
      ],
      "execution_count": 0,
      "outputs": []
    },
    {
      "cell_type": "code",
      "metadata": {
        "id": "kjdgrycavgfO",
        "colab_type": "code",
        "colab": {
          "base_uri": "https://localhost:8080/",
          "height": 52
        },
        "outputId": "55390247-0af1-4339-f863-62b2035de48c"
      },
      "source": [
        "def outer():\n",
        "  x = \"local\"  #local\n",
        "  y = \"local1\"\n",
        "  z = \"local2\"\n",
        "\n",
        "  def inner():\n",
        "    nonlocal x\n",
        "    nonlocal y\n",
        "    nonlocal z\n",
        "    x = \"nonlocal\"\n",
        "    y = \"nonlocal1\"\n",
        "    z = \"nonlocal2\"\n",
        "    print(\"inner:\", x,y,z)\n",
        "  \n",
        "  inner()\n",
        "  print(\"outer:\", x)\n",
        "\n",
        "outer()"
      ],
      "execution_count": 73,
      "outputs": [
        {
          "output_type": "stream",
          "text": [
            "inner: nonlocal nonlocal1 nonlocal2\n",
            "outer: nonlocal\n"
          ],
          "name": "stdout"
        }
      ]
    },
    {
      "cell_type": "code",
      "metadata": {
        "id": "x0g-Soszxe8V",
        "colab_type": "code",
        "colab": {
          "base_uri": "https://localhost:8080/",
          "height": 35
        },
        "outputId": "230a416f-6280-4f73-faa2-d0b834ee342f"
      },
      "source": [
        "c = 1 # global variable\n",
        "\n",
        "def add():\n",
        "    print(c)\n",
        "\n",
        "add()"
      ],
      "execution_count": 74,
      "outputs": [
        {
          "output_type": "stream",
          "text": [
            "1\n"
          ],
          "name": "stdout"
        }
      ]
    },
    {
      "cell_type": "code",
      "metadata": {
        "id": "tSvEeiBgu-TN",
        "colab_type": "code",
        "colab": {
          "base_uri": "https://localhost:8080/",
          "height": 35
        },
        "outputId": "a4e4fafa-58b5-4ef3-dc29-4ec39390994b"
      },
      "source": [
        "c = 1 # global variable\n",
        "    \n",
        "def add():\n",
        "    global c\n",
        "    c = c + 2 # increment c by 2\n",
        "    print(c)\n",
        "\n",
        "add()"
      ],
      "execution_count": 76,
      "outputs": [
        {
          "output_type": "stream",
          "text": [
            "3\n"
          ],
          "name": "stdout"
        }
      ]
    }
  ]
}