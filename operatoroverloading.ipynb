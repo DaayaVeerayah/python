{
  "nbformat": 4,
  "nbformat_minor": 0,
  "metadata": {
    "colab": {
      "name": "Untitled35.ipynb",
      "provenance": [],
      "authorship_tag": "ABX9TyOwot5tsYijhwzvk0e1beWO",
      "include_colab_link": true
    },
    "kernelspec": {
      "name": "python3",
      "display_name": "Python 3"
    }
  },
  "cells": [
    {
      "cell_type": "markdown",
      "metadata": {
        "id": "view-in-github",
        "colab_type": "text"
      },
      "source": [
        "<a href=\"https://colab.research.google.com/github/meghasyam/python/blob/master/operatoroverloading.ipynb\" target=\"_parent\"><img src=\"https://colab.research.google.com/assets/colab-badge.svg\" alt=\"Open In Colab\"/></a>"
      ]
    },
    {
      "cell_type": "code",
      "metadata": {
        "id": "GxmnxajP9CQz",
        "colab_type": "code",
        "colab": {}
      },
      "source": [
        "class Point:\n",
        "    def __init__(self, x = 0, y = 0):\n",
        "        self.x = x\n",
        "        self.y = y\n",
        "    \n",
        "    def __str__(self):\n",
        "        return \"({0},{1})\".format(self.x,self.y)\n",
        "    \n",
        "    def __add__(self,other):\n",
        "        x = self.x + other.x\n",
        "        y = self.y + other.y\n",
        "        return Point(x,y)\n",
        "\n",
        "p1 = Point(2,3)\n",
        "p2 = Point(-1,2)\n",
        "print(p1 + p2)  \n",
        "\n",
        "[print(i) for i in dir(object)]"
      ],
      "execution_count": 0,
      "outputs": []
    },
    {
      "cell_type": "code",
      "metadata": {
        "id": "6jiajU9M-d-Z",
        "colab_type": "code",
        "colab": {
          "base_uri": "https://localhost:8080/",
          "height": 69
        },
        "outputId": "d9801f42-2450-4d80-fbf7-9b9f6e998dae"
      },
      "source": [
        "class Point:\n",
        "    def __init__(self, x = 0, y = 0):\n",
        "        self.x = x\n",
        "        self.y = y\n",
        "    \n",
        "    def __str__(self):\n",
        "        return \"({0},{1})\".format(self.x,self.y)\n",
        "    \n",
        "    def __lt__(self,other):\n",
        "        self_mag = (self.x ** 2) + (self.y ** 2)\n",
        "        other_mag = (other.x ** 2) + (other.y ** 2)\n",
        "        return self_mag < other_mag\n",
        "\n",
        "\n",
        "print(Point(1,1) < Point(-2,-3))\n",
        "print(Point(1,1) < Point(0.5,-0.2))\n",
        "print(Point(1,1) < Point(1,1))"
      ],
      "execution_count": 6,
      "outputs": [
        {
          "output_type": "stream",
          "text": [
            "True\n",
            "False\n",
            "False\n"
          ],
          "name": "stdout"
        }
      ]
    }
  ]
}