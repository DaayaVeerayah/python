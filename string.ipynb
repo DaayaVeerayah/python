{
  "nbformat": 4,
  "nbformat_minor": 0,
  "metadata": {
    "colab": {
      "name": "Untitled32.ipynb",
      "provenance": [],
      "authorship_tag": "ABX9TyMItDj/5heIH+mJkrnp1UMg",
      "include_colab_link": true
    },
    "kernelspec": {
      "name": "python3",
      "display_name": "Python 3"
    }
  },
  "cells": [
    {
      "cell_type": "markdown",
      "metadata": {
        "id": "view-in-github",
        "colab_type": "text"
      },
      "source": [
        "<a href=\"https://colab.research.google.com/github/meghasyam/python/blob/master/string.ipynb\" target=\"_parent\"><img src=\"https://colab.research.google.com/assets/colab-badge.svg\" alt=\"Open In Colab\"/></a>"
      ]
    },
    {
      "cell_type": "code",
      "metadata": {
        "id": "5m8j1Z9Tak0m",
        "colab_type": "code",
        "colab": {}
      },
      "source": [
        "my_string = 'Hello'\n",
        "print(my_string)\n",
        "\n",
        "my_string = \"Hello\"\n",
        "print(my_string)\n",
        "\n",
        "my_string = '''Hello'''\n",
        "print(my_string)\n",
        "\n",
        "# triple quotes string can extend multiple lines\n",
        "my_string = \"\"\"Hello, welcome to\n",
        "           the world of Python\"\"\"\n",
        "print(my_string)"
      ],
      "execution_count": 0,
      "outputs": []
    },
    {
      "cell_type": "code",
      "metadata": {
        "id": "yb58jB8tcS6a",
        "colab_type": "code",
        "colab": {}
      },
      "source": [
        "#Accessing string characters in Python\n",
        "str = 'programiz'\n",
        "print('str = ', str)\n",
        "\n",
        "#first character\n",
        "print('str[0] = ', str[0])\n",
        "\n",
        "#last character\n",
        "print('str[-1] = ', str[-1])\n",
        "\n",
        "#slicing 2nd to 5th character\n",
        "print('str[1:5] = ', str[1:5])\n",
        "\n",
        "#slicing 6th to 2nd last character\n",
        "print('str[5:-2] = ', str[5:-2])"
      ],
      "execution_count": 0,
      "outputs": []
    },
    {
      "cell_type": "code",
      "metadata": {
        "id": "cWjnF0PfcjHn",
        "colab_type": "code",
        "colab": {}
      },
      "source": [
        "my_string = 'programiz'\n",
        "#my_string[3] = 'a'"
      ],
      "execution_count": 0,
      "outputs": []
    },
    {
      "cell_type": "code",
      "metadata": {
        "id": "8kCoaZxrctKP",
        "colab_type": "code",
        "colab": {}
      },
      "source": [
        "str1 = 'Hello'\n",
        "str2 ='World!'\n",
        "\n",
        "# using +\n",
        "print('str1 + str2 = ', str1 + str2)\n",
        "\n",
        "# using *\n",
        "print('str1 * 3 =', str1 * 3)"
      ],
      "execution_count": 0,
      "outputs": []
    },
    {
      "cell_type": "code",
      "metadata": {
        "id": "aW7e7USqc4rV",
        "colab_type": "code",
        "colab": {}
      },
      "source": [
        "s = ('Hello '\n",
        "...      'World')\n",
        "s"
      ],
      "execution_count": 0,
      "outputs": []
    },
    {
      "cell_type": "code",
      "metadata": {
        "id": "koiRvWgddAz_",
        "colab_type": "code",
        "colab": {}
      },
      "source": [
        "count = 0\n",
        "for letter in 'Hello World':\n",
        "    if(letter == 'l'):\n",
        "        count += 1\n",
        "print(count,'letters found')"
      ],
      "execution_count": 0,
      "outputs": []
    },
    {
      "cell_type": "code",
      "metadata": {
        "id": "ikkotcqadKXe",
        "colab_type": "code",
        "colab": {}
      },
      "source": [
        "str = 'cold'\n",
        "\n",
        "# enumerate()\n",
        "list_enumerate = list(enumerate(str,12))\n",
        "print('list(enumerate(str) = ', list_enumerate)\n",
        "\n",
        "#character count\n",
        "print('len(str) = ', len(str))"
      ],
      "execution_count": 0,
      "outputs": []
    },
    {
      "cell_type": "code",
      "metadata": {
        "id": "99XMsPgYecfI",
        "colab_type": "code",
        "colab": {}
      },
      "source": [
        "# using triple quotes\n",
        "print('''He said, \"What's there?\"''')\n",
        "\n",
        "# escaping single quotes\n",
        "print('He said, \"What\\'s there?\"')\n",
        "\n",
        "# escaping double quotes\n",
        "print(\"He said, \\\"What's there?\\\"\")"
      ],
      "execution_count": 0,
      "outputs": []
    },
    {
      "cell_type": "code",
      "metadata": {
        "id": "7KstSr63eu93",
        "colab_type": "code",
        "colab": {}
      },
      "source": [
        "print(\"C:\\\\new Python32\\Lib\")\n",
        "print(\"This is printed\\nin two lines\")\n",
        "print(\"This is \\x48\\x45\\x58 representation\")"
      ],
      "execution_count": 0,
      "outputs": []
    },
    {
      "cell_type": "code",
      "metadata": {
        "id": "Eac5CZs8fLi4",
        "colab_type": "code",
        "colab": {}
      },
      "source": [
        "print(\"This is \\x61 \\ngood example\")\n",
        "print(r\"This is \\x61 \\ngood example\")"
      ],
      "execution_count": 0,
      "outputs": []
    },
    {
      "cell_type": "code",
      "metadata": {
        "id": "8qwsHT6KfZFN",
        "colab_type": "code",
        "colab": {}
      },
      "source": [
        "default_order = \"{}, {} and {}\".format('John','Bill','Sean')\n",
        "print('\\n--- Default Order ---')\n",
        "print(default_order)\n",
        "\n",
        "# order using positional argument\n",
        "positional_order = \"{1}, {0} and {2}\".format('John','Bill','Sean')\n",
        "print('\\n--- Positional Order ---')\n",
        "print(positional_order)\n",
        "\n",
        "# order using keyword argument\n",
        "keyword_order = \"{s}, {b} and {j}\".format(j='John',b='Bill',s='Sean')\n",
        "print('\\n--- Keyword Order ---')\n",
        "print(keyword_order)"
      ],
      "execution_count": 0,
      "outputs": []
    },
    {
      "cell_type": "code",
      "metadata": {
        "id": "cjUSmtJWgQJU",
        "colab_type": "code",
        "colab": {
          "base_uri": "https://localhost:8080/",
          "height": 121
        },
        "outputId": "cba1be26-b1fa-41d2-ab00-95656bd5b5d9"
      },
      "source": [
        "print(\"PrOgRaMiZ\".lower())\n",
        "print(\"PrOgRaMiZ\".upper())\n",
        "print(\"This will split all words into a list\".split())\n",
        "print(' '.join(['This', 'will', 'join', 'all', 'words', 'into', 'a', 'string']))\n",
        "print('Happy New Year'.find('ew'))\n",
        "print('Happy New Year'.replace('Happy','Brilliant'))"
      ],
      "execution_count": 21,
      "outputs": [
        {
          "output_type": "stream",
          "text": [
            "programiz\n",
            "PROGRAMIZ\n",
            "['This', 'will', 'split', 'all', 'words', 'into', 'a', 'list']\n",
            "This will join all words into a string\n",
            "7\n",
            "Brilliant New Year\n"
          ],
          "name": "stdout"
        }
      ]
    }
  ]
}