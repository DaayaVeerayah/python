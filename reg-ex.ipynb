{
  "nbformat": 4,
  "nbformat_minor": 0,
  "metadata": {
    "colab": {
      "name": "Untitled19.ipynb",
      "provenance": [],
      "authorship_tag": "ABX9TyOX4r77jUJcoViIFz/LEjzu",
      "include_colab_link": true
    },
    "kernelspec": {
      "name": "python3",
      "display_name": "Python 3"
    }
  },
  "cells": [
    {
      "cell_type": "markdown",
      "metadata": {
        "id": "view-in-github",
        "colab_type": "text"
      },
      "source": [
        "<a href=\"https://colab.research.google.com/github/meghasyam/python/blob/master/reg-ex.ipynb\" target=\"_parent\"><img src=\"https://colab.research.google.com/assets/colab-badge.svg\" alt=\"Open In Colab\"/></a>"
      ]
    },
    {
      "cell_type": "code",
      "metadata": {
        "id": "BNrIIoWO7meZ",
        "colab_type": "code",
        "colab": {
          "base_uri": "https://localhost:8080/",
          "height": 35
        },
        "outputId": "071c755f-4d7f-435a-89ea-c255b9f92800"
      },
      "source": [
        "import re\n",
        "\n",
        "string = 'hello 12 hi 89. Howdy 34'\n",
        "pattern = '\\d+'\n",
        "\n",
        "result = re.findall(pattern, string) \n",
        "print(result)"
      ],
      "execution_count": 1,
      "outputs": [
        {
          "output_type": "stream",
          "text": [
            "['12', '89', '34']\n"
          ],
          "name": "stdout"
        }
      ]
    },
    {
      "cell_type": "code",
      "metadata": {
        "id": "5sdxwjl87tZg",
        "colab_type": "code",
        "colab": {
          "base_uri": "https://localhost:8080/",
          "height": 35
        },
        "outputId": "04131296-92ba-4428-9467-3e7eb72742b2"
      },
      "source": [
        "import re\n",
        "\n",
        "pattern = '^a...s$'\n",
        "test_string = 'abyss'\n",
        "result = re.match(pattern, test_string)\n",
        "\n",
        "if result:\n",
        "  print(\"Search successful.\")\n",
        "else:\n",
        "  print(\"Search unsuccessful.\")"
      ],
      "execution_count": 2,
      "outputs": [
        {
          "output_type": "stream",
          "text": [
            "Search successful.\n"
          ],
          "name": "stdout"
        }
      ]
    },
    {
      "cell_type": "code",
      "metadata": {
        "id": "2DQ-e-0F72a7",
        "colab_type": "code",
        "colab": {
          "base_uri": "https://localhost:8080/",
          "height": 35
        },
        "outputId": "13cf39f7-32a2-4e00-a388-89cec17b21a4"
      },
      "source": [
        "import re\n",
        "\n",
        "string = 'Twelve:12 Eighty nine:89.'\n",
        "pattern = '\\d+'\n",
        "\n",
        "result = re.split(pattern, string) \n",
        "print(result)\n",
        "\n",
        "# Output: ['Twelve:', ' Eighty nine:', '.']"
      ],
      "execution_count": 3,
      "outputs": [
        {
          "output_type": "stream",
          "text": [
            "['Twelve:', ' Eighty nine:', '.']\n"
          ],
          "name": "stdout"
        }
      ]
    },
    {
      "cell_type": "code",
      "metadata": {
        "id": "661cnwdz8CWQ",
        "colab_type": "code",
        "colab": {
          "base_uri": "https://localhost:8080/",
          "height": 35
        },
        "outputId": "fe43ebdb-acb8-4bab-bd09-f11f7e7d29c1"
      },
      "source": [
        "# Program to remove all whitespaces\n",
        "import re\n",
        "\n",
        "# multiline string\n",
        "string = 'abc 12\\\n",
        "de 23 \\n f45 6'\n",
        "\n",
        "# matches all whitespace characters\n",
        "pattern = '\\s+'\n",
        "\n",
        "# empty string\n",
        "replace = ''\n",
        "\n",
        "new_string = re.sub(pattern, replace, string) \n",
        "print(new_string)\n",
        "\n",
        "# Output: abc12de23f456"
      ],
      "execution_count": 4,
      "outputs": [
        {
          "output_type": "stream",
          "text": [
            "abc12de23f456\n"
          ],
          "name": "stdout"
        }
      ]
    },
    {
      "cell_type": "code",
      "metadata": {
        "id": "5FFsBHQ-9LBK",
        "colab_type": "code",
        "colab": {
          "base_uri": "https://localhost:8080/",
          "height": 35
        },
        "outputId": "d4baf523-bc69-48e4-8447-5cdba3b57f32"
      },
      "source": [
        "import re\n",
        "\n",
        "string = \"Python is fun\"\n",
        "\n",
        "# check if 'Python' is at the beginning\n",
        "match = re.search('\\APython', string)\n",
        "\n",
        "if match:\n",
        "  print(\"pattern found inside the string\")\n",
        "else:\n",
        "  print(\"pattern not found\")"
      ],
      "execution_count": 5,
      "outputs": [
        {
          "output_type": "stream",
          "text": [
            "pattern found inside the string\n"
          ],
          "name": "stdout"
        }
      ]
    },
    {
      "cell_type": "code",
      "metadata": {
        "id": "I8H8SetJ9hEw",
        "colab_type": "code",
        "colab": {
          "base_uri": "https://localhost:8080/",
          "height": 87
        },
        "outputId": "75a20d77-5d29-4c54-f5d0-0ba24a3503fa"
      },
      "source": [
        "import re\n",
        "\n",
        "string = '39801 356, 2102 1111'\n",
        "\n",
        "# Three digit number followed by space followed by two digit number\n",
        "pattern = '(\\d{3}) (\\d{2})'\n",
        "\n",
        "# match variable contains a Match object.\n",
        "match = re.search(pattern, string) \n",
        "\n",
        "if match:\n",
        "  print(match.group())\n",
        "else:\n",
        "  print(\"pattern not found\")\n",
        "\n",
        "print(match.span())  \n",
        "print(match.re)  \n",
        "print(match.string)  "
      ],
      "execution_count": 8,
      "outputs": [
        {
          "output_type": "stream",
          "text": [
            "801 35\n",
            "(2, 8)\n",
            "re.compile('(\\\\d{3}) (\\\\d{2})')\n",
            "39801 356, 2102 1111\n"
          ],
          "name": "stdout"
        }
      ]
    },
    {
      "cell_type": "code",
      "metadata": {
        "id": "ccuP2jU_-R2e",
        "colab_type": "code",
        "colab": {
          "base_uri": "https://localhost:8080/",
          "height": 35
        },
        "outputId": "e497a58f-2dfc-40d2-ab7f-d9c7ebb7fb73"
      },
      "source": [
        "import re\n",
        "\n",
        "string = '\\n and \\r are escape sequences.'\n",
        "\n",
        "result = re.findall(r'[\\n\\r]', string) \n",
        "print(result)\n",
        "\n",
        "# Output: ['\\n', '\\r']"
      ],
      "execution_count": 9,
      "outputs": [
        {
          "output_type": "stream",
          "text": [
            "['\\n', '\\r']\n"
          ],
          "name": "stdout"
        }
      ]
    }
  ]
}