{
  "nbformat": 4,
  "nbformat_minor": 0,
  "metadata": {
    "colab": {
      "name": "Untitled33.ipynb",
      "provenance": [],
      "authorship_tag": "ABX9TyObhU/lE4SxbIZ2ubrTZIXb",
      "include_colab_link": true
    },
    "kernelspec": {
      "name": "python3",
      "display_name": "Python 3"
    }
  },
  "cells": [
    {
      "cell_type": "markdown",
      "metadata": {
        "id": "view-in-github",
        "colab_type": "text"
      },
      "source": [
        "<a href=\"https://colab.research.google.com/github/meghasyam/python/blob/master/set.ipynb\" target=\"_parent\"><img src=\"https://colab.research.google.com/assets/colab-badge.svg\" alt=\"Open In Colab\"/></a>"
      ]
    },
    {
      "cell_type": "code",
      "metadata": {
        "id": "6kqsNBn1hW2L",
        "colab_type": "code",
        "colab": {}
      },
      "source": [
        "my_set = {1, 2, 3}\n",
        "print(my_set)\n",
        "my_set = {1.0, \"Hello\", (1, 2, 3)}\n",
        "print(my_set)\n",
        "\n",
        "my_set = {1.0, \"Hello\"}\n"
      ],
      "execution_count": 0,
      "outputs": []
    },
    {
      "cell_type": "code",
      "metadata": {
        "id": "G5HGO2jUhr5U",
        "colab_type": "code",
        "colab": {}
      },
      "source": [
        "# set cannot have duplicates\n",
        "# Output: {1, 2, 3, 4}\n",
        "my_set = {1, 2, 3, 4, 3, 2}\n",
        "print(my_set)\n",
        "\n",
        "# we can make set from a list\n",
        "# Output: {1, 2, 3}\n",
        "my_set = set([1, 2, 3, 2])\n",
        "print(my_set)\n",
        "\n",
        "# set cannot have mutable items\n",
        "# here [3, 4] is a mutable list\n",
        "# this will cause an error.\n",
        "\n",
        "#my_set = {1, 2, [3, 4]}"
      ],
      "execution_count": 0,
      "outputs": []
    },
    {
      "cell_type": "code",
      "metadata": {
        "id": "eqPpl81kjRGM",
        "colab_type": "code",
        "colab": {}
      },
      "source": [
        "# Distinguish set and dictionary while creating empty set\n",
        "\n",
        "# initialize a with {}\n",
        "a = {}\n",
        "\n",
        "# check data type of a\n",
        "print(type(a))\n",
        "\n",
        "# initialize a with set()\n",
        "a = set()\n",
        "\n",
        "# check data type of a\n",
        "print(type(a))"
      ],
      "execution_count": 0,
      "outputs": []
    },
    {
      "cell_type": "code",
      "metadata": {
        "id": "lYWeinrkjhYP",
        "colab_type": "code",
        "colab": {}
      },
      "source": [
        "my_set = {1, 3}\n",
        "# print(my_set)\n",
        "\n",
        "#my_set[0]\n",
        "\n",
        "my_set.add(2)\n",
        "print(my_set)\n",
        "\n",
        "my_set.update([2, 3, 4])\n",
        "print(my_set)\n",
        "\n",
        "my_set.update([4, 5], {1, 6, 8})\n",
        "print(my_set)\n",
        "\n",
        "my_set.update([4, 5], {1, 6, 8},[\"asdfasdf\",'asdfasdf'])\n",
        "print(my_set)"
      ],
      "execution_count": 0,
      "outputs": []
    },
    {
      "cell_type": "code",
      "metadata": {
        "id": "O9XD4GFzkkgO",
        "colab_type": "code",
        "colab": {}
      },
      "source": [
        "# Difference between discard() and remove()\n",
        "\n",
        "# initialize my_set\n",
        "my_set = {1, 3, 4, 5, 6}\n",
        "print(my_set)\n",
        "\n",
        "# discard an element\n",
        "# Output: {1, 3, 5, 6}\n",
        "my_set.discard(4)\n",
        "print(my_set)\n",
        "\n",
        "# remove an element\n",
        "# Output: {1, 3, 5}\n",
        "my_set.remove(6)\n",
        "print(my_set)\n",
        "\n",
        "# discard an element\n",
        "# not present in my_set\n",
        "# Output: {1, 3, 5}\n",
        "my_set.discard(2)\n",
        "print(my_set)\n",
        "\n",
        "# remove an element\n",
        "# not present in my_set\n",
        "# you will get an error.\n",
        "# Output: KeyError\n",
        "\n",
        "#my_set.remove(2)"
      ],
      "execution_count": 0,
      "outputs": []
    },
    {
      "cell_type": "code",
      "metadata": {
        "id": "IOPeORKLk_x8",
        "colab_type": "code",
        "colab": {}
      },
      "source": [
        "# initialize my_set\n",
        "# Output: set of unique elements\n",
        "my_set = set(\"HelloWorld\")\n",
        "print(my_set)\n",
        "\n",
        "# pop an element\n",
        "# Output: random element\n",
        "print(my_set.pop())\n",
        "\n",
        "# pop another element\n",
        "print(my_set.pop())\n",
        "print(my_set)\n",
        "\n",
        "# clear my_set\n",
        "# Output: set()\n",
        "my_set.clear()\n",
        "print(my_set)\n",
        "\n",
        "print(my_set)"
      ],
      "execution_count": 0,
      "outputs": []
    },
    {
      "cell_type": "code",
      "metadata": {
        "id": "acwOde9klnUj",
        "colab_type": "code",
        "colab": {}
      },
      "source": [
        "# Set union method\n",
        "# initialize A and B\n",
        "A = {1, 2, 3, 4, 5}\n",
        "B = {4, 5, 6, 7, 8}\n",
        "\n",
        "# use | operator\n",
        "# Output: {1, 2, 3, 4, 5, 6, 7, 8}\n",
        "print(A | B)\n",
        "print(A.union(B))\n",
        "print(B.union(A))"
      ],
      "execution_count": 0,
      "outputs": []
    },
    {
      "cell_type": "code",
      "metadata": {
        "id": "CwOo2G2Vl5NX",
        "colab_type": "code",
        "colab": {}
      },
      "source": [
        "# Intersection of sets\n",
        "# initialize A and B\n",
        "A = {1, 2, 3, 4, 5}\n",
        "B = {4, 5, 6, 7, 8}\n",
        "\n",
        "# use & operator\n",
        "# Output: {4, 5}\n",
        "print(A & B)\n",
        "A.intersection(B)"
      ],
      "execution_count": 0,
      "outputs": []
    },
    {
      "cell_type": "code",
      "metadata": {
        "id": "m5JIQH8JmAQj",
        "colab_type": "code",
        "colab": {}
      },
      "source": [
        "# Difference of two sets\n",
        "# initialize A and B\n",
        "A = {1, 2, 3, 4, 5}\n",
        "B = {4, 5, 6, 7, 8}\n",
        "\n",
        "# use - operator on A\n",
        "# Output: {1, 2, 3}\n",
        "print(A - B)"
      ],
      "execution_count": 0,
      "outputs": []
    },
    {
      "cell_type": "code",
      "metadata": {
        "id": "2HIe4xFVmKnJ",
        "colab_type": "code",
        "colab": {}
      },
      "source": [
        "# Symmetric difference of two sets\n",
        "# initialize A and B\n",
        "A = {1, 2, 3, 4, 5}\n",
        "B = {4, 5, 6, 7, 8}\n",
        "\n",
        "# use ^ operator\n",
        "# Output: {1, 2, 3, 6, 7, 8}\n",
        "print(A ^ B)"
      ],
      "execution_count": 0,
      "outputs": []
    },
    {
      "cell_type": "code",
      "metadata": {
        "id": "oz4amhYymZ2X",
        "colab_type": "code",
        "colab": {}
      },
      "source": [
        "numbers = {1, 2, 3, 4}\n",
        "new_numbers = numbers.copy()\n",
        "\n",
        "new_numbers.add('5')\n",
        "\n",
        "print('numbers: ', numbers)\n",
        "print('new_numbers: ', new_numbers)"
      ],
      "execution_count": 0,
      "outputs": []
    },
    {
      "cell_type": "code",
      "metadata": {
        "id": "zAuSpNWymkFe",
        "colab_type": "code",
        "colab": {}
      },
      "source": [
        "A = {'a', 'c', 'g', 'd'}\n",
        "B = {'c', 'f', 'g'}\n",
        "\n",
        "result = A.difference_update(B)\n",
        "\n",
        "print('A = ', A)\n",
        "print('B = ', B)\n",
        "print('result = ', result)"
      ],
      "execution_count": 0,
      "outputs": []
    },
    {
      "cell_type": "code",
      "metadata": {
        "id": "rDSYckQ_nDN5",
        "colab_type": "code",
        "colab": {}
      },
      "source": [
        "# in keyword in a set\n",
        "# initialize my_set\n",
        "my_set = set(\"apple\")\n",
        "\n",
        "# check if 'a' is present\n",
        "# Output: True\n",
        "print('a' in my_set)\n",
        "\n",
        "# check if 'p' is present\n",
        "# Output: False\n",
        "print('p' not in my_set)"
      ],
      "execution_count": 0,
      "outputs": []
    },
    {
      "cell_type": "code",
      "metadata": {
        "id": "KLjVO9_2nLCM",
        "colab_type": "code",
        "colab": {}
      },
      "source": [
        "for letter in set(\"apple\"):\n",
        "...     print(letter)\n",
        "...    "
      ],
      "execution_count": 0,
      "outputs": []
    },
    {
      "cell_type": "code",
      "metadata": {
        "id": "9ZVgJiIXne5L",
        "colab_type": "code",
        "colab": {
          "base_uri": "https://localhost:8080/",
          "height": 52
        },
        "outputId": "55009a64-1147-4bd0-b87a-253b250a430a"
      },
      "source": [
        "# Frozensets\n",
        "# initialize A and B\n",
        "A = frozenset([1, 2, 3, 4])\n",
        "B = frozenset([3, 4, 5, 6])\n",
        "print(A)\n",
        "print(B)"
      ],
      "execution_count": 26,
      "outputs": [
        {
          "output_type": "stream",
          "text": [
            "frozenset({1, 2, 3, 4})\n",
            "frozenset({3, 4, 5, 6})\n"
          ],
          "name": "stdout"
        }
      ]
    },
    {
      "cell_type": "code",
      "metadata": {
        "id": "PfyoXR2TnrZh",
        "colab_type": "code",
        "colab": {
          "base_uri": "https://localhost:8080/",
          "height": 35
        },
        "outputId": "609f1d4f-0d8b-481a-dba9-64ad3cc16e30"
      },
      "source": [
        "A.isdisjoint(B)"
      ],
      "execution_count": 27,
      "outputs": [
        {
          "output_type": "execute_result",
          "data": {
            "text/plain": [
              "False"
            ]
          },
          "metadata": {
            "tags": []
          },
          "execution_count": 27
        }
      ]
    },
    {
      "cell_type": "code",
      "metadata": {
        "id": "BgQAXzL-nuwI",
        "colab_type": "code",
        "colab": {}
      },
      "source": [
        ""
      ],
      "execution_count": 0,
      "outputs": []
    },
    {
      "cell_type": "code",
      "metadata": {
        "id": "1O1BdM59nuy9",
        "colab_type": "code",
        "colab": {
          "base_uri": "https://localhost:8080/",
          "height": 35
        },
        "outputId": "d392c1b7-062e-4917-b727-902b9f8deb2d"
      },
      "source": [
        "A.difference(B)"
      ],
      "execution_count": 28,
      "outputs": [
        {
          "output_type": "execute_result",
          "data": {
            "text/plain": [
              "frozenset({1, 2})"
            ]
          },
          "metadata": {
            "tags": []
          },
          "execution_count": 28
        }
      ]
    },
    {
      "cell_type": "code",
      "metadata": {
        "id": "gTL07Kronx8C",
        "colab_type": "code",
        "colab": {
          "base_uri": "https://localhost:8080/",
          "height": 35
        },
        "outputId": "d5afb50a-8f80-49ca-9010-b21a5a3d45a2"
      },
      "source": [
        " A | B"
      ],
      "execution_count": 29,
      "outputs": [
        {
          "output_type": "execute_result",
          "data": {
            "text/plain": [
              "frozenset({1, 2, 3, 4, 5, 6})"
            ]
          },
          "metadata": {
            "tags": []
          },
          "execution_count": 29
        }
      ]
    }
  ]
}