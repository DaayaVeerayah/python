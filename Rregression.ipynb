{
  "nbformat": 4,
  "nbformat_minor": 0,
  "metadata": {
    "colab": {
      "name": "Rregression.ipynb",
      "provenance": [],
      "collapsed_sections": [],
      "include_colab_link": true
    },
    "kernelspec": {
      "name": "python3",
      "display_name": "Python 3"
    }
  },
  "cells": [
    {
      "cell_type": "markdown",
      "metadata": {
        "id": "view-in-github",
        "colab_type": "text"
      },
      "source": [
        "<a href=\"https://colab.research.google.com/github/meghasyam/python/blob/master/Rregression.ipynb\" target=\"_parent\"><img src=\"https://colab.research.google.com/assets/colab-badge.svg\" alt=\"Open In Colab\"/></a>"
      ]
    },
    {
      "cell_type": "markdown",
      "metadata": {
        "id": "Ie2rn-kBXP9F",
        "colab_type": "text"
      },
      "source": [
        "Person Regression Coeffcient"
      ]
    },
    {
      "cell_type": "markdown",
      "metadata": {
        "id": "2mtNYsA1xRpi",
        "colab_type": "text"
      },
      "source": [
        ""
      ]
    },
    {
      "cell_type": "code",
      "metadata": {
        "id": "e3srjLCgXUJL",
        "colab_type": "code",
        "outputId": "f0a346f6-cd22-49df-febd-7e62c049f7f2",
        "colab": {
          "base_uri": "https://localhost:8080/",
          "height": 1000
        }
      },
      "source": [
        "%matplotlib inline\n",
        "import matplotlib.pyplot as plt\n",
        "from matplotlib import style\n",
        "import pandas as pd\n",
        "import numpy as np\n",
        "import datetime\n",
        "import pandas_datareader.data as web\n",
        "from pandas import Series, DataFrame\n",
        "import scipy.stats as sc\n",
        "import csv\n",
        "from sklearn.linear_model import LinearRegression \n",
        "from sklearn.preprocessing import PolynomialFeatures \n",
        "\n",
        "start = datetime.datetime(2020, 1, 1)\n",
        "end = datetime.datetime(2020, 1, 8)\n",
        "#end= datetime.datetime.today()\n",
        "print(\"##########  Stock information from\",start,\"to\",end,\"############\")\n",
        "stock_ticket_test=[\"XOM\",\"CL=F\"]\n",
        "\n",
        "\n",
        "print(\"########### start data trasformation\")\n",
        "\n",
        "dfcomp = web.DataReader(stock_ticket_test,'yahoo',start=start,end=end)['Adj Close']\n",
        "dfcomp.dropna(inplace=True)\n",
        "#print(dfcomp)\n",
        "#dfcomp.fillna(dfcomp.mean())\n",
        "dfcomp.replace([np.inf, -np.inf], np.nan, inplace=True)\n",
        "dfoil=dfcomp[[\"XOM\",\"CL=F\"]]\n",
        "dfoil.dropna(inplace=True)\n",
        "#print(dfoil)\n",
        "X=dfoil[[\"XOM\"]]\n",
        "X\n",
        "#print(X)\n",
        "y=dfoil[[\"CL=F\"]]\n",
        "#print(y)\n",
        "y\n",
        "\n",
        "\n",
        "print(\"########### start Pandas Regression\")\n",
        "#Panda Liner Regression\n",
        "corelation=dfoil.corr()\n",
        "print(corelation)\n",
        "\n",
        "print(\"########### Person Regression\")\n",
        "\n",
        "corr_person_panda=X.corr()\n",
        "corr_person_panda1=X.corrwith(y)\n",
        "# corr_person_panda=X.corr(y)\n",
        "print(\"corr_person_panda: \",corr_person_panda)\n",
        "\n",
        "print(\"corr_person_panda: \",corr_person_panda1)\n",
        "\n",
        "print(\"########### start scikit linear Regression\")\n",
        "\n",
        "#Scikit Regression Module\n",
        "\n",
        "lin = LinearRegression() \n",
        "lin.fit(X, y)\n",
        "print('Coefficients: ', lin.coef_)\n",
        "plt.scatter(X, y, color = 'blue') \n",
        "plt.plot(X, lin.predict(X), color = 'red') \n",
        "plt.title('Linear Regression') \n",
        "plt.xlabel(\"XOM\") \n",
        "plt.ylabel(\"Crude Oil\") \n",
        "plt.show() \n",
        "\n",
        "print(\"########### start numpy linear Regression\")\n",
        "\n",
        "# test Dataframe to numpy aaray\n",
        "#X_array=X.to_numpy().astype(float)\n",
        "\n",
        "#X_new = dfoil['XOM'].values.reshape(-1,1)\n",
        "#Y_new = dfoil['CL=F'].values.reshape(-1,1)\n",
        "#print(\"X new: /n\", X_new,\"/n Y New: /n\", Y_new)\n",
        "#r,p=sc.pearsonr(X_new,Y_new)\n",
        "#print(r,p)\n",
        "#a=X.iloc[:,:].values\n",
        "#a=a.T\n",
        "#b=y.iloc[:,:].values.T\n",
        "#print(\" vaule of a\",a)\n",
        "#print(\" vaule of b\",b)\n",
        "#r,p=sc.pearsonr(a,b)\n",
        "#print(r,p)\n",
        "\n",
        "#k=np.array([69.89653778,69.33460236,69.86696625,69.29516602,68.25017548])\n",
        "#l=np.array([61.18000031,63.04999924,63.27000046,62.70000076,59.61000061])\n",
        "#r,p =sc.pearsonr(k,l)\n",
        "#print(r,p)\n",
        "\n",
        "\n",
        "X_array1=dfoil[\"XOM\"].to_numpy\n",
        "print(X_array1)\n",
        "X_array1=dfoil[\"CL=F\"].to_numpy\n",
        "print(y_array)\n",
        "#sc.pearsonr(X_array, X_array)    # Pearson's r\n",
        "\n",
        "# Polynomial Regrression\n",
        "print(\"########### start PolynomialFeatures\")\n",
        "\n",
        "poly = PolynomialFeatures(degree = 4) \n",
        "X_poly = poly.fit_transform(X) \n",
        "  \n",
        "poly.fit(X_poly, y) \n",
        "lin2 = LinearRegression() \n",
        "lin2.fit(X_poly, y)\n",
        "\n",
        "plt.scatter(X, y, color = 'blue') \n",
        "plt.plot(X, lin2.predict(poly.fit_transform(X)), color = 'red') \n",
        "plt.title('Polynomial Regression') \n",
        "plt.xlabel('XOM') \n",
        "plt.ylabel('Crude Oil') \n",
        "  \n",
        "plt.show() \n"
      ],
      "execution_count": 0,
      "outputs": [
        {
          "output_type": "stream",
          "text": [
            "##########  Stock information from 2020-01-01 00:00:00 to 2020-01-08 00:00:00 ############\n",
            "########### start data trasformation\n",
            "########### start Pandas Regression\n",
            "Symbols       XOM      CL=F\n",
            "Symbols                    \n",
            "XOM      1.000000  0.673377\n",
            "CL=F     0.673377  1.000000\n",
            "########### Person Regression\n",
            "corr_person_panda:  Symbols  XOM\n",
            "Symbols     \n",
            "XOM      1.0\n",
            "corr_person_panda:  Symbols\n",
            "CL=F   NaN\n",
            "XOM    NaN\n",
            "dtype: float64\n",
            "########### start scikit linear Regression\n",
            "Coefficients:  [[1.56391563]]\n"
          ],
          "name": "stdout"
        },
        {
          "output_type": "display_data",
          "data": {
            "image/png": "[encoded data removed]",
            "text/plain": [
              "<Figure size 432x288 with 1 Axes>"
            ]
          },
          "metadata": {
            "tags": [],
            "needs_background": "light"
          }
        },
        {
          "output_type": "stream",
          "text": [
            "########### start numpy linear Regression\n",
            "<bound method IndexOpsMixin.to_numpy of Date\n",
            "2020-01-02    69.896538\n",
            "2020-01-03    69.334602\n",
            "2020-01-06    69.866966\n",
            "2020-01-07    69.295166\n",
            "2020-01-08    68.250175\n",
            "Name: XOM, dtype: float64>\n",
            "<bound method DataFrame.to_numpy of Symbols          CL=F\n",
            "Date                 \n",
            "2020-01-02  61.180000\n",
            "2020-01-03  63.049999\n",
            "2020-01-06  63.270000\n",
            "2020-01-07  62.700001\n",
            "2020-01-08  59.610001>\n",
            "########### start PolynomialFeatures\n"
          ],
          "name": "stdout"
        },
        {
          "output_type": "display_data",
          "data": {
            "image/png": "[encoded data removed]",
            "text/plain": [
              "<Figure size 432x288 with 1 Axes>"
            ]
          },
          "metadata": {
            "tags": [],
            "needs_background": "light"
          }
        }
      ]
    }
  ]
}