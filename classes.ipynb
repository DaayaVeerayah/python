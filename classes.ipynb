{
  "nbformat": 4,
  "nbformat_minor": 0,
  "metadata": {
    "colab": {
      "name": "Untitled4.ipynb",
      "provenance": [],
      "collapsed_sections": [],
      "authorship_tag": "ABX9TyNjcVlD6KRdPcX45gfs5MIS",
      "include_colab_link": true
    },
    "kernelspec": {
      "name": "python3",
      "display_name": "Python 3"
    }
  },
  "cells": [
    {
      "cell_type": "markdown",
      "metadata": {
        "id": "view-in-github",
        "colab_type": "text"
      },
      "source": [
        "<a href=\"https://colab.research.google.com/github/meghasyam/python/blob/master/classes.ipynb\" target=\"_parent\"><img src=\"https://colab.research.google.com/assets/colab-badge.svg\" alt=\"Open In Colab\"/></a>"
      ]
    },
    {
      "cell_type": "code",
      "metadata": {
        "id": "nD2zfDYTzzs2",
        "colab_type": "code",
        "colab": {}
      },
      "source": [
        "class Parrot:\n",
        "  pass\n",
        "\n",
        "obj = Parrot()  "
      ],
      "execution_count": 0,
      "outputs": []
    },
    {
      "cell_type": "code",
      "metadata": {
        "id": "qmwgL9xAaGC1",
        "colab_type": "code",
        "colab": {}
      },
      "source": [
        "class Parrot:\n",
        "    # class attribute\n",
        "    species = \"bird\"\n",
        "    # instance attribute\n",
        "    def __init__(self, name, age):\n",
        "        self.name = name\n",
        "        self.age = age\n",
        "    def display(self):\n",
        "        print(self.name,self.age,self.species)\n",
        "\n",
        "# instantiate the Parrot class \n",
        "blu = Parrot(\"Blu\", 10)\n",
        "woo = Parrot(\"Woo\", 15)\n",
        "\n",
        "blu.display()\n",
        "# access the class attributes\n",
        "print(\"Blu is a {}\".format(blu.__class__.species))\n",
        "print(\"Woo is also a {}\".format(woo.__class__.species))\n",
        "\n",
        "print(\"PARROT -- Woo is also a {}\".format(Parrot.species))\n",
        "\n",
        "# access the instance attributes\n",
        "print(\"{} is {} years old\".format( blu.name, blu.age))\n",
        "print(\"{} is {} years old\".format( woo.name, woo.age))"
      ],
      "execution_count": 0,
      "outputs": []
    },
    {
      "cell_type": "code",
      "metadata": {
        "id": "qk4n_PwK3ThZ",
        "colab_type": "code",
        "colab": {}
      },
      "source": [
        "class Parrot:    \n",
        "    # instance attributes\n",
        "    def __init__(self, name, age):\n",
        "        self.name = name\n",
        "        self.age = age    \n",
        "    # instance method\n",
        "    def sing(self, song):\n",
        "        self.song = song\n",
        "        return \"{} sings {}\".format(self.name, song)\n",
        "\n",
        "    def dance(self):\n",
        "        return \"{} {} is now dancing\".format(self.name,self.song)\n",
        "\n",
        "# instantiate the object\n",
        "blu = Parrot(\"Blu\", 10)\n",
        "\n",
        "# call our instance methods\n",
        "print(blu.sing(\"'Happy'\"))\n",
        "print(blu.dance())"
      ],
      "execution_count": 0,
      "outputs": []
    },
    {
      "cell_type": "code",
      "metadata": {
        "id": "hr9dyloF38dF",
        "colab_type": "code",
        "colab": {}
      },
      "source": [
        "# parent class\n",
        "class Bird:\n",
        "    \n",
        "    def __init__(self):\n",
        "        print(\"Bird is ready\")\n",
        "\n",
        "    def whoisThis(self):\n",
        "        print(\"Bird\")\n",
        "\n",
        "    def swim(self):\n",
        "        print(\"Swim faster\")\n",
        "\n",
        "# child class\n",
        "class Penguin(Bird):\n",
        "\n",
        "    def __init__(self):  #super() - to call super class methods and constructors\n",
        "         # call super() function\n",
        "        super().__init__()\n",
        "        print(\"Penguin is ready\")\n",
        "\n",
        "    def whoisThis(self):\n",
        "        print(\"Penguin\")\n",
        "\n",
        "    def run(self):\n",
        "        print(\"Run faster\")\n",
        "\n",
        "peggy = Penguin()\n",
        "peggy.whoisThis()\n",
        "peggy.swim()\n",
        "peggy.run()"
      ],
      "execution_count": 0,
      "outputs": []
    },
    {
      "cell_type": "code",
      "metadata": {
        "id": "LHShmcMf48qi",
        "colab_type": "code",
        "colab": {}
      },
      "source": [
        "class Computer:\n",
        "\n",
        "    def __init__(self):\n",
        "        self.__maxprice = 900\n",
        "\n",
        "    def sell(self):\n",
        "        print(\"Selling Price: {}\".format(self.__maxprice))\n",
        "\n",
        "    def setMaxPrice(self, price):\n",
        "        self.__maxprice = price\n",
        "\n",
        "c = Computer()\n",
        "c.sell()\n",
        "\n",
        "# change the price\n",
        "c.__maxprice = 1000\n",
        "c.sell()\n",
        "\n",
        "# using setter function\n",
        "c.setMaxPrice(1000)\n",
        "c.sell()"
      ],
      "execution_count": 0,
      "outputs": []
    },
    {
      "cell_type": "code",
      "metadata": {
        "id": "cjk1Pq3Q5U44",
        "colab_type": "code",
        "colab": {
          "base_uri": "https://localhost:8080/",
          "height": 52
        },
        "outputId": "da2944e8-cae8-482f-d08b-d931d4ce0189"
      },
      "source": [
        "class Parrot:\n",
        "    def fly(self):\n",
        "        print(\"Parrot can fly\")    \n",
        "    def swim(self):\n",
        "        print(\"Parrot can't swim\")\n",
        "\n",
        "class Penguin:\n",
        "    def fly(self):\n",
        "        print(\"Penguin can't fly\")    \n",
        "    def swim(self):\n",
        "        print(\"Penguin can swim\")\n",
        "\n",
        "# common interface\n",
        "def flying_test(bird):\n",
        "    bird.fly()\n",
        "\n",
        "#instantiate objects\n",
        "blu = Parrot()\n",
        "peggy = Penguin()\n",
        "\n",
        "# passing the object\n",
        "flying_test(blu)\n",
        "flying_test(peggy)"
      ],
      "execution_count": 23,
      "outputs": [
        {
          "output_type": "stream",
          "text": [
            "Parrot can fly\n",
            "Penguin can't fly\n"
          ],
          "name": "stdout"
        }
      ]
    },
    {
      "cell_type": "code",
      "metadata": {
        "id": "kwu395OqbQwE",
        "colab_type": "code",
        "colab": {}
      },
      "source": [
        "class Parrot:    \n",
        "    # class attribute\n",
        "    species = \"bird\"\n",
        "    # instance attributes\n",
        "    def __init__(self, name, age):\n",
        "        self.name = name\n",
        "        self.age = age    \n",
        "    # instance method    - class level ,class method\n",
        "    def sing(self, song):\n",
        "        self.__class__.classmethod1()\n",
        "        return \"{} sings {} == {}\".format(self.name, song,self.__class__.species)\n",
        "    def dance(self):\n",
        "        return \"{} is now dancing\".format(self.name)\n",
        "\n",
        "    @classmethod   #decorator - marking     \n",
        "    def classmethod1(cls): # cls / self \n",
        "        print(cls.species)\n",
        "\n",
        "# instantiate the object\n",
        "blu = Parrot(\"Blu\", 10)\n",
        "woo = Parrot(\"Woo\", 15)\n",
        "blu.__class__.species = \"my new values\"\n",
        "print(\" line 23 \" + blu.name)\n",
        "print(\" line 24 \" + woo.__class__.species)\n",
        "blu.__class__.classmethod1()\n",
        "Parrot.classmethod1()\n",
        "print(\"26 line \" +Parrot.species)\n",
        "# call our instance methods\n",
        "print(blu.sing(\"'Happy'\"))\n",
        "print(blu.dance())"
      ],
      "execution_count": 0,
      "outputs": []
    },
    {
      "cell_type": "code",
      "metadata": {
        "id": "GI0afjQIhSNS",
        "colab_type": "code",
        "colab": {}
      },
      "source": [
        "class Computer:\n",
        "    def __init__(self):\n",
        "        self.__maxprice = 900  #private variable\n",
        "    def sell(self):\n",
        "        print(\"Selling Price: {}\".format(self.__maxprice))\n",
        "    def setMaxPrice(self, price):\n",
        "        self.__maxprice = price\n",
        "\n",
        "c = Computer()\n",
        "c.sell()\n",
        "\n",
        "# change the price\n",
        "c.__maxprice = 1000  # this is different variable \n",
        "c.sell()\n",
        "# using setter function\n",
        "c.setMaxPrice(1000)\n",
        "c.sell()"
      ],
      "execution_count": 0,
      "outputs": []
    },
    {
      "cell_type": "code",
      "metadata": {
        "id": "VyxIFU-uii6c",
        "colab_type": "code",
        "colab": {}
      },
      "source": [
        "class Parrot:\n",
        "    def fly(self):\n",
        "        print(\"Parrot can fly\")  \n",
        "    def swim(self):\n",
        "        print(\"Parrot can't swim\")\n",
        "class Penguin:\n",
        "    def fly(self):\n",
        "        print(\"Penguin can't fly\")    \n",
        "    def swim(self):\n",
        "        print(\"Penguin can swim\")\n",
        "\n",
        "# common interface\n",
        "def flying_test(bird):\n",
        "    bird.fly()\n",
        "    bird.swim()\n",
        "\n",
        "#instantiate objects\n",
        "blu = Parrot()\n",
        "peggy = Penguin()\n",
        "\n",
        "# passing the object\n",
        "flying_test(blu)\n",
        "flying_test(peggy)"
      ],
      "execution_count": 0,
      "outputs": []
    },
    {
      "cell_type": "code",
      "metadata": {
        "id": "8BtmqdcErk2V",
        "colab_type": "code",
        "colab": {}
      },
      "source": [
        "class new1:\n",
        "  pass\n",
        "\n",
        "obj = new1()  "
      ],
      "execution_count": 0,
      "outputs": []
    },
    {
      "cell_type": "code",
      "metadata": {
        "id": "PeCEm_sCsAAs",
        "colab_type": "code",
        "colab": {}
      },
      "source": [
        "class Parrot:\n",
        "\n",
        "    # class attribute\n",
        "    species = \"bird\"\n",
        "    # instance attribute\n",
        "    def __init__(self, name, age):  # constructor self - it is instance attribute\n",
        "        self.name = name\n",
        "        self.age = age\n",
        "# instantiate the Parrot class\n",
        "blu = Parrot(\"Blu\", 10)\n",
        "woo = Parrot(\"Woo\", 15)\n",
        "\n",
        "# access the instance attributes\n",
        "print(\"{} is {} years old\".format( blu.name, blu.age))\n",
        "print(\"{} is {} years old\".format( woo.name, woo.age))\n",
        "\n",
        "# access the class attributes\n",
        "print(\"Blu is a {}\".format(blu.__class__.species))\n",
        "print(\"Woo is also a {}\".format(woo.__class__.species))\n",
        "\n",
        "# access the class attributes\n",
        "print(\"Blu is a {}\".format(Parrot.species))"
      ],
      "execution_count": 0,
      "outputs": []
    },
    {
      "cell_type": "code",
      "metadata": {
        "id": "qEXTNXeLtmvd",
        "colab_type": "code",
        "colab": {}
      },
      "source": [
        "class Parrot:    \n",
        "    # instance attributes\n",
        "    def __init__(self, name, age):\n",
        "        self.name = name\n",
        "        self.age = age    \n",
        "    # instance method\n",
        "    def sing(self, song):\n",
        "        return \"{} sings {}\".format(self.name, song)\n",
        "    def dance(self):\n",
        "        return \"{} is now dancing\".format(self.name)\n",
        "\n",
        "# instantiate the object\n",
        "blu = Parrot(\"Blu\", 10)\n",
        "\n",
        "# call our instance methods\n",
        "print(blu.sing(\"'Happy'\"))\n",
        "print(blu.dance())"
      ],
      "execution_count": 0,
      "outputs": []
    },
    {
      "cell_type": "code",
      "metadata": {
        "id": "cE4bF9vsvHQC",
        "colab_type": "code",
        "colab": {}
      },
      "source": [
        "class myclass:\n",
        "\n",
        "  def func1(self):\n",
        "    print(\"1-new ....\")\n",
        "\n",
        "class myclass1:\n",
        "\n",
        "  def func1(a):\n",
        "    print(\"2-new ....\")  \n",
        "\n",
        "obj = myclass()\n",
        "obj.func1()\n",
        "myclass1.func1(1)"
      ],
      "execution_count": 0,
      "outputs": []
    },
    {
      "cell_type": "code",
      "metadata": {
        "id": "L7VahA-jxbL_",
        "colab_type": "code",
        "colab": {}
      },
      "source": [
        "# parent class\n",
        "class Bird:\n",
        "    def __init__(self):\n",
        "        print(\"Bird is ready\")\n",
        "    def whoisThis(self):\n",
        "        print(\"Bird\")\n",
        "    def swim(self):\n",
        "        print(\"Swim faster\")\n",
        "\n",
        "# child class\n",
        "class Penguin(Bird):\n",
        "\n",
        "    def __init__(self):\n",
        "        # call super() function\n",
        "        super().__init__()\n",
        "        print(\"Penguin is ready\")\n",
        "\n",
        "    def whoisThis(self):\n",
        "        print(\"Penguin\")\n",
        "\n",
        "    def run(self):\n",
        "        print(\"Run faster\")\n",
        "\n",
        "peggy = Penguin()\n",
        "peggy.whoisThis()\n",
        "peggy.swim()\n",
        "peggy.run()"
      ],
      "execution_count": 0,
      "outputs": []
    },
    {
      "cell_type": "code",
      "metadata": {
        "id": "g30cH0AfyArR",
        "colab_type": "code",
        "colab": {}
      },
      "source": [
        "class MyClass:\n",
        "\t\"This is my second class\"\n",
        "\ta = 10\n",
        "\tdef func(self):\n",
        "\t\tprint('Hello')\n",
        "\n",
        "# Output: 10\n",
        "print(MyClass.a)\n",
        "\n",
        "# Output: <function MyClass.func at 0x0000000003079BF8>\n",
        "print(MyClass.func(MyClass()))\n",
        "\n",
        "# Output: 'This is my second class'\n",
        "print(MyClass.__doc__)"
      ],
      "execution_count": 0,
      "outputs": []
    },
    {
      "cell_type": "code",
      "metadata": {
        "id": "hYmAw0ZJyxBl",
        "colab_type": "code",
        "colab": {}
      },
      "source": [
        "class ComplexNumber:\n",
        "    def __init__(self,r = 0,i = 0):\n",
        "        self.real = r\n",
        "        self.imag = i\n",
        "\n",
        "    def getData(self):\n",
        "        print(\"{0}+{1}j\".format(self.real,self.imag))\n",
        "\n",
        "# Create a new ComplexNumber object\n",
        "c1 = ComplexNumber(2,3)\n",
        "\n",
        "# Call getData() function\n",
        "# Output: 2+3j\n",
        "c1.getData()\n",
        "\n",
        "# Create another ComplexNumber object\n",
        "# and create a new attribute 'attr'\n",
        "c2 = ComplexNumber(5)\n",
        "c2.attr = 10\n",
        "\n",
        "# Output: (5, 0, 10)\n",
        "print((c2.real, c2.imag, c2.attr))\n",
        "\n",
        "# but c1 object doesn't have attribute 'attr'\n",
        "# AttributeError: 'ComplexNumber' object has no attribute 'attr'\n",
        "#c1.attr\n",
        "\n",
        "# del c1.imag\n",
        "# c1.getData()\n",
        "\n",
        "del ComplexNumber.getData\n",
        "c1.getData()"
      ],
      "execution_count": 0,
      "outputs": []
    },
    {
      "cell_type": "code",
      "metadata": {
        "id": "oPXFYyiPrmko",
        "colab_type": "code",
        "colab": {}
      },
      "source": [
        "class Polygon:\n",
        "    def __init__(self, no_of_sides):\n",
        "        self.n = no_of_sides\n",
        "        self.sides = [0 for i in range(no_of_sides)]\n",
        "\n",
        "    def inputSides(self):\n",
        "        self.sides = [float(input(\"Enter side \"+str(i+1)+\" : \")) for i in range(self.n)]  #0,1,2\n",
        "\n",
        "    def dispSides(self):\n",
        "        for i in range(self.n):\n",
        "            print(\"Side\",i+1,\"is\",self.sides[i])\n",
        "\n",
        "class Triangle(Polygon):\n",
        "    def __init__(self):\n",
        "        Polygon.__init__(self,3)\n",
        "\n",
        "    def findArea(self):\n",
        "        a, b, c = self.sides\n",
        "        # calculate the semi-perimeter\n",
        "        s = (a + b + c) / 2\n",
        "        area = (s*(s-a)*(s-b)*(s-c)) ** 0.5\n",
        "        print('The area of the triangle is %0.2f' %area)\n",
        "\n",
        "class Rectangle(Polygon):\n",
        "    def __init__(self):\n",
        "        Polygon.__init__(self,4)\n",
        "\n",
        "    def findArea(self):\n",
        "        a, b, c = self.sides\n",
        "        # calculate the semi-perimeter\n",
        "        s = (a + b + c) / 2\n",
        "        area = (s*(s-a)*(s-b)*(s-c)) ** 0.5\n",
        "        print('The area of the triangle is %0.2f' %area)        \n",
        "\n",
        "t = Triangle()\n",
        "t.inputSides()\n",
        "t.dispSides()\n",
        "\n",
        "t.findArea()\n"
      ],
      "execution_count": 0,
      "outputs": []
    },
    {
      "cell_type": "code",
      "metadata": {
        "id": "-SiVC4TztJUE",
        "colab_type": "code",
        "colab": {}
      },
      "source": [
        "isinstance(t,Triangle)  # t is instance of Trianle \n",
        "issubclass(Triangle,Polygon)"
      ],
      "execution_count": 0,
      "outputs": []
    },
    {
      "cell_type": "code",
      "metadata": {
        "id": "aVRyIMS2u8YC",
        "colab_type": "code",
        "colab": {}
      },
      "source": [
        "class Base1:\n",
        "    pass\n",
        "\n",
        "class Base2:\n",
        "    pass\n",
        "\n",
        "class MultiDerived(Base1, Base2):\n",
        "    pass\n",
        "\n",
        "MultiDerived.__mro__\n",
        "MultiDerived.mro()    "
      ],
      "execution_count": 0,
      "outputs": []
    },
    {
      "cell_type": "code",
      "metadata": {
        "id": "yRxFpc9MvYrg",
        "colab_type": "code",
        "colab": {}
      },
      "source": [
        "class Base:\n",
        "    pass\n",
        "\n",
        "class Derived1(Base):\n",
        "    pass\n",
        "\n",
        "class Derived2(Derived1):\n",
        "    pass\n",
        "\n",
        "print(Base.mro())\n",
        "print(Derived1.mro())\n",
        "print(Derived2.mro())\n"
      ],
      "execution_count": 0,
      "outputs": []
    },
    {
      "cell_type": "code",
      "metadata": {
        "id": "q4HKY3rqv_VL",
        "colab_type": "code",
        "colab": {}
      },
      "source": [
        "class X: pass\n",
        "class Y: pass\n",
        "class Z: pass\n",
        "\n",
        "class A(X,Y): pass\n",
        "class B(Y,Z): pass\n",
        "\n",
        "class M(B,A,Z): pass\n",
        "\n",
        "\n",
        "print(M.mro())  #M,B,A,"
      ],
      "execution_count": 0,
      "outputs": []
    },
    {
      "cell_type": "code",
      "metadata": {
        "id": "LXgeQKXew_yx",
        "colab_type": "code",
        "colab": {}
      },
      "source": [
        "class Point:\n",
        "    def __init__(self, x = 0, y = 0):\n",
        "        self.x = x\n",
        "        self.y = y\n",
        "    \n",
        "    def __str__(self):\n",
        "        return \"({0},{1})\".format(self.x,self.y)\n",
        "    \n",
        "    # block comment -- cntrl + / (farward)\n",
        "    def __add__(self,other):\n",
        "        x = self.x + other.x\n",
        "        y = self.y + other.y\n",
        "        return Point(x,y)\n",
        "\n",
        "    def __lt__(self,other):\n",
        "        self_mag = (self.x ** 2) + (self.y ** 2)\n",
        "        other_mag = (other.x ** 2) + (other.y ** 2)\n",
        "        return self_mag < other_mag    \n",
        "\n",
        "p1 = Point(2,3)\n",
        "p2 = Point(-1,2)\n",
        "print(p1 + p2)     \n",
        "\n",
        "Point(1,1) < Point(-2,-3)"
      ],
      "execution_count": 0,
      "outputs": []
    }
  ]
}