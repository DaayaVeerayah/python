{
  "nbformat": 4,
  "nbformat_minor": 0,
  "metadata": {
    "colab": {
      "name": "Untitled4.ipynb",
      "provenance": [],
      "collapsed_sections": [],
      "authorship_tag": "ABX9TyO5WAOyX5k7Ahl3/k+MvnNx",
      "include_colab_link": true
    },
    "kernelspec": {
      "name": "python3",
      "display_name": "Python 3"
    }
  },
  "cells": [
    {
      "cell_type": "markdown",
      "metadata": {
        "id": "view-in-github",
        "colab_type": "text"
      },
      "source": [
        "<a href=\"https://colab.research.google.com/github/meghasyam/python/blob/master/classes.ipynb\" target=\"_parent\"><img src=\"https://colab.research.google.com/assets/colab-badge.svg\" alt=\"Open In Colab\"/></a>"
      ]
    },
    {
      "cell_type": "code",
      "metadata": {
        "id": "qmwgL9xAaGC1",
        "colab_type": "code",
        "outputId": "bee2841a-b7d9-43b6-8601-6bbc3520839a",
        "colab": {
          "base_uri": "https://localhost:8080/",
          "height": 104
        }
      },
      "source": [
        "class Parrot:\n",
        "\n",
        "    # class attribute\n",
        "    species = \"bird\"\n",
        "\n",
        "    # instance attribute\n",
        "    def __init__(self, name, age):\n",
        "        self.name = name\n",
        "        self.age = age\n",
        "\n",
        "# instantiate the Parrot class \n",
        "blu = Parrot(\"Blu\", 10)\n",
        "woo = Parrot(\"Woo\", 15)\n",
        "\n",
        "# access the class attributes\n",
        "print(\"Blu is a {}\".format(blu.__class__.species))\n",
        "print(\"Woo is also a {}\".format(woo.__class__.species))\n",
        "\n",
        "print(\"PARROT -- Woo is also a {}\".format(Parrot.species))\n",
        "\n",
        "# access the instance attributes\n",
        "print(\"{} is {} years old\".format( blu.name, blu.age))\n",
        "print(\"{} is {} years old\".format( woo.name, woo.age))"
      ],
      "execution_count": 0,
      "outputs": [
        {
          "output_type": "stream",
          "text": [
            "Blu is a bird\n",
            "Woo is also a bird\n",
            "PARROT -- Woo is also a bird\n",
            "Blu is 10 years old\n",
            "Woo is 15 years old\n"
          ],
          "name": "stdout"
        }
      ]
    },
    {
      "cell_type": "code",
      "metadata": {
        "id": "kwu395OqbQwE",
        "colab_type": "code",
        "outputId": "d72fe36e-ba7f-4c5e-a0e1-3c818b637dce",
        "colab": {
          "base_uri": "https://localhost:8080/",
          "height": 156
        }
      },
      "source": [
        "class Parrot:    \n",
        "    # class attribute\n",
        "    species = \"bird\"\n",
        "    # instance attributes\n",
        "    def __init__(self, name, age):\n",
        "        self.name = name\n",
        "        self.age = age    \n",
        "    # instance method    - class level ,class method\n",
        "    def sing(self, song):\n",
        "        self.__class__.classmethod1()\n",
        "        return \"{} sings {} == {}\".format(self.name, song,self.__class__.species)\n",
        "    def dance(self):\n",
        "        return \"{} is now dancing\".format(self.name)\n",
        "\n",
        "    @classmethod   #decorator - marking     \n",
        "    def classmethod1(cls): # cls / self \n",
        "        print(cls.species)\n",
        "\n",
        "# instantiate the object\n",
        "blu = Parrot(\"Blu\", 10)\n",
        "woo = Parrot(\"Woo\", 15)\n",
        "blu.__class__.species = \"my new values\"\n",
        "print(\" line 23 \" + blu.name)\n",
        "print(\" line 24 \" + woo.__class__.species)\n",
        "blu.__class__.classmethod1()\n",
        "Parrot.classmethod1()\n",
        "print(\"26 line \" +Parrot.species)\n",
        "# call our instance methods\n",
        "print(blu.sing(\"'Happy'\"))\n",
        "print(blu.dance())"
      ],
      "execution_count": 7,
      "outputs": [
        {
          "output_type": "stream",
          "text": [
            " line 23 Blu\n",
            " line 24 my new values\n",
            "my new values\n",
            "my new values\n",
            "26 line my new values\n",
            "my new values\n",
            "Blu sings 'Happy' == my new values\n",
            "Blu is now dancing\n"
          ],
          "name": "stdout"
        }
      ]
    },
    {
      "cell_type": "code",
      "metadata": {
        "id": "GI0afjQIhSNS",
        "colab_type": "code",
        "outputId": "4318b4c1-2a1b-4e17-b707-84636e2da4ec",
        "colab": {
          "base_uri": "https://localhost:8080/",
          "height": 69
        }
      },
      "source": [
        "class Computer:\n",
        "    def __init__(self):\n",
        "        self.__maxprice = 900  #private variable\n",
        "    def sell(self):\n",
        "        print(\"Selling Price: {}\".format(self.__maxprice))\n",
        "    def setMaxPrice(self, price):\n",
        "        self.__maxprice = price\n",
        "\n",
        "c = Computer()\n",
        "c.sell()\n",
        "\n",
        "# change the price\n",
        "c.__maxprice = 1000  # this is different variable \n",
        "c.sell()\n",
        "# using setter function\n",
        "c.setMaxPrice(1000)\n",
        "c.sell()"
      ],
      "execution_count": 10,
      "outputs": [
        {
          "output_type": "stream",
          "text": [
            "Selling Price: 900\n",
            "Selling Price: 900\n",
            "Selling Price: 1000\n"
          ],
          "name": "stdout"
        }
      ]
    },
    {
      "cell_type": "code",
      "metadata": {
        "id": "VyxIFU-uii6c",
        "colab_type": "code",
        "colab": {
          "base_uri": "https://localhost:8080/",
          "height": 87
        },
        "outputId": "c3c4fc26-b06d-4647-f8d1-c2151ff42e94"
      },
      "source": [
        "class Parrot:\n",
        "    def fly(self):\n",
        "        print(\"Parrot can fly\")  \n",
        "    def swim(self):\n",
        "        print(\"Parrot can't swim\")\n",
        "class Penguin:\n",
        "    def fly(self):\n",
        "        print(\"Penguin can't fly\")    \n",
        "    def swim(self):\n",
        "        print(\"Penguin can swim\")\n",
        "\n",
        "# common interface\n",
        "def flying_test(bird):\n",
        "    bird.fly()\n",
        "    bird.swim()\n",
        "\n",
        "#instantiate objects\n",
        "blu = Parrot()\n",
        "peggy = Penguin()\n",
        "\n",
        "# passing the object\n",
        "flying_test(blu)\n",
        "flying_test(peggy)"
      ],
      "execution_count": 20,
      "outputs": [
        {
          "output_type": "stream",
          "text": [
            "Parrot can fly\n",
            "Parrot can't swim\n",
            "Penguin can't fly\n",
            "Penguin can swim\n"
          ],
          "name": "stdout"
        }
      ]
    },
    {
      "cell_type": "code",
      "metadata": {
        "id": "8BtmqdcErk2V",
        "colab_type": "code",
        "colab": {}
      },
      "source": [
        "class new1:\n",
        "  pass\n",
        "\n",
        "obj = new1()  "
      ],
      "execution_count": 0,
      "outputs": []
    },
    {
      "cell_type": "code",
      "metadata": {
        "id": "PeCEm_sCsAAs",
        "colab_type": "code",
        "colab": {
          "base_uri": "https://localhost:8080/",
          "height": 104
        },
        "outputId": "e62e251d-68cf-4de9-acea-e185fa57361a"
      },
      "source": [
        "class Parrot:\n",
        "\n",
        "    # class attribute\n",
        "    species = \"bird\"\n",
        "    # instance attribute\n",
        "    def __init__(self, name, age):  # constructor self - it is instance attribute\n",
        "        self.name = name\n",
        "        self.age = age\n",
        "# instantiate the Parrot class\n",
        "blu = Parrot(\"Blu\", 10)\n",
        "woo = Parrot(\"Woo\", 15)\n",
        "\n",
        "# access the instance attributes\n",
        "print(\"{} is {} years old\".format( blu.name, blu.age))\n",
        "print(\"{} is {} years old\".format( woo.name, woo.age))\n",
        "\n",
        "# access the class attributes\n",
        "print(\"Blu is a {}\".format(blu.__class__.species))\n",
        "print(\"Woo is also a {}\".format(woo.__class__.species))\n",
        "\n",
        "# access the class attributes\n",
        "print(\"Blu is a {}\".format(Parrot.species))"
      ],
      "execution_count": 5,
      "outputs": [
        {
          "output_type": "stream",
          "text": [
            "Blu is 10 years old\n",
            "Woo is 15 years old\n",
            "Blu is a bird\n",
            "Woo is also a bird\n",
            "Blu is a bird\n"
          ],
          "name": "stdout"
        }
      ]
    },
    {
      "cell_type": "code",
      "metadata": {
        "id": "qEXTNXeLtmvd",
        "colab_type": "code",
        "colab": {
          "base_uri": "https://localhost:8080/",
          "height": 52
        },
        "outputId": "83a7317d-54c8-4323-b73c-3a10143c0ac9"
      },
      "source": [
        "class Parrot:    \n",
        "    # instance attributes\n",
        "    def __init__(self, name, age):\n",
        "        self.name = name\n",
        "        self.age = age    \n",
        "    # instance method\n",
        "    def sing(self, song):\n",
        "        return \"{} sings {}\".format(self.name, song)\n",
        "    def dance(self):\n",
        "        return \"{} is now dancing\".format(self.name)\n",
        "\n",
        "# instantiate the object\n",
        "blu = Parrot(\"Blu\", 10)\n",
        "\n",
        "# call our instance methods\n",
        "print(blu.sing(\"'Happy'\"))\n",
        "print(blu.dance())"
      ],
      "execution_count": 6,
      "outputs": [
        {
          "output_type": "stream",
          "text": [
            "Blu sings 'Happy'\n",
            "Blu is now dancing\n"
          ],
          "name": "stdout"
        }
      ]
    },
    {
      "cell_type": "code",
      "metadata": {
        "id": "cE4bF9vsvHQC",
        "colab_type": "code",
        "colab": {
          "base_uri": "https://localhost:8080/",
          "height": 52
        },
        "outputId": "52f9e432-7fbf-4c2a-ef3f-4dd408bc50d2"
      },
      "source": [
        "class myclass:\n",
        "\n",
        "  def func1(self):\n",
        "    print(\"1-new ....\")\n",
        "\n",
        "class myclass1:\n",
        "\n",
        "  def func1(a):\n",
        "    print(\"2-new ....\")  \n",
        "\n",
        "obj = myclass()\n",
        "obj.func1()\n",
        "myclass1.func1(1)"
      ],
      "execution_count": 23,
      "outputs": [
        {
          "output_type": "stream",
          "text": [
            "1-new ....\n",
            "2-new ....\n"
          ],
          "name": "stdout"
        }
      ]
    },
    {
      "cell_type": "code",
      "metadata": {
        "id": "L7VahA-jxbL_",
        "colab_type": "code",
        "colab": {
          "base_uri": "https://localhost:8080/",
          "height": 104
        },
        "outputId": "38df1109-3f7b-41d2-9408-9b160ee609f0"
      },
      "source": [
        "# parent class\n",
        "class Bird:\n",
        "    def __init__(self):\n",
        "        print(\"Bird is ready\")\n",
        "    def whoisThis(self):\n",
        "        print(\"Bird\")\n",
        "    def swim(self):\n",
        "        print(\"Swim faster\")\n",
        "\n",
        "# child class\n",
        "class Penguin(Bird):\n",
        "\n",
        "    def __init__(self):\n",
        "        # call super() function\n",
        "        super().__init__()\n",
        "        print(\"Penguin is ready\")\n",
        "\n",
        "    def whoisThis(self):\n",
        "        print(\"Penguin\")\n",
        "\n",
        "    def run(self):\n",
        "        print(\"Run faster\")\n",
        "\n",
        "peggy = Penguin()\n",
        "peggy.whoisThis()\n",
        "peggy.swim()\n",
        "peggy.run()"
      ],
      "execution_count": 24,
      "outputs": [
        {
          "output_type": "stream",
          "text": [
            "Bird is ready\n",
            "Penguin is ready\n",
            "Penguin\n",
            "Swim faster\n",
            "Run faster\n"
          ],
          "name": "stdout"
        }
      ]
    },
    {
      "cell_type": "code",
      "metadata": {
        "id": "g30cH0AfyArR",
        "colab_type": "code",
        "colab": {
          "base_uri": "https://localhost:8080/",
          "height": 87
        },
        "outputId": "42406edf-572d-4ae9-ce29-7e635b6437bf"
      },
      "source": [
        "class MyClass:\n",
        "\t\"This is my second class\"\n",
        "\ta = 10\n",
        "\tdef func(self):\n",
        "\t\tprint('Hello')\n",
        "\n",
        "# Output: 10\n",
        "print(MyClass.a)\n",
        "\n",
        "# Output: <function MyClass.func at 0x0000000003079BF8>\n",
        "print(MyClass.func(MyClass()))\n",
        "\n",
        "# Output: 'This is my second class'\n",
        "print(MyClass.__doc__)"
      ],
      "execution_count": 28,
      "outputs": [
        {
          "output_type": "stream",
          "text": [
            "10\n",
            "Hello\n",
            "None\n",
            "This is my second class\n"
          ],
          "name": "stdout"
        }
      ]
    },
    {
      "cell_type": "code",
      "metadata": {
        "id": "hYmAw0ZJyxBl",
        "colab_type": "code",
        "colab": {
          "base_uri": "https://localhost:8080/",
          "height": 235
        },
        "outputId": "74f012ef-0b2f-4420-f0fd-766a5c2f1a3f"
      },
      "source": [
        "class ComplexNumber:\n",
        "    def __init__(self,r = 0,i = 0):\n",
        "        self.real = r\n",
        "        self.imag = i\n",
        "\n",
        "    def getData(self):\n",
        "        print(\"{0}+{1}j\".format(self.real,self.imag))\n",
        "\n",
        "# Create a new ComplexNumber object\n",
        "c1 = ComplexNumber(2,3)\n",
        "\n",
        "# Call getData() function\n",
        "# Output: 2+3j\n",
        "c1.getData()\n",
        "\n",
        "# Create another ComplexNumber object\n",
        "# and create a new attribute 'attr'\n",
        "c2 = ComplexNumber(5)\n",
        "c2.attr = 10\n",
        "\n",
        "# Output: (5, 0, 10)\n",
        "print((c2.real, c2.imag, c2.attr))\n",
        "\n",
        "# but c1 object doesn't have attribute 'attr'\n",
        "# AttributeError: 'ComplexNumber' object has no attribute 'attr'\n",
        "#c1.attr\n",
        "\n",
        "# del c1.imag\n",
        "# c1.getData()\n",
        "\n",
        "del ComplexNumber.getData\n",
        "c1.getData()"
      ],
      "execution_count": 32,
      "outputs": [
        {
          "output_type": "stream",
          "text": [
            "2+3j\n",
            "(5, 0, 10)\n"
          ],
          "name": "stdout"
        },
        {
          "output_type": "error",
          "ename": "AttributeError",
          "evalue": "ignored",
          "traceback": [
            "\u001b[0;31m---------------------------------------------------------------------------\u001b[0m",
            "\u001b[0;31mAttributeError\u001b[0m                            Traceback (most recent call last)",
            "\u001b[0;32m<ipython-input-32-b2957b88d4bb>\u001b[0m in \u001b[0;36m<module>\u001b[0;34m()\u001b[0m\n\u001b[1;32m     30\u001b[0m \u001b[0;34m\u001b[0m\u001b[0m\n\u001b[1;32m     31\u001b[0m \u001b[0;32mdel\u001b[0m \u001b[0mComplexNumber\u001b[0m\u001b[0;34m.\u001b[0m\u001b[0mgetData\u001b[0m\u001b[0;34m\u001b[0m\u001b[0;34m\u001b[0m\u001b[0m\n\u001b[0;32m---> 32\u001b[0;31m \u001b[0mc1\u001b[0m\u001b[0;34m.\u001b[0m\u001b[0mgetData\u001b[0m\u001b[0;34m(\u001b[0m\u001b[0;34m)\u001b[0m\u001b[0;34m\u001b[0m\u001b[0;34m\u001b[0m\u001b[0m\n\u001b[0m",
            "\u001b[0;31mAttributeError\u001b[0m: 'ComplexNumber' object has no attribute 'getData'"
          ]
        }
      ]
    }
  ]
}