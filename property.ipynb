{
  "nbformat": 4,
  "nbformat_minor": 0,
  "metadata": {
    "colab": {
      "name": "Untitled16.ipynb",
      "provenance": [],
      "authorship_tag": "ABX9TyM9gG5y6l7F/+CzW1OsHIf8",
      "include_colab_link": true
    },
    "kernelspec": {
      "name": "python3",
      "display_name": "Python 3"
    }
  },
  "cells": [
    {
      "cell_type": "markdown",
      "metadata": {
        "id": "view-in-github",
        "colab_type": "text"
      },
      "source": [
        "<a href=\"https://colab.research.google.com/github/meghasyam/python/blob/master/property.ipynb\" target=\"_parent\"><img src=\"https://colab.research.google.com/assets/colab-badge.svg\" alt=\"Open In Colab\"/></a>"
      ]
    },
    {
      "cell_type": "code",
      "metadata": {
        "id": "WnaYTQ5Lkagv",
        "colab_type": "code",
        "colab": {}
      },
      "source": [
        "class Celsius:\n",
        "    def __init__(self, temperature = 0):\n",
        "        self.temperature=temperature\n",
        "        #self.set_temperature(temperature)\n",
        "\n",
        "    def to_fahrenheit(self):\n",
        "        return (self.get_temperature() * 1.8) + 32\n",
        "\n",
        "    # new update\n",
        "    def get_temperature(self):\n",
        "        return self._temperature\n",
        "\n",
        "    def set_temperature(self, value):\n",
        "        if value < -273:\n",
        "            raise ValueError(\"Temperature below -273 is not possible\")\n",
        "        self._temperature = value\n",
        "c = Celsius(-300)        \n",
        "#c = Celsius(37)\n",
        "#c.get_temperature()\n"
      ],
      "execution_count": 0,
      "outputs": []
    },
    {
      "cell_type": "code",
      "metadata": {
        "id": "bbmWUKjflDTl",
        "colab_type": "code",
        "colab": {}
      },
      "source": [
        "class Celsius:\n",
        "    def __init__(self, temperature = 0):\n",
        "        self.temperature = temperature # assing - settting value\n",
        "\n",
        "    def to_fahrenheit(self):\n",
        "        return (self.temperature * 1.8) + 32  # assing - getting value\n",
        "\n",
        "    def get_temperature(self):\n",
        "        print(\"Getting value\")\n",
        "        return self._temperature\n",
        "\n",
        "    def set_temperature(self, value):\n",
        "        if value < -273:\n",
        "            raise ValueError(\"Temperature below -273 is not possible\")\n",
        "        print(\"Setting value\")\n",
        "        self._temperature = value\n",
        "\n",
        "    temperature = property(get_temperature,set_temperature)\n",
        "\n",
        "c = Celsius(300) \n",
        "print(c.temperature)\n",
        "c.to_fahrenheit()"
      ],
      "execution_count": 0,
      "outputs": []
    },
    {
      "cell_type": "code",
      "metadata": {
        "id": "HgA43A8xl1q3",
        "colab_type": "code",
        "colab": {}
      },
      "source": [
        "class Celsius:\n",
        "    def __init__(self, temperature = 0):\n",
        "        self._temperature = temperature\n",
        "\n",
        "    def to_fahrenheit(self):\n",
        "        return (self.temperature * 1.8) + 32\n",
        "\n",
        "    @property\n",
        "    def temperature(self):\n",
        "        print(\"Getting value\")\n",
        "        return self._temperature\n",
        "\n",
        "    @temperature.setter\n",
        "    def temperature(self, value):\n",
        "        if value < -273:\n",
        "            raise ValueError(\"Temperature below -273 is not possible\")\n",
        "        print(\"Setting value\")\n",
        "        self._temperature = value"
      ],
      "execution_count": 0,
      "outputs": []
    },
    {
      "cell_type": "code",
      "metadata": {
        "id": "YSamsCNTmbyG",
        "colab_type": "code",
        "colab": {
          "base_uri": "https://localhost:8080/",
          "height": 69
        },
        "outputId": "45c63fd7-e3de-45de-86d5-1b89296359cb"
      },
      "source": [
        "# Python program to explain property() function \n",
        "  \n",
        "# Alphabet class \n",
        "class Alphabet: \n",
        "    def __init__(self, value): \n",
        "        self._value = value \n",
        "          \n",
        "    # getting the values \n",
        "    def getValue(self): \n",
        "        print('Getting value') \n",
        "        return self._value \n",
        "          \n",
        "    # setting the values \n",
        "    def setValue(self, value): \n",
        "        print('Setting value to ' + value) \n",
        "        self._value = value \n",
        "          \n",
        "    # deleting the values \n",
        "    def delValue(self): \n",
        "        print('Deleting value') \n",
        "        del self._value \n",
        "      \n",
        "    value = property(getValue, setValue, delValue, ) \n",
        "  \n",
        "# passing the value \n",
        "x = Alphabet('GeeksforGeeks') \n",
        "print(x.value) \n",
        "  \n",
        "x.value = 'GfG'"
      ],
      "execution_count": 2,
      "outputs": [
        {
          "output_type": "stream",
          "text": [
            "Getting value\n",
            "GeeksforGeeks\n",
            "Setting value to GfG\n"
          ],
          "name": "stdout"
        }
      ]
    },
    {
      "cell_type": "code",
      "metadata": {
        "id": "1jEgE_chmg4H",
        "colab_type": "code",
        "colab": {
          "base_uri": "https://localhost:8080/",
          "height": 87
        },
        "outputId": "aadb5f2e-d2b5-4ce9-8076-443fbdfbf998"
      },
      "source": [
        "# Python program to explain property() \n",
        "# function using decorator \n",
        "  \n",
        "class Alphabet: \n",
        "    def __init__(self, value): \n",
        "        self._value = value \n",
        "          \n",
        "    # getting the values     \n",
        "    @property\n",
        "    def value(self): \n",
        "        print('Getting value') \n",
        "        return self._value \n",
        "          \n",
        "    # setting the values     \n",
        "    @value.setter \n",
        "    def value(self, value): \n",
        "        print('Setting value to ' + value) \n",
        "        self._value = value \n",
        "          \n",
        "    # deleting the values \n",
        "    @value.deleter \n",
        "    def value(self): \n",
        "        print('Deleting value') \n",
        "        del self._value \n",
        "  \n",
        "  \n",
        "# passing the value \n",
        "x = Alphabet('Peter') \n",
        "print(x.value) \n",
        "  \n",
        "x.value = 'Diesel'\n",
        "  \n",
        "del x.value "
      ],
      "execution_count": 3,
      "outputs": [
        {
          "output_type": "stream",
          "text": [
            "Getting value\n",
            "Peter\n",
            "Setting value to Diesel\n",
            "Deleting value\n"
          ],
          "name": "stdout"
        }
      ]
    },
    {
      "cell_type": "markdown",
      "metadata": {
        "id": "3fiGS6C3nZTN",
        "colab_type": "text"
      },
      "source": [
        "**class Property**"
      ]
    },
    {
      "cell_type": "code",
      "metadata": {
        "id": "4_0G-1FuncPY",
        "colab_type": "code",
        "colab": {
          "base_uri": "https://localhost:8080/",
          "height": 35
        },
        "outputId": "2c9af7ff-671c-4b76-c29d-2f8baae9ab7d"
      },
      "source": [
        ">>> class foo_meta(type):\n",
        "...     def __init__(cls, *args, **kwargs):\n",
        "...         cls._var = 5\n",
        "...     @property\n",
        "...     def var(cls):\n",
        "...         return cls._var\n",
        "...     @var.setter\n",
        "...     def var(cls, value):\n",
        "...         cls._var = value\n",
        "...\n",
        ">>> class foo(metaclass=foo_meta):\n",
        "...     pass\n",
        "...\n",
        ">>> foo.var\n",
        ">>> foo.var = 3\n",
        ">>> foo.var"
      ],
      "execution_count": 4,
      "outputs": [
        {
          "output_type": "execute_result",
          "data": {
            "text/plain": [
              "3"
            ]
          },
          "metadata": {
            "tags": []
          },
          "execution_count": 4
        }
      ]
    }
  ]
}