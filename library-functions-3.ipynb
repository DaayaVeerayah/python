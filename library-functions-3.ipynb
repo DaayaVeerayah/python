{
  "nbformat": 4,
  "nbformat_minor": 0,
  "metadata": {
    "colab": {
      "name": "Untitled24.ipynb",
      "provenance": [],
      "authorship_tag": "ABX9TyMot6T223aq9U5wXqzroKmU",
      "include_colab_link": true
    },
    "kernelspec": {
      "name": "python3",
      "display_name": "Python 3"
    }
  },
  "cells": [
    {
      "cell_type": "markdown",
      "metadata": {
        "id": "view-in-github",
        "colab_type": "text"
      },
      "source": [
        "<a href=\"https://colab.research.google.com/github/meghasyam/python/blob/master/library-functions-3.ipynb\" target=\"_parent\"><img src=\"https://colab.research.google.com/assets/colab-badge.svg\" alt=\"Open In Colab\"/></a>"
      ]
    },
    {
      "cell_type": "code",
      "metadata": {
        "id": "RJWptNtgLZum",
        "colab_type": "code",
        "colab": {}
      },
      "source": [
        "def calculateSquare(n):\n",
        "  return n*n\n",
        "\n",
        "numbers = (1, 2, 3, 4)\n",
        "result = map(calculateSquare, numbers)\n",
        "print(result)\n",
        "\n",
        "# converting map object to set\n",
        "numbersSquare = set(result)\n",
        "print(numbersSquare)"
      ],
      "execution_count": 0,
      "outputs": []
    },
    {
      "cell_type": "code",
      "metadata": {
        "id": "Yh4inFfjLpvn",
        "colab_type": "code",
        "colab": {}
      },
      "source": [
        "numbers = (1, 2, 3, 4)\n",
        "result = map(lambda x: x*x, numbers)\n",
        "print(result)\n",
        "\n",
        "# converting map object to set\n",
        "numbersSquare = set(result)\n",
        "print(numbersSquare)"
      ],
      "execution_count": 0,
      "outputs": []
    },
    {
      "cell_type": "code",
      "metadata": {
        "id": "LX8hZgQnLv5W",
        "colab_type": "code",
        "colab": {}
      },
      "source": [
        "num1 = [4, 5, 6]\n",
        "num2 = [5, 6, 7]\n",
        "\n",
        "result = map(lambda n1, n2: n1+n2, num1, num2)\n",
        "print(list(result))"
      ],
      "execution_count": 0,
      "outputs": []
    },
    {
      "cell_type": "code",
      "metadata": {
        "id": "lCLF15ZqMSuc",
        "colab_type": "code",
        "colab": {}
      },
      "source": [
        "random_byte_array = bytearray('ABC', 'utf-8')\n",
        "mv = memoryview(random_byte_array)\n",
        "print(mv[0])\n",
        "print(bytes(mv[0:2]))\n",
        "print(list(mv[0:3]))"
      ],
      "execution_count": 0,
      "outputs": []
    },
    {
      "cell_type": "code",
      "metadata": {
        "id": "HlAATgO2MmbR",
        "colab_type": "code",
        "colab": {}
      },
      "source": [
        "random_byte_array = bytearray('ABC', 'utf-8')\n",
        "print('Before updation:', random_byte_array)\n",
        "\n",
        "mv = memoryview(random_byte_array)\n",
        "\n",
        "mv[1] = 90\n",
        "print('After updation:', random_byte_array)"
      ],
      "execution_count": 0,
      "outputs": []
    },
    {
      "cell_type": "code",
      "metadata": {
        "id": "0Dg1gG2eMto4",
        "colab_type": "code",
        "colab": {}
      },
      "source": [
        "test = object()\n",
        "\n",
        "print(type(test))\n",
        "print(dir(test))"
      ],
      "execution_count": 0,
      "outputs": []
    },
    {
      "cell_type": "code",
      "metadata": {
        "id": "CJiuJekMM6uo",
        "colab_type": "code",
        "colab": {}
      },
      "source": [
        "# decimal to octal\n",
        "print('oct(10) is:', oct(10))\n",
        "\n",
        "# binary to octal\n",
        "print('oct(0b101) is:', oct(0b101))\n",
        "\n",
        "# hexadecimal to octal\n",
        "print('oct(0XA) is:', oct(0XA))"
      ],
      "execution_count": 0,
      "outputs": []
    },
    {
      "cell_type": "code",
      "metadata": {
        "id": "wi7f7IxnNDR3",
        "colab_type": "code",
        "colab": {}
      },
      "source": [
        "class Person:\n",
        "    age = 23\n",
        "\n",
        "    def __index__(self):\n",
        "        return self.age\n",
        "\n",
        "    def __int__(self):\n",
        "        return self.age\n",
        "\n",
        "person = Person()\n",
        "print('The oct is:', oct(person))"
      ],
      "execution_count": 0,
      "outputs": []
    },
    {
      "cell_type": "code",
      "metadata": {
        "id": "YUOvHAV7NQ0W",
        "colab_type": "code",
        "colab": {}
      },
      "source": [
        "print(ord('5'))    # 53\n",
        "print(ord('A'))    # 65\n",
        "print(ord('$'))    # 36"
      ],
      "execution_count": 0,
      "outputs": []
    },
    {
      "cell_type": "code",
      "metadata": {
        "id": "4tJYNNLMNnwm",
        "colab_type": "code",
        "colab": {}
      },
      "source": [
        "obj= 2.2\n",
        "repr(obj)"
      ],
      "execution_count": 0,
      "outputs": []
    },
    {
      "cell_type": "code",
      "metadata": {
        "id": "dJtrBsD8NyNr",
        "colab_type": "code",
        "colab": {}
      },
      "source": [
        "var = 'foo'\n",
        "\n",
        "print(repr(var))"
      ],
      "execution_count": 0,
      "outputs": []
    },
    {
      "cell_type": "code",
      "metadata": {
        "id": "21f8b5I-N2dg",
        "colab_type": "code",
        "colab": {}
      },
      "source": [
        "class Person:\n",
        "    name = 'Adam'\n",
        "\n",
        "    def __repr__(self):\n",
        "        return repr('Hello ' + self.name )\n",
        "\n",
        "print(repr(Person()))"
      ],
      "execution_count": 0,
      "outputs": []
    },
    {
      "cell_type": "code",
      "metadata": {
        "id": "5qUvjXPpOCG5",
        "colab_type": "code",
        "colab": {}
      },
      "source": [
        "# for string\n",
        "seq_string = 'Python'\n",
        "print(list(reversed(seq_string)))\n",
        "\n",
        "# for tuple\n",
        "seq_tuple = ('P', 'y', 't', 'h', 'o', 'n')\n",
        "print(list(reversed(seq_tuple)))\n",
        "\n",
        "# for range\n",
        "seq_range = range(5, 9)\n",
        "print(list(reversed(seq_range)))\n",
        "\n",
        "# for list\n",
        "seq_list = [1, 2, 4, 3, 5]\n",
        "print(list(reversed(seq_list)))"
      ],
      "execution_count": 0,
      "outputs": []
    },
    {
      "cell_type": "code",
      "metadata": {
        "id": "Ch6rrtWKOKRv",
        "colab_type": "code",
        "colab": {}
      },
      "source": [
        "class Vowels:\n",
        "    vowels = ['a', 'e', 'i', 'o', 'u']\n",
        "\n",
        "    def __reversed__(self):\n",
        "        return reversed(self.vowels)\n",
        "\n",
        "v = Vowels()\n",
        "print(list(reversed(v)))"
      ],
      "execution_count": 0,
      "outputs": []
    },
    {
      "cell_type": "code",
      "metadata": {
        "id": "BprJOgpCvSTX",
        "colab_type": "code",
        "colab": {}
      },
      "source": [
        "# for integers\n",
        "print(round(10))\n",
        "\n",
        "# for floating point\n",
        "print(round(10.7))\n",
        "\n",
        "# even choice\n",
        "print(round(5.5))"
      ],
      "execution_count": 0,
      "outputs": []
    },
    {
      "cell_type": "code",
      "metadata": {
        "id": "c-jX1NkevYeF",
        "colab_type": "code",
        "colab": {}
      },
      "source": [
        "print(round(2.665, 2))\n",
        "print(round(2.675, 2))"
      ],
      "execution_count": 0,
      "outputs": []
    },
    {
      "cell_type": "code",
      "metadata": {
        "id": "Yjnb8nGTvo_L",
        "colab_type": "code",
        "colab": {}
      },
      "source": [
        "class Person:\n",
        "    name = 'Adam'\n",
        "    \n",
        "p = Person()\n",
        "print('Before modification:', p.name)\n",
        "\n",
        "# setting name to 'John'\n",
        "setattr(p, 'name', 'John')\n",
        "\n",
        "print('After modification:', p.name)"
      ],
      "execution_count": 0,
      "outputs": []
    },
    {
      "cell_type": "code",
      "metadata": {
        "id": "h-HBtBcTvvXM",
        "colab_type": "code",
        "colab": {}
      },
      "source": [
        "class Person:\n",
        "    name = 'Adam'\n",
        "    \n",
        "p = Person()\n",
        "\n",
        "# setting attribute name to John\n",
        "setattr(p, 'name', 'John')\n",
        "print('Name is:', p.name)\n",
        "\n",
        "# setting an attribute not present in Person\n",
        "setattr(p, 'age', 23)\n",
        "print('Age is:', p.age)"
      ],
      "execution_count": 0,
      "outputs": []
    },
    {
      "cell_type": "code",
      "metadata": {
        "id": "wq3olAUzwCao",
        "colab_type": "code",
        "colab": {}
      },
      "source": [
        "result1 = slice(3)\n",
        "print(result1)\n",
        "\n",
        "# contains indices (1, 3)\n",
        "result2 = slice(1, 5, 2)\n",
        "print(slice(1, 5, 2))"
      ],
      "execution_count": 0,
      "outputs": []
    },
    {
      "cell_type": "code",
      "metadata": {
        "id": "ryrnIqPFwTcu",
        "colab_type": "code",
        "colab": {}
      },
      "source": [
        "# Program to get a substring from the given string \n",
        "\n",
        "py_string = 'Python'\n",
        "\n",
        "# stop = 3\n",
        "# contains 0, 1 and 2 indices\n",
        "slice_object = slice(3) \n",
        "print(py_string[slice_object])  # Pyt\n",
        "\n",
        "# start = 1, stop = 6, step = 2\n",
        "# contains 1, 3 and 5 indices\n",
        "slice_object = slice(1, 6, 2)\n",
        "print(py_string[slice_object])"
      ],
      "execution_count": 0,
      "outputs": []
    },
    {
      "cell_type": "code",
      "metadata": {
        "id": "GaSiv4luwcr4",
        "colab_type": "code",
        "colab": {}
      },
      "source": [
        "py_string = 'Python'\n",
        "\n",
        "# start = -1, stop = -4, step = -1\n",
        "# contains indices -1, -2 and -3\n",
        "slice_object = slice(-1, -4, -1)\n",
        "\n",
        "print(py_string[slice_object])   # noh"
      ],
      "execution_count": 0,
      "outputs": []
    },
    {
      "cell_type": "code",
      "metadata": {
        "id": "ik48WFoewkoM",
        "colab_type": "code",
        "colab": {}
      },
      "source": [
        "py_list = ['P', 'y', 't', 'h', 'o', 'n']\n",
        "py_tuple = ('P', 'y', 't', 'h', 'o', 'n')\n",
        "\n",
        "# contains indices 0, 1 and 2\n",
        "slice_object = slice(3)\n",
        "print(py_list[slice_object]) # ['P', 'y', 't']\n",
        "\n",
        "# contains indices 1 and 3\n",
        "slice_object = slice(1, 5, 2)\n",
        "print(py_tuple[slice_object]) # ('y', 'h')"
      ],
      "execution_count": 0,
      "outputs": []
    },
    {
      "cell_type": "code",
      "metadata": {
        "id": "T_LUJfBpwu-w",
        "colab_type": "code",
        "colab": {}
      },
      "source": [
        "py_list = ['P', 'y', 't', 'h', 'o', 'n']\n",
        "py_tuple = ('P', 'y', 't', 'h', 'o', 'n')\n",
        "\n",
        "# contains indices -1, -2 and -3\n",
        "slice_object = slice(-1, -4, -1) \n",
        "print(py_list[slice_object])  # ['n', 'o', 'h']\n",
        "\n",
        "# contains indices -1 and -3\n",
        "slice_object = slice(-1, -5, -2)\n",
        "print(py_tuple[slice_object]) # ('n', 'h')"
      ],
      "execution_count": 0,
      "outputs": []
    },
    {
      "cell_type": "code",
      "metadata": {
        "id": "wKSXXTAAw1JP",
        "colab_type": "code",
        "colab": {}
      },
      "source": [
        "py_string = 'Python'\n",
        "\n",
        "# contains indices 0, 1 and 2\n",
        "print(py_string[0:3])  # Pyt\n",
        "\n",
        "# contains indices 1 and 3\n",
        "print(py_string[1:5:2]) # yh"
      ],
      "execution_count": 0,
      "outputs": []
    },
    {
      "cell_type": "code",
      "metadata": {
        "id": "tTfUp8vtxE5h",
        "colab_type": "code",
        "colab": {}
      },
      "source": [
        "# vowels list\n",
        "py_list = ['e', 'a', 'u', 'o', 'i']\n",
        "print(sorted(py_list))\n",
        "\n",
        "# string \n",
        "py_string = 'Python'\n",
        "print(sorted(py_string))\n",
        "\n",
        "# vowels tuple\n",
        "py_tuple = ('e', 'a', 'u', 'o', 'i')\n",
        "print(sorted(py_tuple))"
      ],
      "execution_count": 0,
      "outputs": []
    },
    {
      "cell_type": "code",
      "metadata": {
        "id": "raleqbpMxLOk",
        "colab_type": "code",
        "colab": {}
      },
      "source": [
        "# set\n",
        "py_set = {'e', 'a', 'u', 'o', 'i'}\n",
        "print(sorted(py_set, reverse = True))\n",
        "\n",
        "# dictionary\n",
        "py_dict = {'e': 1, 'a': 2, 'u': 3, 'o': 4, 'i': 5}\n",
        "print(sorted(py_dict, reverse = True))\n",
        "\n",
        "# frozen set\n",
        "frozen_set = frozenset(('e', 'a', 'u', 'o', 'i'))\n",
        "print(sorted(frozen_set, reverse = True))"
      ],
      "execution_count": 0,
      "outputs": []
    },
    {
      "cell_type": "code",
      "metadata": {
        "id": "EbKOm-JBxttV",
        "colab_type": "code",
        "colab": {}
      },
      "source": [
        "# take the second element for sort\n",
        "def take_second(elem):\n",
        "    return elem[1]\n",
        "\n",
        "# random list\n",
        "random = [(2, 2), (3, 4), (4, 1), (1, 3)]\n",
        "\n",
        "# sort list with key\n",
        "sorted_list = sorted(random, key = take_second)\n",
        "\n",
        "# print list\n",
        "print('Sorted list:', sorted_list)"
      ],
      "execution_count": 0,
      "outputs": []
    },
    {
      "cell_type": "code",
      "metadata": {
        "id": "Y-tcpgLyyB7p",
        "colab_type": "code",
        "colab": {}
      },
      "source": [
        "numbers = [2.5, 3, 4, -5]\n",
        "\n",
        "# start parameter is not provided\n",
        "numbers_sum = sum(numbers)\n",
        "print(numbers_sum)\n",
        "\n",
        "# start = 10\n",
        "numbers_sum = sum(numbers, 10)\n",
        "print(numbers_sum)"
      ],
      "execution_count": 0,
      "outputs": []
    },
    {
      "cell_type": "code",
      "metadata": {
        "id": "NmB-j5lfyQqx",
        "colab_type": "code",
        "colab": {}
      },
      "source": [
        "numbers_list = [1, 2]\n",
        "print(type(numbers_list))\n",
        "\n",
        "numbers_dict = {1: 'one', 2: 'two'}\n",
        "print(type(numbers_dict))\n",
        "\n",
        "class Foo:\n",
        "    a = 0\n",
        "\n",
        "foo = Foo()\n",
        "print(type(foo))"
      ],
      "execution_count": 0,
      "outputs": []
    },
    {
      "cell_type": "code",
      "metadata": {
        "id": "Qc7r0yh8ylgc",
        "colab_type": "code",
        "colab": {}
      },
      "source": [
        "o1 = type('X', (object,), dict(a='Foo', b=12))\n",
        "\n",
        "print(type(o1))\n",
        "print(vars(o1))\n",
        "\n",
        "class test:\n",
        "  a = 'Foo'\n",
        "  b = 12\n",
        "  \n",
        "o2 = type('Y', (test,), dict(a='Foo', b=12))\n",
        "print(type(o2))\n",
        "print(vars(o2))"
      ],
      "execution_count": 0,
      "outputs": []
    },
    {
      "cell_type": "code",
      "metadata": {
        "id": "nFpRv6tyzHZi",
        "colab_type": "code",
        "colab": {}
      },
      "source": [
        "class Foo:\n",
        "  def __init__(self, a = 5, b = 10):\n",
        "    self.a = a\n",
        "    self.b = b\n",
        "  \n",
        "object = Foo()\n",
        "print(vars(object))"
      ],
      "execution_count": 0,
      "outputs": []
    },
    {
      "cell_type": "code",
      "metadata": {
        "id": "H2oIXWVdzI5X",
        "colab_type": "code",
        "colab": {}
      },
      "source": [
        "vars(list)\n",
        "vars(dict)\n",
        "vars(str)"
      ],
      "execution_count": 0,
      "outputs": []
    },
    {
      "cell_type": "code",
      "metadata": {
        "id": "OIxZG5DFzX44",
        "colab_type": "code",
        "colab": {}
      },
      "source": [
        "number_list = [1, 2, 3,4]\n",
        "str_list = ['one', 'two', 'three',\"ddd\",\"ddd1\"]\n",
        "\n",
        "# No iterables are passed\n",
        "result = zip()\n",
        "\n",
        "# Converting itertor to list\n",
        "result_list = list(result)\n",
        "print(result_list)\n",
        "\n",
        "# Two iterables are passed\n",
        "result = zip(number_list, str_list)\n",
        "\n",
        "# Converting itertor to set\n",
        "result_set = set(result)\n",
        "print(result_set)"
      ],
      "execution_count": 0,
      "outputs": []
    },
    {
      "cell_type": "code",
      "metadata": {
        "id": "q7Y_Kjmmz1JN",
        "colab_type": "code",
        "colab": {}
      },
      "source": [
        "mathematics = __import__('math', globals(), locals(), [], 0)\n",
        "print(mathematics.fabs(-2.5))"
      ],
      "execution_count": 0,
      "outputs": []
    },
    {
      "cell_type": "code",
      "metadata": {
        "id": "QjpKkrBiz9xh",
        "colab_type": "code",
        "colab": {}
      },
      "source": [
        "class Mammal():\n",
        "  def __init__(self, mammalName):\n",
        "    print(mammalName, 'is a warm-blooded animal.')\n",
        "    \n",
        "class Dog(Mammal):\n",
        "  def __init__(self):\n",
        "    print('Dog has four legs.')\n",
        "    super().__init__('Dog')\n",
        "    \n",
        "d1 = Dog()"
      ],
      "execution_count": 0,
      "outputs": []
    },
    {
      "cell_type": "code",
      "metadata": {
        "id": "XCKO30uo0VmR",
        "colab_type": "code",
        "colab": {}
      },
      "source": [
        "class Animal:\n",
        "  def __init__(self, Animal):\n",
        "    print(Animal, 'is an animal.');\n",
        "\n",
        "class Mammal(Animal):\n",
        "  def __init__(self, mammalName):\n",
        "    print(mammalName, 'is a warm-blooded animal.')\n",
        "    super().__init__(mammalName)\n",
        "    \n",
        "class NonWingedMammal(Mammal):\n",
        "  def __init__(self, NonWingedMammal):\n",
        "    print(NonWingedMammal, \"can't fly.\")\n",
        "    super().__init__(NonWingedMammal)\n",
        "\n",
        "class NonMarineMammal(Mammal):\n",
        "  def __init__(self, NonMarineMammal):\n",
        "    print(NonMarineMammal, \"can't swim.\")\n",
        "    super().__init__(NonMarineMammal)\n",
        "\n",
        "class Dog(NonMarineMammal, NonWingedMammal):\n",
        "  def __init__(self):\n",
        "    print('Dog has 4 legs.');\n",
        "    super().__init__('Dog')\n",
        "    \n",
        "d = Dog()\n",
        "print('')\n",
        "bat = NonMarineMammal('Bat')"
      ],
      "execution_count": 0,
      "outputs": []
    },
    {
      "cell_type": "code",
      "metadata": {
        "id": "TytSwnDO0asD",
        "colab_type": "code",
        "colab": {}
      },
      "source": [
        "Dog.mro()"
      ],
      "execution_count": 0,
      "outputs": []
    }
  ]
}