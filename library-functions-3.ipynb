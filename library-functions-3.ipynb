{
  "nbformat": 4,
  "nbformat_minor": 0,
  "metadata": {
    "colab": {
      "name": "Untitled24.ipynb",
      "provenance": [],
      "authorship_tag": "ABX9TyMlByrg0Joz5D7IR8/fJIsH",
      "include_colab_link": true
    },
    "kernelspec": {
      "name": "python3",
      "display_name": "Python 3"
    }
  },
  "cells": [
    {
      "cell_type": "markdown",
      "metadata": {
        "id": "view-in-github",
        "colab_type": "text"
      },
      "source": [
        "<a href=\"https://colab.research.google.com/github/meghasyam/python/blob/master/library-functions-3.ipynb\" target=\"_parent\"><img src=\"https://colab.research.google.com/assets/colab-badge.svg\" alt=\"Open In Colab\"/></a>"
      ]
    },
    {
      "cell_type": "code",
      "metadata": {
        "id": "RJWptNtgLZum",
        "colab_type": "code",
        "colab": {}
      },
      "source": [
        "def calculateSquare(n):\n",
        "  return n*n\n",
        "\n",
        "numbers = (1, 2, 3, 4)\n",
        "result = map(calculateSquare, numbers)\n",
        "print(result)\n",
        "\n",
        "# converting map object to set\n",
        "numbersSquare = set(result)\n",
        "print(numbersSquare)"
      ],
      "execution_count": 0,
      "outputs": []
    },
    {
      "cell_type": "code",
      "metadata": {
        "id": "Yh4inFfjLpvn",
        "colab_type": "code",
        "colab": {}
      },
      "source": [
        "numbers = (1, 2, 3, 4)\n",
        "result = map(lambda x: x*x, numbers)\n",
        "print(result)\n",
        "\n",
        "# converting map object to set\n",
        "numbersSquare = set(result)\n",
        "print(numbersSquare)"
      ],
      "execution_count": 0,
      "outputs": []
    },
    {
      "cell_type": "code",
      "metadata": {
        "id": "LX8hZgQnLv5W",
        "colab_type": "code",
        "colab": {}
      },
      "source": [
        "num1 = [4, 5, 6]\n",
        "num2 = [5, 6, 7]\n",
        "\n",
        "result = map(lambda n1, n2: n1+n2, num1, num2)\n",
        "print(list(result))"
      ],
      "execution_count": 0,
      "outputs": []
    },
    {
      "cell_type": "code",
      "metadata": {
        "id": "lCLF15ZqMSuc",
        "colab_type": "code",
        "colab": {}
      },
      "source": [
        "random_byte_array = bytearray('ABC', 'utf-8')\n",
        "mv = memoryview(random_byte_array)\n",
        "print(mv[0])\n",
        "print(bytes(mv[0:2]))\n",
        "print(list(mv[0:3]))"
      ],
      "execution_count": 0,
      "outputs": []
    },
    {
      "cell_type": "code",
      "metadata": {
        "id": "HlAATgO2MmbR",
        "colab_type": "code",
        "colab": {}
      },
      "source": [
        "random_byte_array = bytearray('ABC', 'utf-8')\n",
        "print('Before updation:', random_byte_array)\n",
        "\n",
        "mv = memoryview(random_byte_array)\n",
        "\n",
        "mv[1] = 90\n",
        "print('After updation:', random_byte_array)"
      ],
      "execution_count": 0,
      "outputs": []
    },
    {
      "cell_type": "code",
      "metadata": {
        "id": "0Dg1gG2eMto4",
        "colab_type": "code",
        "colab": {}
      },
      "source": [
        "test = object()\n",
        "\n",
        "print(type(test))\n",
        "print(dir(test))"
      ],
      "execution_count": 0,
      "outputs": []
    },
    {
      "cell_type": "code",
      "metadata": {
        "id": "CJiuJekMM6uo",
        "colab_type": "code",
        "colab": {}
      },
      "source": [
        "# decimal to octal\n",
        "print('oct(10) is:', oct(10))\n",
        "\n",
        "# binary to octal\n",
        "print('oct(0b101) is:', oct(0b101))\n",
        "\n",
        "# hexadecimal to octal\n",
        "print('oct(0XA) is:', oct(0XA))"
      ],
      "execution_count": 0,
      "outputs": []
    },
    {
      "cell_type": "code",
      "metadata": {
        "id": "wi7f7IxnNDR3",
        "colab_type": "code",
        "colab": {}
      },
      "source": [
        "class Person:\n",
        "    age = 23\n",
        "\n",
        "    def __index__(self):\n",
        "        return self.age\n",
        "\n",
        "    def __int__(self):\n",
        "        return self.age\n",
        "\n",
        "person = Person()\n",
        "print('The oct is:', oct(person))"
      ],
      "execution_count": 0,
      "outputs": []
    },
    {
      "cell_type": "code",
      "metadata": {
        "id": "YUOvHAV7NQ0W",
        "colab_type": "code",
        "colab": {}
      },
      "source": [
        "print(ord('5'))    # 53\n",
        "print(ord('A'))    # 65\n",
        "print(ord('$'))    # 36"
      ],
      "execution_count": 0,
      "outputs": []
    },
    {
      "cell_type": "code",
      "metadata": {
        "id": "4tJYNNLMNnwm",
        "colab_type": "code",
        "colab": {}
      },
      "source": [
        "obj= 2.2\n",
        "repr(obj)"
      ],
      "execution_count": 0,
      "outputs": []
    },
    {
      "cell_type": "code",
      "metadata": {
        "id": "dJtrBsD8NyNr",
        "colab_type": "code",
        "colab": {}
      },
      "source": [
        "var = 'foo'\n",
        "\n",
        "print(repr(var))"
      ],
      "execution_count": 0,
      "outputs": []
    },
    {
      "cell_type": "code",
      "metadata": {
        "id": "21f8b5I-N2dg",
        "colab_type": "code",
        "colab": {}
      },
      "source": [
        "class Person:\n",
        "    name = 'Adam'\n",
        "\n",
        "    def __repr__(self):\n",
        "        return repr('Hello ' + self.name )\n",
        "\n",
        "print(repr(Person()))"
      ],
      "execution_count": 0,
      "outputs": []
    },
    {
      "cell_type": "code",
      "metadata": {
        "id": "5qUvjXPpOCG5",
        "colab_type": "code",
        "colab": {}
      },
      "source": [
        "# for string\n",
        "seq_string = 'Python'\n",
        "print(list(reversed(seq_string)))\n",
        "\n",
        "# for tuple\n",
        "seq_tuple = ('P', 'y', 't', 'h', 'o', 'n')\n",
        "print(list(reversed(seq_tuple)))\n",
        "\n",
        "# for range\n",
        "seq_range = range(5, 9)\n",
        "print(list(reversed(seq_range)))\n",
        "\n",
        "# for list\n",
        "seq_list = [1, 2, 4, 3, 5]\n",
        "print(list(reversed(seq_list)))"
      ],
      "execution_count": 0,
      "outputs": []
    },
    {
      "cell_type": "code",
      "metadata": {
        "id": "Ch6rrtWKOKRv",
        "colab_type": "code",
        "colab": {
          "base_uri": "https://localhost:8080/",
          "height": 35
        },
        "outputId": "eb72abb6-accc-4293-8034-25c80cd8945e"
      },
      "source": [
        "class Vowels:\n",
        "    vowels = ['a', 'e', 'i', 'o', 'u']\n",
        "\n",
        "    def __reversed__(self):\n",
        "        return reversed(self.vowels)\n",
        "\n",
        "v = Vowels()\n",
        "print(list(reversed(v)))"
      ],
      "execution_count": 17,
      "outputs": [
        {
          "output_type": "stream",
          "text": [
            "['u', 'o', 'i', 'e', 'a']\n"
          ],
          "name": "stdout"
        }
      ]
    }
  ]
}