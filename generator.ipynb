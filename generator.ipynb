{
  "nbformat": 4,
  "nbformat_minor": 0,
  "metadata": {
    "colab": {
      "name": "Untitled9.ipynb",
      "provenance": [],
      "authorship_tag": "ABX9TyPvt6Y4CHJKC7Bxb4byhPE4",
      "include_colab_link": true
    },
    "kernelspec": {
      "name": "python3",
      "display_name": "Python 3"
    }
  },
  "cells": [
    {
      "cell_type": "markdown",
      "metadata": {
        "id": "view-in-github",
        "colab_type": "text"
      },
      "source": [
        "<a href=\"https://colab.research.google.com/github/meghasyam/python/blob/master/generator.ipynb\" target=\"_parent\"><img src=\"https://colab.research.google.com/assets/colab-badge.svg\" alt=\"Open In Colab\"/></a>"
      ]
    },
    {
      "cell_type": "code",
      "metadata": {
        "id": "PTVpUoZd36z0",
        "colab_type": "code",
        "colab": {}
      },
      "source": [
        "def rev_str(my_str):\n",
        "    length = len(my_str)\n",
        "    for i in range(length - 1,-1,-1): \n",
        "        yield my_str[i]\n",
        "\n",
        "str = \"hello\"\n",
        "x=iter(str)\n",
        "\n",
        "print(next(x))\n",
        "print(next(x))\n",
        "\n",
        "for char in rev_str(\"hello\"):\n",
        "     print(char)"
      ],
      "execution_count": 0,
      "outputs": []
    },
    {
      "cell_type": "code",
      "metadata": {
        "id": "1jBAluxBDLPy",
        "colab_type": "code",
        "colab": {}
      },
      "source": [
        "def fibonacci_numbers(nums):\n",
        "    x, y = 0, 1\n",
        "    for _ in range(nums):\n",
        "        #print(_)\n",
        "        x, y = y, x+y\n",
        "        yield x\n",
        "\n",
        "def square(nums):\n",
        "    for num in nums:\n",
        "        yield num**2\n",
        "\n",
        "print(sum(square(fibonacci_numbers(10))))"
      ],
      "execution_count": 0,
      "outputs": []
    },
    {
      "cell_type": "code",
      "metadata": {
        "id": "Pyf2ugFzWcLo",
        "colab_type": "code",
        "colab": {}
      },
      "source": [
        "# A simple generator function\n",
        "def my_gen():\n",
        "    n = 1\n",
        "    print('This is printed first')\n",
        "    # Generator function contains yield statements\n",
        "    yield n\n",
        "\n",
        "    n += 1\n",
        "    print('This is printed second')\n",
        "    yield n\n",
        "\n",
        "    n += 1\n",
        "    print('This is printed at last')\n",
        "    yield n"
      ],
      "execution_count": 0,
      "outputs": []
    },
    {
      "cell_type": "code",
      "metadata": {
        "id": "OClsRYmO2LMr",
        "colab_type": "code",
        "colab": {}
      },
      "source": [
        "def my_gen():\n",
        "    n = 1\n",
        "    print('This is printed first')\n",
        "    # Generator function contains yield statements\n",
        "    yield n #1\n",
        "\n",
        "    n += 1\n",
        "    print('This is printed second')\n",
        "    yield n #2\n",
        "\n",
        "    n += 1\n",
        "    print('Thi s is printed at last')\n",
        "    yield n #3\n",
        "\n",
        "a = my_gen()\n",
        "print(a)\n",
        "x=next(a) #1\n",
        "print(x)\n",
        "next(a) #2\n",
        "next(a) #3\n",
        "#next(a)\n",
        "#next(a)\n"
      ],
      "execution_count": 0,
      "outputs": []
    },
    {
      "cell_type": "code",
      "metadata": {
        "id": "k-g3JHyfW-uC",
        "colab_type": "code",
        "colab": {}
      },
      "source": [
        "# Initialize the list\n",
        "my_list = [1, 3, 6, 10]\n",
        "my_list1 = [x**2 for x in my_list]  #list comphrenesion\n",
        "print(my_list1)\n",
        "\n",
        "a =(x**2 for x in my_list) #generator  comphrenesion\n",
        "\n",
        "def gen():\n",
        "  my_list = [1, 3, 6, 10]\n",
        "  for i in my_list:\n",
        "    yield i**2\n",
        "\n",
        "a1 = gen()\n",
        "\n",
        "try:\n",
        "  while True:\n",
        "    print(next(a1))\n",
        "except:\n",
        "  pass\n",
        "\n",
        "\n",
        "try:\n",
        "  while True:\n",
        "    print(next(a))\n",
        "except:\n",
        "  pass\n",
        "\n",
        "# for i in a:\n",
        "#   print(i)"
      ],
      "execution_count": 0,
      "outputs": []
    },
    {
      "cell_type": "code",
      "metadata": {
        "id": "PCNkGYdhCtQ_",
        "colab_type": "code",
        "colab": {}
      },
      "source": [
        "def PowTwoGen(max=0):\n",
        "    n = 0\n",
        "    while n < max:\n",
        "        yield 2 ** n\n",
        "        print(\"starting from here.....\")\n",
        "        n += 1\n",
        "\n",
        "a = PowTwoGen(4)\n",
        "\n",
        "try:\n",
        "  while True:\n",
        "    print(next(a))\n",
        "except:\n",
        "  pass"
      ],
      "execution_count": 0,
      "outputs": []
    },
    {
      "cell_type": "code",
      "metadata": {
        "id": "IiTfaeOFOvln",
        "colab_type": "code",
        "colab": {}
      },
      "source": [
        "%%writefile py08-01.txt\n",
        "\n",
        "# Excluded because a comment.\n",
        "# This is also a comment, and the next two lines are blank.\n",
        "\n",
        "\n",
        "This line should be the first of four lines in the output.\n",
        "# The next line contains spaces and tabs, and should not appear.\n",
        "    \n",
        "And this should be the second.\n",
        "\n",
        "        # This should not appear (leading spaces but a comment).\n",
        "# Neither should this (leading tabs but a comment).\n",
        "        This should be the third line of output.\n",
        "\n",
        "And this should be the last.  "
      ],
      "execution_count": 0,
      "outputs": []
    },
    {
      "cell_type": "code",
      "metadata": {
        "id": "-rzGSVzOPkl3",
        "colab_type": "code",
        "colab": {}
      },
      "source": [
        "\"\"\"\n",
        "Filter file contents using a sequence of generators.\n",
        "\"\"\"\n",
        "def nocomment(f):\n",
        "    \"Generate the non-comment lines of a file.\"\n",
        "    for line in f:\n",
        "        if not line.startswith(\"#\"):\n",
        "            yield line\n",
        "\n",
        "def nospaces(f):\n",
        "    \"Generate the lines of a file without leading or trailing spaces.\"\n",
        "    for line in f:\n",
        "        yield line.strip()\n",
        "\n",
        "def noblanks(f):\n",
        "    \"Generate the non-blank lines of a file.\"\n",
        "    for line in f:\n",
        "        if line:\n",
        "            yield line\n",
        "\n",
        "if __name__ == \"__main__\":\n",
        "    for line in nocomment(noblanks(nospaces(open(\"py08-01.txt\")))):\n",
        "        print(line)"
      ],
      "execution_count": 0,
      "outputs": []
    },
    {
      "cell_type": "code",
      "metadata": {
        "id": "E8x3ONdcRbni",
        "colab_type": "code",
        "colab": {}
      },
      "source": [
        "\"\"\"\n",
        "Demonstrate simple use of itertools.tee.\n",
        "\"\"\"\n",
        "import itertools\n",
        "\n",
        "actions = \"save\", \"delete\"\n",
        "data = [\"file1.py\", \"file2.py\", \"save\", \"file3.py\", \"file4.py\",\n",
        "        \"delete\", \"file5.py\", \"save\", \"file6.py\",\n",
        "        \"file7.py\", \"file8.py\", \"file9.py\", \"save\"]\n",
        "saved = []\n",
        "deleted = []\n",
        "\n",
        "def datagen(d):\n",
        "    \"A 'toy' data generator using static data\"\n",
        "    for item in d:\n",
        "        yield item\n",
        "\n",
        "commands, files = itertools.tee(datagen(data))\n",
        "print(commands)\n",
        "print(files)\n",
        "for action in commands:\n",
        "    if action in actions:\n",
        "        for file in files:\n",
        "            if file == action:\n",
        "                break\n",
        "            if action == \"save\":\n",
        "                saved.append(file)\n",
        "            elif action == \"delete\":\n",
        "                deleted.append(file)\n",
        "print(\"Saved:\", \", \".join(saved))\n",
        "print(\"Deleted:\", \", \".join(deleted))"
      ],
      "execution_count": 0,
      "outputs": []
    },
    {
      "cell_type": "code",
      "metadata": {
        "id": "C16V75OdSzu4",
        "colab_type": "code",
        "colab": {}
      },
      "source": [
        ">>> import itertools\n",
        ">>> s1 = (1, 3, 5, 7, 11)\n",
        ">>> s2 = ['one', 'two', 'three', 'four']\n",
        ">>> def sqq(n):\n",
        "...     for i in range(n): \n",
        "...         yield i*i\n",
        "... \n",
        ">>> s3 = sqq(10)\n",
        ">>> \n",
        ">>> input = itertools.chain(s1, s2, s3)\n",
        "print(dir(input))\n",
        "print(list(itertools.islice(input, 2, 7, 2)))\n",
        "print(list(itertools.islice(input, 3)))"
      ],
      "execution_count": 0,
      "outputs": []
    },
    {
      "cell_type": "code",
      "metadata": {
        "id": "WFlHLkb2TmzG",
        "colab_type": "code",
        "colab": {}
      },
      "source": [
        ">>> from random import random\n",
        ">>> from timeit import timeit\n",
        ">>> for i in (10000, 100000, 1000000, 10000000, 20000000, 50000000):\n",
        "...     lst = [random() for j in range(i)]\n",
        "...     print(\"Length\", i)\n",
        "...     print(timeit(\"sum(x+1 for x in lst)\", \"from __main__ import lst\", number=1))\n",
        "...     print(timeit(\"sum([x+1 for x in lst])\", \"from __main__ import lst\", number=1))"
      ],
      "execution_count": 0,
      "outputs": []
    },
    {
      "cell_type": "code",
      "metadata": {
        "id": "0weRnCLQ4jGu",
        "colab_type": "code",
        "colab": {}
      },
      "source": [
        "# Initialize the list\n",
        "my_list = [1, 3, 6, 10]\n",
        "\n",
        "# square each term using list comprehension\n",
        "# Output: [1, 9, 36, 100]\n",
        "l2 = [x**2 for x in my_list]\n",
        "print(l2)\n",
        "\n",
        "l2=[]\n",
        "for x in my_list:\n",
        "  x=x**2\n",
        "  l2.append(x)\n",
        "\n",
        "a = (x**2 for x in my_list)\n",
        "print(a)\n",
        "\n",
        "print(next(a))\n",
        "print(next(a))\n",
        "print(next(a))\n",
        "print(next(a))"
      ],
      "execution_count": 0,
      "outputs": []
    },
    {
      "cell_type": "code",
      "metadata": {
        "id": "5nJX5Y1n7zpK",
        "colab_type": "code",
        "colab": {}
      },
      "source": [
        "def all_even():\n",
        "    n = 0\n",
        "    while True:\n",
        "        yield n\n",
        "        n += 2\n",
        "\n",
        "genObj= all_even()\n",
        "\n",
        "print(next(genObj))"
      ],
      "execution_count": 0,
      "outputs": []
    }
  ]
}