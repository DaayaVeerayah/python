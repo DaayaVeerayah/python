{
  "nbformat": 4,
  "nbformat_minor": 0,
  "metadata": {
    "colab": {
      "name": "Untitled15.ipynb",
      "provenance": [],
      "authorship_tag": "ABX9TyOrX02MdYnP4whsrnfgTmuN",
      "include_colab_link": true
    },
    "kernelspec": {
      "name": "python3",
      "display_name": "Python 3"
    }
  },
  "cells": [
    {
      "cell_type": "markdown",
      "metadata": {
        "id": "view-in-github",
        "colab_type": "text"
      },
      "source": [
        "<a href=\"https://colab.research.google.com/github/meghasyam/python/blob/master/basics.ipynb\" target=\"_parent\"><img src=\"https://colab.research.google.com/assets/colab-badge.svg\" alt=\"Open In Colab\"/></a>"
      ]
    },
    {
      "cell_type": "markdown",
      "metadata": {
        "id": "i9jMJaFhOffO",
        "colab_type": "text"
      },
      "source": [
        "\tMulti-paradigm: functional, imperative, object-oriented, structured, reflective\n",
        "  https://en.wikipedia.org/wiki/Python_(programming_language)"
      ]
    },
    {
      "cell_type": "markdown",
      "metadata": {
        "id": "MZE8-p5lOyW6",
        "colab_type": "text"
      },
      "source": [
        "**Installing python**\n",
        "\n",
        " 1. python distributions (https://www.python.org/downloads/)\n",
        "\n",
        " 2. anacond disributions (https://www.anaconda.com/distribution/#download-section)\n",
        " \n",
        " 3. online jyputer notebook (https://colab.research.google.com/)\n",
        "\n",
        "**IDE / Editor** \n",
        "\n",
        "1. pycharm\n",
        " https://www.jetbrains.com/pycharm/download/download-thanks.html?platform=windows&code=PCC\n",
        "\n",
        "2. Visual studio Code\n",
        "\n"
      ]
    },
    {
      "cell_type": "code",
      "metadata": {
        "id": "b4Vhlne6MtLv",
        "colab_type": "code",
        "colab": {}
      },
      "source": [
        "a = \"Welcome to Python\"  #int a , \n",
        "b = 23\n",
        "c = 24.3\n",
        "d = 'c'\n",
        "\n",
        "print (a)"
      ],
      "execution_count": 0,
      "outputs": []
    },
    {
      "cell_type": "markdown",
      "metadata": {
        "id": "Jwd8Et4GNT0t",
        "colab_type": "text"
      },
      "source": [
        "python is dynamic typing , you dont need to specify the type. it will find by itself"
      ]
    },
    {
      "cell_type": "code",
      "metadata": {
        "id": "VzoafuMlNSvT",
        "colab_type": "code",
        "colab": {}
      },
      "source": [
        "print(type(a),type(b),type(c))"
      ],
      "execution_count": 0,
      "outputs": []
    },
    {
      "cell_type": "markdown",
      "metadata": {
        "id": "YYLtZTWiQxOf",
        "colab_type": "text"
      },
      "source": [
        "**KEYWORDS**\n",
        "\n",
        "False\tawait\telse\timport\tpass\n",
        "None\tbreak\texcept\tin\traise\n",
        "True\tclass\tfinally\tis\treturn\n",
        "and\tcontinue\tfor\tlambda\ttry\n",
        "as\tdef\tfrom\tnonlocal\twhile\n",
        "assert\tdel\tglobal\tnot\twith\n",
        "async\telif\tif\tor\tyield"
      ]
    },
    {
      "cell_type": "markdown",
      "metadata": {
        "id": "n9kQl0AXQ2Zy",
        "colab_type": "text"
      },
      "source": [
        "**Identifiers**\n",
        "\n",
        "a-z,0-9 ,and underscore_\n"
      ]
    },
    {
      "cell_type": "code",
      "metadata": {
        "id": "yabs0lYwREjs",
        "colab_type": "code",
        "colab": {}
      },
      "source": [
        "#1bbbc = \"new progres\"  identifiers can not start with numbers\n",
        "abab1 = \"new progress\""
      ],
      "execution_count": 0,
      "outputs": []
    },
    {
      "cell_type": "code",
      "metadata": {
        "id": "mrFoQSFTRVoi",
        "colab_type": "code",
        "colab": {}
      },
      "source": [
        "# if = 1  keywords can not be used for identifiers"
      ],
      "execution_count": 0,
      "outputs": []
    },
    {
      "cell_type": "markdown",
      "metadata": {
        "id": "5rTeU8eZRuPg",
        "colab_type": "text"
      },
      "source": [
        "**Statements**"
      ]
    },
    {
      "cell_type": "code",
      "metadata": {
        "id": "PyhXO5HCRxMk",
        "colab_type": "code",
        "colab": {}
      },
      "source": [
        "a = 1 #single\n",
        "\n",
        "a = 1 +1 \\\n",
        "\n",
        "# multi\n",
        "#2\n",
        "\n",
        "a = [2,  #multi\n",
        "     3,\n",
        "     4]\n"
      ],
      "execution_count": 0,
      "outputs": []
    },
    {
      "cell_type": "markdown",
      "metadata": {
        "id": "s8gdq3joSlt6",
        "colab_type": "text"
      },
      "source": [
        "**Identations**\n",
        "\n",
        "each block seperated by indentations\n"
      ]
    },
    {
      "cell_type": "code",
      "metadata": {
        "id": "Ach6hYvMSk8i",
        "colab_type": "code",
        "colab": {}
      },
      "source": [
        "for i in range(10):\n",
        "  print(i)"
      ],
      "execution_count": 0,
      "outputs": []
    },
    {
      "cell_type": "markdown",
      "metadata": {
        "id": "WA0ugLXvS99p",
        "colab_type": "text"
      },
      "source": [
        "**comments**"
      ]
    },
    {
      "cell_type": "code",
      "metadata": {
        "id": "o3Uv9m-mS_7m",
        "colab_type": "code",
        "colab": {
          "base_uri": "https://localhost:8080/",
          "height": 35
        },
        "outputId": "9ce023dc-3d4f-4d16-ecc4-49390626871d"
      },
      "source": [
        "# single line comments\n",
        "\"\"\" \n",
        "this is multi line commments\n",
        "\"\"\""
      ],
      "execution_count": 25,
      "outputs": [
        {
          "output_type": "execute_result",
          "data": {
            "text/plain": [
              "' \\nthis is multi line commments\\n'"
            ]
          },
          "metadata": {
            "tags": []
          },
          "execution_count": 25
        }
      ]
    },
    {
      "cell_type": "code",
      "metadata": {
        "id": "IELGlQzwTU-Z",
        "colab_type": "code",
        "colab": {
          "base_uri": "https://localhost:8080/",
          "height": 35
        },
        "outputId": "6f78bde0-602f-4e23-a5bd-9c9d0d06fb39"
      },
      "source": [
        "def double(num):\n",
        "    \"\"\"Function to double the value\"\"\"\n",
        "    return 2*num\n",
        "\n",
        "double(3)\n",
        "print(double.__doc__)"
      ],
      "execution_count": 28,
      "outputs": [
        {
          "output_type": "stream",
          "text": [
            "Function to double the value\n"
          ],
          "name": "stdout"
        }
      ]
    }
  ]
}