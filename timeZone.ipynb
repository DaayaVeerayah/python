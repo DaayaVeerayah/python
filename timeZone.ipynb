{
  "nbformat": 4,
  "nbformat_minor": 0,
  "metadata": {
    "colab": {
      "name": "Untitled21.ipynb",
      "provenance": [],
      "authorship_tag": "ABX9TyO3n5vswUKUDnOGSeRB0IAX",
      "include_colab_link": true
    },
    "kernelspec": {
      "name": "python3",
      "display_name": "Python 3"
    }
  },
  "cells": [
    {
      "cell_type": "markdown",
      "metadata": {
        "id": "view-in-github",
        "colab_type": "text"
      },
      "source": [
        "<a href=\"https://colab.research.google.com/github/meghasyam/python/blob/master/timeZone.ipynb\" target=\"_parent\"><img src=\"https://colab.research.google.com/assets/colab-badge.svg\" alt=\"Open In Colab\"/></a>"
      ]
    },
    {
      "cell_type": "code",
      "metadata": {
        "id": "KQ7Ntym5_pTx",
        "colab_type": "code",
        "colab": {}
      },
      "source": [
        "import datetime\n",
        "\n",
        "datetime_object = datetime.datetime.now()\n",
        "print(datetime_object)"
      ],
      "execution_count": 0,
      "outputs": []
    },
    {
      "cell_type": "code",
      "metadata": {
        "id": "Qr_K-ES5laEG",
        "colab_type": "code",
        "colab": {
          "base_uri": "https://localhost:8080/",
          "height": 35
        },
        "outputId": "cec62505-3cac-4941-ac5a-fbd5a5e25db2"
      },
      "source": [
        "def fun():\n",
        "  pass\n",
        "\n",
        "print(type(fun))  "
      ],
      "execution_count": 1,
      "outputs": [
        {
          "output_type": "stream",
          "text": [
            "<class 'function'>\n"
          ],
          "name": "stdout"
        }
      ]
    },
    {
      "cell_type": "code",
      "metadata": {
        "id": "p7tyaiN_ARXi",
        "colab_type": "code",
        "colab": {}
      },
      "source": [
        "\n",
        "import datetime\n",
        "\n",
        "date_object = datetime.date.today()\n",
        "print(date_object)"
      ],
      "execution_count": 0,
      "outputs": []
    },
    {
      "cell_type": "code",
      "metadata": {
        "id": "yrqHfB_oAZA_",
        "colab_type": "code",
        "colab": {}
      },
      "source": [
        "import datetime\n",
        "\n",
        "print(dir(datetime))\n"
      ],
      "execution_count": 0,
      "outputs": []
    },
    {
      "cell_type": "code",
      "metadata": {
        "id": "eXh5dtWEAmxa",
        "colab_type": "code",
        "colab": {}
      },
      "source": [
        "import datetime\n",
        "\n",
        "d = datetime.date(2019, 4, 13)\n",
        "print(d)"
      ],
      "execution_count": 0,
      "outputs": []
    },
    {
      "cell_type": "code",
      "metadata": {
        "id": "XngW_fEfA9Yr",
        "colab_type": "code",
        "colab": {}
      },
      "source": [
        "\n",
        "from datetime import date\n",
        "\n",
        "today = date.today()\n",
        "\n",
        "print(\"Current date =\", today)"
      ],
      "execution_count": 0,
      "outputs": []
    },
    {
      "cell_type": "code",
      "metadata": {
        "id": "JPaq1MZKAq65",
        "colab_type": "code",
        "colab": {}
      },
      "source": [
        "from datetime import date\n",
        "\n",
        "a = date(2019, 4, 13)\n",
        "print(a)"
      ],
      "execution_count": 0,
      "outputs": []
    },
    {
      "cell_type": "code",
      "metadata": {
        "id": "ViEjtjsnBjZb",
        "colab_type": "code",
        "colab": {}
      },
      "source": [
        "from datetime import date\n",
        "\n",
        "timestamp = date.fromtimestamp(1326244364)\n",
        "print(\"Date =\", timestamp)"
      ],
      "execution_count": 0,
      "outputs": []
    },
    {
      "cell_type": "code",
      "metadata": {
        "id": "EOxr-7IIBz-k",
        "colab_type": "code",
        "colab": {}
      },
      "source": [
        "from datetime import date\n",
        "\n",
        "# date object of today's date\n",
        "today = date.today() \n",
        "\n",
        "print(\"Current year:\", today.year)\n",
        "print(\"Current month:\", today.month)\n",
        "print(\"Current day:\", today.day)"
      ],
      "execution_count": 0,
      "outputs": []
    },
    {
      "cell_type": "code",
      "metadata": {
        "id": "Ikn2gxfWCCes",
        "colab_type": "code",
        "colab": {}
      },
      "source": [
        "from datetime import time\n",
        "\n",
        "# time(hour = 0, minute = 0, second = 0)\n",
        "a = time()\n",
        "print(\"a =\", a)\n",
        "\n",
        "# time(hour, minute and second)\n",
        "b = time(11, 34, 56)\n",
        "print(\"b =\", b)\n",
        "\n",
        "# time(hour, minute and second)\n",
        "c = time(hour = 11, minute = 34, second = 56)\n",
        "print(\"c =\", c)\n",
        "\n",
        "# time(hour, minute, second, microsecond)\n",
        "d = time(11, 34, 56, 234566)\n",
        "print(\"d =\", d)"
      ],
      "execution_count": 0,
      "outputs": []
    },
    {
      "cell_type": "code",
      "metadata": {
        "id": "79fYMqU1CQA8",
        "colab_type": "code",
        "colab": {}
      },
      "source": [
        "from datetime import datetime\n",
        "\n",
        "#datetime(year, month, day)\n",
        "a = datetime(2018, 11, 28)\n",
        "print(a)\n",
        "\n",
        "# datetime(year, month, day, hour, minute, second, microsecond)\n",
        "b = datetime(2017, 11, 28, 23, 55, 59, 342380)\n",
        "print(b)"
      ],
      "execution_count": 0,
      "outputs": []
    },
    {
      "cell_type": "code",
      "metadata": {
        "id": "ybhD0QpyCaF1",
        "colab_type": "code",
        "colab": {}
      },
      "source": [
        "\n",
        "from datetime import datetime\n",
        "\n",
        "a = datetime(2017, 11, 28, 23, 55, 59, 342380)\n",
        "print(\"year =\", a.year)\n",
        "print(\"month =\", a.month)\n",
        "print(\"hour =\", a.hour)\n",
        "print(\"minute =\", a.minute)\n",
        "print(\"timestamp =\", a.timestamp())"
      ],
      "execution_count": 0,
      "outputs": []
    },
    {
      "cell_type": "code",
      "metadata": {
        "id": "4rMEJSYVHOPk",
        "colab_type": "code",
        "colab": {}
      },
      "source": [
        "from datetime import datetime\n",
        "\n",
        "datetime = datetime.now()\n",
        "\n",
        "print (\"timestamp =\", datetime.timestamp())\n"
      ],
      "execution_count": 0,
      "outputs": []
    },
    {
      "cell_type": "code",
      "metadata": {
        "id": "trYRldWPCsL7",
        "colab_type": "code",
        "colab": {}
      },
      "source": [
        "from datetime import datetime, date\n",
        "\n",
        "t1 = date(year = 2018, month = 7, day = 12)\n",
        "t2 = date(year = 2017, month = 12, day = 23)\n",
        "t3 = t1 - t2\n",
        "print(\"t3 =\", t3)\n",
        "\n",
        "t4 = datetime(year = 2018, month = 7, day = 12, hour = 7, minute = 9, second = 33)\n",
        "t5 = datetime(year = 2019, month = 6, day = 10, hour = 5, minute = 55, second = 13)\n",
        "t6 = t4 - t5\n",
        "print(\"t6 =\", t6)\n",
        "\n",
        "print(\"type of t3 =\", type(t3)) \n",
        "print(\"type of t6 =\", type(t6)) "
      ],
      "execution_count": 0,
      "outputs": []
    },
    {
      "cell_type": "code",
      "metadata": {
        "id": "A4xrLxcGDEVf",
        "colab_type": "code",
        "colab": {}
      },
      "source": [
        "from datetime import timedelta\n",
        "\n",
        "t1 = timedelta(weeks = 2, days = 5, hours = 1, seconds = 33)\n",
        "t2 = timedelta(days = 4, hours = 11, minutes = 4, seconds = 54)\n",
        "t3 = t1 - t2\n",
        "\n",
        "print(\"t3 =\", t3)"
      ],
      "execution_count": 0,
      "outputs": []
    },
    {
      "cell_type": "code",
      "metadata": {
        "id": "CvvbMj7zDJ33",
        "colab_type": "code",
        "colab": {}
      },
      "source": [
        "\n",
        "from datetime import timedelta\n",
        "\n",
        "t1 = timedelta(seconds = 33)\n",
        "t2 = timedelta(seconds = 54)\n",
        "t3 = t1 - t2\n",
        "\n",
        "print(\"t3 =\", t3)\n",
        "print(\"t3 =\", abs(t3))"
      ],
      "execution_count": 0,
      "outputs": []
    },
    {
      "cell_type": "code",
      "metadata": {
        "id": "BHn5NHvYDrx3",
        "colab_type": "code",
        "colab": {}
      },
      "source": [
        "\n",
        "from datetime import timedelta\n",
        "\n",
        "t = timedelta(days = 5, hours = 1, seconds = 33, microseconds = 233423)\n",
        "print(\"total seconds =\", t.total_seconds())"
      ],
      "execution_count": 0,
      "outputs": []
    },
    {
      "cell_type": "code",
      "metadata": {
        "id": "AqJYaX7tD69X",
        "colab_type": "code",
        "colab": {}
      },
      "source": [
        "from datetime import datetime\n",
        "\n",
        "# current date and time\n",
        "now = datetime.now()\n",
        "\n",
        "t = now.strftime(\"%H:%M:%S\")\n",
        "print(\"time:\", t)\n",
        "\n",
        "s1 = now.strftime(\"%m/%d/%Y, %H:%M:%S\")\n",
        "# mm/dd/YY H:M:S format\n",
        "print(\"s1:\", s1)\n",
        "\n",
        "s2 = now.strftime(\"%d/%m/%Y, %H:%M:%S\")\n",
        "# dd/mm/YY H:M:S format\n",
        "print(\"s2:\", s2)"
      ],
      "execution_count": 0,
      "outputs": []
    },
    {
      "cell_type": "code",
      "metadata": {
        "id": "I3228VRKEWhX",
        "colab_type": "code",
        "colab": {}
      },
      "source": [
        "\n",
        "from datetime import datetime\n",
        "\n",
        "date_string = \"21 June, 2018\"\n",
        "print(\"date_string =\", date_string)\n",
        "\n",
        "date_object = datetime.strptime(date_string, \"%d %B, %Y\")\n",
        "print(\"date_object =\", date_object)"
      ],
      "execution_count": 0,
      "outputs": []
    },
    {
      "cell_type": "code",
      "metadata": {
        "id": "vsmpE7T0EvdK",
        "colab_type": "code",
        "colab": {}
      },
      "source": [
        "from datetime import datetime\n",
        "import pytz\n",
        "\n",
        "local = datetime.now()\n",
        "print(\"Local:\", local.strftime(\"%m/%d/%Y, %H:%M:%S\"))\n",
        "\n",
        "\n",
        "tz_NY = pytz.timezone('America/New_York') \n",
        "datetime_NY = datetime.now(tz_NY)\n",
        "print(\"NY:\", datetime_NY.strftime(\"%m/%d/%Y, %H:%M:%S\"))\n",
        "\n",
        "tz_London = pytz.timezone('Europe/London')\n",
        "datetime_London = datetime.now(tz_London)\n",
        "print(\"London:\", datetime_London.strftime(\"%m/%d/%Y, %H:%M:%S\"))"
      ],
      "execution_count": 0,
      "outputs": []
    },
    {
      "cell_type": "code",
      "metadata": {
        "id": "RvVLjpBCJORR",
        "colab_type": "code",
        "colab": {
          "base_uri": "https://localhost:8080/",
          "height": 104
        },
        "outputId": "67e64e40-64a1-4538-c1c2-51ee388f9b29"
      },
      "source": [
        "from datetime import datetime\n",
        "\n",
        "now = datetime.now() # current date and time\n",
        "\n",
        "year = now.strftime(\"%Y\")\n",
        "print(\"year:\", year)\n",
        "\n",
        "month = now.strftime(\"%m\")\n",
        "print(\"month:\", month)\n",
        "\n",
        "day = now.strftime(\"%d\")\n",
        "print(\"day:\", day)\n",
        "\n",
        "time = now.strftime(\"%H:%M:%S\")\n",
        "print(\"time:\", time)\n",
        "\n",
        "date_time = now.strftime(\"%m/%d/%Y, %H:%M:%S\")\n",
        "print(\"date and time:\",date_time)"
      ],
      "execution_count": 2,
      "outputs": [
        {
          "output_type": "stream",
          "text": [
            "year: 2020\n",
            "month: 04\n",
            "day: 27\n",
            "time: 03:06:27\n",
            "date and time: 04/27/2020, 03:06:27\n"
          ],
          "name": "stdout"
        }
      ]
    },
    {
      "cell_type": "code",
      "metadata": {
        "id": "sHp-ndZ3JXu9",
        "colab_type": "code",
        "colab": {
          "base_uri": "https://localhost:8080/",
          "height": 104
        },
        "outputId": "d050bdee-2530-4e76-8e73-6858405a22da"
      },
      "source": [
        "from datetime import datetime\n",
        "\n",
        "timestamp = 1528797322\n",
        "date_time = datetime.fromtimestamp(timestamp)\n",
        "\n",
        "print(\"Date time object:\", date_time)\n",
        "\n",
        "d = date_time.strftime(\"%m/%d/%Y, %H:%M:%S\")\n",
        "print(\"Output 2:\", d)\t\n",
        "\n",
        "d = date_time.strftime(\"%d %b, %Y\")\n",
        "print(\"Output 3:\", d)\n",
        "\n",
        "d = date_time.strftime(\"%d %B, %Y\")\n",
        "print(\"Output 4:\", d)\n",
        "\n",
        "d = date_time.strftime(\"%I%p\")\n",
        "print(\"Output 5:\", d)"
      ],
      "execution_count": 3,
      "outputs": [
        {
          "output_type": "stream",
          "text": [
            "Date time object: 2018-06-12 09:55:22\n",
            "Output 2: 06/12/2018, 09:55:22\n",
            "Output 3: 12 Jun, 2018\n",
            "Output 4: 12 June, 2018\n",
            "Output 5: 09AM\n"
          ],
          "name": "stdout"
        }
      ]
    },
    {
      "cell_type": "code",
      "metadata": {
        "id": "YCyHXVGZJj8w",
        "colab_type": "code",
        "outputId": "6e4e3209-b772-4642-dc4b-074789d62d5f",
        "colab": {
          "base_uri": "https://localhost:8080/",
          "height": 69
        }
      },
      "source": [
        "\n",
        "from datetime import datetime\n",
        "\n",
        "timestamp = 1528797322\n",
        "date_time = datetime.fromtimestamp(timestamp)\n",
        "\n",
        "d = date_time.strftime(\"%c\")\n",
        "print(\"Output 1:\", d)\t\n",
        "\n",
        "d = date_time.strftime(\"%x\")\n",
        "print(\"Output 2:\", d)\n",
        "\n",
        "d = date_time.strftime(\"%X\")\n",
        "print(\"Output 3:\", d)"
      ],
      "execution_count": 4,
      "outputs": [
        {
          "output_type": "stream",
          "text": [
            "Output 1: Tue Jun 12 09:55:22 2018\n",
            "Output 2: 06/12/18\n",
            "Output 3: 09:55:22\n"
          ],
          "name": "stdout"
        }
      ]
    },
    {
      "cell_type": "code",
      "metadata": {
        "id": "6m9fHQCYJtvh",
        "colab_type": "code",
        "outputId": "db4e20df-2377-4089-8912-bbb891967509",
        "colab": {
          "base_uri": "https://localhost:8080/",
          "height": 87
        }
      },
      "source": [
        "\n",
        "from datetime import datetime\n",
        "\n",
        "date_string = \"21 June, 2018\"\n",
        "\n",
        "print(\"date_string =\", date_string)\n",
        "print(\"type of date_string =\", type(date_string))\n",
        "\n",
        "date_object = datetime.strptime(date_string, \"%d %B, %Y\")\n",
        "\n",
        "print(\"date_object =\", date_object)\n",
        "print(\"type of date_object =\", type(date_object))"
      ],
      "execution_count": 5,
      "outputs": [
        {
          "output_type": "stream",
          "text": [
            "date_string = 21 June, 2018\n",
            "type of date_string = <class 'str'>\n",
            "date_object = 2018-06-21 00:00:00\n",
            "type of date_object = <class 'datetime.datetime'>\n"
          ],
          "name": "stdout"
        }
      ]
    },
    {
      "cell_type": "code",
      "metadata": {
        "id": "XQLTdpNEJ129",
        "colab_type": "code",
        "outputId": "df45436d-bfaf-4506-90a8-331590b1c07f",
        "colab": {
          "base_uri": "https://localhost:8080/",
          "height": 52
        }
      },
      "source": [
        "from datetime import datetime\n",
        "\n",
        "dt_string = \"12/11/2018 09:15:32\"\n",
        "\n",
        "# Considering date is in dd/mm/yyyy format\n",
        "dt_object1 = datetime.strptime(dt_string, \"%d/%m/%Y %H:%M:%S\")\n",
        "print(\"dt_object1 =\", dt_object1)\n",
        "\n",
        "# Considering date is in mm/dd/yyyy format\n",
        "dt_object2 = datetime.strptime(dt_string, \"%m/%d/%Y %H:%M:%S\")\n",
        "print(\"dt_object2 =\", dt_object2)"
      ],
      "execution_count": 6,
      "outputs": [
        {
          "output_type": "stream",
          "text": [
            "dt_object1 = 2018-11-12 09:15:32\n",
            "dt_object2 = 2018-12-11 09:15:32\n"
          ],
          "name": "stdout"
        }
      ]
    },
    {
      "cell_type": "code",
      "metadata": {
        "id": "5EICmtiYJ-hw",
        "colab_type": "code",
        "colab": {}
      },
      "source": [
        "from datetime import datetime\n",
        "date_string = \"12/11/2018\"\n",
        "# date_object = datetime.strptime(date_string, \"%d %m %Y\")\n",
        "# print(\"date_object =\", date_object)\n",
        "\n",
        "\n",
        "try:\n",
        "  date_object = datetime.strptime(date_string, \"%d %m %Y\")\n",
        "  print(\"date_object =\", date_object)\n",
        "except:\n",
        "  pass  "
      ],
      "execution_count": 0,
      "outputs": []
    },
    {
      "cell_type": "code",
      "metadata": {
        "id": "CVqemTHHKfTU",
        "colab_type": "code",
        "outputId": "a66febb7-a443-4c99-aed4-15da814387fa",
        "colab": {
          "base_uri": "https://localhost:8080/",
          "height": 35
        }
      },
      "source": [
        "from datetime import datetime\n",
        "\n",
        "now = datetime.now()\n",
        "\n",
        "current_time = now.strftime(\"%H:%M:%S\")\n",
        "print(\"Current Time =\", current_time)"
      ],
      "execution_count": 0,
      "outputs": [
        {
          "output_type": "stream",
          "text": [
            "Current Time = 12:29:29\n"
          ],
          "name": "stdout"
        }
      ]
    },
    {
      "cell_type": "code",
      "metadata": {
        "id": "knhGpSzvKkKo",
        "colab_type": "code",
        "outputId": "28be60d6-b3f5-4afe-8a3e-22ff2ef1d90b",
        "colab": {
          "base_uri": "https://localhost:8080/",
          "height": 52
        }
      },
      "source": [
        "from datetime import datetime\n",
        "\n",
        "now = datetime.now().time() # time object\n",
        "\n",
        "print(\"now =\", now)\n",
        "print(\"type(now) =\", type(now))\t"
      ],
      "execution_count": 0,
      "outputs": [
        {
          "output_type": "stream",
          "text": [
            "now = 12:29:45.879667\n",
            "type(now) = <class 'datetime.time'>\n"
          ],
          "name": "stdout"
        }
      ]
    },
    {
      "cell_type": "code",
      "metadata": {
        "id": "65Qb2iopKrLU",
        "colab_type": "code",
        "outputId": "5540dbc9-8c8b-45f0-ba23-b1d09ff846fc",
        "colab": {
          "base_uri": "https://localhost:8080/",
          "height": 35
        }
      },
      "source": [
        "import time\n",
        "\n",
        "t = time.localtime()\n",
        "current_time = time.strftime(\"%H:%M:%S\", t)\n",
        "print(current_time)"
      ],
      "execution_count": 14,
      "outputs": [
        {
          "output_type": "stream",
          "text": [
            "03:18:34\n"
          ],
          "name": "stdout"
        }
      ]
    },
    {
      "cell_type": "code",
      "metadata": {
        "id": "-wJeuCeTKzXG",
        "colab_type": "code",
        "outputId": "bee532eb-31d6-4358-eb6b-8d169cd82d95",
        "colab": {
          "base_uri": "https://localhost:8080/",
          "height": 52
        }
      },
      "source": [
        "from datetime import datetime\n",
        "import pytz\n",
        "\n",
        "tz_NY = pytz.timezone('America/New_York') \n",
        "datetime_NY = datetime.now(tz_NY)\n",
        "print(\"NY time:\", datetime_NY.strftime(\"%H:%M:%S\"))\n",
        "\n",
        "tz_London = pytz.timezone('Europe/London')\n",
        "datetime_London = datetime.now(tz_London)\n",
        "print(\"London time:\", datetime_London.strftime(\"%H:%M:%S\"))"
      ],
      "execution_count": 15,
      "outputs": [
        {
          "output_type": "stream",
          "text": [
            "NY time: 23:23:11\n",
            "London time: 04:23:11\n"
          ],
          "name": "stdout"
        }
      ]
    },
    {
      "cell_type": "code",
      "metadata": {
        "id": "5_MJwt4VqbbQ",
        "colab_type": "code",
        "colab": {
          "base_uri": "https://localhost:8080/",
          "height": 52
        },
        "outputId": "f4056b92-f982-4afe-bef8-4e536ea859d0"
      },
      "source": [
        "from datetime import datetime\n",
        "\n",
        "timestamp = 1545730073\n",
        "dt_object = datetime.fromtimestamp(timestamp)\n",
        "\n",
        "print(\"dt_object =\", dt_object)\n",
        "print(\"type(dt_object) =\", type(dt_object))"
      ],
      "execution_count": 16,
      "outputs": [
        {
          "output_type": "stream",
          "text": [
            "dt_object = 2018-12-25 09:27:53\n",
            "type(dt_object) = <class 'datetime.datetime'>\n"
          ],
          "name": "stdout"
        }
      ]
    },
    {
      "cell_type": "code",
      "metadata": {
        "id": "p-JspIVcqh2x",
        "colab_type": "code",
        "colab": {
          "base_uri": "https://localhost:8080/",
          "height": 35
        },
        "outputId": "19c7e0b7-d7d6-47c0-9ab2-0a8878536bb9"
      },
      "source": [
        "from datetime import datetime\n",
        "\n",
        "# current date and time\n",
        "now = datetime.now()\n",
        "\n",
        "timestamp = datetime.timestamp(now)\n",
        "print(\"timestamp =\", timestamp)"
      ],
      "execution_count": 17,
      "outputs": [
        {
          "output_type": "stream",
          "text": [
            "timestamp = 1587957874.54653\n"
          ],
          "name": "stdout"
        }
      ]
    },
    {
      "cell_type": "code",
      "metadata": {
        "id": "D4sW3j6crXhT",
        "colab_type": "code",
        "colab": {
          "base_uri": "https://localhost:8080/",
          "height": 35
        },
        "outputId": "e53a2570-250b-4987-cb8f-0b824a1931e1"
      },
      "source": [
        "import time\n",
        "seconds = time.time()\n",
        "print(\"Seconds since epoch =\", seconds)"
      ],
      "execution_count": 18,
      "outputs": [
        {
          "output_type": "stream",
          "text": [
            "Seconds since epoch = 1587958091.2425218\n"
          ],
          "name": "stdout"
        }
      ]
    },
    {
      "cell_type": "code",
      "metadata": {
        "id": "IxL-gMNbrgXn",
        "colab_type": "code",
        "colab": {
          "base_uri": "https://localhost:8080/",
          "height": 35
        },
        "outputId": "683f5f5e-7330-4e3c-d62e-da79e978910c"
      },
      "source": [
        "import time\n",
        "\n",
        "# seconds passed since epoch\n",
        "seconds = 1545925769.9618232\n",
        "local_time = time.ctime(seconds)\n",
        "print(\"Local time:\", local_time)"
      ],
      "execution_count": 20,
      "outputs": [
        {
          "output_type": "stream",
          "text": [
            "Local time: Thu Dec 27 15:49:29 2018\n"
          ],
          "name": "stdout"
        }
      ]
    },
    {
      "cell_type": "code",
      "metadata": {
        "id": "ii-Pu8jNrzWH",
        "colab_type": "code",
        "colab": {
          "base_uri": "https://localhost:8080/",
          "height": 52
        },
        "outputId": "8c011bf7-d28c-47d2-8d61-b09dc95a6366"
      },
      "source": [
        "import time\n",
        "\n",
        "print(\"This is printed immediately.\")\n",
        "time.sleep(20.4)\n",
        "print(\"This is printed after 2.4 seconds.\")"
      ],
      "execution_count": 22,
      "outputs": [
        {
          "output_type": "stream",
          "text": [
            "This is printed immediately.\n",
            "This is printed after 2.4 seconds.\n"
          ],
          "name": "stdout"
        }
      ]
    },
    {
      "cell_type": "code",
      "metadata": {
        "id": "JRdWzr5MsLYz",
        "colab_type": "code",
        "colab": {
          "base_uri": "https://localhost:8080/",
          "height": 87
        },
        "outputId": "33787f10-c87f-45cb-c5d9-8b3e4af55332"
      },
      "source": [
        "import time\n",
        "\n",
        "result = time.localtime(1545925769)\n",
        "print(\"result:\", result)\n",
        "print(\"\\nyear:\", result.tm_year)\n",
        "print(\"tm_hour:\", result.tm_hour)"
      ],
      "execution_count": 23,
      "outputs": [
        {
          "output_type": "stream",
          "text": [
            "result: time.struct_time(tm_year=2018, tm_mon=12, tm_mday=27, tm_hour=15, tm_min=49, tm_sec=29, tm_wday=3, tm_yday=361, tm_isdst=0)\n",
            "\n",
            "year: 2018\n",
            "tm_hour: 15\n"
          ],
          "name": "stdout"
        }
      ]
    },
    {
      "cell_type": "code",
      "metadata": {
        "id": "80BZ313GtcKG",
        "colab_type": "code",
        "colab": {
          "base_uri": "https://localhost:8080/",
          "height": 87
        },
        "outputId": "84ab55c2-c847-4735-bae8-33cddef528c8"
      },
      "source": [
        "import time\n",
        "\n",
        "result = time.gmtime(1545925769)\n",
        "print(\"result:\", result)\n",
        "print(\"\\nyear:\", result.tm_year)\n",
        "print(\"tm_hour:\", result.tm_hour)"
      ],
      "execution_count": 26,
      "outputs": [
        {
          "output_type": "stream",
          "text": [
            "result: time.struct_time(tm_year=2018, tm_mon=12, tm_mday=27, tm_hour=15, tm_min=49, tm_sec=29, tm_wday=3, tm_yday=361, tm_isdst=0)\n",
            "\n",
            "year: 2018\n",
            "tm_hour: 15\n"
          ],
          "name": "stdout"
        }
      ]
    },
    {
      "cell_type": "code",
      "metadata": {
        "id": "kjhSgjFfuIyo",
        "colab_type": "code",
        "colab": {
          "base_uri": "https://localhost:8080/",
          "height": 87
        },
        "outputId": "53c17527-18ef-4211-84d6-fef118ffa030"
      },
      "source": [
        "import time\n",
        "\n",
        "t = (2018, 9, 28, 8, 44, 4, 4, 362, 1)\n",
        "\n",
        "local_time = time.mktime(t)\n",
        "print(\"Local time:\", local_time)\n",
        "print(\"current time\",datetime.fromtimestamp(local_time))\n",
        "\n",
        "\n",
        "t = (2018, 9, 28, 8, 44, 4, 4, 362, 0)\n",
        "\n",
        "local_time = time.mktime(t)\n",
        "print(\"Local time:\", local_time)\n",
        "print(\"current time\",datetime.fromtimestamp(local_time))"
      ],
      "execution_count": 33,
      "outputs": [
        {
          "output_type": "stream",
          "text": [
            "Local time: 1538124244.0\n",
            "current time 2018-09-28 08:44:04\n",
            "Local time: 1538124244.0\n",
            "current time 2018-09-28 08:44:04\n"
          ],
          "name": "stdout"
        }
      ]
    },
    {
      "cell_type": "code",
      "metadata": {
        "id": "IsVomDHKu85X",
        "colab_type": "code",
        "colab": {
          "base_uri": "https://localhost:8080/",
          "height": 52
        },
        "outputId": "28bd386e-a284-41b3-964d-f3f9a3b9f4b0"
      },
      "source": [
        "import time\n",
        "\n",
        "seconds = 1545925769\n",
        "\n",
        "# returns struct_time\n",
        "t = time.localtime(seconds)\n",
        "print(\"t1: \", t)\n",
        "\n",
        "# returns seconds from struct_time\n",
        "s = time.mktime(t)\n",
        "print(\"\\s:\", seconds)"
      ],
      "execution_count": 37,
      "outputs": [
        {
          "output_type": "stream",
          "text": [
            "t1:  time.struct_time(tm_year=2018, tm_mon=12, tm_mday=27, tm_hour=15, tm_min=49, tm_sec=29, tm_wday=3, tm_yday=361, tm_isdst=0)\n",
            "\\s: 1545925769\n"
          ],
          "name": "stdout"
        }
      ]
    },
    {
      "cell_type": "code",
      "metadata": {
        "id": "KEKXVJZJvjk4",
        "colab_type": "code",
        "colab": {
          "base_uri": "https://localhost:8080/",
          "height": 35
        },
        "outputId": "8f34d832-fa4a-4d39-9e97-ac53d5392ff8"
      },
      "source": [
        "import time\n",
        "\n",
        "t = (2018, 12, 28, 8, 44, 4, 4, 362, 0)\n",
        "\n",
        "result = time.asctime(t)\n",
        "print(\"Result:\", result)"
      ],
      "execution_count": 38,
      "outputs": [
        {
          "output_type": "stream",
          "text": [
            "Result: Fri Dec 28 08:44:04 2018\n"
          ],
          "name": "stdout"
        }
      ]
    },
    {
      "cell_type": "code",
      "metadata": {
        "id": "9HPwEKZnvrY2",
        "colab_type": "code",
        "colab": {
          "base_uri": "https://localhost:8080/",
          "height": 35
        },
        "outputId": "2be16edf-5349-4d94-ec77-f300f4b3a2c3"
      },
      "source": [
        "import time\n",
        "\n",
        "named_tuple = time.localtime() # get struct_time\n",
        "time_string = time.strftime(\"%m/%d/%Y, %H:%M:%S\", named_tuple)\n",
        "\n",
        "print(time_string)"
      ],
      "execution_count": 39,
      "outputs": [
        {
          "output_type": "stream",
          "text": [
            "04/27/2020, 03:46:59\n"
          ],
          "name": "stdout"
        }
      ]
    },
    {
      "cell_type": "code",
      "metadata": {
        "id": "ofuI31XwvwTG",
        "colab_type": "code",
        "colab": {
          "base_uri": "https://localhost:8080/",
          "height": 35
        },
        "outputId": "de6809f1-1deb-4ca7-f7d3-1cae7e4eec2c"
      },
      "source": [
        "import time\n",
        "\n",
        "time_string = \"21 June, 2018\"\n",
        "result = time.strptime(time_string, \"%d %B, %Y\")\n",
        "\n",
        "print(result)"
      ],
      "execution_count": 40,
      "outputs": [
        {
          "output_type": "stream",
          "text": [
            "time.struct_time(tm_year=2018, tm_mon=6, tm_mday=21, tm_hour=0, tm_min=0, tm_sec=0, tm_wday=3, tm_yday=172, tm_isdst=-1)\n"
          ],
          "name": "stdout"
        }
      ]
    },
    {
      "cell_type": "code",
      "metadata": {
        "id": "gKuRnqlqv7yb",
        "colab_type": "code",
        "colab": {
          "base_uri": "https://localhost:8080/",
          "height": 104
        },
        "outputId": "b9aa994f-5dd9-444e-e3e6-c189ca5895ab"
      },
      "source": [
        "import time\n",
        "\n",
        "count = 0\n",
        "while True:\n",
        "  localtime = time.localtime()\n",
        "  result = time.strftime(\"%I:%M:%S %p\", localtime)\n",
        "  print(result)\n",
        "  time.sleep(1)\n",
        "  count+=1\n",
        "  if count == 5:\n",
        "    break"
      ],
      "execution_count": 42,
      "outputs": [
        {
          "output_type": "stream",
          "text": [
            "03:48:40 AM\n",
            "03:48:41 AM\n",
            "03:48:42 AM\n",
            "03:48:43 AM\n",
            "03:48:44 AM\n"
          ],
          "name": "stdout"
        }
      ]
    },
    {
      "cell_type": "code",
      "metadata": {
        "id": "JP0PJslrwTrP",
        "colab_type": "code",
        "colab": {}
      },
      "source": [
        "import time\n",
        "\n",
        "while True:\n",
        "  localtime = time.localtime()\n",
        "  result = time.strftime(\"%I:%M:%S %p\", localtime)\n",
        "  print(result, end=\"\", flush=True)\n",
        "  print(\"\\r\", end=\"\", flush=True)\n",
        "  time.sleep(1)"
      ],
      "execution_count": 0,
      "outputs": []
    }
  ]
}