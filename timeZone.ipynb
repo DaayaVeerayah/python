{
  "nbformat": 4,
  "nbformat_minor": 0,
  "metadata": {
    "colab": {
      "name": "Untitled21.ipynb",
      "provenance": [],
      "authorship_tag": "ABX9TyNJ+fwma1AZwSV5UoBVMpO9",
      "include_colab_link": true
    },
    "kernelspec": {
      "name": "python3",
      "display_name": "Python 3"
    }
  },
  "cells": [
    {
      "cell_type": "markdown",
      "metadata": {
        "id": "view-in-github",
        "colab_type": "text"
      },
      "source": [
        "<a href=\"https://colab.research.google.com/github/meghasyam/python/blob/master/timeZone.ipynb\" target=\"_parent\"><img src=\"https://colab.research.google.com/assets/colab-badge.svg\" alt=\"Open In Colab\"/></a>"
      ]
    },
    {
      "cell_type": "code",
      "metadata": {
        "id": "KQ7Ntym5_pTx",
        "colab_type": "code",
        "colab": {}
      },
      "source": [
        "import datetime\n",
        "\n",
        "datetime_object = datetime.datetime.now()\n",
        "print(datetime_object)"
      ],
      "execution_count": 0,
      "outputs": []
    },
    {
      "cell_type": "code",
      "metadata": {
        "id": "p7tyaiN_ARXi",
        "colab_type": "code",
        "colab": {}
      },
      "source": [
        "\n",
        "import datetime\n",
        "\n",
        "date_object = datetime.date.today()\n",
        "print(date_object)"
      ],
      "execution_count": 0,
      "outputs": []
    },
    {
      "cell_type": "code",
      "metadata": {
        "id": "yrqHfB_oAZA_",
        "colab_type": "code",
        "colab": {}
      },
      "source": [
        "import datetime\n",
        "\n",
        "print(dir(datetime))\n"
      ],
      "execution_count": 0,
      "outputs": []
    },
    {
      "cell_type": "code",
      "metadata": {
        "id": "eXh5dtWEAmxa",
        "colab_type": "code",
        "colab": {}
      },
      "source": [
        "import datetime\n",
        "\n",
        "d = datetime.date(2019, 4, 13)\n",
        "print(d)"
      ],
      "execution_count": 0,
      "outputs": []
    },
    {
      "cell_type": "code",
      "metadata": {
        "id": "XngW_fEfA9Yr",
        "colab_type": "code",
        "colab": {}
      },
      "source": [
        "\n",
        "from datetime import date\n",
        "\n",
        "today = date.today()\n",
        "\n",
        "print(\"Current date =\", today)"
      ],
      "execution_count": 0,
      "outputs": []
    },
    {
      "cell_type": "code",
      "metadata": {
        "id": "JPaq1MZKAq65",
        "colab_type": "code",
        "colab": {}
      },
      "source": [
        "from datetime import date\n",
        "\n",
        "a = date(2019, 4, 13)\n",
        "print(a)"
      ],
      "execution_count": 0,
      "outputs": []
    },
    {
      "cell_type": "code",
      "metadata": {
        "id": "ViEjtjsnBjZb",
        "colab_type": "code",
        "colab": {}
      },
      "source": [
        "from datetime import date\n",
        "\n",
        "timestamp = date.fromtimestamp(1326244364)\n",
        "print(\"Date =\", timestamp)"
      ],
      "execution_count": 0,
      "outputs": []
    },
    {
      "cell_type": "code",
      "metadata": {
        "id": "EOxr-7IIBz-k",
        "colab_type": "code",
        "colab": {}
      },
      "source": [
        "from datetime import date\n",
        "\n",
        "# date object of today's date\n",
        "today = date.today() \n",
        "\n",
        "print(\"Current year:\", today.year)\n",
        "print(\"Current month:\", today.month)\n",
        "print(\"Current day:\", today.day)"
      ],
      "execution_count": 0,
      "outputs": []
    },
    {
      "cell_type": "code",
      "metadata": {
        "id": "Ikn2gxfWCCes",
        "colab_type": "code",
        "colab": {}
      },
      "source": [
        "from datetime import time\n",
        "\n",
        "# time(hour = 0, minute = 0, second = 0)\n",
        "a = time()\n",
        "print(\"a =\", a)\n",
        "\n",
        "# time(hour, minute and second)\n",
        "b = time(11, 34, 56)\n",
        "print(\"b =\", b)\n",
        "\n",
        "# time(hour, minute and second)\n",
        "c = time(hour = 11, minute = 34, second = 56)\n",
        "print(\"c =\", c)\n",
        "\n",
        "# time(hour, minute, second, microsecond)\n",
        "d = time(11, 34, 56, 234566)\n",
        "print(\"d =\", d)"
      ],
      "execution_count": 0,
      "outputs": []
    },
    {
      "cell_type": "code",
      "metadata": {
        "id": "79fYMqU1CQA8",
        "colab_type": "code",
        "colab": {}
      },
      "source": [
        "from datetime import datetime\n",
        "\n",
        "#datetime(year, month, day)\n",
        "a = datetime(2018, 11, 28)\n",
        "print(a)\n",
        "\n",
        "# datetime(year, month, day, hour, minute, second, microsecond)\n",
        "b = datetime(2017, 11, 28, 23, 55, 59, 342380)\n",
        "print(b)"
      ],
      "execution_count": 0,
      "outputs": []
    },
    {
      "cell_type": "code",
      "metadata": {
        "id": "ybhD0QpyCaF1",
        "colab_type": "code",
        "colab": {}
      },
      "source": [
        "\n",
        "from datetime import datetime\n",
        "\n",
        "a = datetime(2017, 11, 28, 23, 55, 59, 342380)\n",
        "print(\"year =\", a.year)\n",
        "print(\"month =\", a.month)\n",
        "print(\"hour =\", a.hour)\n",
        "print(\"minute =\", a.minute)\n",
        "print(\"timestamp =\", a.timestamp())"
      ],
      "execution_count": 0,
      "outputs": []
    },
    {
      "cell_type": "code",
      "metadata": {
        "id": "trYRldWPCsL7",
        "colab_type": "code",
        "colab": {}
      },
      "source": [
        "from datetime import datetime, date\n",
        "\n",
        "t1 = date(year = 2018, month = 7, day = 12)\n",
        "t2 = date(year = 2017, month = 12, day = 23)\n",
        "t3 = t1 - t2\n",
        "print(\"t3 =\", t3)\n",
        "\n",
        "t4 = datetime(year = 2018, month = 7, day = 12, hour = 7, minute = 9, second = 33)\n",
        "t5 = datetime(year = 2019, month = 6, day = 10, hour = 5, minute = 55, second = 13)\n",
        "t6 = t4 - t5\n",
        "print(\"t6 =\", t6)\n",
        "\n",
        "print(\"type of t3 =\", type(t3)) \n",
        "print(\"type of t6 =\", type(t6)) "
      ],
      "execution_count": 0,
      "outputs": []
    },
    {
      "cell_type": "code",
      "metadata": {
        "id": "A4xrLxcGDEVf",
        "colab_type": "code",
        "colab": {}
      },
      "source": [
        "from datetime import timedelta\n",
        "\n",
        "t1 = timedelta(weeks = 2, days = 5, hours = 1, seconds = 33)\n",
        "t2 = timedelta(days = 4, hours = 11, minutes = 4, seconds = 54)\n",
        "t3 = t1 - t2\n",
        "\n",
        "print(\"t3 =\", t3)"
      ],
      "execution_count": 0,
      "outputs": []
    },
    {
      "cell_type": "code",
      "metadata": {
        "id": "CvvbMj7zDJ33",
        "colab_type": "code",
        "colab": {}
      },
      "source": [
        "\n",
        "from datetime import timedelta\n",
        "\n",
        "t1 = timedelta(seconds = 33)\n",
        "t2 = timedelta(seconds = 54)\n",
        "t3 = t1 - t2\n",
        "\n",
        "print(\"t3 =\", t3)\n",
        "print(\"t3 =\", abs(t3))"
      ],
      "execution_count": 0,
      "outputs": []
    },
    {
      "cell_type": "code",
      "metadata": {
        "id": "BHn5NHvYDrx3",
        "colab_type": "code",
        "colab": {}
      },
      "source": [
        "\n",
        "from datetime import timedelta\n",
        "\n",
        "t = timedelta(days = 5, hours = 1, seconds = 33, microseconds = 233423)\n",
        "print(\"total seconds =\", t.total_seconds())"
      ],
      "execution_count": 0,
      "outputs": []
    },
    {
      "cell_type": "code",
      "metadata": {
        "id": "AqJYaX7tD69X",
        "colab_type": "code",
        "colab": {
          "base_uri": "https://localhost:8080/",
          "height": 69
        },
        "outputId": "47817e83-0db8-46d7-baeb-1d81c24849e8"
      },
      "source": [
        "from datetime import datetime\n",
        "\n",
        "# current date and time\n",
        "now = datetime.now()\n",
        "\n",
        "t = now.strftime(\"%H:%M:%S\")\n",
        "print(\"time:\", t)\n",
        "\n",
        "s1 = now.strftime(\"%m/%d/%Y, %H:%M:%S\")\n",
        "# mm/dd/YY H:M:S format\n",
        "print(\"s1:\", s1)\n",
        "\n",
        "s2 = now.strftime(\"%d/%m/%Y, %H:%M:%S\")\n",
        "# dd/mm/YY H:M:S format\n",
        "print(\"s2:\", s2)"
      ],
      "execution_count": 17,
      "outputs": [
        {
          "output_type": "stream",
          "text": [
            "time: 03:23:49\n",
            "s1: 04/23/2020, 03:23:49\n",
            "s2: 23/04/2020, 03:23:49\n"
          ],
          "name": "stdout"
        }
      ]
    },
    {
      "cell_type": "code",
      "metadata": {
        "id": "I3228VRKEWhX",
        "colab_type": "code",
        "colab": {
          "base_uri": "https://localhost:8080/",
          "height": 52
        },
        "outputId": "cf0a8d64-3410-4cb3-e87d-a104fcb92a0d"
      },
      "source": [
        "\n",
        "from datetime import datetime\n",
        "\n",
        "date_string = \"21 June, 2018\"\n",
        "print(\"date_string =\", date_string)\n",
        "\n",
        "date_object = datetime.strptime(date_string, \"%d %B, %Y\")\n",
        "print(\"date_object =\", date_object)"
      ],
      "execution_count": 19,
      "outputs": [
        {
          "output_type": "stream",
          "text": [
            "date_string = 21 June, 2018\n",
            "date_object = 2018-06-21 00:00:00\n"
          ],
          "name": "stdout"
        }
      ]
    },
    {
      "cell_type": "code",
      "metadata": {
        "id": "vsmpE7T0EvdK",
        "colab_type": "code",
        "colab": {
          "base_uri": "https://localhost:8080/",
          "height": 69
        },
        "outputId": "a7e5b862-a923-4057-ee8b-183b868fc137"
      },
      "source": [
        "from datetime import datetime\n",
        "import pytz\n",
        "\n",
        "local = datetime.now()\n",
        "print(\"Local:\", local.strftime(\"%m/%d/%Y, %H:%M:%S\"))\n",
        "\n",
        "\n",
        "tz_NY = pytz.timezone('America/New_York') \n",
        "datetime_NY = datetime.now(tz_NY)\n",
        "print(\"NY:\", datetime_NY.strftime(\"%m/%d/%Y, %H:%M:%S\"))\n",
        "\n",
        "tz_London = pytz.timezone('Europe/London')\n",
        "datetime_London = datetime.now(tz_London)\n",
        "print(\"London:\", datetime_London.strftime(\"%m/%d/%Y, %H:%M:%S\"))"
      ],
      "execution_count": 20,
      "outputs": [
        {
          "output_type": "stream",
          "text": [
            "Local: 04/23/2020, 03:27:10\n",
            "NY: 04/22/2020, 23:27:10\n",
            "London: 04/23/2020, 04:27:10\n"
          ],
          "name": "stdout"
        }
      ]
    }
  ]
}