{
  "nbformat": 4,
  "nbformat_minor": 0,
  "metadata": {
    "colab": {
      "name": "Untitled21.ipynb",
      "provenance": [],
      "authorship_tag": "ABX9TyO+Hw1vHU5k6dQIZ+cgi2qu",
      "include_colab_link": true
    },
    "kernelspec": {
      "name": "python3",
      "display_name": "Python 3"
    }
  },
  "cells": [
    {
      "cell_type": "markdown",
      "metadata": {
        "id": "view-in-github",
        "colab_type": "text"
      },
      "source": [
        "<a href=\"https://colab.research.google.com/github/meghasyam/python/blob/master/timeZone.ipynb\" target=\"_parent\"><img src=\"https://colab.research.google.com/assets/colab-badge.svg\" alt=\"Open In Colab\"/></a>"
      ]
    },
    {
      "cell_type": "code",
      "metadata": {
        "id": "KQ7Ntym5_pTx",
        "colab_type": "code",
        "colab": {}
      },
      "source": [
        "import datetime\n",
        "\n",
        "datetime_object = datetime.datetime.now()\n",
        "print(datetime_object)"
      ],
      "execution_count": 0,
      "outputs": []
    },
    {
      "cell_type": "code",
      "metadata": {
        "id": "p7tyaiN_ARXi",
        "colab_type": "code",
        "colab": {}
      },
      "source": [
        "\n",
        "import datetime\n",
        "\n",
        "date_object = datetime.date.today()\n",
        "print(date_object)"
      ],
      "execution_count": 0,
      "outputs": []
    },
    {
      "cell_type": "code",
      "metadata": {
        "id": "yrqHfB_oAZA_",
        "colab_type": "code",
        "colab": {}
      },
      "source": [
        "import datetime\n",
        "\n",
        "print(dir(datetime))\n"
      ],
      "execution_count": 0,
      "outputs": []
    },
    {
      "cell_type": "code",
      "metadata": {
        "id": "eXh5dtWEAmxa",
        "colab_type": "code",
        "colab": {}
      },
      "source": [
        "import datetime\n",
        "\n",
        "d = datetime.date(2019, 4, 13)\n",
        "print(d)"
      ],
      "execution_count": 0,
      "outputs": []
    },
    {
      "cell_type": "code",
      "metadata": {
        "id": "XngW_fEfA9Yr",
        "colab_type": "code",
        "colab": {}
      },
      "source": [
        "\n",
        "from datetime import date\n",
        "\n",
        "today = date.today()\n",
        "\n",
        "print(\"Current date =\", today)"
      ],
      "execution_count": 0,
      "outputs": []
    },
    {
      "cell_type": "code",
      "metadata": {
        "id": "JPaq1MZKAq65",
        "colab_type": "code",
        "colab": {}
      },
      "source": [
        "from datetime import date\n",
        "\n",
        "a = date(2019, 4, 13)\n",
        "print(a)"
      ],
      "execution_count": 0,
      "outputs": []
    },
    {
      "cell_type": "code",
      "metadata": {
        "id": "ViEjtjsnBjZb",
        "colab_type": "code",
        "colab": {}
      },
      "source": [
        "from datetime import date\n",
        "\n",
        "timestamp = date.fromtimestamp(1326244364)\n",
        "print(\"Date =\", timestamp)"
      ],
      "execution_count": 0,
      "outputs": []
    },
    {
      "cell_type": "code",
      "metadata": {
        "id": "EOxr-7IIBz-k",
        "colab_type": "code",
        "colab": {}
      },
      "source": [
        "from datetime import date\n",
        "\n",
        "# date object of today's date\n",
        "today = date.today() \n",
        "\n",
        "print(\"Current year:\", today.year)\n",
        "print(\"Current month:\", today.month)\n",
        "print(\"Current day:\", today.day)"
      ],
      "execution_count": 0,
      "outputs": []
    },
    {
      "cell_type": "code",
      "metadata": {
        "id": "Ikn2gxfWCCes",
        "colab_type": "code",
        "colab": {}
      },
      "source": [
        "from datetime import time\n",
        "\n",
        "# time(hour = 0, minute = 0, second = 0)\n",
        "a = time()\n",
        "print(\"a =\", a)\n",
        "\n",
        "# time(hour, minute and second)\n",
        "b = time(11, 34, 56)\n",
        "print(\"b =\", b)\n",
        "\n",
        "# time(hour, minute and second)\n",
        "c = time(hour = 11, minute = 34, second = 56)\n",
        "print(\"c =\", c)\n",
        "\n",
        "# time(hour, minute, second, microsecond)\n",
        "d = time(11, 34, 56, 234566)\n",
        "print(\"d =\", d)"
      ],
      "execution_count": 0,
      "outputs": []
    },
    {
      "cell_type": "code",
      "metadata": {
        "id": "79fYMqU1CQA8",
        "colab_type": "code",
        "colab": {}
      },
      "source": [
        "from datetime import datetime\n",
        "\n",
        "#datetime(year, month, day)\n",
        "a = datetime(2018, 11, 28)\n",
        "print(a)\n",
        "\n",
        "# datetime(year, month, day, hour, minute, second, microsecond)\n",
        "b = datetime(2017, 11, 28, 23, 55, 59, 342380)\n",
        "print(b)"
      ],
      "execution_count": 0,
      "outputs": []
    },
    {
      "cell_type": "code",
      "metadata": {
        "id": "ybhD0QpyCaF1",
        "colab_type": "code",
        "colab": {}
      },
      "source": [
        "\n",
        "from datetime import datetime\n",
        "\n",
        "a = datetime(2017, 11, 28, 23, 55, 59, 342380)\n",
        "print(\"year =\", a.year)\n",
        "print(\"month =\", a.month)\n",
        "print(\"hour =\", a.hour)\n",
        "print(\"minute =\", a.minute)\n",
        "print(\"timestamp =\", a.timestamp())"
      ],
      "execution_count": 0,
      "outputs": []
    },
    {
      "cell_type": "code",
      "metadata": {
        "id": "4rMEJSYVHOPk",
        "colab_type": "code",
        "colab": {}
      },
      "source": [
        "from datetime import datetime\n",
        "\n",
        "datetime = datetime.now()\n",
        "\n",
        "print (\"timestamp =\", datetime.timestamp())\n"
      ],
      "execution_count": 0,
      "outputs": []
    },
    {
      "cell_type": "code",
      "metadata": {
        "id": "trYRldWPCsL7",
        "colab_type": "code",
        "colab": {}
      },
      "source": [
        "from datetime import datetime, date\n",
        "\n",
        "t1 = date(year = 2018, month = 7, day = 12)\n",
        "t2 = date(year = 2017, month = 12, day = 23)\n",
        "t3 = t1 - t2\n",
        "print(\"t3 =\", t3)\n",
        "\n",
        "t4 = datetime(year = 2018, month = 7, day = 12, hour = 7, minute = 9, second = 33)\n",
        "t5 = datetime(year = 2019, month = 6, day = 10, hour = 5, minute = 55, second = 13)\n",
        "t6 = t4 - t5\n",
        "print(\"t6 =\", t6)\n",
        "\n",
        "print(\"type of t3 =\", type(t3)) \n",
        "print(\"type of t6 =\", type(t6)) "
      ],
      "execution_count": 0,
      "outputs": []
    },
    {
      "cell_type": "code",
      "metadata": {
        "id": "A4xrLxcGDEVf",
        "colab_type": "code",
        "colab": {}
      },
      "source": [
        "from datetime import timedelta\n",
        "\n",
        "t1 = timedelta(weeks = 2, days = 5, hours = 1, seconds = 33)\n",
        "t2 = timedelta(days = 4, hours = 11, minutes = 4, seconds = 54)\n",
        "t3 = t1 - t2\n",
        "\n",
        "print(\"t3 =\", t3)"
      ],
      "execution_count": 0,
      "outputs": []
    },
    {
      "cell_type": "code",
      "metadata": {
        "id": "CvvbMj7zDJ33",
        "colab_type": "code",
        "colab": {}
      },
      "source": [
        "\n",
        "from datetime import timedelta\n",
        "\n",
        "t1 = timedelta(seconds = 33)\n",
        "t2 = timedelta(seconds = 54)\n",
        "t3 = t1 - t2\n",
        "\n",
        "print(\"t3 =\", t3)\n",
        "print(\"t3 =\", abs(t3))"
      ],
      "execution_count": 0,
      "outputs": []
    },
    {
      "cell_type": "code",
      "metadata": {
        "id": "BHn5NHvYDrx3",
        "colab_type": "code",
        "colab": {}
      },
      "source": [
        "\n",
        "from datetime import timedelta\n",
        "\n",
        "t = timedelta(days = 5, hours = 1, seconds = 33, microseconds = 233423)\n",
        "print(\"total seconds =\", t.total_seconds())"
      ],
      "execution_count": 0,
      "outputs": []
    },
    {
      "cell_type": "code",
      "metadata": {
        "id": "AqJYaX7tD69X",
        "colab_type": "code",
        "colab": {}
      },
      "source": [
        "from datetime import datetime\n",
        "\n",
        "# current date and time\n",
        "now = datetime.now()\n",
        "\n",
        "t = now.strftime(\"%H:%M:%S\")\n",
        "print(\"time:\", t)\n",
        "\n",
        "s1 = now.strftime(\"%m/%d/%Y, %H:%M:%S\")\n",
        "# mm/dd/YY H:M:S format\n",
        "print(\"s1:\", s1)\n",
        "\n",
        "s2 = now.strftime(\"%d/%m/%Y, %H:%M:%S\")\n",
        "# dd/mm/YY H:M:S format\n",
        "print(\"s2:\", s2)"
      ],
      "execution_count": 0,
      "outputs": []
    },
    {
      "cell_type": "code",
      "metadata": {
        "id": "I3228VRKEWhX",
        "colab_type": "code",
        "colab": {}
      },
      "source": [
        "\n",
        "from datetime import datetime\n",
        "\n",
        "date_string = \"21 June, 2018\"\n",
        "print(\"date_string =\", date_string)\n",
        "\n",
        "date_object = datetime.strptime(date_string, \"%d %B, %Y\")\n",
        "print(\"date_object =\", date_object)"
      ],
      "execution_count": 0,
      "outputs": []
    },
    {
      "cell_type": "code",
      "metadata": {
        "id": "vsmpE7T0EvdK",
        "colab_type": "code",
        "colab": {}
      },
      "source": [
        "from datetime import datetime\n",
        "import pytz\n",
        "\n",
        "local = datetime.now()\n",
        "print(\"Local:\", local.strftime(\"%m/%d/%Y, %H:%M:%S\"))\n",
        "\n",
        "\n",
        "tz_NY = pytz.timezone('America/New_York') \n",
        "datetime_NY = datetime.now(tz_NY)\n",
        "print(\"NY:\", datetime_NY.strftime(\"%m/%d/%Y, %H:%M:%S\"))\n",
        "\n",
        "tz_London = pytz.timezone('Europe/London')\n",
        "datetime_London = datetime.now(tz_London)\n",
        "print(\"London:\", datetime_London.strftime(\"%m/%d/%Y, %H:%M:%S\"))"
      ],
      "execution_count": 0,
      "outputs": []
    },
    {
      "cell_type": "code",
      "metadata": {
        "id": "RvVLjpBCJORR",
        "colab_type": "code",
        "colab": {}
      },
      "source": [
        "from datetime import datetime\n",
        "\n",
        "now = datetime.now() # current date and time\n",
        "\n",
        "year = now.strftime(\"%Y\")\n",
        "print(\"year:\", year)\n",
        "\n",
        "month = now.strftime(\"%m\")\n",
        "print(\"month:\", month)\n",
        "\n",
        "day = now.strftime(\"%d\")\n",
        "print(\"day:\", day)\n",
        "\n",
        "time = now.strftime(\"%H:%M:%S\")\n",
        "print(\"time:\", time)\n",
        "\n",
        "date_time = now.strftime(\"%m/%d/%Y, %H:%M:%S\")\n",
        "print(\"date and time:\",date_time)"
      ],
      "execution_count": 0,
      "outputs": []
    },
    {
      "cell_type": "code",
      "metadata": {
        "id": "sHp-ndZ3JXu9",
        "colab_type": "code",
        "colab": {}
      },
      "source": [
        "from datetime import datetime\n",
        "\n",
        "timestamp = 1528797322\n",
        "date_time = datetime.fromtimestamp(timestamp)\n",
        "\n",
        "print(\"Date time object:\", date_time)\n",
        "\n",
        "d = date_time.strftime(\"%m/%d/%Y, %H:%M:%S\")\n",
        "print(\"Output 2:\", d)\t\n",
        "\n",
        "d = date_time.strftime(\"%d %b, %Y\")\n",
        "print(\"Output 3:\", d)\n",
        "\n",
        "d = date_time.strftime(\"%d %B, %Y\")\n",
        "print(\"Output 4:\", d)\n",
        "\n",
        "d = date_time.strftime(\"%I%p\")\n",
        "print(\"Output 5:\", d)"
      ],
      "execution_count": 0,
      "outputs": []
    },
    {
      "cell_type": "code",
      "metadata": {
        "id": "YCyHXVGZJj8w",
        "colab_type": "code",
        "colab": {
          "base_uri": "https://localhost:8080/",
          "height": 69
        },
        "outputId": "5fc8b735-b22c-49e0-8ea2-41cfe6ba820d"
      },
      "source": [
        "\n",
        "from datetime import datetime\n",
        "\n",
        "timestamp = 1528797322\n",
        "date_time = datetime.fromtimestamp(timestamp)\n",
        "\n",
        "d = date_time.strftime(\"%c\")\n",
        "print(\"Output 1:\", d)\t\n",
        "\n",
        "d = date_time.strftime(\"%x\")\n",
        "print(\"Output 2:\", d)\n",
        "\n",
        "d = date_time.strftime(\"%X\")\n",
        "print(\"Output 3:\", d)"
      ],
      "execution_count": 20,
      "outputs": [
        {
          "output_type": "stream",
          "text": [
            "Output 1: Tue Jun 12 09:55:22 2018\n",
            "Output 2: 06/12/18\n",
            "Output 3: 09:55:22\n"
          ],
          "name": "stdout"
        }
      ]
    },
    {
      "cell_type": "code",
      "metadata": {
        "id": "6m9fHQCYJtvh",
        "colab_type": "code",
        "colab": {
          "base_uri": "https://localhost:8080/",
          "height": 87
        },
        "outputId": "3475ab3c-8ff2-4962-dcdf-24b93ff208f8"
      },
      "source": [
        "\n",
        "from datetime import datetime\n",
        "\n",
        "date_string = \"21 June, 2018\"\n",
        "\n",
        "print(\"date_string =\", date_string)\n",
        "print(\"type of date_string =\", type(date_string))\n",
        "\n",
        "date_object = datetime.strptime(date_string, \"%d %B, %Y\")\n",
        "\n",
        "print(\"date_object =\", date_object)\n",
        "print(\"type of date_object =\", type(date_object))"
      ],
      "execution_count": 21,
      "outputs": [
        {
          "output_type": "stream",
          "text": [
            "date_string = 21 June, 2018\n",
            "type of date_string = <class 'str'>\n",
            "date_object = 2018-06-21 00:00:00\n",
            "type of date_object = <class 'datetime.datetime'>\n"
          ],
          "name": "stdout"
        }
      ]
    },
    {
      "cell_type": "code",
      "metadata": {
        "id": "XQLTdpNEJ129",
        "colab_type": "code",
        "colab": {
          "base_uri": "https://localhost:8080/",
          "height": 52
        },
        "outputId": "c985011f-2ebe-40bb-9909-962d14b02411"
      },
      "source": [
        "from datetime import datetime\n",
        "\n",
        "dt_string = \"12/11/2018 09:15:32\"\n",
        "\n",
        "# Considering date is in dd/mm/yyyy format\n",
        "dt_object1 = datetime.strptime(dt_string, \"%d/%m/%Y %H:%M:%S\")\n",
        "print(\"dt_object1 =\", dt_object1)\n",
        "\n",
        "# Considering date is in mm/dd/yyyy format\n",
        "dt_object2 = datetime.strptime(dt_string, \"%m/%d/%Y %H:%M:%S\")\n",
        "print(\"dt_object2 =\", dt_object2)"
      ],
      "execution_count": 22,
      "outputs": [
        {
          "output_type": "stream",
          "text": [
            "dt_object1 = 2018-11-12 09:15:32\n",
            "dt_object2 = 2018-12-11 09:15:32\n"
          ],
          "name": "stdout"
        }
      ]
    },
    {
      "cell_type": "code",
      "metadata": {
        "id": "5EICmtiYJ-hw",
        "colab_type": "code",
        "colab": {}
      },
      "source": [
        "from datetime import datetime\n",
        "date_string = \"12/11/2018\"\n",
        "try:\n",
        "  date_object = datetime.strptime(date_string, \"%d %m %Y\")\n",
        "  print(\"date_object =\", date_object)\n",
        "except:\n",
        "  pass  "
      ],
      "execution_count": 0,
      "outputs": []
    },
    {
      "cell_type": "code",
      "metadata": {
        "id": "CVqemTHHKfTU",
        "colab_type": "code",
        "colab": {
          "base_uri": "https://localhost:8080/",
          "height": 35
        },
        "outputId": "a66febb7-a443-4c99-aed4-15da814387fa"
      },
      "source": [
        "from datetime import datetime\n",
        "\n",
        "now = datetime.now()\n",
        "\n",
        "current_time = now.strftime(\"%H:%M:%S\")\n",
        "print(\"Current Time =\", current_time)"
      ],
      "execution_count": 28,
      "outputs": [
        {
          "output_type": "stream",
          "text": [
            "Current Time = 12:29:29\n"
          ],
          "name": "stdout"
        }
      ]
    },
    {
      "cell_type": "code",
      "metadata": {
        "id": "knhGpSzvKkKo",
        "colab_type": "code",
        "colab": {
          "base_uri": "https://localhost:8080/",
          "height": 52
        },
        "outputId": "28be60d6-b3f5-4afe-8a3e-22ff2ef1d90b"
      },
      "source": [
        "from datetime import datetime\n",
        "\n",
        "now = datetime.now().time() # time object\n",
        "\n",
        "print(\"now =\", now)\n",
        "print(\"type(now) =\", type(now))\t"
      ],
      "execution_count": 29,
      "outputs": [
        {
          "output_type": "stream",
          "text": [
            "now = 12:29:45.879667\n",
            "type(now) = <class 'datetime.time'>\n"
          ],
          "name": "stdout"
        }
      ]
    },
    {
      "cell_type": "code",
      "metadata": {
        "id": "65Qb2iopKrLU",
        "colab_type": "code",
        "colab": {
          "base_uri": "https://localhost:8080/",
          "height": 35
        },
        "outputId": "b529a92f-5ec7-40af-c47a-a0b727dfe3ba"
      },
      "source": [
        "import time\n",
        "\n",
        "t = time.localtime()\n",
        "current_time = time.strftime(\"%H:%M:%S\", t)\n",
        "print(current_time)"
      ],
      "execution_count": 31,
      "outputs": [
        {
          "output_type": "stream",
          "text": [
            "12:30:28\n"
          ],
          "name": "stdout"
        }
      ]
    },
    {
      "cell_type": "code",
      "metadata": {
        "id": "-wJeuCeTKzXG",
        "colab_type": "code",
        "colab": {
          "base_uri": "https://localhost:8080/",
          "height": 52
        },
        "outputId": "faffb7a4-0b21-4f3c-a441-3100496cfd25"
      },
      "source": [
        "from datetime import datetime\n",
        "import pytz\n",
        "\n",
        "tz_NY = pytz.timezone('America/New_York') \n",
        "datetime_NY = datetime.now(tz_NY)\n",
        "print(\"NY time:\", datetime_NY.strftime(\"%H:%M:%S\"))\n",
        "\n",
        "tz_London = pytz.timezone('Europe/London')\n",
        "datetime_London = datetime.now(tz_London)\n",
        "print(\"London time:\", datetime_London.strftime(\"%H:%M:%S\"))"
      ],
      "execution_count": 32,
      "outputs": [
        {
          "output_type": "stream",
          "text": [
            "NY time: 08:30:49\n",
            "London time: 13:30:49\n"
          ],
          "name": "stdout"
        }
      ]
    }
  ]
}