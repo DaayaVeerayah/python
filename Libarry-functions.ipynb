{
  "nbformat": 4,
  "nbformat_minor": 0,
  "metadata": {
    "colab": {
      "name": "Untitled5.ipynb",
      "provenance": [],
      "authorship_tag": "ABX9TyPRZOl36bT4PSlh/nhWDnRs",
      "include_colab_link": true
    },
    "kernelspec": {
      "name": "python3",
      "display_name": "Python 3"
    }
  },
  "cells": [
    {
      "cell_type": "markdown",
      "metadata": {
        "id": "view-in-github",
        "colab_type": "text"
      },
      "source": [
        "<a href=\"https://colab.research.google.com/github/meghasyam/python/blob/master/Libarry-functions.ipynb\" target=\"_parent\"><img src=\"https://colab.research.google.com/assets/colab-badge.svg\" alt=\"Open In Colab\"/></a>"
      ]
    },
    {
      "cell_type": "code",
      "metadata": {
        "id": "0u6UXKcq58T2",
        "colab_type": "code",
        "outputId": "32f4b59f-2188-4b51-bc99-b34e17a9bf04",
        "colab": {
          "base_uri": "https://localhost:8080/",
          "height": 69
        }
      },
      "source": [
        "# random integer\n",
        "integer = -20\n",
        "print('Absolute value of -20 is:', abs(integer))\n",
        "\n",
        "#random floating number\n",
        "floating = -30.33\n",
        "print('Absolute value of -30.33 is:', abs(floating))\n",
        "\n",
        "# random complex number\n",
        "complex = (3 - 4j)\n",
        "print('Magnitude of 3 - 4j is:', abs(complex))"
      ],
      "execution_count": 0,
      "outputs": [
        {
          "output_type": "stream",
          "text": [
            "Absolute value of -20 is: 20\n",
            "Absolute value of -30.33 is: 30.33\n",
            "Magnitude of 3 - 4j is: 5.0\n"
          ],
          "name": "stdout"
        }
      ]
    },
    {
      "cell_type": "code",
      "metadata": {
        "id": "5-XMarcA6WRQ",
        "colab_type": "code",
        "outputId": "e8e753bf-83aa-45ff-ff8c-069c77556d79",
        "colab": {
          "base_uri": "https://localhost:8080/",
          "height": 87
        }
      },
      "source": [
        "l = [1, 3, 4, 0]\n",
        "print(any(l))\n",
        "\n",
        "l = [0, False]\n",
        "print(any(l))\n",
        "\n",
        "l = [0, False, 5]\n",
        "print(any(l))\n",
        "\n",
        "l = []\n",
        "print(any(l))"
      ],
      "execution_count": 0,
      "outputs": [
        {
          "output_type": "stream",
          "text": [
            "True\n",
            "False\n",
            "True\n",
            "False\n"
          ],
          "name": "stdout"
        }
      ]
    },
    {
      "cell_type": "code",
      "metadata": {
        "id": "G80fRm6J6aPK",
        "colab_type": "code",
        "outputId": "55f95feb-7210-4ba7-98b3-06332dedba82",
        "colab": {
          "base_uri": "https://localhost:8080/",
          "height": 69
        }
      },
      "source": [
        "s = \"This is good\"\n",
        "print(any(s))\n",
        "\n",
        "# 0 is False\n",
        "# '0' is True\n",
        "s = '000'\n",
        "print(any(s))\n",
        "\n",
        "s = ''\n",
        "print(any(s))"
      ],
      "execution_count": 0,
      "outputs": [
        {
          "output_type": "stream",
          "text": [
            "True\n",
            "True\n",
            "False\n"
          ],
          "name": "stdout"
        }
      ]
    },
    {
      "cell_type": "code",
      "metadata": {
        "id": "jbMCnQhP6hqF",
        "colab_type": "code",
        "outputId": "a002ba07-fcb5-4189-9ae5-3ca6cb4f8814",
        "colab": {
          "base_uri": "https://localhost:8080/",
          "height": 104
        }
      },
      "source": [
        "d = {0: 'False'}\n",
        "print(any(d))\n",
        "\n",
        "d = {0: 'False', 1: 'True'}\n",
        "print(any(d))\n",
        "\n",
        "d = {0: 'False', False: 0}\n",
        "print(any(d))\n",
        "\n",
        "d = {}\n",
        "print(any(d))\n",
        "\n",
        "# 0 is False\n",
        "# '0' is True\n",
        "d = {'0': 'False'}\n",
        "print(any(d))"
      ],
      "execution_count": 0,
      "outputs": [
        {
          "output_type": "stream",
          "text": [
            "False\n",
            "True\n",
            "False\n",
            "False\n",
            "True\n"
          ],
          "name": "stdout"
        }
      ]
    },
    {
      "cell_type": "code",
      "metadata": {
        "id": "C2PsxzYm638e",
        "colab_type": "code",
        "outputId": "cd779b59-77aa-4583-ee99-6e2d7c8049e9",
        "colab": {
          "base_uri": "https://localhost:8080/",
          "height": 104
        }
      },
      "source": [
        "# all values true\n",
        "l = [1, 3, 4, 5]\n",
        "print(all(l))\n",
        "\n",
        "# all values false\n",
        "l = [0, False]\n",
        "print(all(l))\n",
        "\n",
        "# one false value\n",
        "l = [1, 3, 4, 0]\n",
        "print(all(l))\n",
        "\n",
        "# one true value\n",
        "l = [0, False, 5]\n",
        "print(all(l))\n",
        "\n",
        "# empty iterable\n",
        "l = []\n",
        "print(all(l))"
      ],
      "execution_count": 0,
      "outputs": [
        {
          "output_type": "stream",
          "text": [
            "True\n",
            "False\n",
            "False\n",
            "False\n",
            "True\n"
          ],
          "name": "stdout"
        }
      ]
    },
    {
      "cell_type": "code",
      "metadata": {
        "id": "ojUmumdL7O8Q",
        "colab_type": "code",
        "outputId": "de329513-3d1d-482f-836a-11c1f01c0ab7",
        "colab": {
          "base_uri": "https://localhost:8080/",
          "height": 69
        }
      },
      "source": [
        "s = \"This is good\"\n",
        "print(all(s))\n",
        "\n",
        "# 0 is False\n",
        "# '0' is True\n",
        "s = '000'\n",
        "print(all(s))\n",
        "\n",
        "s = ''\n",
        "print(all(s))"
      ],
      "execution_count": 0,
      "outputs": [
        {
          "output_type": "stream",
          "text": [
            "True\n",
            "True\n",
            "True\n"
          ],
          "name": "stdout"
        }
      ]
    },
    {
      "cell_type": "code",
      "metadata": {
        "id": "29VmKV7x7Y_6",
        "colab_type": "code",
        "outputId": "232c21c8-82c3-49a9-8a53-4e6a15c27e98",
        "colab": {
          "base_uri": "https://localhost:8080/",
          "height": 104
        }
      },
      "source": [
        "s = {0: 'False', 1: 'False'}\n",
        "print(all(s))\n",
        "\n",
        "s = {1: 'True', 2: 'True'}\n",
        "print(all(s))\n",
        "\n",
        "s = {1: 'True', False: 0}\n",
        "print(all(s))\n",
        "\n",
        "s = {}\n",
        "print(all(s))\n",
        "\n",
        "# 0 is False\n",
        "# '0' is True\n",
        "s = {'0': 'True'}\n",
        "print(all(s))"
      ],
      "execution_count": 0,
      "outputs": [
        {
          "output_type": "stream",
          "text": [
            "False\n",
            "True\n",
            "False\n",
            "True\n",
            "True\n"
          ],
          "name": "stdout"
        }
      ]
    },
    {
      "cell_type": "code",
      "metadata": {
        "id": "Q_Lg_TRH7pfj",
        "colab_type": "code",
        "outputId": "cb01f83b-8b7d-4297-e2ae-0933eb46dfc3",
        "colab": {
          "base_uri": "https://localhost:8080/",
          "height": 69
        }
      },
      "source": [
        "normalText = 'Python is interesting'\n",
        "print(ascii(normalText))\n",
        "\n",
        "otherText = 'Pythön is interesting'\n",
        "print(ascii(otherText))\n",
        "\n",
        "print('Pyth\\xf6n is interesting')"
      ],
      "execution_count": 0,
      "outputs": [
        {
          "output_type": "stream",
          "text": [
            "'Python is interesting'\n",
            "'Pyth\\xf6n is interesting'\n",
            "Pythön is interesting\n"
          ],
          "name": "stdout"
        }
      ]
    },
    {
      "cell_type": "code",
      "metadata": {
        "id": "AuhrTUro8A-k",
        "colab_type": "code",
        "outputId": "e7f2bcc5-1140-41de-c062-f511edcbc4f1",
        "colab": {
          "base_uri": "https://localhost:8080/",
          "height": 35
        }
      },
      "source": [
        "number = 5\n",
        "print('The binary equivalent of 5 is:', bin(number))"
      ],
      "execution_count": 0,
      "outputs": [
        {
          "output_type": "stream",
          "text": [
            "The binary equivalent of 5 is: 0b101\n"
          ],
          "name": "stdout"
        }
      ]
    },
    {
      "cell_type": "code",
      "metadata": {
        "id": "m-E9ks9n8We_",
        "colab_type": "code",
        "outputId": "fb38c650-5b74-4da9-9f55-9f2d88ee6e6d",
        "colab": {
          "base_uri": "https://localhost:8080/",
          "height": 35
        }
      },
      "source": [
        "class Quantity:\n",
        "    apple = 1\n",
        "    orange = 2\n",
        "    grapes = 2\n",
        "    \n",
        "    def __index__(self):\n",
        "        return self.apple + self.orange + self.grapes\n",
        "        \n",
        "print('The binary equivalent of quantity is:', bin(Quantity()))"
      ],
      "execution_count": 0,
      "outputs": [
        {
          "output_type": "stream",
          "text": [
            "The binary equivalent of quantity is: 0b101\n"
          ],
          "name": "stdout"
        }
      ]
    },
    {
      "cell_type": "code",
      "metadata": {
        "id": "XwNYzCk98vNU",
        "colab_type": "code",
        "outputId": "77ae09e3-6b53-427f-84ca-13069763179d",
        "colab": {
          "base_uri": "https://localhost:8080/",
          "height": 121
        }
      },
      "source": [
        "test=[]\n",
        "print(test,'is',bool(test))\n",
        "\n",
        "test = [0]\n",
        "print(test,'is',bool(test))\n",
        "\n",
        "test = 0.0\n",
        "print(test,'is',bool(test))\n",
        "\n",
        "test = None\n",
        "print(test,'is',bool(test))\n",
        "\n",
        "test = True\n",
        "print(test,'is',bool(test))\n",
        "\n",
        "test = 'Easy string'\n",
        "print(test,'is',bool(test))"
      ],
      "execution_count": 0,
      "outputs": [
        {
          "output_type": "stream",
          "text": [
            "[] is False\n",
            "[0] is True\n",
            "0.0 is False\n",
            "None is False\n",
            "True is True\n",
            "Easy string is True\n"
          ],
          "name": "stdout"
        }
      ]
    },
    {
      "cell_type": "code",
      "metadata": {
        "id": "5D0I19vL9NEP",
        "colab_type": "code",
        "outputId": "2efbb33f-6802-4658-ba10-2cce986017df",
        "colab": {
          "base_uri": "https://localhost:8080/",
          "height": 35
        }
      },
      "source": [
        "size = 5\n",
        "\n",
        "arr = bytearray(size)\n",
        "print(arr)"
      ],
      "execution_count": 0,
      "outputs": [
        {
          "output_type": "stream",
          "text": [
            "bytearray(b'\\x00\\x00\\x00\\x00\\x00')\n"
          ],
          "name": "stdout"
        }
      ]
    },
    {
      "cell_type": "code",
      "metadata": {
        "id": "n2sgPFI49R5y",
        "colab_type": "code",
        "outputId": "f080655a-e860-49c6-8805-8239d4a6eabb",
        "colab": {
          "base_uri": "https://localhost:8080/",
          "height": 35
        }
      },
      "source": [
        "rList = [1, 2, 3, 4, 5]\n",
        "\n",
        "arr = bytearray(rList)\n",
        "print(arr)"
      ],
      "execution_count": 0,
      "outputs": [
        {
          "output_type": "stream",
          "text": [
            "bytearray(b'\\x01\\x02\\x03\\x04\\x05')\n"
          ],
          "name": "stdout"
        }
      ]
    },
    {
      "cell_type": "code",
      "metadata": {
        "id": "FbZXUt0A-Nta",
        "colab_type": "code",
        "outputId": "380a210a-a222-4d73-deb7-03eebeaf0667",
        "colab": {
          "base_uri": "https://localhost:8080/",
          "height": 69
        }
      },
      "source": [
        "x = 5\n",
        "print(callable(x))\n",
        "\n",
        "def testFunction():\n",
        "  print(\"Test\")\n",
        "\n",
        "y = testFunction\n",
        "print(callable(y))\n",
        "\n",
        "y()"
      ],
      "execution_count": 0,
      "outputs": [
        {
          "output_type": "stream",
          "text": [
            "False\n",
            "True\n",
            "Test\n"
          ],
          "name": "stdout"
        }
      ]
    },
    {
      "cell_type": "code",
      "metadata": {
        "id": "8Yiz8JQ6-KaT",
        "colab_type": "code",
        "outputId": "02438231-7155-4b55-9a9a-d92951026f0a",
        "colab": {
          "base_uri": "https://localhost:8080/",
          "height": 52
        }
      },
      "source": [
        "class Foo:\n",
        "  def __call__(self):\n",
        "    print('Print Something')\n",
        "\n",
        "print(callable(Foo))\n",
        "\n",
        "x = Foo()\n",
        "x()"
      ],
      "execution_count": 0,
      "outputs": [
        {
          "output_type": "stream",
          "text": [
            "True\n",
            "Print Something\n"
          ],
          "name": "stdout"
        }
      ]
    },
    {
      "cell_type": "code",
      "metadata": {
        "id": "JpF5en0C_C_E",
        "colab_type": "code",
        "outputId": "16757cc0-dd56-4484-d750-3cc4c220170c",
        "colab": {
          "base_uri": "https://localhost:8080/",
          "height": 52
        }
      },
      "source": [
        "class Foo:\n",
        "  def printLine(self):\n",
        "    print('Print Something')\n",
        "\n",
        "print(callable(Foo))\n",
        "\n",
        "x=Foo()\n",
        "\n",
        "x.printLine()"
      ],
      "execution_count": 0,
      "outputs": [
        {
          "output_type": "stream",
          "text": [
            "True\n",
            "Print Something\n"
          ],
          "name": "stdout"
        }
      ]
    },
    {
      "cell_type": "code",
      "metadata": {
        "id": "t7gn4Yzg_1Oo",
        "colab_type": "code",
        "outputId": "fb335651-bcd1-4c02-8612-57356fd05ea2",
        "colab": {
          "base_uri": "https://localhost:8080/",
          "height": 35
        }
      },
      "source": [
        "string = \"Python is interesting.\"\n",
        "\n",
        "# string with encoding 'utf-8'\n",
        "arr = bytes(string, 'utf-8')\n",
        "print(arr)"
      ],
      "execution_count": 0,
      "outputs": [
        {
          "output_type": "stream",
          "text": [
            "b'Python is interesting.'\n"
          ],
          "name": "stdout"
        }
      ]
    },
    {
      "cell_type": "code",
      "metadata": {
        "id": "j41E-CcbAOIO",
        "colab_type": "code",
        "outputId": "4d010647-95f5-4452-8769-48091a40dc93",
        "colab": {
          "base_uri": "https://localhost:8080/",
          "height": 35
        }
      },
      "source": [
        "size = 5\n",
        "\n",
        "arr = bytes(size)\n",
        "print(arr)"
      ],
      "execution_count": 0,
      "outputs": [
        {
          "output_type": "stream",
          "text": [
            "b'\\x00\\x00\\x00\\x00\\x00'\n"
          ],
          "name": "stdout"
        }
      ]
    },
    {
      "cell_type": "code",
      "metadata": {
        "id": "Qob_jomtAYdG",
        "colab_type": "code",
        "outputId": "4dbe459f-5ea8-441b-b991-0c4cd650ad3c",
        "colab": {
          "base_uri": "https://localhost:8080/",
          "height": 35
        }
      },
      "source": [
        "rList = [1, 2, 3, 4, 5]\n",
        "\n",
        "arr = bytes(rList)\n",
        "print(arr)"
      ],
      "execution_count": 0,
      "outputs": [
        {
          "output_type": "stream",
          "text": [
            "b'\\x01\\x02\\x03\\x04\\x05'\n"
          ],
          "name": "stdout"
        }
      ]
    },
    {
      "cell_type": "code",
      "metadata": {
        "id": "dtZCa8bcAnaP",
        "colab_type": "code",
        "outputId": "63fe9b1c-877c-4c5d-a717-f545f8b8212b",
        "colab": {
          "base_uri": "https://localhost:8080/",
          "height": 69
        }
      },
      "source": [
        "print(chr(97))\n",
        "print(chr(65))\n",
        "print(chr(1200))\n",
        "#print(chr(-1))"
      ],
      "execution_count": 0,
      "outputs": [
        {
          "output_type": "stream",
          "text": [
            "a\n",
            "A\n",
            "Ұ\n"
          ],
          "name": "stdout"
        }
      ]
    },
    {
      "cell_type": "code",
      "metadata": {
        "id": "S0TaBcmVBKz4",
        "colab_type": "code",
        "outputId": "4e60d5d1-45ea-4adf-d8db-91dd4b74870b",
        "colab": {
          "base_uri": "https://localhost:8080/",
          "height": 35
        }
      },
      "source": [
        "codeInString = 'a = 5\\nb=6\\nsum=a+b\\nprint(\"sum =\",sum)'\n",
        "codeObejct = compile(codeInString, 'sumstring', 'exec')\n",
        "\n",
        "exec(codeObejct)"
      ],
      "execution_count": 0,
      "outputs": [
        {
          "output_type": "stream",
          "text": [
            "sum = 11\n"
          ],
          "name": "stdout"
        }
      ]
    },
    {
      "cell_type": "code",
      "metadata": {
        "id": "FR-_ed_QBOJc",
        "colab_type": "code",
        "outputId": "566705c5-36f7-4d40-ad86-080e9a3e89ed",
        "colab": {
          "base_uri": "https://localhost:8080/",
          "height": 35
        }
      },
      "source": [
        "!ls"
      ],
      "execution_count": 0,
      "outputs": [
        {
          "output_type": "stream",
          "text": [
            "sample_data\n"
          ],
          "name": "stdout"
        }
      ]
    },
    {
      "cell_type": "code",
      "metadata": {
        "id": "-z7L9ZNjBx9f",
        "colab_type": "code",
        "outputId": "78aba22f-133d-4da2-d6bf-062d940965bc",
        "colab": {
          "base_uri": "https://localhost:8080/",
          "height": 35
        }
      },
      "source": [
        "class Person:\n",
        "    age = 25\n",
        "\n",
        "    def printAge(cls):\n",
        "        print('The age is:', cls.age)\n",
        "\n",
        "# create printAge class method\n",
        "#Person.printAge = classmethod(Person.printAge)\n",
        "obj =Person()\n",
        "obj.printAge()"
      ],
      "execution_count": 0,
      "outputs": [
        {
          "output_type": "stream",
          "text": [
            "The age is: 25\n"
          ],
          "name": "stdout"
        }
      ]
    },
    {
      "cell_type": "code",
      "metadata": {
        "id": "Q1t1Q20QC7C3",
        "colab_type": "code",
        "outputId": "04015b5c-f200-41d4-d856-b3f700067426",
        "colab": {
          "base_uri": "https://localhost:8080/",
          "height": 139
        }
      },
      "source": [
        "from datetime import date\n",
        "\n",
        "# random Person\n",
        "class Person:\n",
        "    def __init__(self, name, age):\n",
        "        self.name = name\n",
        "        self.age = age\n",
        "\n",
        "    @classmethod\n",
        "    def fromBirthYear(cls, name, birthYear):\n",
        "        return cls(name, date.today().year - birthYear)\n",
        "\n",
        "    def display(self):\n",
        "        print(self.name + \"'s age is: \" + str(self.age))\n",
        "\n",
        "person = Person('Adam', 19)\n",
        "person.display()\n",
        "\n",
        "person1 = Person.fromBirthYear('John',  1985)\n",
        "person1.display()\n",
        "\n",
        "print(type(person1))\n",
        "print(type(Person))\n",
        "print(type(2))\n",
        "print(type(Person.fromBirthYear))\n",
        "print(isinstance(person1,Person))"
      ],
      "execution_count": 0,
      "outputs": [
        {
          "output_type": "stream",
          "text": [
            "Adam's age is: 19\n",
            "John's age is: 35\n",
            "<class '__main__.Person'>\n",
            "<class 'type'>\n",
            "<class 'int'>\n",
            "<class 'method'>\n",
            "True\n"
          ],
          "name": "stdout"
        }
      ]
    },
    {
      "cell_type": "code",
      "metadata": {
        "id": "lqWklZ2KD-nd",
        "colab_type": "code",
        "outputId": "b6986341-a7db-4f29-e918-0bacf60c6689",
        "colab": {
          "base_uri": "https://localhost:8080/",
          "height": 87
        }
      },
      "source": [
        "from datetime import date\n",
        "\n",
        "# random Person\n",
        "class Person:\n",
        "    def __init__(self, name, age):\n",
        "        self.name = name\n",
        "        self.age = age\n",
        "\n",
        "    @staticmethod\n",
        "    def fromFathersAge(name, fatherAge, fatherPersonAgeDiff):\n",
        "        return Person(name, date.today().year - fatherAge + fatherPersonAgeDiff)\n",
        "\n",
        "    @classmethod\n",
        "    def fromBirthYear(cls, name, birthYear):\n",
        "        return cls(name, date.today().year - birthYear)\n",
        "\n",
        "    def display(self):\n",
        "        print(self.name + \"'s age is: \" + str(self.age))\n",
        "\n",
        "class Man(Person):\n",
        "    sex = 'Male'\n",
        "\n",
        "man = Man.fromBirthYear('John', 1985)\n",
        "print(isinstance(man, Man))\n",
        "print(type(man))\n",
        "man1 = Man.fromFathersAge('John', 1965, 20)\n",
        "print(type(man1))\n",
        "print(isinstance(man1, Man))"
      ],
      "execution_count": 0,
      "outputs": [
        {
          "output_type": "stream",
          "text": [
            "True\n",
            "<class '__main__.Man'>\n",
            "<class '__main__.Person'>\n",
            "False\n"
          ],
          "name": "stdout"
        }
      ]
    },
    {
      "cell_type": "code",
      "metadata": {
        "id": "0TIApAqTEvdk",
        "colab_type": "code",
        "outputId": "55961d8b-1cf3-4046-f2e0-5c4e258f5422",
        "colab": {
          "base_uri": "https://localhost:8080/",
          "height": 87
        }
      },
      "source": [
        "z = complex(2, -3)\n",
        "print(z)\n",
        "\n",
        "z = complex(1)\n",
        "print(z)\n",
        "\n",
        "z = complex()\n",
        "print(z)\n",
        "\n",
        "z = complex('5-9j')\n",
        "print(z)"
      ],
      "execution_count": 1,
      "outputs": [
        {
          "output_type": "stream",
          "text": [
            "(2-3j)\n",
            "(1+0j)\n",
            "0j\n",
            "(5-9j)\n"
          ],
          "name": "stdout"
        }
      ]
    },
    {
      "cell_type": "code",
      "metadata": {
        "id": "0E9tDSpRFCki",
        "colab_type": "code",
        "outputId": "8bde95f7-da7c-48a9-ae61-32f783ed76e9",
        "colab": {
          "base_uri": "https://localhost:8080/",
          "height": 121
        }
      },
      "source": [
        "class Coordinate:\n",
        "  x = 10\n",
        "  y = -5\n",
        "  z = 0\n",
        "\n",
        "point1 = Coordinate() \n",
        "\n",
        "print('x = ',point1.x)\n",
        "print('y = ',point1.y)\n",
        "print('z = ',point1.z)\n",
        "\n",
        "delattr(Coordinate, 'z')\n",
        "\n",
        "print('--After deleting z attribute--')\n",
        "print('x = ',point1.x)\n",
        "print('y = ',point1.y)\n",
        "\n",
        "# Raises Error\n",
        "#print('z = ',point1.z)"
      ],
      "execution_count": 0,
      "outputs": [
        {
          "output_type": "stream",
          "text": [
            "x =  10\n",
            "y =  -5\n",
            "z =  0\n",
            "--After deleting z attribute--\n",
            "x =  10\n",
            "y =  -5\n"
          ],
          "name": "stdout"
        }
      ]
    },
    {
      "cell_type": "code",
      "metadata": {
        "id": "svIflclkFOOb",
        "colab_type": "code",
        "outputId": "8db57925-a721-40cb-9e79-c48fe467345b",
        "colab": {
          "base_uri": "https://localhost:8080/",
          "height": 121
        }
      },
      "source": [
        "class Coordinate:\n",
        "  x = 10\n",
        "  y = -5\n",
        "  z = 0\n",
        "\n",
        "point1 = Coordinate() \n",
        "\n",
        "print('x = ',point1.x)\n",
        "print('y = ',point1.y)\n",
        "print('z = ',point1.z)\n",
        "\n",
        "# Deleting attribute z\n",
        "del Coordinate.z\n",
        "\n",
        "print('--After deleting z attribute--')\n",
        "print('x = ',point1.x)\n",
        "print('y = ',point1.y)\n",
        "\n",
        "# Raises Attribute Error\n",
        "#print('z = ',point1.z)"
      ],
      "execution_count": 0,
      "outputs": [
        {
          "output_type": "stream",
          "text": [
            "x =  10\n",
            "y =  -5\n",
            "z =  0\n",
            "--After deleting z attribute--\n",
            "x =  10\n",
            "y =  -5\n"
          ],
          "name": "stdout"
        }
      ]
    },
    {
      "cell_type": "code",
      "metadata": {
        "id": "nfHQOPmuFdGy",
        "colab_type": "code",
        "outputId": "eac78c8a-498e-4bff-eade-938c52fea240",
        "colab": {
          "base_uri": "https://localhost:8080/",
          "height": 191
        }
      },
      "source": [
        "numbers = dict(x=5, y=0)\n",
        "print('numbers =', numbers)\n",
        "print(type(numbers))\n",
        "\n",
        "empty = dict()\n",
        "print('empty =', empty)\n",
        "print(type(empty))\n",
        "# keyword argument is not passed\n",
        "numbers1 = dict([('x', 5), ('y', -5)])\n",
        "print('numbers1 =',numbers1)\n",
        "\n",
        "# keyword argument is also passed\n",
        "numbers2 = dict([('x', 5), ('y', -5)], z=8)\n",
        "print('numbers2 =',numbers2)\n",
        "\n",
        "# zip() creates an iterable in Python 3\n",
        "numbers3 = dict(dict(zip(['x', 'y', 'z'], [1, 2, 3])))\n",
        "print('numbers3 =',numbers3)\n",
        "\n",
        "numbers1 = dict({'x': 4, 'y': 5})\n",
        "print('numbers1 =',numbers1)\n",
        "\n",
        "# you don't need to use dict() in above code\n",
        "numbers2 = {'x': 4, 'y': 5}\n",
        "print('numbers2 =',numbers2)\n",
        "\n",
        "# keyword argument is also passed\n",
        "numbers3 = dict({'x': 4, 'y': 5}, z=8)\n",
        "print('numbers3 =',numbers3)"
      ],
      "execution_count": 0,
      "outputs": [
        {
          "output_type": "stream",
          "text": [
            "numbers = {'x': 5, 'y': 0}\n",
            "<class 'dict'>\n",
            "empty = {}\n",
            "<class 'dict'>\n",
            "numbers1 = {'x': 5, 'y': -5}\n",
            "numbers2 = {'x': 5, 'y': -5, 'z': 8}\n",
            "numbers3 = {'x': 1, 'y': 2, 'z': 3}\n",
            "numbers1 = {'x': 4, 'y': 5}\n",
            "numbers2 = {'x': 4, 'y': 5}\n",
            "numbers3 = {'x': 4, 'y': 5, 'z': 8}\n"
          ],
          "name": "stdout"
        }
      ]
    },
    {
      "cell_type": "code",
      "metadata": {
        "id": "-_uUnoD9F1ai",
        "colab_type": "code",
        "outputId": "7557a3b8-8d06-4165-b7c5-27ee85375167",
        "colab": {
          "base_uri": "https://localhost:8080/",
          "height": 107
        }
      },
      "source": [
        "number = [1, 2, 3]\n",
        "print(dir(number))\n",
        "\n",
        "print('\\nReturn Value from empty dir()')\n",
        "print(dir())"
      ],
      "execution_count": 2,
      "outputs": [
        {
          "output_type": "stream",
          "text": [
            "['__add__', '__class__', '__contains__', '__delattr__', '__delitem__', '__dir__', '__doc__', '__eq__', '__format__', '__ge__', '__getattribute__', '__getitem__', '__gt__', '__hash__', '__iadd__', '__imul__', '__init__', '__init_subclass__', '__iter__', '__le__', '__len__', '__lt__', '__mul__', '__ne__', '__new__', '__reduce__', '__reduce_ex__', '__repr__', '__reversed__', '__rmul__', '__setattr__', '__setitem__', '__sizeof__', '__str__', '__subclasshook__', 'append', 'clear', 'copy', 'count', 'extend', 'index', 'insert', 'pop', 'remove', 'reverse', 'sort']\n",
            "\n",
            "Return Value from empty dir()\n",
            "['In', 'Out', '_', '__', '___', '__builtin__', '__builtins__', '__doc__', '__loader__', '__name__', '__package__', '__spec__', '_dh', '_i', '_i1', '_i2', '_ih', '_ii', '_iii', '_oh', '_sh', 'exit', 'get_ipython', 'number', 'quit', 'z']\n"
          ],
          "name": "stdout"
        }
      ]
    },
    {
      "cell_type": "code",
      "metadata": {
        "id": "GdSUTbb3GIKx",
        "colab_type": "code",
        "outputId": "ce936c12-5900-4230-c0aa-14acbd0562bf",
        "colab": {
          "base_uri": "https://localhost:8080/",
          "height": 35
        }
      },
      "source": [
        "class Person:\n",
        "  def __dir__(self):\n",
        "    return ['age', 'name', 'salary']\n",
        "    \n",
        "\n",
        "teacher = Person()\n",
        "print(dir(teacher))"
      ],
      "execution_count": 3,
      "outputs": [
        {
          "output_type": "stream",
          "text": [
            "['age', 'name', 'salary']\n"
          ],
          "name": "stdout"
        }
      ]
    },
    {
      "cell_type": "code",
      "metadata": {
        "id": "PPxuTpePGT84",
        "colab_type": "code",
        "outputId": "53310273-ee4c-423f-e985-0bd57056fbb6",
        "colab": {
          "base_uri": "https://localhost:8080/",
          "height": 139
        }
      },
      "source": [
        "print('divmod(8, 3) = ', divmod(8, 3))\n",
        "print('divmod(3, 8) = ', divmod(3, 8))\n",
        "print('divmod(5, 5) = ', divmod(5, 5))\n",
        "\n",
        "# divmod() with Floats\n",
        "print('divmod(8.0, 3) = ', divmod(8.0, 3))\n",
        "print('divmod(3, 8.0) = ', divmod(3, 8.0))\n",
        "print('divmod(7.5, 2.5) = ', divmod(7.5, 2.5))\n",
        "print('divmod(2.6, 0.5) = ', divmod(2.6, 0.5))"
      ],
      "execution_count": 0,
      "outputs": [
        {
          "output_type": "stream",
          "text": [
            "divmod(8, 3) =  (2, 2)\n",
            "divmod(3, 8) =  (0, 3)\n",
            "divmod(5, 5) =  (1, 0)\n",
            "divmod(8.0, 3) =  (2.0, 2.0)\n",
            "divmod(3, 8.0) =  (0.0, 3.0)\n",
            "divmod(7.5, 2.5) =  (3.0, 0.0)\n",
            "divmod(2.6, 0.5) =  (5.0, 0.10000000000000009)\n"
          ],
          "name": "stdout"
        }
      ]
    },
    {
      "cell_type": "code",
      "metadata": {
        "id": "SoTak0-GGqQt",
        "colab_type": "code",
        "outputId": "3eff57a9-fc1b-42ef-ac32-4ef6fca5cf2e",
        "colab": {
          "base_uri": "https://localhost:8080/",
          "height": 69
        }
      },
      "source": [
        "grocery = ['bread', 'milk', 'butter']\n",
        "enumerateGrocery = enumerate(grocery)\n",
        "\n",
        "print(type(enumerateGrocery))\n",
        "\n",
        "# converting to list\n",
        "print(list(enumerateGrocery))\n",
        "\n",
        "# changing the default counter\n",
        "enumerateGrocery = enumerate(grocery, 10)\n",
        "print(list(enumerateGrocery))"
      ],
      "execution_count": 0,
      "outputs": [
        {
          "output_type": "stream",
          "text": [
            "<class 'enumerate'>\n",
            "[(0, 'bread'), (1, 'milk'), (2, 'butter')]\n",
            "[(10, 'bread'), (11, 'milk'), (12, 'butter')]\n"
          ],
          "name": "stdout"
        }
      ]
    },
    {
      "cell_type": "code",
      "metadata": {
        "id": "7BB4o38nHDnL",
        "colab_type": "code",
        "outputId": "1e882259-3b28-4926-8682-97fd6ba45c4f",
        "colab": {
          "base_uri": "https://localhost:8080/",
          "height": 243
        }
      },
      "source": [
        "grocery = ['bread', 'milk', 'butter']\n",
        "\n",
        "for item in enumerate(grocery):\n",
        "  print(item)\n",
        "\n",
        "print('\\n')\n",
        "for count, item in enumerate(grocery):\n",
        "  print(count, item)\n",
        "\n",
        "print('\\n')\n",
        "# changing default start value\n",
        "for count, item in enumerate(grocery, 100):\n",
        "  print(count, item)"
      ],
      "execution_count": 0,
      "outputs": [
        {
          "output_type": "stream",
          "text": [
            "(0, 'bread')\n",
            "(1, 'milk')\n",
            "(2, 'butter')\n",
            "\n",
            "\n",
            "0 bread\n",
            "1 milk\n",
            "2 butter\n",
            "\n",
            "\n",
            "100 bread\n",
            "101 milk\n",
            "102 butter\n"
          ],
          "name": "stdout"
        }
      ]
    },
    {
      "cell_type": "code",
      "metadata": {
        "id": "cMW3_6QxHszB",
        "colab_type": "code",
        "outputId": "6bd75fc0-72e6-4ea7-91ef-09615e575005",
        "colab": {
          "base_uri": "https://localhost:8080/",
          "height": 35
        }
      },
      "source": [
        "class Mathematics:\n",
        "\n",
        "    def addNumbers(x, y):\n",
        "        return x + y\n",
        "\n",
        "# create addNumbers static method\n",
        "Mathematics.addNumbers = staticmethod(Mathematics.addNumbers)\n",
        "\n",
        "print('The sum is:', Mathematics.addNumbers(5, 10))"
      ],
      "execution_count": 0,
      "outputs": [
        {
          "output_type": "stream",
          "text": [
            "The sum is: 15\n"
          ],
          "name": "stdout"
        }
      ]
    },
    {
      "cell_type": "code",
      "metadata": {
        "id": "iJ4uRR7eIbcg",
        "colab_type": "code",
        "outputId": "ffc80501-26fc-43f0-aa7a-8e96d60186b8",
        "colab": {
          "base_uri": "https://localhost:8080/",
          "height": 35
        }
      },
      "source": [
        "class Dates:\n",
        "    def __init__(self, date):\n",
        "        self.date = date\n",
        "        \n",
        "    def getDate(self):\n",
        "        return self.date\n",
        "\n",
        "    @staticmethod\n",
        "    def toDashDate(date):\n",
        "        return date.replace(\"/\", \"-\")\n",
        "\n",
        "class DatesWithSlashes(Dates):\n",
        "    def getDate(self):\n",
        "        return Dates.toDashDate(self.date)\n",
        "\n",
        "date = Dates(\"15-12-2016\")\n",
        "dateFromDB = DatesWithSlashes(\"15/12/2016\")\n",
        "\n",
        "if(date.getDate() == dateFromDB.getDate()):\n",
        "    print(\"Equal\")\n",
        "else:\n",
        "    print(\"Unequal\")"
      ],
      "execution_count": 4,
      "outputs": [
        {
          "output_type": "stream",
          "text": [
            "Equal\n"
          ],
          "name": "stdout"
        }
      ]
    },
    {
      "cell_type": "code",
      "metadata": {
        "id": "APNzvKKOLpv9",
        "colab_type": "code",
        "colab": {
          "base_uri": "https://localhost:8080/",
          "height": 121
        },
        "outputId": "cb580824-c848-4020-f1a9-521b44349fb9"
      },
      "source": [
        "alphabets = ['a', 'b', 'd', 'e', 'i', 'j', 'o']\n",
        "\n",
        "# function that filters vowels\n",
        "def filterVowels(alphabet):\n",
        "    vowels = ['a', 'e', 'i', 'o', 'u']\n",
        "\n",
        "    if(alphabet in vowels):\n",
        "        return True\n",
        "    else:\n",
        "        return False\n",
        "\n",
        "filteredVowels = filter(filterVowels, alphabets)\n",
        "\n",
        "print('The filtered vowels are:')\n",
        "print(filteredVowels)\n",
        "for vowel in filteredVowels:\n",
        "     print(vowel)"
      ],
      "execution_count": 7,
      "outputs": [
        {
          "output_type": "stream",
          "text": [
            "The filtered vowels are:\n",
            "<filter object at 0x7fb573389128>\n",
            "a\n",
            "e\n",
            "i\n",
            "o\n"
          ],
          "name": "stdout"
        }
      ]
    },
    {
      "cell_type": "code",
      "metadata": {
        "id": "3tbNxil4MJbN",
        "colab_type": "code",
        "colab": {
          "base_uri": "https://localhost:8080/",
          "height": 104
        },
        "outputId": "0318fc2d-e34f-4991-f517-cf2dc820246e"
      },
      "source": [
        "# random list\n",
        "randomList = [1, 'a', 0, False, True, '0']\n",
        "\n",
        "filteredList = filter(None, randomList)\n",
        "\n",
        "print('The filtered elements are:')\n",
        "for element in filteredList:\n",
        "    print(element)"
      ],
      "execution_count": 8,
      "outputs": [
        {
          "output_type": "stream",
          "text": [
            "The filtered elements are:\n",
            "1\n",
            "a\n",
            "True\n",
            "0\n"
          ],
          "name": "stdout"
        }
      ]
    },
    {
      "cell_type": "code",
      "metadata": {
        "id": "oZIaG-2bMWM0",
        "colab_type": "code",
        "colab": {
          "base_uri": "https://localhost:8080/",
          "height": 35
        },
        "outputId": "19408eb0-9511-46b5-e956-7abf94a5a924"
      },
      "source": [
        "x = 1\n",
        "print(eval('x + 1'))"
      ],
      "execution_count": 9,
      "outputs": [
        {
          "output_type": "stream",
          "text": [
            "2\n"
          ],
          "name": "stdout"
        }
      ]
    },
    {
      "cell_type": "code",
      "metadata": {
        "id": "TrYYVM2xMhgw",
        "colab_type": "code",
        "colab": {
          "base_uri": "https://localhost:8080/",
          "height": 104
        },
        "outputId": "ed185356-a4fd-4992-a55a-d835543e2933"
      },
      "source": [
        "# Perimeter of Square\n",
        "def calculatePerimeter(l):\n",
        "  return 4*l\n",
        "\n",
        "# Area of Square\n",
        "def calculateArea(l):\n",
        "  return l*1\n",
        "\n",
        "property = input(\"Type a function: \")\n",
        "\n",
        "for l in range(1, 5):\n",
        "  if (property == 'calculatePerimeter(l)'):\n",
        "    print(\"If length is \", l , \", Perimeter = \", eval(property))\n",
        "  elif (property == 'calculateArea(l)'):\n",
        "    print(\"If length is \", l , \", Area = \", eval(property))\n",
        "  else:\n",
        "    print('Wrong Function')\n",
        "    break"
      ],
      "execution_count": 11,
      "outputs": [
        {
          "output_type": "stream",
          "text": [
            "Type a function: calculateArea(l)\n",
            "If length is  1 , Area =  1\n",
            "If length is  2 , Area =  2\n",
            "If length is  3 , Area =  3\n",
            "If length is  4 , Area =  4\n"
          ],
          "name": "stdout"
        }
      ]
    },
    {
      "cell_type": "code",
      "metadata": {
        "id": "SFgnfocZNMJ1",
        "colab_type": "code",
        "colab": {
          "base_uri": "https://localhost:8080/",
          "height": 107
        },
        "outputId": "2ab7552e-8e77-4cd1-b4b8-05231ece155d"
      },
      "source": [
        "from math import *\n",
        "print(eval('dir()'))\n",
        "print(eval('dir()', {}))\n",
        "\n",
        "print(eval('dir()', {'sqrt': sqrt, 'pow': pow}))\n",
        "\n",
        "a = 5\n",
        "print(eval('sqrt(a)', {'__builtins__': None}, {'a': a, 'sqrt': sqrt}))"
      ],
      "execution_count": 16,
      "outputs": [
        {
          "output_type": "stream",
          "text": [
            "['Dates', 'DatesWithSlashes', 'In', 'Out', 'Person', '_', '__', '___', '__builtin__', '__builtins__', '__doc__', '__loader__', '__name__', '__package__', '__spec__', '_dh', '_i', '_i1', '_i10', '_i11', '_i12', '_i13', '_i14', '_i15', '_i16', '_i2', '_i3', '_i4', '_i5', '_i6', '_i7', '_i8', '_i9', '_ih', '_ii', '_iii', '_oh', '_sh', 'acos', 'acosh', 'alphabets', 'asin', 'asinh', 'atan', 'atan2', 'atanh', 'calculateArea', 'calculatePerimeter', 'ceil', 'copysign', 'cos', 'cosh', 'date', 'dateFromDB', 'degrees', 'e', 'element', 'erf', 'erfc', 'exit', 'exp', 'expm1', 'fabs', 'factorial', 'filterVowels', 'filteredList', 'filteredVowels', 'floor', 'fmod', 'frexp', 'fsum', 'gamma', 'gcd', 'get_ipython', 'hypot', 'inf', 'isclose', 'isfinite', 'isinf', 'isnan', 'l', 'ldexp', 'lgamma', 'log', 'log10', 'log1p', 'log2', 'modf', 'nan', 'number', 'pi', 'pow', 'property', 'quit', 'radians', 'randomList', 'sin', 'sinh', 'sqrt', 'tan', 'tanh', 'tau', 'teacher', 'trunc', 'vowel', 'x', 'z']\n",
            "['__builtins__']\n",
            "['__builtins__', 'pow', 'sqrt']\n",
            "2.23606797749979\n"
          ],
          "name": "stdout"
        }
      ]
    },
    {
      "cell_type": "code",
      "metadata": {
        "id": "ofFCt4d3OOo5",
        "colab_type": "code",
        "colab": {
          "base_uri": "https://localhost:8080/",
          "height": 87
        },
        "outputId": "a9fb29bc-9664-4390-d7a8-bce10e54dc9c"
      },
      "source": [
        "# for integers\n",
        "print(float(10))\n",
        "\n",
        "# for floats\n",
        "print(float(11.22))\n",
        "\n",
        "# for string floats\n",
        "print(float(\"-13.33\"))\n",
        "\n",
        "# for string floats with whitespaces\n",
        "print(float(\"     -24.45\\n\"))\n",
        "\n",
        "# string float error\n",
        "#print(float(\"abc\"))"
      ],
      "execution_count": 18,
      "outputs": [
        {
          "output_type": "stream",
          "text": [
            "10.0\n",
            "11.22\n",
            "-13.33\n",
            "-24.45\n"
          ],
          "name": "stdout"
        }
      ]
    },
    {
      "cell_type": "code",
      "metadata": {
        "id": "Nrfy3ZIQOfJn",
        "colab_type": "code",
        "colab": {
          "base_uri": "https://localhost:8080/",
          "height": 121
        },
        "outputId": "e8ebbac0-0c18-4ad1-f1c5-5ed63c660ace"
      },
      "source": [
        "# for NaN\n",
        "print(float(\"nan\"))\n",
        "print(float(\"NaN\"))\n",
        "\n",
        "# for inf/infinity\n",
        "print(float(\"inf\"))\n",
        "print(float(\"InF\"))\n",
        "print(float(\"InFiNiTy\"))\n",
        "print(float(\"infinity\"))"
      ],
      "execution_count": 19,
      "outputs": [
        {
          "output_type": "stream",
          "text": [
            "nan\n",
            "nan\n",
            "inf\n",
            "inf\n",
            "inf\n",
            "inf\n"
          ],
          "name": "stdout"
        }
      ]
    },
    {
      "cell_type": "code",
      "metadata": {
        "id": "xtJJWIHOOt-R",
        "colab_type": "code",
        "colab": {
          "base_uri": "https://localhost:8080/",
          "height": 69
        },
        "outputId": "1dbb0342-7b59-4d6b-c068-34474e343e52"
      },
      "source": [
        "# d, f and b are type\n",
        "\n",
        "# integer\n",
        "print(format(123, \"d\"))\n",
        "\n",
        "# float arguments\n",
        "print(format(123.4567898, \"f\"))\n",
        "\n",
        "# binary format\n",
        "print(format(12, \"b\"))"
      ],
      "execution_count": 20,
      "outputs": [
        {
          "output_type": "stream",
          "text": [
            "123\n",
            "123.456790\n",
            "1100\n"
          ],
          "name": "stdout"
        }
      ]
    },
    {
      "cell_type": "code",
      "metadata": {
        "id": "6cvHNJkjO2hq",
        "colab_type": "code",
        "colab": {
          "base_uri": "https://localhost:8080/",
          "height": 52
        },
        "outputId": "a8c8e8b9-6027-4c8d-cb1a-f85d6c23069e"
      },
      "source": [
        "# integer \n",
        "print(format(1234, \"*>+7,d\"))\n",
        "\n",
        "# float number\n",
        "print(format(123.4567, \"^-09.3f\"))"
      ],
      "execution_count": 21,
      "outputs": [
        {
          "output_type": "stream",
          "text": [
            "*+1,234\n",
            "0123.4570\n"
          ],
          "name": "stdout"
        }
      ]
    },
    {
      "cell_type": "code",
      "metadata": {
        "id": "llntbZ1RPTT5",
        "colab_type": "code",
        "colab": {
          "base_uri": "https://localhost:8080/",
          "height": 52
        },
        "outputId": "cedecdc4-db99-4d43-ebd3-da3f1420eab9"
      },
      "source": [
        "# tuple of vowels\n",
        "vowels = ('a', 'e', 'i', 'o', 'u')\n",
        "\n",
        "fSet = frozenset(vowels)\n",
        "print('The frozen set is:', fSet)\n",
        "print('The empty frozen set is:', frozenset())"
      ],
      "execution_count": 22,
      "outputs": [
        {
          "output_type": "stream",
          "text": [
            "The frozen set is: frozenset({'o', 'i', 'u', 'a', 'e'})\n",
            "The empty frozen set is: frozenset()\n"
          ],
          "name": "stdout"
        }
      ]
    },
    {
      "cell_type": "code",
      "metadata": {
        "id": "MxqU0xyhPk8f",
        "colab_type": "code",
        "colab": {
          "base_uri": "https://localhost:8080/",
          "height": 35
        },
        "outputId": "a2abcf6d-3a09-44f8-a0cb-8344f1b65cc9"
      },
      "source": [
        "class Person:\n",
        "    #age = 23\n",
        "    name = \"Adam\"\n",
        "\n",
        "person = Person()\n",
        "print('The age is:', getattr(person, \"age\",2233))\n",
        "#print('The age is:', person.age)"
      ],
      "execution_count": 25,
      "outputs": [
        {
          "output_type": "stream",
          "text": [
            "The age is: 2233\n"
          ],
          "name": "stdout"
        }
      ]
    },
    {
      "cell_type": "code",
      "metadata": {
        "id": "i5jchEY3P26j",
        "colab_type": "code",
        "colab": {
          "base_uri": "https://localhost:8080/",
          "height": 35
        },
        "outputId": "d9cb4b65-c242-4618-aba7-89edd7d71b18"
      },
      "source": [
        "class Person:\n",
        "    age = 23\n",
        "    name = \"Adam\"\n",
        "\n",
        "person = Person()\n",
        "\n",
        "# when default value is provided\n",
        "print('The sex is:', getattr(person, 'sex', 'Male'))\n",
        "\n",
        "# when no default value is provided\n",
        "#print('The sex is:', getattr(person, 'sex'))"
      ],
      "execution_count": 27,
      "outputs": [
        {
          "output_type": "stream",
          "text": [
            "The sex is: Male\n"
          ],
          "name": "stdout"
        }
      ]
    },
    {
      "cell_type": "code",
      "metadata": {
        "id": "5HCv88yRQTHi",
        "colab_type": "code",
        "colab": {
          "base_uri": "https://localhost:8080/",
          "height": 1000
        },
        "outputId": "238c16b9-a76a-4dcf-ae83-1951430e1955"
      },
      "source": [
        "globals()"
      ],
      "execution_count": 28,
      "outputs": [
        {
          "output_type": "execute_result",
          "data": {
            "text/plain": [
              "{'Dates': __main__.Dates,\n",
              " 'DatesWithSlashes': __main__.DatesWithSlashes,\n",
              " 'In': ['',\n",
              "  \"z = complex(2, -3)\\nprint(z)\\n\\nz = complex(1)\\nprint(z)\\n\\nz = complex()\\nprint(z)\\n\\nz = complex('5-9j')\\nprint(z)\",\n",
              "  \"number = [1, 2, 3]\\nprint(dir(number))\\n\\nprint('\\\\nReturn Value from empty dir()')\\nprint(dir())\",\n",
              "  \"class Person:\\n  def __dir__(self):\\n    return ['age', 'name', 'salary']\\n    \\n\\nteacher = Person()\\nprint(dir(teacher))\",\n",
              "  'class Dates:\\n    def __init__(self, date):\\n        self.date = date\\n        \\n    def getDate(self):\\n        return self.date\\n\\n    @staticmethod\\n    def toDashDate(date):\\n        return date.replace(\"/\", \"-\")\\n\\nclass DatesWithSlashes(Dates):\\n    def getDate(self):\\n        return Dates.toDashDate(self.date)\\n\\ndate = Dates(\"15-12-2016\")\\ndateFromDB = DatesWithSlashes(\"15/12/2016\")\\n\\nif(date.getDate() == dateFromDB.getDate()):\\n    print(\"Equal\")\\nelse:\\n    print(\"Unequal\")',\n",
              "  \"alphabets = ['a', 'b', 'd', 'e', 'i', 'j', 'o']\\n\\n# function that filters vowels\\ndef filterVowels(alphabet):\\n    vowels = ['a', 'e', 'i', 'o', 'u']\\n\\n    if(alphabet in vowels):\\n        return True\\n    else:\\n        return False\\n\\nfilteredVowels = filter(filterVowels, alphabets)\\n\\nprint('The filtered vowels are:')\\nfor vowel in filteredVowels:\\n    print(vowel)\",\n",
              "  \"alphabets = ['a', 'b', 'd', 'e', 'i', 'j', 'o']\\n\\n# function that filters vowels\\ndef filterVowels(alphabet):\\n    vowels = ['a', 'e', 'i', 'o', 'u']\\n\\n    if(alphabet in vowels):\\n        return True\\n    else:\\n        return False\\n\\nfilteredVowels = filter(filterVowels, alphabets)\\n\\nprint('The filtered vowels are:')\\nprint(filteredVowels)\\n# for vowel in filteredVowels:\\n#     print(vowel)\",\n",
              "  \"alphabets = ['a', 'b', 'd', 'e', 'i', 'j', 'o']\\n\\n# function that filters vowels\\ndef filterVowels(alphabet):\\n    vowels = ['a', 'e', 'i', 'o', 'u']\\n\\n    if(alphabet in vowels):\\n        return True\\n    else:\\n        return False\\n\\nfilteredVowels = filter(filterVowels, alphabets)\\n\\nprint('The filtered vowels are:')\\nprint(filteredVowels)\\nfor vowel in filteredVowels:\\n     print(vowel)\",\n",
              "  \"randomList = [1, 'a', 0, False, True, '0']\\n\\nfilteredList = filter(None, randomList)\\n\\nprint('The filtered elements are:')\\nfor element in filteredList:\\n    print(element)\",\n",
              "  \"x = 1\\nprint(eval('x + 1'))\",\n",
              "  'def calculatePerimeter(l):\\n  return 4*l\\n\\n# Area of Square\\ndef calculateArea(l):\\n  return l*1\\n\\nproperty = input(\"Type a function: \")\\n\\nfor l in range(1, 5):\\n    if (property == \\'calculatePerimeter(l)\\'):\\n        print(\"If length is \", l , \", Perimeter = \", eval(property))\\n    elif (property == \\'calculateArea(l)\\'):\\n\\tprint(\"If length is \", l , \", Area = \", eval(property))\\n    else:\\n      print(\\'Wrong Function\\')\\n      break',\n",
              "  'def calculatePerimeter(l):\\n  return 4*l\\n\\n# Area of Square\\ndef calculateArea(l):\\n  return l*1\\n\\nproperty = input(\"Type a function: \")\\n\\nfor l in range(1, 5):\\n  if (property == \\'calculatePerimeter(l)\\'):\\n    print(\"If length is \", l , \", Perimeter = \", eval(property))\\n  elif (property == \\'calculateArea(l)\\'):\\nprint(\"If length is \", l , \", Area = \", eval(property))\\n  else:\\n    print(\\'Wrong Function\\')\\n    break',\n",
              "  'def calculatePerimeter(l):\\n  return 4*l\\n\\n# Area of Square\\ndef calculateArea(l):\\n  return l*1\\n\\nproperty = input(\"Type a function: \")\\n\\nfor l in range(1, 5):\\n  if (property == \\'calculatePerimeter(l)\\'):\\n    print(\"If length is \", l , \", Perimeter = \", eval(property))\\n  elif (property == \\'calculateArea(l)\\'):\\n    print(\"If length is \", l , \", Area = \", eval(property))\\n  else:\\n    print(\\'Wrong Function\\')\\n    break',\n",
              "  'def calculatePerimeter(l):\\n  return 4*l\\n\\n# Area of Square\\ndef calculateArea(l):\\n  return l*1\\n\\nproperty = input(\"Type a function: \")\\n\\nfor l in range(1, 5):\\n  if (property == \\'calculatePerimeter(l)\\'):\\n    print(\"If length is \", l , \", Perimeter = \", eval(property))\\n  elif (property == \\'calculateArea(l)\\'):\\n    print(\"If length is \", l , \", Area = \", eval(property))\\n  else:\\n    print(\\'Wrong Function\\')\\n    break',\n",
              "  \"from math import *\\nprint(eval('dir()'))\",\n",
              "  \"from math import *\\nprint(eval('dir()'))\\nfrom math import *\\nprint(eval('dir()', {}))\",\n",
              "  \"from math import *\\nprint(eval('dir()'))\\nfrom math import *\\nprint(eval('dir()', {}))\\nfrom math import *\\nprint(eval('dir()', {'sqrt': sqrt, 'pow': pow}))\",\n",
              "  \"from math import *\\nprint(eval('dir()'))\\nfrom math import *\\nprint(eval('dir()', {}))\\nfrom math import *\\nprint(eval('dir()', {'sqrt': sqrt, 'pow': pow}))\",\n",
              "  \"from math import *\\nprint(eval('dir()'))\\nprint(eval('dir()', {}))\\n\\nprint(eval('dir()', {'sqrt': sqrt, 'pow': pow}))\\n\\na = 5\\nprint(eval('sqrt(a)', {'__builtins__': None}, {'a': a, 'sqrt': sqrt}))\",\n",
              "  'print(float(10))\\n\\n# for floats\\nprint(float(11.22))\\n\\n# for string floats\\nprint(float(\"-13.33\"))\\n\\n# for string floats with whitespaces\\nprint(float(\"     -24.45\\\\n\"))\\n\\n# string float error\\nprint(float(\"abc\"))',\n",
              "  'print(float(10))\\n\\n# for floats\\nprint(float(11.22))\\n\\n# for string floats\\nprint(float(\"-13.33\"))\\n\\n# for string floats with whitespaces\\nprint(float(\"     -24.45\\\\n\"))\\n\\n# string float error\\n#print(float(\"abc\"))',\n",
              "  'print(float(\"nan\"))\\nprint(float(\"NaN\"))\\n\\n# for inf/infinity\\nprint(float(\"inf\"))\\nprint(float(\"InF\"))\\nprint(float(\"InFiNiTy\"))\\nprint(float(\"infinity\"))',\n",
              "  'print(format(123, \"d\"))\\n\\n# float arguments\\nprint(format(123.4567898, \"f\"))\\n\\n# binary format\\nprint(format(12, \"b\"))',\n",
              "  'print(format(1234, \"*>+7,d\"))\\n\\n# float number\\nprint(format(123.4567, \"^-09.3f\"))',\n",
              "  \"vowels = ('a', 'e', 'i', 'o', 'u')\\n\\nfSet = frozenset(vowels)\\nprint('The frozen set is:', fSet)\\nprint('The empty frozen set is:', frozenset())\",\n",
              "  'class Person:\\n    age = 23\\n    name = \"Adam\"\\n\\nperson = Person()\\nprint(\\'The age is:\\', getattr(person, \"age\"))\\nprint(\\'The age is:\\', person.age)',\n",
              "  'class Person:\\n    #age = 23\\n    name = \"Adam\"\\n\\nperson = Person()\\nprint(\\'The age is:\\', getattr(person, \"age\",2233))\\nprint(\\'The age is:\\', person.age)',\n",
              "  'class Person:\\n    #age = 23\\n    name = \"Adam\"\\n\\nperson = Person()\\nprint(\\'The age is:\\', getattr(person, \"age\",2233))\\n#print(\\'The age is:\\', person.age)',\n",
              "  'class Person:\\n    age = 23\\n    name = \"Adam\"\\n\\nperson = Person()\\n\\n# when default value is provided\\nprint(\\'The sex is:\\', getattr(person, \\'sex\\', \\'Male\\'))\\n\\n# when no default value is provided\\nprint(\\'The sex is:\\', getattr(person, \\'sex\\'))',\n",
              "  'class Person:\\n    age = 23\\n    name = \"Adam\"\\n\\nperson = Person()\\n\\n# when default value is provided\\nprint(\\'The sex is:\\', getattr(person, \\'sex\\', \\'Male\\'))\\n\\n# when no default value is provided\\n#print(\\'The sex is:\\', getattr(person, \\'sex\\'))',\n",
              "  'globals()'],\n",
              " 'Out': {},\n",
              " 'Person': __main__.Person,\n",
              " '_': '',\n",
              " '__': '',\n",
              " '___': '',\n",
              " '__builtin__': <module 'builtins' (built-in)>,\n",
              " '__builtins__': <module 'builtins' (built-in)>,\n",
              " '__doc__': 'Automatically created module for IPython interactive environment',\n",
              " '__loader__': None,\n",
              " '__name__': '__main__',\n",
              " '__package__': None,\n",
              " '__spec__': None,\n",
              " '_dh': ['/content'],\n",
              " '_i': 'class Person:\\n    age = 23\\n    name = \"Adam\"\\n\\nperson = Person()\\n\\n# when default value is provided\\nprint(\\'The sex is:\\', getattr(person, \\'sex\\', \\'Male\\'))\\n\\n# when no default value is provided\\n#print(\\'The sex is:\\', getattr(person, \\'sex\\'))',\n",
              " '_i1': \"z = complex(2, -3)\\nprint(z)\\n\\nz = complex(1)\\nprint(z)\\n\\nz = complex()\\nprint(z)\\n\\nz = complex('5-9j')\\nprint(z)\",\n",
              " '_i10': 'def calculatePerimeter(l):\\n  return 4*l\\n\\n# Area of Square\\ndef calculateArea(l):\\n  return l*1\\n\\nproperty = input(\"Type a function: \")\\n\\nfor l in range(1, 5):\\n  if (property == \\'calculatePerimeter(l)\\'):\\n    print(\"If length is \", l , \", Perimeter = \", eval(property))\\n  elif (property == \\'calculateArea(l)\\'):\\n    print(\"If length is \", l , \", Area = \", eval(property))\\n  else:\\n    print(\\'Wrong Function\\')\\n    break',\n",
              " '_i11': 'def calculatePerimeter(l):\\n  return 4*l\\n\\n# Area of Square\\ndef calculateArea(l):\\n  return l*1\\n\\nproperty = input(\"Type a function: \")\\n\\nfor l in range(1, 5):\\n  if (property == \\'calculatePerimeter(l)\\'):\\n    print(\"If length is \", l , \", Perimeter = \", eval(property))\\n  elif (property == \\'calculateArea(l)\\'):\\n    print(\"If length is \", l , \", Area = \", eval(property))\\n  else:\\n    print(\\'Wrong Function\\')\\n    break',\n",
              " '_i12': \"from math import *\\nprint(eval('dir()'))\",\n",
              " '_i13': \"from math import *\\nprint(eval('dir()'))\\nfrom math import *\\nprint(eval('dir()', {}))\",\n",
              " '_i14': \"from math import *\\nprint(eval('dir()'))\\nfrom math import *\\nprint(eval('dir()', {}))\\nfrom math import *\\nprint(eval('dir()', {'sqrt': sqrt, 'pow': pow}))\",\n",
              " '_i15': \"from math import *\\nprint(eval('dir()'))\\nfrom math import *\\nprint(eval('dir()', {}))\\nfrom math import *\\nprint(eval('dir()', {'sqrt': sqrt, 'pow': pow}))\",\n",
              " '_i16': \"from math import *\\nprint(eval('dir()'))\\nprint(eval('dir()', {}))\\n\\nprint(eval('dir()', {'sqrt': sqrt, 'pow': pow}))\\n\\na = 5\\nprint(eval('sqrt(a)', {'__builtins__': None}, {'a': a, 'sqrt': sqrt}))\",\n",
              " '_i17': 'print(float(10))\\n\\n# for floats\\nprint(float(11.22))\\n\\n# for string floats\\nprint(float(\"-13.33\"))\\n\\n# for string floats with whitespaces\\nprint(float(\"     -24.45\\\\n\"))\\n\\n# string float error\\nprint(float(\"abc\"))',\n",
              " '_i18': 'print(float(10))\\n\\n# for floats\\nprint(float(11.22))\\n\\n# for string floats\\nprint(float(\"-13.33\"))\\n\\n# for string floats with whitespaces\\nprint(float(\"     -24.45\\\\n\"))\\n\\n# string float error\\n#print(float(\"abc\"))',\n",
              " '_i19': 'print(float(\"nan\"))\\nprint(float(\"NaN\"))\\n\\n# for inf/infinity\\nprint(float(\"inf\"))\\nprint(float(\"InF\"))\\nprint(float(\"InFiNiTy\"))\\nprint(float(\"infinity\"))',\n",
              " '_i2': \"number = [1, 2, 3]\\nprint(dir(number))\\n\\nprint('\\\\nReturn Value from empty dir()')\\nprint(dir())\",\n",
              " '_i20': 'print(format(123, \"d\"))\\n\\n# float arguments\\nprint(format(123.4567898, \"f\"))\\n\\n# binary format\\nprint(format(12, \"b\"))',\n",
              " '_i21': 'print(format(1234, \"*>+7,d\"))\\n\\n# float number\\nprint(format(123.4567, \"^-09.3f\"))',\n",
              " '_i22': \"vowels = ('a', 'e', 'i', 'o', 'u')\\n\\nfSet = frozenset(vowels)\\nprint('The frozen set is:', fSet)\\nprint('The empty frozen set is:', frozenset())\",\n",
              " '_i23': 'class Person:\\n    age = 23\\n    name = \"Adam\"\\n\\nperson = Person()\\nprint(\\'The age is:\\', getattr(person, \"age\"))\\nprint(\\'The age is:\\', person.age)',\n",
              " '_i24': 'class Person:\\n    #age = 23\\n    name = \"Adam\"\\n\\nperson = Person()\\nprint(\\'The age is:\\', getattr(person, \"age\",2233))\\nprint(\\'The age is:\\', person.age)',\n",
              " '_i25': 'class Person:\\n    #age = 23\\n    name = \"Adam\"\\n\\nperson = Person()\\nprint(\\'The age is:\\', getattr(person, \"age\",2233))\\n#print(\\'The age is:\\', person.age)',\n",
              " '_i26': 'class Person:\\n    age = 23\\n    name = \"Adam\"\\n\\nperson = Person()\\n\\n# when default value is provided\\nprint(\\'The sex is:\\', getattr(person, \\'sex\\', \\'Male\\'))\\n\\n# when no default value is provided\\nprint(\\'The sex is:\\', getattr(person, \\'sex\\'))',\n",
              " '_i27': 'class Person:\\n    age = 23\\n    name = \"Adam\"\\n\\nperson = Person()\\n\\n# when default value is provided\\nprint(\\'The sex is:\\', getattr(person, \\'sex\\', \\'Male\\'))\\n\\n# when no default value is provided\\n#print(\\'The sex is:\\', getattr(person, \\'sex\\'))',\n",
              " '_i28': 'globals()',\n",
              " '_i3': \"class Person:\\n  def __dir__(self):\\n    return ['age', 'name', 'salary']\\n    \\n\\nteacher = Person()\\nprint(dir(teacher))\",\n",
              " '_i4': 'class Dates:\\n    def __init__(self, date):\\n        self.date = date\\n        \\n    def getDate(self):\\n        return self.date\\n\\n    @staticmethod\\n    def toDashDate(date):\\n        return date.replace(\"/\", \"-\")\\n\\nclass DatesWithSlashes(Dates):\\n    def getDate(self):\\n        return Dates.toDashDate(self.date)\\n\\ndate = Dates(\"15-12-2016\")\\ndateFromDB = DatesWithSlashes(\"15/12/2016\")\\n\\nif(date.getDate() == dateFromDB.getDate()):\\n    print(\"Equal\")\\nelse:\\n    print(\"Unequal\")',\n",
              " '_i5': \"alphabets = ['a', 'b', 'd', 'e', 'i', 'j', 'o']\\n\\n# function that filters vowels\\ndef filterVowels(alphabet):\\n    vowels = ['a', 'e', 'i', 'o', 'u']\\n\\n    if(alphabet in vowels):\\n        return True\\n    else:\\n        return False\\n\\nfilteredVowels = filter(filterVowels, alphabets)\\n\\nprint('The filtered vowels are:')\\nfor vowel in filteredVowels:\\n    print(vowel)\",\n",
              " '_i6': \"alphabets = ['a', 'b', 'd', 'e', 'i', 'j', 'o']\\n\\n# function that filters vowels\\ndef filterVowels(alphabet):\\n    vowels = ['a', 'e', 'i', 'o', 'u']\\n\\n    if(alphabet in vowels):\\n        return True\\n    else:\\n        return False\\n\\nfilteredVowels = filter(filterVowels, alphabets)\\n\\nprint('The filtered vowels are:')\\nprint(filteredVowels)\\n# for vowel in filteredVowels:\\n#     print(vowel)\",\n",
              " '_i7': \"alphabets = ['a', 'b', 'd', 'e', 'i', 'j', 'o']\\n\\n# function that filters vowels\\ndef filterVowels(alphabet):\\n    vowels = ['a', 'e', 'i', 'o', 'u']\\n\\n    if(alphabet in vowels):\\n        return True\\n    else:\\n        return False\\n\\nfilteredVowels = filter(filterVowels, alphabets)\\n\\nprint('The filtered vowels are:')\\nprint(filteredVowels)\\nfor vowel in filteredVowels:\\n     print(vowel)\",\n",
              " '_i8': \"randomList = [1, 'a', 0, False, True, '0']\\n\\nfilteredList = filter(None, randomList)\\n\\nprint('The filtered elements are:')\\nfor element in filteredList:\\n    print(element)\",\n",
              " '_i9': \"x = 1\\nprint(eval('x + 1'))\",\n",
              " '_ih': ['',\n",
              "  \"z = complex(2, -3)\\nprint(z)\\n\\nz = complex(1)\\nprint(z)\\n\\nz = complex()\\nprint(z)\\n\\nz = complex('5-9j')\\nprint(z)\",\n",
              "  \"number = [1, 2, 3]\\nprint(dir(number))\\n\\nprint('\\\\nReturn Value from empty dir()')\\nprint(dir())\",\n",
              "  \"class Person:\\n  def __dir__(self):\\n    return ['age', 'name', 'salary']\\n    \\n\\nteacher = Person()\\nprint(dir(teacher))\",\n",
              "  'class Dates:\\n    def __init__(self, date):\\n        self.date = date\\n        \\n    def getDate(self):\\n        return self.date\\n\\n    @staticmethod\\n    def toDashDate(date):\\n        return date.replace(\"/\", \"-\")\\n\\nclass DatesWithSlashes(Dates):\\n    def getDate(self):\\n        return Dates.toDashDate(self.date)\\n\\ndate = Dates(\"15-12-2016\")\\ndateFromDB = DatesWithSlashes(\"15/12/2016\")\\n\\nif(date.getDate() == dateFromDB.getDate()):\\n    print(\"Equal\")\\nelse:\\n    print(\"Unequal\")',\n",
              "  \"alphabets = ['a', 'b', 'd', 'e', 'i', 'j', 'o']\\n\\n# function that filters vowels\\ndef filterVowels(alphabet):\\n    vowels = ['a', 'e', 'i', 'o', 'u']\\n\\n    if(alphabet in vowels):\\n        return True\\n    else:\\n        return False\\n\\nfilteredVowels = filter(filterVowels, alphabets)\\n\\nprint('The filtered vowels are:')\\nfor vowel in filteredVowels:\\n    print(vowel)\",\n",
              "  \"alphabets = ['a', 'b', 'd', 'e', 'i', 'j', 'o']\\n\\n# function that filters vowels\\ndef filterVowels(alphabet):\\n    vowels = ['a', 'e', 'i', 'o', 'u']\\n\\n    if(alphabet in vowels):\\n        return True\\n    else:\\n        return False\\n\\nfilteredVowels = filter(filterVowels, alphabets)\\n\\nprint('The filtered vowels are:')\\nprint(filteredVowels)\\n# for vowel in filteredVowels:\\n#     print(vowel)\",\n",
              "  \"alphabets = ['a', 'b', 'd', 'e', 'i', 'j', 'o']\\n\\n# function that filters vowels\\ndef filterVowels(alphabet):\\n    vowels = ['a', 'e', 'i', 'o', 'u']\\n\\n    if(alphabet in vowels):\\n        return True\\n    else:\\n        return False\\n\\nfilteredVowels = filter(filterVowels, alphabets)\\n\\nprint('The filtered vowels are:')\\nprint(filteredVowels)\\nfor vowel in filteredVowels:\\n     print(vowel)\",\n",
              "  \"randomList = [1, 'a', 0, False, True, '0']\\n\\nfilteredList = filter(None, randomList)\\n\\nprint('The filtered elements are:')\\nfor element in filteredList:\\n    print(element)\",\n",
              "  \"x = 1\\nprint(eval('x + 1'))\",\n",
              "  'def calculatePerimeter(l):\\n  return 4*l\\n\\n# Area of Square\\ndef calculateArea(l):\\n  return l*1\\n\\nproperty = input(\"Type a function: \")\\n\\nfor l in range(1, 5):\\n    if (property == \\'calculatePerimeter(l)\\'):\\n        print(\"If length is \", l , \", Perimeter = \", eval(property))\\n    elif (property == \\'calculateArea(l)\\'):\\n\\tprint(\"If length is \", l , \", Area = \", eval(property))\\n    else:\\n      print(\\'Wrong Function\\')\\n      break',\n",
              "  'def calculatePerimeter(l):\\n  return 4*l\\n\\n# Area of Square\\ndef calculateArea(l):\\n  return l*1\\n\\nproperty = input(\"Type a function: \")\\n\\nfor l in range(1, 5):\\n  if (property == \\'calculatePerimeter(l)\\'):\\n    print(\"If length is \", l , \", Perimeter = \", eval(property))\\n  elif (property == \\'calculateArea(l)\\'):\\nprint(\"If length is \", l , \", Area = \", eval(property))\\n  else:\\n    print(\\'Wrong Function\\')\\n    break',\n",
              "  'def calculatePerimeter(l):\\n  return 4*l\\n\\n# Area of Square\\ndef calculateArea(l):\\n  return l*1\\n\\nproperty = input(\"Type a function: \")\\n\\nfor l in range(1, 5):\\n  if (property == \\'calculatePerimeter(l)\\'):\\n    print(\"If length is \", l , \", Perimeter = \", eval(property))\\n  elif (property == \\'calculateArea(l)\\'):\\n    print(\"If length is \", l , \", Area = \", eval(property))\\n  else:\\n    print(\\'Wrong Function\\')\\n    break',\n",
              "  'def calculatePerimeter(l):\\n  return 4*l\\n\\n# Area of Square\\ndef calculateArea(l):\\n  return l*1\\n\\nproperty = input(\"Type a function: \")\\n\\nfor l in range(1, 5):\\n  if (property == \\'calculatePerimeter(l)\\'):\\n    print(\"If length is \", l , \", Perimeter = \", eval(property))\\n  elif (property == \\'calculateArea(l)\\'):\\n    print(\"If length is \", l , \", Area = \", eval(property))\\n  else:\\n    print(\\'Wrong Function\\')\\n    break',\n",
              "  \"from math import *\\nprint(eval('dir()'))\",\n",
              "  \"from math import *\\nprint(eval('dir()'))\\nfrom math import *\\nprint(eval('dir()', {}))\",\n",
              "  \"from math import *\\nprint(eval('dir()'))\\nfrom math import *\\nprint(eval('dir()', {}))\\nfrom math import *\\nprint(eval('dir()', {'sqrt': sqrt, 'pow': pow}))\",\n",
              "  \"from math import *\\nprint(eval('dir()'))\\nfrom math import *\\nprint(eval('dir()', {}))\\nfrom math import *\\nprint(eval('dir()', {'sqrt': sqrt, 'pow': pow}))\",\n",
              "  \"from math import *\\nprint(eval('dir()'))\\nprint(eval('dir()', {}))\\n\\nprint(eval('dir()', {'sqrt': sqrt, 'pow': pow}))\\n\\na = 5\\nprint(eval('sqrt(a)', {'__builtins__': None}, {'a': a, 'sqrt': sqrt}))\",\n",
              "  'print(float(10))\\n\\n# for floats\\nprint(float(11.22))\\n\\n# for string floats\\nprint(float(\"-13.33\"))\\n\\n# for string floats with whitespaces\\nprint(float(\"     -24.45\\\\n\"))\\n\\n# string float error\\nprint(float(\"abc\"))',\n",
              "  'print(float(10))\\n\\n# for floats\\nprint(float(11.22))\\n\\n# for string floats\\nprint(float(\"-13.33\"))\\n\\n# for string floats with whitespaces\\nprint(float(\"     -24.45\\\\n\"))\\n\\n# string float error\\n#print(float(\"abc\"))',\n",
              "  'print(float(\"nan\"))\\nprint(float(\"NaN\"))\\n\\n# for inf/infinity\\nprint(float(\"inf\"))\\nprint(float(\"InF\"))\\nprint(float(\"InFiNiTy\"))\\nprint(float(\"infinity\"))',\n",
              "  'print(format(123, \"d\"))\\n\\n# float arguments\\nprint(format(123.4567898, \"f\"))\\n\\n# binary format\\nprint(format(12, \"b\"))',\n",
              "  'print(format(1234, \"*>+7,d\"))\\n\\n# float number\\nprint(format(123.4567, \"^-09.3f\"))',\n",
              "  \"vowels = ('a', 'e', 'i', 'o', 'u')\\n\\nfSet = frozenset(vowels)\\nprint('The frozen set is:', fSet)\\nprint('The empty frozen set is:', frozenset())\",\n",
              "  'class Person:\\n    age = 23\\n    name = \"Adam\"\\n\\nperson = Person()\\nprint(\\'The age is:\\', getattr(person, \"age\"))\\nprint(\\'The age is:\\', person.age)',\n",
              "  'class Person:\\n    #age = 23\\n    name = \"Adam\"\\n\\nperson = Person()\\nprint(\\'The age is:\\', getattr(person, \"age\",2233))\\nprint(\\'The age is:\\', person.age)',\n",
              "  'class Person:\\n    #age = 23\\n    name = \"Adam\"\\n\\nperson = Person()\\nprint(\\'The age is:\\', getattr(person, \"age\",2233))\\n#print(\\'The age is:\\', person.age)',\n",
              "  'class Person:\\n    age = 23\\n    name = \"Adam\"\\n\\nperson = Person()\\n\\n# when default value is provided\\nprint(\\'The sex is:\\', getattr(person, \\'sex\\', \\'Male\\'))\\n\\n# when no default value is provided\\nprint(\\'The sex is:\\', getattr(person, \\'sex\\'))',\n",
              "  'class Person:\\n    age = 23\\n    name = \"Adam\"\\n\\nperson = Person()\\n\\n# when default value is provided\\nprint(\\'The sex is:\\', getattr(person, \\'sex\\', \\'Male\\'))\\n\\n# when no default value is provided\\n#print(\\'The sex is:\\', getattr(person, \\'sex\\'))',\n",
              "  'globals()'],\n",
              " '_ii': 'class Person:\\n    age = 23\\n    name = \"Adam\"\\n\\nperson = Person()\\n\\n# when default value is provided\\nprint(\\'The sex is:\\', getattr(person, \\'sex\\', \\'Male\\'))\\n\\n# when no default value is provided\\nprint(\\'The sex is:\\', getattr(person, \\'sex\\'))',\n",
              " '_iii': 'class Person:\\n    #age = 23\\n    name = \"Adam\"\\n\\nperson = Person()\\nprint(\\'The age is:\\', getattr(person, \"age\",2233))\\n#print(\\'The age is:\\', person.age)',\n",
              " '_oh': {},\n",
              " '_sh': <module 'IPython.core.shadowns' from '/usr/local/lib/python3.6/dist-packages/IPython/core/shadowns.py'>,\n",
              " 'a': 5,\n",
              " 'acos': <function math.acos>,\n",
              " 'acosh': <function math.acosh>,\n",
              " 'alphabets': ['a', 'b', 'd', 'e', 'i', 'j', 'o'],\n",
              " 'asin': <function math.asin>,\n",
              " 'asinh': <function math.asinh>,\n",
              " 'atan': <function math.atan>,\n",
              " 'atan2': <function math.atan2>,\n",
              " 'atanh': <function math.atanh>,\n",
              " 'calculateArea': <function __main__.calculateArea>,\n",
              " 'calculatePerimeter': <function __main__.calculatePerimeter>,\n",
              " 'ceil': <function math.ceil>,\n",
              " 'copysign': <function math.copysign>,\n",
              " 'cos': <function math.cos>,\n",
              " 'cosh': <function math.cosh>,\n",
              " 'date': <__main__.Dates at 0x7fb57c335b70>,\n",
              " 'dateFromDB': <__main__.DatesWithSlashes at 0x7fb5898e24a8>,\n",
              " 'degrees': <function math.degrees>,\n",
              " 'e': 2.718281828459045,\n",
              " 'element': '0',\n",
              " 'erf': <function math.erf>,\n",
              " 'erfc': <function math.erfc>,\n",
              " 'exit': <IPython.core.autocall.ZMQExitAutocall at 0x7fb57fe4a3c8>,\n",
              " 'exp': <function math.exp>,\n",
              " 'expm1': <function math.expm1>,\n",
              " 'fSet': frozenset({'a', 'e', 'i', 'o', 'u'}),\n",
              " 'fabs': <function math.fabs>,\n",
              " 'factorial': <function math.factorial>,\n",
              " 'filterVowels': <function __main__.filterVowels>,\n",
              " 'filteredList': <filter at 0x7fb5733896d8>,\n",
              " 'filteredVowels': <filter at 0x7fb573389128>,\n",
              " 'floor': <function math.floor>,\n",
              " 'fmod': <function math.fmod>,\n",
              " 'frexp': <function math.frexp>,\n",
              " 'fsum': <function math.fsum>,\n",
              " 'gamma': <function math.gamma>,\n",
              " 'gcd': <function math.gcd>,\n",
              " 'get_ipython': <bound method InteractiveShell.get_ipython of <google.colab._shell.Shell object at 0x7fb57fe29320>>,\n",
              " 'hypot': <function math.hypot>,\n",
              " 'inf': inf,\n",
              " 'isclose': <function math.isclose>,\n",
              " 'isfinite': <function math.isfinite>,\n",
              " 'isinf': <function math.isinf>,\n",
              " 'isnan': <function math.isnan>,\n",
              " 'l': 4,\n",
              " 'ldexp': <function math.ldexp>,\n",
              " 'lgamma': <function math.lgamma>,\n",
              " 'log': <function math.log>,\n",
              " 'log10': <function math.log10>,\n",
              " 'log1p': <function math.log1p>,\n",
              " 'log2': <function math.log2>,\n",
              " 'modf': <function math.modf>,\n",
              " 'nan': nan,\n",
              " 'number': [1, 2, 3],\n",
              " 'person': <__main__.Person at 0x7fb572ac9fd0>,\n",
              " 'pi': 3.141592653589793,\n",
              " 'pow': <function math.pow>,\n",
              " 'property': 'calculateArea(l)',\n",
              " 'quit': <IPython.core.autocall.ZMQExitAutocall at 0x7fb57fe4a3c8>,\n",
              " 'radians': <function math.radians>,\n",
              " 'randomList': [1, 'a', 0, False, True, '0'],\n",
              " 'sin': <function math.sin>,\n",
              " 'sinh': <function math.sinh>,\n",
              " 'sqrt': <function math.sqrt>,\n",
              " 'tan': <function math.tan>,\n",
              " 'tanh': <function math.tanh>,\n",
              " 'tau': 6.283185307179586,\n",
              " 'teacher': <__main__.Person at 0x7fb573389860>,\n",
              " 'trunc': <function math.trunc>,\n",
              " 'vowel': 'o',\n",
              " 'vowels': ('a', 'e', 'i', 'o', 'u'),\n",
              " 'x': 1,\n",
              " 'z': (5-9j)}"
            ]
          },
          "metadata": {
            "tags": []
          },
          "execution_count": 28
        }
      ]
    },
    {
      "cell_type": "code",
      "metadata": {
        "id": "jk0RyweKQZDP",
        "colab_type": "code",
        "colab": {
          "base_uri": "https://localhost:8080/",
          "height": 35
        },
        "outputId": "987555f1-ec36-41a0-804c-b60ff6a07e82"
      },
      "source": [
        "age = 23\n",
        "\n",
        "globals()['age'] = 25\n",
        "print('The age is:', age)"
      ],
      "execution_count": 29,
      "outputs": [
        {
          "output_type": "stream",
          "text": [
            "The age is: 25\n"
          ],
          "name": "stdout"
        }
      ]
    },
    {
      "cell_type": "code",
      "metadata": {
        "id": "ZXwviYvIQn1Z",
        "colab_type": "code",
        "colab": {
          "base_uri": "https://localhost:8080/",
          "height": 35
        },
        "outputId": "4edc151c-8906-4efa-e832-bfc48cfe1e6e"
      },
      "source": [
        "program = 'a = 5\\nb=10\\nprint(\"Sum =\", a+b)'\n",
        "exec(program)"
      ],
      "execution_count": 30,
      "outputs": [
        {
          "output_type": "stream",
          "text": [
            "Sum = 15\n"
          ],
          "name": "stdout"
        }
      ]
    },
    {
      "cell_type": "code",
      "metadata": {
        "id": "iAwXqXj4Qv8C",
        "colab_type": "code",
        "colab": {
          "base_uri": "https://localhost:8080/",
          "height": 87
        },
        "outputId": "11f55658-40d2-434d-bd0e-f7a92d655181"
      },
      "source": [
        "program = input('Enter a program:')\n",
        "exec(program)"
      ],
      "execution_count": 33,
      "outputs": [
        {
          "output_type": "stream",
          "text": [
            "Enter a program:[print(item) for item in [1, 2, 3]]\n",
            "1\n",
            "2\n",
            "3\n"
          ],
          "name": "stdout"
        }
      ]
    },
    {
      "cell_type": "code",
      "metadata": {
        "id": "2Ws7vzEoRCsj",
        "colab_type": "code",
        "colab": {
          "base_uri": "https://localhost:8080/",
          "height": 35
        },
        "outputId": "936eaae8-a469-4071-b40e-e1aea1103129"
      },
      "source": [
        "from math import *\n",
        "\n",
        "globalsParameter = {'__builtins__' : None}\n",
        "localsParameter = {'print': print, 'dir': dir}\n",
        "exec('print(dir())', globalsParameter, localsParameter)"
      ],
      "execution_count": 34,
      "outputs": [
        {
          "output_type": "stream",
          "text": [
            "['dir', 'print']\n"
          ],
          "name": "stdout"
        }
      ]
    },
    {
      "cell_type": "code",
      "metadata": {
        "id": "ZUP5QdnQRWAk",
        "colab_type": "code",
        "colab": {
          "base_uri": "https://localhost:8080/",
          "height": 52
        },
        "outputId": "661c903b-bf04-418f-8c3f-f22383ddd685"
      },
      "source": [
        "class Person:\n",
        "    age = 23\n",
        "    name = 'Adam'\n",
        "\n",
        "person = Person()\n",
        "\n",
        "print('Person has age?:', hasattr(person, 'age'))\n",
        "print('Person has salary?:', hasattr(person, 'salary'))"
      ],
      "execution_count": 35,
      "outputs": [
        {
          "output_type": "stream",
          "text": [
            "Person has age?: True\n",
            "Person has salary?: False\n"
          ],
          "name": "stdout"
        }
      ]
    }
  ]
}