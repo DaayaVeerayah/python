{
  "nbformat": 4,
  "nbformat_minor": 0,
  "metadata": {
    "colab": {
      "name": "Untitled5.ipynb",
      "provenance": [],
      "authorship_tag": "ABX9TyN2PhdPAconBnOYu/No03rj",
      "include_colab_link": true
    },
    "kernelspec": {
      "name": "python3",
      "display_name": "Python 3"
    }
  },
  "cells": [
    {
      "cell_type": "markdown",
      "metadata": {
        "id": "view-in-github",
        "colab_type": "text"
      },
      "source": [
        "<a href=\"https://colab.research.google.com/github/meghasyam/python/blob/master/Libarry-functions.ipynb\" target=\"_parent\"><img src=\"https://colab.research.google.com/assets/colab-badge.svg\" alt=\"Open In Colab\"/></a>"
      ]
    },
    {
      "cell_type": "code",
      "metadata": {
        "id": "0u6UXKcq58T2",
        "colab_type": "code",
        "colab": {}
      },
      "source": [
        "# random integer\n",
        "integer = -20\n",
        "print('Absolute value of -20 is:', abs(integer))\n",
        "\n",
        "#random floating number\n",
        "floating = -30.33\n",
        "print('Absolute value of -30.33 is:', abs(floating))\n",
        "\n",
        "# random complex number\n",
        "complex = (3 - 4j)\n",
        "print('Magnitude of 3 - 4j is:', abs(complex))"
      ],
      "execution_count": 0,
      "outputs": []
    },
    {
      "cell_type": "code",
      "metadata": {
        "id": "5-XMarcA6WRQ",
        "colab_type": "code",
        "colab": {}
      },
      "source": [
        "l = [1, 3, 4, 0]\n",
        "print(any(l))\n",
        "\n",
        "l = [0, False]\n",
        "print(any(l))\n",
        "\n",
        "l = [0, False, 5]\n",
        "print(any(l))\n",
        "\n",
        "l = []\n",
        "print(any(l))"
      ],
      "execution_count": 0,
      "outputs": []
    },
    {
      "cell_type": "code",
      "metadata": {
        "id": "G80fRm6J6aPK",
        "colab_type": "code",
        "colab": {}
      },
      "source": [
        "s = \"This is good\"\n",
        "print(any(s))\n",
        "\n",
        "# 0 is False\n",
        "# '0' is True\n",
        "s = '000'\n",
        "print(any(s))\n",
        "\n",
        "s = ''\n",
        "print(any(s))"
      ],
      "execution_count": 0,
      "outputs": []
    },
    {
      "cell_type": "code",
      "metadata": {
        "id": "jbMCnQhP6hqF",
        "colab_type": "code",
        "colab": {}
      },
      "source": [
        "d = {0: 'False'}\n",
        "print(any(d))\n",
        "\n",
        "d = {0: 'False', 1: 'True'}\n",
        "print(any(d))\n",
        "\n",
        "d = {0: 'False', False: 0}\n",
        "print(any(d))\n",
        "\n",
        "d = {}\n",
        "print(any(d))\n",
        "\n",
        "# 0 is False\n",
        "# '0' is True\n",
        "d = {'0': 'False'}\n",
        "print(any(d))"
      ],
      "execution_count": 0,
      "outputs": []
    },
    {
      "cell_type": "code",
      "metadata": {
        "id": "C2PsxzYm638e",
        "colab_type": "code",
        "colab": {}
      },
      "source": [
        "# all values true\n",
        "l = [1, 3, 4, 5]\n",
        "print(all(l))\n",
        "\n",
        "# all values false\n",
        "l = [0, False]\n",
        "print(all(l))\n",
        "\n",
        "# one false value\n",
        "l = [1, 3, 4, 0]\n",
        "print(all(l))\n",
        "\n",
        "# one true value\n",
        "l = [0, False, 5]\n",
        "print(all(l))\n",
        "\n",
        "# empty iterable\n",
        "l = []\n",
        "print(all(l))"
      ],
      "execution_count": 0,
      "outputs": []
    },
    {
      "cell_type": "code",
      "metadata": {
        "id": "ojUmumdL7O8Q",
        "colab_type": "code",
        "colab": {}
      },
      "source": [
        "s = \"This is good\"\n",
        "print(all(s))\n",
        "\n",
        "# 0 is False\n",
        "# '0' is True\n",
        "s = '000'\n",
        "print(all(s))\n",
        "\n",
        "s = ''\n",
        "print(all(s))"
      ],
      "execution_count": 0,
      "outputs": []
    },
    {
      "cell_type": "code",
      "metadata": {
        "id": "29VmKV7x7Y_6",
        "colab_type": "code",
        "colab": {}
      },
      "source": [
        "s = {0: 'False', 1: 'False'}\n",
        "print(all(s))\n",
        "\n",
        "s = {1: 'True', 2: 'True'}\n",
        "print(all(s))\n",
        "\n",
        "s = {1: 'True', False: 0}\n",
        "print(all(s))\n",
        "\n",
        "s = {}\n",
        "print(all(s))\n",
        "\n",
        "# 0 is False\n",
        "# '0' is True\n",
        "s = {'0': 'True'}\n",
        "print(all(s))"
      ],
      "execution_count": 0,
      "outputs": []
    },
    {
      "cell_type": "code",
      "metadata": {
        "id": "Q_Lg_TRH7pfj",
        "colab_type": "code",
        "colab": {}
      },
      "source": [
        "normalText = 'Python is interesting'\n",
        "print(ascii(normalText))\n",
        "\n",
        "otherText = 'Pythön is interesting'\n",
        "print(ascii(otherText))\n",
        "\n",
        "print('Pyth\\xf6n is interesting')"
      ],
      "execution_count": 0,
      "outputs": []
    },
    {
      "cell_type": "code",
      "metadata": {
        "id": "pD1QjKouwZlS",
        "colab_type": "code",
        "colab": {}
      },
      "source": [
        "randomList = ['Python', 'Pythön', 5]\n",
        "print(ascii(randomList))"
      ],
      "execution_count": 0,
      "outputs": []
    },
    {
      "cell_type": "code",
      "metadata": {
        "id": "AuhrTUro8A-k",
        "colab_type": "code",
        "colab": {}
      },
      "source": [
        "number = 5\n",
        "print('The binary equivalent of 5 is:', bin(number))"
      ],
      "execution_count": 0,
      "outputs": []
    },
    {
      "cell_type": "code",
      "metadata": {
        "id": "m-E9ks9n8We_",
        "colab_type": "code",
        "colab": {}
      },
      "source": [
        "class Quantity:\n",
        "    apple = 1\n",
        "    orange = 2\n",
        "    grapes = 2\n",
        "    \n",
        "    def __index__(self):\n",
        "        return self.apple + self.orange + self.grapes\n",
        "        \n",
        "print('The binary equivalent of quantity is:', bin(Quantity()))"
      ],
      "execution_count": 0,
      "outputs": []
    },
    {
      "cell_type": "code",
      "metadata": {
        "id": "XwNYzCk98vNU",
        "colab_type": "code",
        "colab": {}
      },
      "source": [
        "test=[]\n",
        "print(test,'is',bool(test))\n",
        "\n",
        "test = [0]\n",
        "print(test,'is',bool(test))\n",
        "\n",
        "test = 0.0\n",
        "print(test,'is',bool(test))\n",
        "\n",
        "test = None\n",
        "print(test,'is',bool(test))\n",
        "\n",
        "test = True\n",
        "print(test,'is',bool(test))\n",
        "\n",
        "test = 'Easy string'\n",
        "print(test,'is',bool(test))"
      ],
      "execution_count": 0,
      "outputs": []
    },
    {
      "cell_type": "code",
      "metadata": {
        "id": "5D0I19vL9NEP",
        "colab_type": "code",
        "colab": {}
      },
      "source": [
        "size = 5\n",
        "\n",
        "arr = bytearray(size)\n",
        "print(arr)"
      ],
      "execution_count": 0,
      "outputs": []
    },
    {
      "cell_type": "code",
      "metadata": {
        "id": "Om2qYRmExoVK",
        "colab_type": "code",
        "colab": {}
      },
      "source": [
        "string = \"Python is interesting.\"\n",
        "\n",
        "# string with encoding 'utf-8'\n",
        "arr = bytearray(string, 'utf-8')\n",
        "print(arr)"
      ],
      "execution_count": 0,
      "outputs": []
    },
    {
      "cell_type": "code",
      "metadata": {
        "id": "n2sgPFI49R5y",
        "colab_type": "code",
        "colab": {}
      },
      "source": [
        "rList = [1, 2, 3, 4, 5]\n",
        "\n",
        "arr = bytearray(rList)\n",
        "print(arr)"
      ],
      "execution_count": 0,
      "outputs": []
    },
    {
      "cell_type": "code",
      "metadata": {
        "id": "FbZXUt0A-Nta",
        "colab_type": "code",
        "colab": {}
      },
      "source": [
        "x = 5\n",
        "\n",
        "print(callable(x))\n",
        "\n",
        "def testFunction():\n",
        "  print(\"Test\")\n",
        "\n",
        "y = testFunction\n",
        "print(callable(y))\n",
        "\n",
        "print(y())\n",
        "print(dir(type(y)))"
      ],
      "execution_count": 0,
      "outputs": []
    },
    {
      "cell_type": "code",
      "metadata": {
        "id": "8Yiz8JQ6-KaT",
        "colab_type": "code",
        "colab": {}
      },
      "source": [
        "class Foo:\n",
        "  def __call__(self):\n",
        "    print('Print Something')\n",
        "\n",
        "print(callable(Foo))\n",
        "\n",
        "x = Foo()\n",
        "x()"
      ],
      "execution_count": 0,
      "outputs": []
    },
    {
      "cell_type": "code",
      "metadata": {
        "id": "JpF5en0C_C_E",
        "colab_type": "code",
        "colab": {}
      },
      "source": [
        "class Foo:\n",
        "  def printLine(self):\n",
        "    print('Print Something')\n",
        "\n",
        "print(callable(Foo))\n",
        "\n",
        "x=Foo()\n",
        "\n",
        "x.printLine()"
      ],
      "execution_count": 0,
      "outputs": []
    },
    {
      "cell_type": "code",
      "metadata": {
        "id": "t7gn4Yzg_1Oo",
        "colab_type": "code",
        "colab": {}
      },
      "source": [
        "string = \"Python is interesting.\"\n",
        "\n",
        "# string with encoding 'utf-8'\n",
        "arr = bytes(string, 'utf-8')\n",
        "print(arr)"
      ],
      "execution_count": 0,
      "outputs": []
    },
    {
      "cell_type": "code",
      "metadata": {
        "id": "j41E-CcbAOIO",
        "colab_type": "code",
        "colab": {}
      },
      "source": [
        "size = 5\n",
        "\n",
        "arr = bytes(size)\n",
        "print(arr)"
      ],
      "execution_count": 0,
      "outputs": []
    },
    {
      "cell_type": "code",
      "metadata": {
        "id": "Qob_jomtAYdG",
        "colab_type": "code",
        "colab": {}
      },
      "source": [
        "rList = [1, 2, 3, 4, 5]\n",
        "\n",
        "arr = bytes(rList)\n",
        "arr = bytes('â',encoding='utf-8')\n",
        "print(arr)\n",
        "#print(bin(arr))\n",
        "\n",
        "arr = bytes('â',encoding='utf-16')\n",
        "print(arr)\n",
        "arr = bytes('â',encoding='utf-32')\n",
        "print(arr)\n"
      ],
      "execution_count": 0,
      "outputs": []
    },
    {
      "cell_type": "code",
      "metadata": {
        "id": "dtZCa8bcAnaP",
        "colab_type": "code",
        "colab": {}
      },
      "source": [
        "# print(chr(97))\n",
        "# print(chr(65))\n",
        "# print(chr(1200))\n",
        "# #print(chr(-1))\n",
        "\n",
        "for i in range(1000):\n",
        "  print(i,chr(i))"
      ],
      "execution_count": 0,
      "outputs": []
    },
    {
      "cell_type": "code",
      "metadata": {
        "id": "S0TaBcmVBKz4",
        "colab_type": "code",
        "colab": {}
      },
      "source": [
        "codeInString = 'a = 5\\nb=6\\nsum=a+b\\nprint(\"sum =\",sum)'\n",
        "codeObejct = compile(codeInString, 'sumstring', 'exec')\n",
        "\n",
        "exec(codeObejct)"
      ],
      "execution_count": 0,
      "outputs": []
    },
    {
      "cell_type": "code",
      "metadata": {
        "id": "FR-_ed_QBOJc",
        "colab_type": "code",
        "colab": {}
      },
      "source": [
        "!ls"
      ],
      "execution_count": 0,
      "outputs": []
    },
    {
      "cell_type": "code",
      "metadata": {
        "id": "-z7L9ZNjBx9f",
        "colab_type": "code",
        "colab": {}
      },
      "source": [
        "class Person:\n",
        "    age = 25\n",
        "\n",
        "    def printAge(cls):\n",
        "        print('The age is:', cls.age)\n",
        "\n",
        "# create printAge class method\n",
        "#Person.printAge = classmethod(Person.printAge)\n",
        "obj =Person()\n",
        "obj.printAge()"
      ],
      "execution_count": 0,
      "outputs": []
    },
    {
      "cell_type": "code",
      "metadata": {
        "id": "Q1t1Q20QC7C3",
        "colab_type": "code",
        "colab": {}
      },
      "source": [
        "from datetime import date\n",
        "\n",
        "# random Person\n",
        "class Person:\n",
        "    def __init__(self, name, age):\n",
        "        self.name = name\n",
        "        self.age = age\n",
        "\n",
        "    @classmethod\n",
        "    def fromBirthYear(cls, name, birthYear):\n",
        "        return cls(name, date.today().year - birthYear)\n",
        "\n",
        "    def display(self):\n",
        "        print(self.name + \"'s age is: \" + str(self.age))\n",
        "\n",
        "person = Person('Adam', 19)\n",
        "person.display()\n",
        "\n",
        "person1 = Person.fromBirthYear('John',  1985)\n",
        "person1.display()\n",
        "\n",
        "print(type(person1))\n",
        "print(type(Person))\n",
        "print(type(2))\n",
        "print(type(Person.fromBirthYear))\n",
        "print(isinstance(person1,Person))"
      ],
      "execution_count": 0,
      "outputs": []
    },
    {
      "cell_type": "code",
      "metadata": {
        "id": "ROqZL4Cr4-k4",
        "colab_type": "code",
        "colab": {}
      },
      "source": [
        "from datetime import date\n",
        "\n",
        "# random Person\n",
        "class Person:\n",
        "    def __init__(self, name, age):\n",
        "        self.name = name\n",
        "        self.age = age\n",
        "\n",
        "    @classmethod\n",
        "    def fromBirthYear(cls, name, birthYear):\n",
        "        return cls(name, date.today().year - birthYear)\n",
        "     \n",
        "    @classmethod\n",
        "    def display(self):\n",
        "      pass\n",
        "       # print(self.name + \"'s age is: \" + str(self.age))\n",
        "\n",
        "person = Person('Adam', 19)\n",
        "#person.display()\n",
        "\n",
        "person1 = Person.fromBirthYear('John',  1985)\n",
        "#Person.display()\n",
        "person1.display()"
      ],
      "execution_count": 0,
      "outputs": []
    },
    {
      "cell_type": "code",
      "metadata": {
        "id": "lqWklZ2KD-nd",
        "colab_type": "code",
        "colab": {}
      },
      "source": [
        "from datetime import date\n",
        "\n",
        "# random Person\n",
        "class Person:\n",
        "    def __init__(self, name, age):\n",
        "        self.name = name\n",
        "        self.age = age\n",
        "\n",
        "    @staticmethod\n",
        "    def fromFathersAge(name, fatherAge, fatherPersonAgeDiff):\n",
        "        return Person(name, date.today().year - fatherAge + fatherPersonAgeDiff)\n",
        "\n",
        "    @classmethod\n",
        "    def fromBirthYear(cls, name, birthYear):\n",
        "        return cls(name, date.today().year - birthYear)\n",
        "\n",
        "    def display(self):\n",
        "        print(self.name + \"'s age is: \" + str(self.age))\n",
        "\n",
        "class Man(Person):\n",
        "    sex = 'Male'\n",
        "\n",
        "man = Man.fromBirthYear('John', 1985)\n",
        "print(isinstance(man, Man))\n",
        "print(type(man))\n",
        "man1 = Man.fromFathersAge('John', 1965, 20)\n",
        "print(type(man1))\n",
        "print(isinstance(man1, Man))"
      ],
      "execution_count": 0,
      "outputs": []
    },
    {
      "cell_type": "code",
      "metadata": {
        "id": "0TIApAqTEvdk",
        "colab_type": "code",
        "colab": {}
      },
      "source": [
        "z = complex(2, -3)\n",
        "print(z)\n",
        "\n",
        "z = complex(1)\n",
        "print(z)\n",
        "\n",
        "z = complex()\n",
        "print(z)\n",
        "\n",
        "z = complex('5-9j')\n",
        "print(z)"
      ],
      "execution_count": 0,
      "outputs": []
    },
    {
      "cell_type": "code",
      "metadata": {
        "id": "0E9tDSpRFCki",
        "colab_type": "code",
        "colab": {}
      },
      "source": [
        "class Coordinate:\n",
        "  x = 10\n",
        "  y = -5\n",
        "  z = 0\n",
        "\n",
        "  @classmethod\n",
        "  def func1(cls):\n",
        "    print(\"print me\")\n",
        "\n",
        "point1 = Coordinate() \n",
        "\n",
        "print('x = ',point1.x)\n",
        "print('y = ',point1.y)\n",
        "print('z = ',point1.z)\n",
        "\n",
        "delattr(Coordinate, 'z')\n",
        "\n",
        "\n",
        "Coordinate.func1()\n",
        "\n",
        "delattr(Coordinate, 'func1')\n",
        "# can delete methods also\n",
        "#Coordinate.func1()\n",
        "print('--After deleting z attribute--')\n",
        "print('x = ',point1.x)\n",
        "print('y = ',point1.y)\n",
        "\n",
        "# Raises Error\n",
        "#print('z = ',point1.z)"
      ],
      "execution_count": 0,
      "outputs": []
    },
    {
      "cell_type": "code",
      "metadata": {
        "id": "svIflclkFOOb",
        "colab_type": "code",
        "colab": {}
      },
      "source": [
        "class Coordinate:\n",
        "  x = 10\n",
        "  y = -5\n",
        "  z = 0\n",
        "\n",
        "point1 = Coordinate() \n",
        "\n",
        "print('x = ',point1.x)\n",
        "print('y = ',point1.y)\n",
        "print('z = ',point1.z)\n",
        "\n",
        "# Deleting attribute z\n",
        "del Coordinate.z\n",
        "\n",
        "print('--After deleting z attribute--')\n",
        "print('x = ',point1.x)\n",
        "print('y = ',point1.y)\n",
        "\n",
        "# Raises Attribute Error\n",
        "#print('z = ',point1.z)"
      ],
      "execution_count": 0,
      "outputs": []
    },
    {
      "cell_type": "code",
      "metadata": {
        "id": "nfHQOPmuFdGy",
        "colab_type": "code",
        "colab": {}
      },
      "source": [
        "numbers = dict(x=5, y=0)\n",
        "print('numbers =', numbers)\n",
        "print(type(numbers))\n",
        "\n",
        "empty = dict()\n",
        "print('empty =', empty)\n",
        "print(type(empty))\n",
        "# keyword argument is not passed\n",
        "numbers1 = dict([('x', 5), ('y', -5)])\n",
        "print('numbers1 =',numbers1)\n",
        "\n",
        "# keyword argument is also passed\n",
        "numbers2 = dict([('x', 5), ('y', -5)], z=8)\n",
        "print('numbers2 =',numbers2)\n",
        "\n",
        "# zip() creates an iterable in Python 3\n",
        "numbers3 = dict(dict(zip(['x', 'y', 'z'], [1, 2, 3])))\n",
        "print('numbers3 =',numbers3)\n",
        "\n",
        "numbers1 = dict({'x': 4, 'y': 5})\n",
        "print('numbers1 =',numbers1)\n",
        "\n",
        "# you don't need to use dict() in above code\n",
        "numbers2 = {'x': 4, 'y': 5}\n",
        "print('numbers2 =',numbers2)\n",
        "\n",
        "# keyword argument is also passed\n",
        "numbers3 = dict({'x': 4, 'y': 5}, z=8)\n",
        "print('numbers3 =',numbers3)"
      ],
      "execution_count": 0,
      "outputs": []
    },
    {
      "cell_type": "code",
      "metadata": {
        "id": "-_uUnoD9F1ai",
        "colab_type": "code",
        "colab": {}
      },
      "source": [
        "number = [1, 2, 3]\n",
        "print(dir(number))\n",
        "\n",
        "print('\\nReturn Value from empty dir()')\n",
        "print(dir())"
      ],
      "execution_count": 0,
      "outputs": []
    },
    {
      "cell_type": "code",
      "metadata": {
        "id": "GdSUTbb3GIKx",
        "colab_type": "code",
        "colab": {}
      },
      "source": [
        "class Person:\n",
        "  def __dir__(self):\n",
        "    return ['age', 'name', 'salary']\n",
        "    \n",
        "\n",
        "teacher = Person()\n",
        "print(dir(teacher))"
      ],
      "execution_count": 0,
      "outputs": []
    },
    {
      "cell_type": "code",
      "metadata": {
        "id": "PPxuTpePGT84",
        "colab_type": "code",
        "colab": {}
      },
      "source": [
        "print('divmod(8, 3) = ', divmod(8, 3))\n",
        "print('divmod(3, 8) = ', divmod(3, 8))\n",
        "print('divmod(5, 5) = ', divmod(5, 5))\n",
        "\n",
        "# divmod() with Floats\n",
        "print('divmod(8.0, 3) = ', divmod(8.0, 3))\n",
        "print('divmod(3, 8.0) = ', divmod(3, 8.0))\n",
        "print('divmod(7.5, 2.5) = ', divmod(7.5, 2.5))\n",
        "print('divmod(2.6, 0.5) = ', divmod(2.6, 0.5))"
      ],
      "execution_count": 0,
      "outputs": []
    },
    {
      "cell_type": "code",
      "metadata": {
        "id": "SoTak0-GGqQt",
        "colab_type": "code",
        "colab": {}
      },
      "source": [
        "grocery = ['bread', 'milk', 'butter']\n",
        "enumerateGrocery = enumerate(grocery)\n",
        "\n",
        "print(type(enumerateGrocery))\n",
        "\n",
        "# converting to list\n",
        "print(list(enumerateGrocery))\n",
        "\n",
        "# changing the default counter\n",
        "enumerateGrocery = enumerate(grocery, 10)\n",
        "print(list(enumerateGrocery))"
      ],
      "execution_count": 0,
      "outputs": []
    },
    {
      "cell_type": "code",
      "metadata": {
        "id": "7BB4o38nHDnL",
        "colab_type": "code",
        "colab": {}
      },
      "source": [
        "grocery = ['bread', 'milk', 'butter']\n",
        "\n",
        "for item in enumerate(grocery):\n",
        "  print(item)\n",
        "\n",
        "print('\\n')\n",
        "for count, item in enumerate(grocery):\n",
        "  print(count, item)\n",
        "\n",
        "print('\\n')\n",
        "# changing default start value\n",
        "for count, item in enumerate(grocery, 100):\n",
        "  print(count, item)"
      ],
      "execution_count": 0,
      "outputs": []
    },
    {
      "cell_type": "code",
      "metadata": {
        "id": "cMW3_6QxHszB",
        "colab_type": "code",
        "colab": {}
      },
      "source": [
        "class Mathematics:\n",
        "\n",
        "    def addNumbers(x, y):\n",
        "        return x + y\n",
        "\n",
        "# create addNumbers static method\n",
        "Mathematics.addNumbers = staticmethod(Mathematics.addNumbers)\n",
        "\n",
        "print('The sum is:', Mathematics.addNumbers(5, 10))\n",
        "\n",
        "#addNumbers(2,3)"
      ],
      "execution_count": 0,
      "outputs": []
    },
    {
      "cell_type": "code",
      "metadata": {
        "id": "iJ4uRR7eIbcg",
        "colab_type": "code",
        "colab": {}
      },
      "source": [
        "class Dates:\n",
        "    def __init__(self, date):\n",
        "        self.date = date\n",
        "        \n",
        "    def getDate(self):\n",
        "        return self.date\n",
        "\n",
        "    @staticmethod\n",
        "    def toDashDate(date):\n",
        "        return date.replace(\"/\", \"-\")\n",
        "\n",
        "class DatesWithSlashes(Dates):\n",
        "    def getDate(self):\n",
        "        return Dates.toDashDate(self.date)\n",
        "\n",
        "date = Dates(\"15-12-2016\")\n",
        "dateFromDB = DatesWithSlashes(\"15/12/2016\")\n",
        "\n",
        "if(date.getDate() == dateFromDB.getDate()):\n",
        "    print(\"Equal\")\n",
        "else:\n",
        "    print(\"Unequal\")"
      ],
      "execution_count": 0,
      "outputs": []
    },
    {
      "cell_type": "code",
      "metadata": {
        "id": "APNzvKKOLpv9",
        "colab_type": "code",
        "colab": {}
      },
      "source": [
        "alphabets = ['a', 'b', 'd', 'e', 'i', 'j', 'o']\n",
        "\n",
        "# function that filters vowels\n",
        "def filterVowels(alphabet):\n",
        "    vowels = ['a', 'e', 'i', 'o', 'u']\n",
        "\n",
        "    if(alphabet in vowels):\n",
        "        return True\n",
        "    else:\n",
        "        return False\n",
        "\n",
        "for i in alphabets:\n",
        "  filterVowels()\n",
        "\n",
        "\n",
        "filteredVowels = filter(filterVowels, alphabets)\n",
        "\n",
        "print('The filtered vowels are:')\n",
        "print(filteredVowels)\n",
        "for vowel in filteredVowels:\n",
        "     print(vowel)"
      ],
      "execution_count": 0,
      "outputs": []
    },
    {
      "cell_type": "code",
      "metadata": {
        "id": "3tbNxil4MJbN",
        "colab_type": "code",
        "colab": {}
      },
      "source": [
        "# random list\n",
        "randomList = [1, 'a', 0, False, True, '0']\n",
        "\n",
        "filteredList = filter(None, randomList)\n",
        "\n",
        "print('The filtered elements are:')\n",
        "for element in filteredList:\n",
        "    print(element)"
      ],
      "execution_count": 0,
      "outputs": []
    },
    {
      "cell_type": "code",
      "metadata": {
        "id": "oZIaG-2bMWM0",
        "colab_type": "code",
        "colab": {}
      },
      "source": [
        "x = 1\n",
        "print(eval('x + 1'))"
      ],
      "execution_count": 0,
      "outputs": []
    },
    {
      "cell_type": "code",
      "metadata": {
        "id": "TrYYVM2xMhgw",
        "colab_type": "code",
        "colab": {}
      },
      "source": [
        "# Perimeter of Square\n",
        "def calculatePerimeter(l):  #l,1\n",
        "  return 4*l\n",
        "\n",
        "# Area of Square\n",
        "def calculateArea(l):\n",
        "  return l*1\n",
        "\n",
        "property = input(\"Type a function: \")\n",
        "\n",
        "for l in range(1, 5):\n",
        "  if (property == 'calculatePerimeter(l)'):\n",
        "    print(\"If length is \", l , \", Perimeter = \", eval(property))\n",
        "  elif (property == 'calculateArea(l)'):\n",
        "    print(\"If length is \", l , \", Area = \", eval(property))\n",
        "  else:\n",
        "    print('Wrong Function')\n",
        "    break"
      ],
      "execution_count": 0,
      "outputs": []
    },
    {
      "cell_type": "code",
      "metadata": {
        "id": "SFgnfocZNMJ1",
        "colab_type": "code",
        "colab": {}
      },
      "source": [
        "from math import *\n",
        "print(eval('dir()'))\n",
        "print(eval('dir()', {}))\n",
        "\n",
        "print(eval('dir()', {'sqrt': sqrt, 'pow': pow}))\n",
        "\n",
        "a = 5\n",
        "print(eval('sqrt(a)', {'__builtins__': None}, {'a': a, 'sqrt': sqrt}))"
      ],
      "execution_count": 0,
      "outputs": []
    },
    {
      "cell_type": "code",
      "metadata": {
        "id": "ofFCt4d3OOo5",
        "colab_type": "code",
        "colab": {}
      },
      "source": [
        "# for integers\n",
        "print(float(10))\n",
        "\n",
        "# for floats\n",
        "print(float(11.22))\n",
        "\n",
        "# for string floats\n",
        "print(float(\"-13.33\"))\n",
        "\n",
        "# for string floats with whitespaces\n",
        "print(float(\"     -24.45\\n\"))\n",
        "\n",
        "# string float error\n",
        "#print(float(\"abc\"))"
      ],
      "execution_count": 0,
      "outputs": []
    },
    {
      "cell_type": "code",
      "metadata": {
        "id": "Nrfy3ZIQOfJn",
        "colab_type": "code",
        "colab": {}
      },
      "source": [
        "# for NaN\n",
        "print(float(\"nan\"))\n",
        "print(float(\"NaN\"))\n",
        "\n",
        "# for inf/infinity\n",
        "print(float(\"inf\"))\n",
        "print(float(\"InF\"))\n",
        "print(float(\"InFiNiTy\"))\n",
        "print(float(\"infinity\"))"
      ],
      "execution_count": 0,
      "outputs": []
    },
    {
      "cell_type": "code",
      "metadata": {
        "id": "xtJJWIHOOt-R",
        "colab_type": "code",
        "colab": {}
      },
      "source": [
        "# d, f and b are type\n",
        "\n",
        "# integer\n",
        "print(format(123, \"d\"))\n",
        "\n",
        "# float arguments\n",
        "print(format(123.4567898, \"f\"))\n",
        "\n",
        "# binary format\n",
        "print(format(12, \"b\"))"
      ],
      "execution_count": 0,
      "outputs": []
    },
    {
      "cell_type": "code",
      "metadata": {
        "id": "6cvHNJkjO2hq",
        "colab_type": "code",
        "colab": {}
      },
      "source": [
        "# integer \n",
        "print(format(1234, \"*>+7,d\"))\n",
        "\n",
        "# float number\n",
        "print(format(123.4567, \"^-09.3f\"))"
      ],
      "execution_count": 0,
      "outputs": []
    },
    {
      "cell_type": "code",
      "metadata": {
        "id": "llntbZ1RPTT5",
        "colab_type": "code",
        "colab": {}
      },
      "source": [
        "# tuple of vowels\n",
        "vowels = ('a', 'e', 'i', 'o', 'u')\n",
        "\n",
        "fSet = frozenset(vowels)\n",
        "print('The frozen set is:', fSet)\n",
        "print('The empty frozen set is:', frozenset())"
      ],
      "execution_count": 0,
      "outputs": []
    },
    {
      "cell_type": "code",
      "metadata": {
        "id": "MxqU0xyhPk8f",
        "colab_type": "code",
        "colab": {}
      },
      "source": [
        "class Person:\n",
        "    #age = 23\n",
        "    name = \"Adam\"\n",
        "\n",
        "person = Person()\n",
        "print('The age is:', getattr(person, \"age\",2233))\n",
        "#print('The age is:', person.age)"
      ],
      "execution_count": 0,
      "outputs": []
    },
    {
      "cell_type": "code",
      "metadata": {
        "id": "i5jchEY3P26j",
        "colab_type": "code",
        "colab": {}
      },
      "source": [
        "class Person:\n",
        "    age = 23\n",
        "    name = \"Adam\"\n",
        "\n",
        "person = Person()\n",
        "\n",
        "# when default value is provided\n",
        "print('The sex is:', getattr(person, 'sex', 'Male'))\n",
        "\n",
        "# when no default value is provided\n",
        "#print('The sex is:', getattr(person, 'sex'))"
      ],
      "execution_count": 0,
      "outputs": []
    },
    {
      "cell_type": "code",
      "metadata": {
        "id": "5HCv88yRQTHi",
        "colab_type": "code",
        "colab": {}
      },
      "source": [
        "globals()"
      ],
      "execution_count": 0,
      "outputs": []
    },
    {
      "cell_type": "code",
      "metadata": {
        "id": "jk0RyweKQZDP",
        "colab_type": "code",
        "colab": {}
      },
      "source": [
        "print(globals())\n",
        "age = 23\n",
        "\n",
        "def func():\n",
        "  var1akshdfklasdjhflakdsfj = \"ddd\"\n",
        "  print(var1akshdfklasdjhflakdsfj)\n",
        "\n",
        "globals()['age'] = 25\n",
        "print('The age is:', age)\n",
        "\n",
        "globals()['var1akshdfklasdjhflakdsfj'] = 25\n",
        "globals()['var1akshdfklasdjhflakdsfjASFSDFASDFASDF'] = 25\n",
        "\n",
        "print('The var1 is:', var1akshdfklasdjhflakdsfj)\n",
        "\n",
        "print('The var1 is:', var1akshdfklasdjhflakdsfjASFSDFASDFASDF)\n",
        "\n",
        "func()"
      ],
      "execution_count": 0,
      "outputs": []
    },
    {
      "cell_type": "code",
      "metadata": {
        "id": "ZXwviYvIQn1Z",
        "colab_type": "code",
        "colab": {}
      },
      "source": [
        "program = 'a = 5\\nb=10\\nprint(\"Sum =\", a+b)'\n",
        "exec(program)"
      ],
      "execution_count": 0,
      "outputs": []
    },
    {
      "cell_type": "code",
      "metadata": {
        "id": "iAwXqXj4Qv8C",
        "colab_type": "code",
        "colab": {}
      },
      "source": [
        "program = input('Enter a program:')\n",
        "exec(program)"
      ],
      "execution_count": 0,
      "outputs": []
    },
    {
      "cell_type": "code",
      "metadata": {
        "id": "2Ws7vzEoRCsj",
        "colab_type": "code",
        "colab": {}
      },
      "source": [
        "from math import *\n",
        "\n",
        "globalsParameter = {'__builtins__' : None}\n",
        "localsParameter = {'print': print, 'dir': dir}\n",
        "exec('print(dir())', globalsParameter, localsParameter)"
      ],
      "execution_count": 0,
      "outputs": []
    },
    {
      "cell_type": "code",
      "metadata": {
        "id": "ZUP5QdnQRWAk",
        "colab_type": "code",
        "colab": {}
      },
      "source": [
        "class Person:\n",
        "    age = 23\n",
        "    name = 'Adam'\n",
        "\n",
        "person = Person()\n",
        "\n",
        "print('Person has age?:', hasattr(person, 'age'))\n",
        "print('Person has salary?:', hasattr(person, 'salary'))"
      ],
      "execution_count": 0,
      "outputs": []
    }
  ]
}