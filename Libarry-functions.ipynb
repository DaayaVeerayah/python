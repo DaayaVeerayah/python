{
  "nbformat": 4,
  "nbformat_minor": 0,
  "metadata": {
    "colab": {
      "name": "Untitled5.ipynb",
      "provenance": [],
      "authorship_tag": "ABX9TyNkZnRpKjQdyI6ntlXtLLx5",
      "include_colab_link": true
    },
    "kernelspec": {
      "name": "python3",
      "display_name": "Python 3"
    }
  },
  "cells": [
    {
      "cell_type": "markdown",
      "metadata": {
        "id": "view-in-github",
        "colab_type": "text"
      },
      "source": [
        "<a href=\"https://colab.research.google.com/github/meghasyam/python/blob/master/Libarry-functions.ipynb\" target=\"_parent\"><img src=\"https://colab.research.google.com/assets/colab-badge.svg\" alt=\"Open In Colab\"/></a>"
      ]
    },
    {
      "cell_type": "code",
      "metadata": {
        "id": "0u6UXKcq58T2",
        "colab_type": "code",
        "outputId": "32f4b59f-2188-4b51-bc99-b34e17a9bf04",
        "colab": {
          "base_uri": "https://localhost:8080/",
          "height": 69
        }
      },
      "source": [
        "# random integer\n",
        "integer = -20\n",
        "print('Absolute value of -20 is:', abs(integer))\n",
        "\n",
        "#random floating number\n",
        "floating = -30.33\n",
        "print('Absolute value of -30.33 is:', abs(floating))\n",
        "\n",
        "# random complex number\n",
        "complex = (3 - 4j)\n",
        "print('Magnitude of 3 - 4j is:', abs(complex))"
      ],
      "execution_count": 0,
      "outputs": [
        {
          "output_type": "stream",
          "text": [
            "Absolute value of -20 is: 20\n",
            "Absolute value of -30.33 is: 30.33\n",
            "Magnitude of 3 - 4j is: 5.0\n"
          ],
          "name": "stdout"
        }
      ]
    },
    {
      "cell_type": "code",
      "metadata": {
        "id": "5-XMarcA6WRQ",
        "colab_type": "code",
        "outputId": "e8e753bf-83aa-45ff-ff8c-069c77556d79",
        "colab": {
          "base_uri": "https://localhost:8080/",
          "height": 87
        }
      },
      "source": [
        "l = [1, 3, 4, 0]\n",
        "print(any(l))\n",
        "\n",
        "l = [0, False]\n",
        "print(any(l))\n",
        "\n",
        "l = [0, False, 5]\n",
        "print(any(l))\n",
        "\n",
        "l = []\n",
        "print(any(l))"
      ],
      "execution_count": 0,
      "outputs": [
        {
          "output_type": "stream",
          "text": [
            "True\n",
            "False\n",
            "True\n",
            "False\n"
          ],
          "name": "stdout"
        }
      ]
    },
    {
      "cell_type": "code",
      "metadata": {
        "id": "G80fRm6J6aPK",
        "colab_type": "code",
        "outputId": "55f95feb-7210-4ba7-98b3-06332dedba82",
        "colab": {
          "base_uri": "https://localhost:8080/",
          "height": 69
        }
      },
      "source": [
        "s = \"This is good\"\n",
        "print(any(s))\n",
        "\n",
        "# 0 is False\n",
        "# '0' is True\n",
        "s = '000'\n",
        "print(any(s))\n",
        "\n",
        "s = ''\n",
        "print(any(s))"
      ],
      "execution_count": 0,
      "outputs": [
        {
          "output_type": "stream",
          "text": [
            "True\n",
            "True\n",
            "False\n"
          ],
          "name": "stdout"
        }
      ]
    },
    {
      "cell_type": "code",
      "metadata": {
        "id": "jbMCnQhP6hqF",
        "colab_type": "code",
        "outputId": "a002ba07-fcb5-4189-9ae5-3ca6cb4f8814",
        "colab": {
          "base_uri": "https://localhost:8080/",
          "height": 104
        }
      },
      "source": [
        "d = {0: 'False'}\n",
        "print(any(d))\n",
        "\n",
        "d = {0: 'False', 1: 'True'}\n",
        "print(any(d))\n",
        "\n",
        "d = {0: 'False', False: 0}\n",
        "print(any(d))\n",
        "\n",
        "d = {}\n",
        "print(any(d))\n",
        "\n",
        "# 0 is False\n",
        "# '0' is True\n",
        "d = {'0': 'False'}\n",
        "print(any(d))"
      ],
      "execution_count": 0,
      "outputs": [
        {
          "output_type": "stream",
          "text": [
            "False\n",
            "True\n",
            "False\n",
            "False\n",
            "True\n"
          ],
          "name": "stdout"
        }
      ]
    },
    {
      "cell_type": "code",
      "metadata": {
        "id": "C2PsxzYm638e",
        "colab_type": "code",
        "outputId": "cd779b59-77aa-4583-ee99-6e2d7c8049e9",
        "colab": {
          "base_uri": "https://localhost:8080/",
          "height": 104
        }
      },
      "source": [
        "# all values true\n",
        "l = [1, 3, 4, 5]\n",
        "print(all(l))\n",
        "\n",
        "# all values false\n",
        "l = [0, False]\n",
        "print(all(l))\n",
        "\n",
        "# one false value\n",
        "l = [1, 3, 4, 0]\n",
        "print(all(l))\n",
        "\n",
        "# one true value\n",
        "l = [0, False, 5]\n",
        "print(all(l))\n",
        "\n",
        "# empty iterable\n",
        "l = []\n",
        "print(all(l))"
      ],
      "execution_count": 0,
      "outputs": [
        {
          "output_type": "stream",
          "text": [
            "True\n",
            "False\n",
            "False\n",
            "False\n",
            "True\n"
          ],
          "name": "stdout"
        }
      ]
    },
    {
      "cell_type": "code",
      "metadata": {
        "id": "ojUmumdL7O8Q",
        "colab_type": "code",
        "outputId": "de329513-3d1d-482f-836a-11c1f01c0ab7",
        "colab": {
          "base_uri": "https://localhost:8080/",
          "height": 69
        }
      },
      "source": [
        "s = \"This is good\"\n",
        "print(all(s))\n",
        "\n",
        "# 0 is False\n",
        "# '0' is True\n",
        "s = '000'\n",
        "print(all(s))\n",
        "\n",
        "s = ''\n",
        "print(all(s))"
      ],
      "execution_count": 0,
      "outputs": [
        {
          "output_type": "stream",
          "text": [
            "True\n",
            "True\n",
            "True\n"
          ],
          "name": "stdout"
        }
      ]
    },
    {
      "cell_type": "code",
      "metadata": {
        "id": "29VmKV7x7Y_6",
        "colab_type": "code",
        "outputId": "232c21c8-82c3-49a9-8a53-4e6a15c27e98",
        "colab": {
          "base_uri": "https://localhost:8080/",
          "height": 104
        }
      },
      "source": [
        "s = {0: 'False', 1: 'False'}\n",
        "print(all(s))\n",
        "\n",
        "s = {1: 'True', 2: 'True'}\n",
        "print(all(s))\n",
        "\n",
        "s = {1: 'True', False: 0}\n",
        "print(all(s))\n",
        "\n",
        "s = {}\n",
        "print(all(s))\n",
        "\n",
        "# 0 is False\n",
        "# '0' is True\n",
        "s = {'0': 'True'}\n",
        "print(all(s))"
      ],
      "execution_count": 0,
      "outputs": [
        {
          "output_type": "stream",
          "text": [
            "False\n",
            "True\n",
            "False\n",
            "True\n",
            "True\n"
          ],
          "name": "stdout"
        }
      ]
    },
    {
      "cell_type": "code",
      "metadata": {
        "id": "Q_Lg_TRH7pfj",
        "colab_type": "code",
        "outputId": "cb01f83b-8b7d-4297-e2ae-0933eb46dfc3",
        "colab": {
          "base_uri": "https://localhost:8080/",
          "height": 69
        }
      },
      "source": [
        "normalText = 'Python is interesting'\n",
        "print(ascii(normalText))\n",
        "\n",
        "otherText = 'Pythön is interesting'\n",
        "print(ascii(otherText))\n",
        "\n",
        "print('Pyth\\xf6n is interesting')"
      ],
      "execution_count": 0,
      "outputs": [
        {
          "output_type": "stream",
          "text": [
            "'Python is interesting'\n",
            "'Pyth\\xf6n is interesting'\n",
            "Pythön is interesting\n"
          ],
          "name": "stdout"
        }
      ]
    },
    {
      "cell_type": "code",
      "metadata": {
        "id": "AuhrTUro8A-k",
        "colab_type": "code",
        "outputId": "e7f2bcc5-1140-41de-c062-f511edcbc4f1",
        "colab": {
          "base_uri": "https://localhost:8080/",
          "height": 35
        }
      },
      "source": [
        "number = 5\n",
        "print('The binary equivalent of 5 is:', bin(number))"
      ],
      "execution_count": 0,
      "outputs": [
        {
          "output_type": "stream",
          "text": [
            "The binary equivalent of 5 is: 0b101\n"
          ],
          "name": "stdout"
        }
      ]
    },
    {
      "cell_type": "code",
      "metadata": {
        "id": "m-E9ks9n8We_",
        "colab_type": "code",
        "outputId": "fb38c650-5b74-4da9-9f55-9f2d88ee6e6d",
        "colab": {
          "base_uri": "https://localhost:8080/",
          "height": 35
        }
      },
      "source": [
        "class Quantity:\n",
        "    apple = 1\n",
        "    orange = 2\n",
        "    grapes = 2\n",
        "    \n",
        "    def __index__(self):\n",
        "        return self.apple + self.orange + self.grapes\n",
        "        \n",
        "print('The binary equivalent of quantity is:', bin(Quantity()))"
      ],
      "execution_count": 0,
      "outputs": [
        {
          "output_type": "stream",
          "text": [
            "The binary equivalent of quantity is: 0b101\n"
          ],
          "name": "stdout"
        }
      ]
    },
    {
      "cell_type": "code",
      "metadata": {
        "id": "XwNYzCk98vNU",
        "colab_type": "code",
        "outputId": "77ae09e3-6b53-427f-84ca-13069763179d",
        "colab": {
          "base_uri": "https://localhost:8080/",
          "height": 121
        }
      },
      "source": [
        "test=[]\n",
        "print(test,'is',bool(test))\n",
        "\n",
        "test = [0]\n",
        "print(test,'is',bool(test))\n",
        "\n",
        "test = 0.0\n",
        "print(test,'is',bool(test))\n",
        "\n",
        "test = None\n",
        "print(test,'is',bool(test))\n",
        "\n",
        "test = True\n",
        "print(test,'is',bool(test))\n",
        "\n",
        "test = 'Easy string'\n",
        "print(test,'is',bool(test))"
      ],
      "execution_count": 0,
      "outputs": [
        {
          "output_type": "stream",
          "text": [
            "[] is False\n",
            "[0] is True\n",
            "0.0 is False\n",
            "None is False\n",
            "True is True\n",
            "Easy string is True\n"
          ],
          "name": "stdout"
        }
      ]
    },
    {
      "cell_type": "code",
      "metadata": {
        "id": "5D0I19vL9NEP",
        "colab_type": "code",
        "outputId": "2efbb33f-6802-4658-ba10-2cce986017df",
        "colab": {
          "base_uri": "https://localhost:8080/",
          "height": 35
        }
      },
      "source": [
        "size = 5\n",
        "\n",
        "arr = bytearray(size)\n",
        "print(arr)"
      ],
      "execution_count": 0,
      "outputs": [
        {
          "output_type": "stream",
          "text": [
            "bytearray(b'\\x00\\x00\\x00\\x00\\x00')\n"
          ],
          "name": "stdout"
        }
      ]
    },
    {
      "cell_type": "code",
      "metadata": {
        "id": "n2sgPFI49R5y",
        "colab_type": "code",
        "outputId": "f080655a-e860-49c6-8805-8239d4a6eabb",
        "colab": {
          "base_uri": "https://localhost:8080/",
          "height": 35
        }
      },
      "source": [
        "rList = [1, 2, 3, 4, 5]\n",
        "\n",
        "arr = bytearray(rList)\n",
        "print(arr)"
      ],
      "execution_count": 0,
      "outputs": [
        {
          "output_type": "stream",
          "text": [
            "bytearray(b'\\x01\\x02\\x03\\x04\\x05')\n"
          ],
          "name": "stdout"
        }
      ]
    },
    {
      "cell_type": "code",
      "metadata": {
        "id": "FbZXUt0A-Nta",
        "colab_type": "code",
        "colab": {
          "base_uri": "https://localhost:8080/",
          "height": 69
        },
        "outputId": "380a210a-a222-4d73-deb7-03eebeaf0667"
      },
      "source": [
        "x = 5\n",
        "print(callable(x))\n",
        "\n",
        "def testFunction():\n",
        "  print(\"Test\")\n",
        "\n",
        "y = testFunction\n",
        "print(callable(y))\n",
        "\n",
        "y()"
      ],
      "execution_count": 1,
      "outputs": [
        {
          "output_type": "stream",
          "text": [
            "False\n",
            "True\n",
            "Test\n"
          ],
          "name": "stdout"
        }
      ]
    },
    {
      "cell_type": "code",
      "metadata": {
        "id": "8Yiz8JQ6-KaT",
        "colab_type": "code",
        "colab": {
          "base_uri": "https://localhost:8080/",
          "height": 52
        },
        "outputId": "02438231-7155-4b55-9a9a-d92951026f0a"
      },
      "source": [
        "class Foo:\n",
        "  def __call__(self):\n",
        "    print('Print Something')\n",
        "\n",
        "print(callable(Foo))\n",
        "\n",
        "x = Foo()\n",
        "x()"
      ],
      "execution_count": 6,
      "outputs": [
        {
          "output_type": "stream",
          "text": [
            "True\n",
            "Print Something\n"
          ],
          "name": "stdout"
        }
      ]
    },
    {
      "cell_type": "code",
      "metadata": {
        "id": "JpF5en0C_C_E",
        "colab_type": "code",
        "colab": {
          "base_uri": "https://localhost:8080/",
          "height": 52
        },
        "outputId": "16757cc0-dd56-4484-d750-3cc4c220170c"
      },
      "source": [
        "class Foo:\n",
        "  def printLine(self):\n",
        "    print('Print Something')\n",
        "\n",
        "print(callable(Foo))\n",
        "\n",
        "x=Foo()\n",
        "\n",
        "x.printLine()"
      ],
      "execution_count": 9,
      "outputs": [
        {
          "output_type": "stream",
          "text": [
            "True\n",
            "Print Something\n"
          ],
          "name": "stdout"
        }
      ]
    },
    {
      "cell_type": "code",
      "metadata": {
        "id": "t7gn4Yzg_1Oo",
        "colab_type": "code",
        "colab": {
          "base_uri": "https://localhost:8080/",
          "height": 35
        },
        "outputId": "fb335651-bcd1-4c02-8612-57356fd05ea2"
      },
      "source": [
        "string = \"Python is interesting.\"\n",
        "\n",
        "# string with encoding 'utf-8'\n",
        "arr = bytes(string, 'utf-8')\n",
        "print(arr)"
      ],
      "execution_count": 10,
      "outputs": [
        {
          "output_type": "stream",
          "text": [
            "b'Python is interesting.'\n"
          ],
          "name": "stdout"
        }
      ]
    },
    {
      "cell_type": "code",
      "metadata": {
        "id": "j41E-CcbAOIO",
        "colab_type": "code",
        "colab": {
          "base_uri": "https://localhost:8080/",
          "height": 35
        },
        "outputId": "4d010647-95f5-4452-8769-48091a40dc93"
      },
      "source": [
        "size = 5\n",
        "\n",
        "arr = bytes(size)\n",
        "print(arr)"
      ],
      "execution_count": 11,
      "outputs": [
        {
          "output_type": "stream",
          "text": [
            "b'\\x00\\x00\\x00\\x00\\x00'\n"
          ],
          "name": "stdout"
        }
      ]
    },
    {
      "cell_type": "code",
      "metadata": {
        "id": "Qob_jomtAYdG",
        "colab_type": "code",
        "colab": {
          "base_uri": "https://localhost:8080/",
          "height": 35
        },
        "outputId": "4dbe459f-5ea8-441b-b991-0c4cd650ad3c"
      },
      "source": [
        "rList = [1, 2, 3, 4, 5]\n",
        "\n",
        "arr = bytes(rList)\n",
        "print(arr)"
      ],
      "execution_count": 12,
      "outputs": [
        {
          "output_type": "stream",
          "text": [
            "b'\\x01\\x02\\x03\\x04\\x05'\n"
          ],
          "name": "stdout"
        }
      ]
    },
    {
      "cell_type": "code",
      "metadata": {
        "id": "dtZCa8bcAnaP",
        "colab_type": "code",
        "colab": {
          "base_uri": "https://localhost:8080/",
          "height": 69
        },
        "outputId": "63fe9b1c-877c-4c5d-a717-f545f8b8212b"
      },
      "source": [
        "print(chr(97))\n",
        "print(chr(65))\n",
        "print(chr(1200))\n",
        "#print(chr(-1))"
      ],
      "execution_count": 15,
      "outputs": [
        {
          "output_type": "stream",
          "text": [
            "a\n",
            "A\n",
            "Ұ\n"
          ],
          "name": "stdout"
        }
      ]
    },
    {
      "cell_type": "code",
      "metadata": {
        "id": "S0TaBcmVBKz4",
        "colab_type": "code",
        "colab": {
          "base_uri": "https://localhost:8080/",
          "height": 35
        },
        "outputId": "4e60d5d1-45ea-4adf-d8db-91dd4b74870b"
      },
      "source": [
        "codeInString = 'a = 5\\nb=6\\nsum=a+b\\nprint(\"sum =\",sum)'\n",
        "codeObejct = compile(codeInString, 'sumstring', 'exec')\n",
        "\n",
        "exec(codeObejct)"
      ],
      "execution_count": 16,
      "outputs": [
        {
          "output_type": "stream",
          "text": [
            "sum = 11\n"
          ],
          "name": "stdout"
        }
      ]
    },
    {
      "cell_type": "code",
      "metadata": {
        "id": "FR-_ed_QBOJc",
        "colab_type": "code",
        "colab": {
          "base_uri": "https://localhost:8080/",
          "height": 35
        },
        "outputId": "566705c5-36f7-4d40-ad86-080e9a3e89ed"
      },
      "source": [
        "!ls"
      ],
      "execution_count": 17,
      "outputs": [
        {
          "output_type": "stream",
          "text": [
            "sample_data\n"
          ],
          "name": "stdout"
        }
      ]
    },
    {
      "cell_type": "code",
      "metadata": {
        "id": "-z7L9ZNjBx9f",
        "colab_type": "code",
        "colab": {
          "base_uri": "https://localhost:8080/",
          "height": 35
        },
        "outputId": "78aba22f-133d-4da2-d6bf-062d940965bc"
      },
      "source": [
        "class Person:\n",
        "    age = 25\n",
        "\n",
        "    def printAge(cls):\n",
        "        print('The age is:', cls.age)\n",
        "\n",
        "# create printAge class method\n",
        "#Person.printAge = classmethod(Person.printAge)\n",
        "obj =Person()\n",
        "obj.printAge()"
      ],
      "execution_count": 22,
      "outputs": [
        {
          "output_type": "stream",
          "text": [
            "The age is: 25\n"
          ],
          "name": "stdout"
        }
      ]
    },
    {
      "cell_type": "code",
      "metadata": {
        "id": "Q1t1Q20QC7C3",
        "colab_type": "code",
        "colab": {
          "base_uri": "https://localhost:8080/",
          "height": 139
        },
        "outputId": "04015b5c-f200-41d4-d856-b3f700067426"
      },
      "source": [
        "from datetime import date\n",
        "\n",
        "# random Person\n",
        "class Person:\n",
        "    def __init__(self, name, age):\n",
        "        self.name = name\n",
        "        self.age = age\n",
        "\n",
        "    @classmethod\n",
        "    def fromBirthYear(cls, name, birthYear):\n",
        "        return cls(name, date.today().year - birthYear)\n",
        "\n",
        "    def display(self):\n",
        "        print(self.name + \"'s age is: \" + str(self.age))\n",
        "\n",
        "person = Person('Adam', 19)\n",
        "person.display()\n",
        "\n",
        "person1 = Person.fromBirthYear('John',  1985)\n",
        "person1.display()\n",
        "\n",
        "print(type(person1))\n",
        "print(type(Person))\n",
        "print(type(2))\n",
        "print(type(Person.fromBirthYear))\n",
        "print(isinstance(person1,Person))"
      ],
      "execution_count": 26,
      "outputs": [
        {
          "output_type": "stream",
          "text": [
            "Adam's age is: 19\n",
            "John's age is: 35\n",
            "<class '__main__.Person'>\n",
            "<class 'type'>\n",
            "<class 'int'>\n",
            "<class 'method'>\n",
            "True\n"
          ],
          "name": "stdout"
        }
      ]
    },
    {
      "cell_type": "code",
      "metadata": {
        "id": "lqWklZ2KD-nd",
        "colab_type": "code",
        "colab": {
          "base_uri": "https://localhost:8080/",
          "height": 87
        },
        "outputId": "b6986341-a7db-4f29-e918-0bacf60c6689"
      },
      "source": [
        "from datetime import date\n",
        "\n",
        "# random Person\n",
        "class Person:\n",
        "    def __init__(self, name, age):\n",
        "        self.name = name\n",
        "        self.age = age\n",
        "\n",
        "    @staticmethod\n",
        "    def fromFathersAge(name, fatherAge, fatherPersonAgeDiff):\n",
        "        return Person(name, date.today().year - fatherAge + fatherPersonAgeDiff)\n",
        "\n",
        "    @classmethod\n",
        "    def fromBirthYear(cls, name, birthYear):\n",
        "        return cls(name, date.today().year - birthYear)\n",
        "\n",
        "    def display(self):\n",
        "        print(self.name + \"'s age is: \" + str(self.age))\n",
        "\n",
        "class Man(Person):\n",
        "    sex = 'Male'\n",
        "\n",
        "man = Man.fromBirthYear('John', 1985)\n",
        "print(isinstance(man, Man))\n",
        "print(type(man))\n",
        "man1 = Man.fromFathersAge('John', 1965, 20)\n",
        "print(type(man1))\n",
        "print(isinstance(man1, Man))"
      ],
      "execution_count": 28,
      "outputs": [
        {
          "output_type": "stream",
          "text": [
            "True\n",
            "<class '__main__.Man'>\n",
            "<class '__main__.Person'>\n",
            "False\n"
          ],
          "name": "stdout"
        }
      ]
    },
    {
      "cell_type": "code",
      "metadata": {
        "id": "0TIApAqTEvdk",
        "colab_type": "code",
        "colab": {
          "base_uri": "https://localhost:8080/",
          "height": 87
        },
        "outputId": "481c4672-8e43-4791-8b4c-8cf6a128a29d"
      },
      "source": [
        "z = complex(2, -3)\n",
        "print(z)\n",
        "\n",
        "z = complex(1)\n",
        "print(z)\n",
        "\n",
        "z = complex()\n",
        "print(z)\n",
        "\n",
        "z = complex('5-9j')\n",
        "print(z)"
      ],
      "execution_count": 29,
      "outputs": [
        {
          "output_type": "stream",
          "text": [
            "(2-3j)\n",
            "(1+0j)\n",
            "0j\n",
            "(5-9j)\n"
          ],
          "name": "stdout"
        }
      ]
    },
    {
      "cell_type": "code",
      "metadata": {
        "id": "0E9tDSpRFCki",
        "colab_type": "code",
        "colab": {
          "base_uri": "https://localhost:8080/",
          "height": 121
        },
        "outputId": "8bde95f7-da7c-48a9-ae61-32f783ed76e9"
      },
      "source": [
        "class Coordinate:\n",
        "  x = 10\n",
        "  y = -5\n",
        "  z = 0\n",
        "\n",
        "point1 = Coordinate() \n",
        "\n",
        "print('x = ',point1.x)\n",
        "print('y = ',point1.y)\n",
        "print('z = ',point1.z)\n",
        "\n",
        "delattr(Coordinate, 'z')\n",
        "\n",
        "print('--After deleting z attribute--')\n",
        "print('x = ',point1.x)\n",
        "print('y = ',point1.y)\n",
        "\n",
        "# Raises Error\n",
        "#print('z = ',point1.z)"
      ],
      "execution_count": 31,
      "outputs": [
        {
          "output_type": "stream",
          "text": [
            "x =  10\n",
            "y =  -5\n",
            "z =  0\n",
            "--After deleting z attribute--\n",
            "x =  10\n",
            "y =  -5\n"
          ],
          "name": "stdout"
        }
      ]
    },
    {
      "cell_type": "code",
      "metadata": {
        "id": "svIflclkFOOb",
        "colab_type": "code",
        "colab": {
          "base_uri": "https://localhost:8080/",
          "height": 121
        },
        "outputId": "8db57925-a721-40cb-9e79-c48fe467345b"
      },
      "source": [
        "class Coordinate:\n",
        "  x = 10\n",
        "  y = -5\n",
        "  z = 0\n",
        "\n",
        "point1 = Coordinate() \n",
        "\n",
        "print('x = ',point1.x)\n",
        "print('y = ',point1.y)\n",
        "print('z = ',point1.z)\n",
        "\n",
        "# Deleting attribute z\n",
        "del Coordinate.z\n",
        "\n",
        "print('--After deleting z attribute--')\n",
        "print('x = ',point1.x)\n",
        "print('y = ',point1.y)\n",
        "\n",
        "# Raises Attribute Error\n",
        "#print('z = ',point1.z)"
      ],
      "execution_count": 33,
      "outputs": [
        {
          "output_type": "stream",
          "text": [
            "x =  10\n",
            "y =  -5\n",
            "z =  0\n",
            "--After deleting z attribute--\n",
            "x =  10\n",
            "y =  -5\n"
          ],
          "name": "stdout"
        }
      ]
    },
    {
      "cell_type": "code",
      "metadata": {
        "id": "nfHQOPmuFdGy",
        "colab_type": "code",
        "colab": {
          "base_uri": "https://localhost:8080/",
          "height": 191
        },
        "outputId": "eac78c8a-498e-4bff-eade-938c52fea240"
      },
      "source": [
        "numbers = dict(x=5, y=0)\n",
        "print('numbers =', numbers)\n",
        "print(type(numbers))\n",
        "\n",
        "empty = dict()\n",
        "print('empty =', empty)\n",
        "print(type(empty))\n",
        "# keyword argument is not passed\n",
        "numbers1 = dict([('x', 5), ('y', -5)])\n",
        "print('numbers1 =',numbers1)\n",
        "\n",
        "# keyword argument is also passed\n",
        "numbers2 = dict([('x', 5), ('y', -5)], z=8)\n",
        "print('numbers2 =',numbers2)\n",
        "\n",
        "# zip() creates an iterable in Python 3\n",
        "numbers3 = dict(dict(zip(['x', 'y', 'z'], [1, 2, 3])))\n",
        "print('numbers3 =',numbers3)\n",
        "\n",
        "numbers1 = dict({'x': 4, 'y': 5})\n",
        "print('numbers1 =',numbers1)\n",
        "\n",
        "# you don't need to use dict() in above code\n",
        "numbers2 = {'x': 4, 'y': 5}\n",
        "print('numbers2 =',numbers2)\n",
        "\n",
        "# keyword argument is also passed\n",
        "numbers3 = dict({'x': 4, 'y': 5}, z=8)\n",
        "print('numbers3 =',numbers3)"
      ],
      "execution_count": 34,
      "outputs": [
        {
          "output_type": "stream",
          "text": [
            "numbers = {'x': 5, 'y': 0}\n",
            "<class 'dict'>\n",
            "empty = {}\n",
            "<class 'dict'>\n",
            "numbers1 = {'x': 5, 'y': -5}\n",
            "numbers2 = {'x': 5, 'y': -5, 'z': 8}\n",
            "numbers3 = {'x': 1, 'y': 2, 'z': 3}\n",
            "numbers1 = {'x': 4, 'y': 5}\n",
            "numbers2 = {'x': 4, 'y': 5}\n",
            "numbers3 = {'x': 4, 'y': 5, 'z': 8}\n"
          ],
          "name": "stdout"
        }
      ]
    },
    {
      "cell_type": "code",
      "metadata": {
        "id": "-_uUnoD9F1ai",
        "colab_type": "code",
        "colab": {
          "base_uri": "https://localhost:8080/",
          "height": 107
        },
        "outputId": "cd474715-2155-44dc-e9b2-725847aa2a50"
      },
      "source": [
        "number = [1, 2, 3]\n",
        "print(dir(number))\n",
        "\n",
        "print('\\nReturn Value from empty dir()')\n",
        "print(dir())"
      ],
      "execution_count": 35,
      "outputs": [
        {
          "output_type": "stream",
          "text": [
            "['__add__', '__class__', '__contains__', '__delattr__', '__delitem__', '__dir__', '__doc__', '__eq__', '__format__', '__ge__', '__getattribute__', '__getitem__', '__gt__', '__hash__', '__iadd__', '__imul__', '__init__', '__init_subclass__', '__iter__', '__le__', '__len__', '__lt__', '__mul__', '__ne__', '__new__', '__reduce__', '__reduce_ex__', '__repr__', '__reversed__', '__rmul__', '__setattr__', '__setitem__', '__sizeof__', '__str__', '__subclasshook__', 'append', 'clear', 'copy', 'count', 'extend', 'index', 'insert', 'pop', 'remove', 'reverse', 'sort']\n",
            "\n",
            "Return Value from empty dir()\n",
            "['Coordinate', 'Foo', 'In', 'Man', 'Out', 'Person', '_', '_3', '__', '___', '__builtin__', '__builtins__', '__doc__', '__loader__', '__name__', '__package__', '__spec__', '_dh', '_exit_code', '_i', '_i1', '_i10', '_i11', '_i12', '_i13', '_i14', '_i15', '_i16', '_i17', '_i18', '_i19', '_i2', '_i20', '_i21', '_i22', '_i23', '_i24', '_i25', '_i26', '_i27', '_i28', '_i29', '_i3', '_i30', '_i31', '_i32', '_i33', '_i34', '_i35', '_i4', '_i5', '_i6', '_i7', '_i8', '_i9', '_ih', '_ii', '_iii', '_oh', '_sh', 'a', 'arr', 'b', 'codeInString', 'codeObejct', 'date', 'empty', 'exit', 'get_ipython', 'man', 'man1', 'number', 'numbers', 'numbers1', 'numbers2', 'numbers3', 'obj', 'person', 'person1', 'point1', 'quit', 'rList', 'size', 'string', 'sum', 'testFunction', 'x', 'y', 'z']\n"
          ],
          "name": "stdout"
        }
      ]
    },
    {
      "cell_type": "code",
      "metadata": {
        "id": "GdSUTbb3GIKx",
        "colab_type": "code",
        "colab": {
          "base_uri": "https://localhost:8080/",
          "height": 35
        },
        "outputId": "a09b7546-18ba-4a6a-db94-27917b4f43a7"
      },
      "source": [
        "class Person:\n",
        "  def __dir__(self):\n",
        "    return ['age', 'name', 'salary']\n",
        "    \n",
        "\n",
        "teacher = Person()\n",
        "print(dir(teacher))"
      ],
      "execution_count": 36,
      "outputs": [
        {
          "output_type": "stream",
          "text": [
            "['age', 'name', 'salary']\n"
          ],
          "name": "stdout"
        }
      ]
    },
    {
      "cell_type": "code",
      "metadata": {
        "id": "PPxuTpePGT84",
        "colab_type": "code",
        "colab": {
          "base_uri": "https://localhost:8080/",
          "height": 139
        },
        "outputId": "53310273-ee4c-423f-e985-0bd57056fbb6"
      },
      "source": [
        "print('divmod(8, 3) = ', divmod(8, 3))\n",
        "print('divmod(3, 8) = ', divmod(3, 8))\n",
        "print('divmod(5, 5) = ', divmod(5, 5))\n",
        "\n",
        "# divmod() with Floats\n",
        "print('divmod(8.0, 3) = ', divmod(8.0, 3))\n",
        "print('divmod(3, 8.0) = ', divmod(3, 8.0))\n",
        "print('divmod(7.5, 2.5) = ', divmod(7.5, 2.5))\n",
        "print('divmod(2.6, 0.5) = ', divmod(2.6, 0.5))"
      ],
      "execution_count": 37,
      "outputs": [
        {
          "output_type": "stream",
          "text": [
            "divmod(8, 3) =  (2, 2)\n",
            "divmod(3, 8) =  (0, 3)\n",
            "divmod(5, 5) =  (1, 0)\n",
            "divmod(8.0, 3) =  (2.0, 2.0)\n",
            "divmod(3, 8.0) =  (0.0, 3.0)\n",
            "divmod(7.5, 2.5) =  (3.0, 0.0)\n",
            "divmod(2.6, 0.5) =  (5.0, 0.10000000000000009)\n"
          ],
          "name": "stdout"
        }
      ]
    },
    {
      "cell_type": "code",
      "metadata": {
        "id": "SoTak0-GGqQt",
        "colab_type": "code",
        "colab": {
          "base_uri": "https://localhost:8080/",
          "height": 69
        },
        "outputId": "3eff57a9-fc1b-42ef-ac32-4ef6fca5cf2e"
      },
      "source": [
        "grocery = ['bread', 'milk', 'butter']\n",
        "enumerateGrocery = enumerate(grocery)\n",
        "\n",
        "print(type(enumerateGrocery))\n",
        "\n",
        "# converting to list\n",
        "print(list(enumerateGrocery))\n",
        "\n",
        "# changing the default counter\n",
        "enumerateGrocery = enumerate(grocery, 10)\n",
        "print(list(enumerateGrocery))"
      ],
      "execution_count": 38,
      "outputs": [
        {
          "output_type": "stream",
          "text": [
            "<class 'enumerate'>\n",
            "[(0, 'bread'), (1, 'milk'), (2, 'butter')]\n",
            "[(10, 'bread'), (11, 'milk'), (12, 'butter')]\n"
          ],
          "name": "stdout"
        }
      ]
    },
    {
      "cell_type": "code",
      "metadata": {
        "id": "7BB4o38nHDnL",
        "colab_type": "code",
        "colab": {
          "base_uri": "https://localhost:8080/",
          "height": 243
        },
        "outputId": "1e882259-3b28-4926-8682-97fd6ba45c4f"
      },
      "source": [
        "grocery = ['bread', 'milk', 'butter']\n",
        "\n",
        "for item in enumerate(grocery):\n",
        "  print(item)\n",
        "\n",
        "print('\\n')\n",
        "for count, item in enumerate(grocery):\n",
        "  print(count, item)\n",
        "\n",
        "print('\\n')\n",
        "# changing default start value\n",
        "for count, item in enumerate(grocery, 100):\n",
        "  print(count, item)"
      ],
      "execution_count": 39,
      "outputs": [
        {
          "output_type": "stream",
          "text": [
            "(0, 'bread')\n",
            "(1, 'milk')\n",
            "(2, 'butter')\n",
            "\n",
            "\n",
            "0 bread\n",
            "1 milk\n",
            "2 butter\n",
            "\n",
            "\n",
            "100 bread\n",
            "101 milk\n",
            "102 butter\n"
          ],
          "name": "stdout"
        }
      ]
    },
    {
      "cell_type": "code",
      "metadata": {
        "id": "cMW3_6QxHszB",
        "colab_type": "code",
        "colab": {
          "base_uri": "https://localhost:8080/",
          "height": 35
        },
        "outputId": "6bd75fc0-72e6-4ea7-91ef-09615e575005"
      },
      "source": [
        "class Mathematics:\n",
        "\n",
        "    def addNumbers(x, y):\n",
        "        return x + y\n",
        "\n",
        "# create addNumbers static method\n",
        "Mathematics.addNumbers = staticmethod(Mathematics.addNumbers)\n",
        "\n",
        "print('The sum is:', Mathematics.addNumbers(5, 10))"
      ],
      "execution_count": 40,
      "outputs": [
        {
          "output_type": "stream",
          "text": [
            "The sum is: 15\n"
          ],
          "name": "stdout"
        }
      ]
    },
    {
      "cell_type": "code",
      "metadata": {
        "id": "iJ4uRR7eIbcg",
        "colab_type": "code",
        "colab": {
          "base_uri": "https://localhost:8080/",
          "height": 35
        },
        "outputId": "06fe58b7-bdf5-4790-f4df-976b9c344af4"
      },
      "source": [
        "class Dates:\n",
        "    def __init__(self, date):\n",
        "        self.date = date\n",
        "        \n",
        "    def getDate(self):\n",
        "        return self.date\n",
        "\n",
        "    @staticmethod\n",
        "    def toDashDate(date):\n",
        "        return date.replace(\"/\", \"-\")\n",
        "\n",
        "class DatesWithSlashes(Dates):\n",
        "    def getDate(self):\n",
        "        return Dates.toDashDate(self.date)\n",
        "\n",
        "date = Dates(\"15-12-2016\")\n",
        "dateFromDB = DatesWithSlashes(\"15/12/2016\")\n",
        "\n",
        "if(date.getDate() == dateFromDB.getDate()):\n",
        "    print(\"Equal\")\n",
        "else:\n",
        "    print(\"Unequal\")"
      ],
      "execution_count": 42,
      "outputs": [
        {
          "output_type": "stream",
          "text": [
            "Equal\n"
          ],
          "name": "stdout"
        }
      ]
    }
  ]
}