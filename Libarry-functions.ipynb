{
  "nbformat": 4,
  "nbformat_minor": 0,
  "metadata": {
    "colab": {
      "name": "Untitled5.ipynb",
      "provenance": [],
      "authorship_tag": "ABX9TyNIfTtD/H7TFcHqUa3UJXfY",
      "include_colab_link": true
    },
    "kernelspec": {
      "name": "python3",
      "display_name": "Python 3"
    }
  },
  "cells": [
    {
      "cell_type": "markdown",
      "metadata": {
        "id": "view-in-github",
        "colab_type": "text"
      },
      "source": [
        "<a href=\"https://colab.research.google.com/github/meghasyam/python/blob/master/Libarry-functions.ipynb\" target=\"_parent\"><img src=\"https://colab.research.google.com/assets/colab-badge.svg\" alt=\"Open In Colab\"/></a>"
      ]
    },
    {
      "cell_type": "code",
      "metadata": {
        "id": "0u6UXKcq58T2",
        "colab_type": "code",
        "colab": {
          "base_uri": "https://localhost:8080/",
          "height": 69
        },
        "outputId": "32f4b59f-2188-4b51-bc99-b34e17a9bf04"
      },
      "source": [
        "# random integer\n",
        "integer = -20\n",
        "print('Absolute value of -20 is:', abs(integer))\n",
        "\n",
        "#random floating number\n",
        "floating = -30.33\n",
        "print('Absolute value of -30.33 is:', abs(floating))\n",
        "\n",
        "# random complex number\n",
        "complex = (3 - 4j)\n",
        "print('Magnitude of 3 - 4j is:', abs(complex))"
      ],
      "execution_count": 1,
      "outputs": [
        {
          "output_type": "stream",
          "text": [
            "Absolute value of -20 is: 20\n",
            "Absolute value of -30.33 is: 30.33\n",
            "Magnitude of 3 - 4j is: 5.0\n"
          ],
          "name": "stdout"
        }
      ]
    },
    {
      "cell_type": "code",
      "metadata": {
        "id": "5-XMarcA6WRQ",
        "colab_type": "code",
        "colab": {
          "base_uri": "https://localhost:8080/",
          "height": 87
        },
        "outputId": "e8e753bf-83aa-45ff-ff8c-069c77556d79"
      },
      "source": [
        "l = [1, 3, 4, 0]\n",
        "print(any(l))\n",
        "\n",
        "l = [0, False]\n",
        "print(any(l))\n",
        "\n",
        "l = [0, False, 5]\n",
        "print(any(l))\n",
        "\n",
        "l = []\n",
        "print(any(l))"
      ],
      "execution_count": 2,
      "outputs": [
        {
          "output_type": "stream",
          "text": [
            "True\n",
            "False\n",
            "True\n",
            "False\n"
          ],
          "name": "stdout"
        }
      ]
    },
    {
      "cell_type": "code",
      "metadata": {
        "id": "G80fRm6J6aPK",
        "colab_type": "code",
        "colab": {
          "base_uri": "https://localhost:8080/",
          "height": 69
        },
        "outputId": "55f95feb-7210-4ba7-98b3-06332dedba82"
      },
      "source": [
        "s = \"This is good\"\n",
        "print(any(s))\n",
        "\n",
        "# 0 is False\n",
        "# '0' is True\n",
        "s = '000'\n",
        "print(any(s))\n",
        "\n",
        "s = ''\n",
        "print(any(s))"
      ],
      "execution_count": 3,
      "outputs": [
        {
          "output_type": "stream",
          "text": [
            "True\n",
            "True\n",
            "False\n"
          ],
          "name": "stdout"
        }
      ]
    },
    {
      "cell_type": "code",
      "metadata": {
        "id": "jbMCnQhP6hqF",
        "colab_type": "code",
        "colab": {
          "base_uri": "https://localhost:8080/",
          "height": 104
        },
        "outputId": "a002ba07-fcb5-4189-9ae5-3ca6cb4f8814"
      },
      "source": [
        "d = {0: 'False'}\n",
        "print(any(d))\n",
        "\n",
        "d = {0: 'False', 1: 'True'}\n",
        "print(any(d))\n",
        "\n",
        "d = {0: 'False', False: 0}\n",
        "print(any(d))\n",
        "\n",
        "d = {}\n",
        "print(any(d))\n",
        "\n",
        "# 0 is False\n",
        "# '0' is True\n",
        "d = {'0': 'False'}\n",
        "print(any(d))"
      ],
      "execution_count": 4,
      "outputs": [
        {
          "output_type": "stream",
          "text": [
            "False\n",
            "True\n",
            "False\n",
            "False\n",
            "True\n"
          ],
          "name": "stdout"
        }
      ]
    },
    {
      "cell_type": "code",
      "metadata": {
        "id": "C2PsxzYm638e",
        "colab_type": "code",
        "colab": {
          "base_uri": "https://localhost:8080/",
          "height": 104
        },
        "outputId": "cd779b59-77aa-4583-ee99-6e2d7c8049e9"
      },
      "source": [
        "# all values true\n",
        "l = [1, 3, 4, 5]\n",
        "print(all(l))\n",
        "\n",
        "# all values false\n",
        "l = [0, False]\n",
        "print(all(l))\n",
        "\n",
        "# one false value\n",
        "l = [1, 3, 4, 0]\n",
        "print(all(l))\n",
        "\n",
        "# one true value\n",
        "l = [0, False, 5]\n",
        "print(all(l))\n",
        "\n",
        "# empty iterable\n",
        "l = []\n",
        "print(all(l))"
      ],
      "execution_count": 5,
      "outputs": [
        {
          "output_type": "stream",
          "text": [
            "True\n",
            "False\n",
            "False\n",
            "False\n",
            "True\n"
          ],
          "name": "stdout"
        }
      ]
    },
    {
      "cell_type": "code",
      "metadata": {
        "id": "ojUmumdL7O8Q",
        "colab_type": "code",
        "colab": {
          "base_uri": "https://localhost:8080/",
          "height": 69
        },
        "outputId": "de329513-3d1d-482f-836a-11c1f01c0ab7"
      },
      "source": [
        "s = \"This is good\"\n",
        "print(all(s))\n",
        "\n",
        "# 0 is False\n",
        "# '0' is True\n",
        "s = '000'\n",
        "print(all(s))\n",
        "\n",
        "s = ''\n",
        "print(all(s))"
      ],
      "execution_count": 6,
      "outputs": [
        {
          "output_type": "stream",
          "text": [
            "True\n",
            "True\n",
            "True\n"
          ],
          "name": "stdout"
        }
      ]
    },
    {
      "cell_type": "code",
      "metadata": {
        "id": "29VmKV7x7Y_6",
        "colab_type": "code",
        "colab": {
          "base_uri": "https://localhost:8080/",
          "height": 104
        },
        "outputId": "232c21c8-82c3-49a9-8a53-4e6a15c27e98"
      },
      "source": [
        "s = {0: 'False', 1: 'False'}\n",
        "print(all(s))\n",
        "\n",
        "s = {1: 'True', 2: 'True'}\n",
        "print(all(s))\n",
        "\n",
        "s = {1: 'True', False: 0}\n",
        "print(all(s))\n",
        "\n",
        "s = {}\n",
        "print(all(s))\n",
        "\n",
        "# 0 is False\n",
        "# '0' is True\n",
        "s = {'0': 'True'}\n",
        "print(all(s))"
      ],
      "execution_count": 7,
      "outputs": [
        {
          "output_type": "stream",
          "text": [
            "False\n",
            "True\n",
            "False\n",
            "True\n",
            "True\n"
          ],
          "name": "stdout"
        }
      ]
    },
    {
      "cell_type": "code",
      "metadata": {
        "id": "Q_Lg_TRH7pfj",
        "colab_type": "code",
        "colab": {
          "base_uri": "https://localhost:8080/",
          "height": 69
        },
        "outputId": "cb01f83b-8b7d-4297-e2ae-0933eb46dfc3"
      },
      "source": [
        "normalText = 'Python is interesting'\n",
        "print(ascii(normalText))\n",
        "\n",
        "otherText = 'Pythön is interesting'\n",
        "print(ascii(otherText))\n",
        "\n",
        "print('Pyth\\xf6n is interesting')"
      ],
      "execution_count": 8,
      "outputs": [
        {
          "output_type": "stream",
          "text": [
            "'Python is interesting'\n",
            "'Pyth\\xf6n is interesting'\n",
            "Pythön is interesting\n"
          ],
          "name": "stdout"
        }
      ]
    },
    {
      "cell_type": "code",
      "metadata": {
        "id": "AuhrTUro8A-k",
        "colab_type": "code",
        "colab": {
          "base_uri": "https://localhost:8080/",
          "height": 35
        },
        "outputId": "e7f2bcc5-1140-41de-c062-f511edcbc4f1"
      },
      "source": [
        "number = 5\n",
        "print('The binary equivalent of 5 is:', bin(number))"
      ],
      "execution_count": 9,
      "outputs": [
        {
          "output_type": "stream",
          "text": [
            "The binary equivalent of 5 is: 0b101\n"
          ],
          "name": "stdout"
        }
      ]
    },
    {
      "cell_type": "code",
      "metadata": {
        "id": "m-E9ks9n8We_",
        "colab_type": "code",
        "colab": {
          "base_uri": "https://localhost:8080/",
          "height": 35
        },
        "outputId": "fb38c650-5b74-4da9-9f55-9f2d88ee6e6d"
      },
      "source": [
        "class Quantity:\n",
        "    apple = 1\n",
        "    orange = 2\n",
        "    grapes = 2\n",
        "    \n",
        "    def __index__(self):\n",
        "        return self.apple + self.orange + self.grapes\n",
        "        \n",
        "print('The binary equivalent of quantity is:', bin(Quantity()))"
      ],
      "execution_count": 10,
      "outputs": [
        {
          "output_type": "stream",
          "text": [
            "The binary equivalent of quantity is: 0b101\n"
          ],
          "name": "stdout"
        }
      ]
    },
    {
      "cell_type": "code",
      "metadata": {
        "id": "XwNYzCk98vNU",
        "colab_type": "code",
        "colab": {
          "base_uri": "https://localhost:8080/",
          "height": 121
        },
        "outputId": "77ae09e3-6b53-427f-84ca-13069763179d"
      },
      "source": [
        "test=[]\n",
        "print(test,'is',bool(test))\n",
        "\n",
        "test = [0]\n",
        "print(test,'is',bool(test))\n",
        "\n",
        "test = 0.0\n",
        "print(test,'is',bool(test))\n",
        "\n",
        "test = None\n",
        "print(test,'is',bool(test))\n",
        "\n",
        "test = True\n",
        "print(test,'is',bool(test))\n",
        "\n",
        "test = 'Easy string'\n",
        "print(test,'is',bool(test))"
      ],
      "execution_count": 12,
      "outputs": [
        {
          "output_type": "stream",
          "text": [
            "[] is False\n",
            "[0] is True\n",
            "0.0 is False\n",
            "None is False\n",
            "True is True\n",
            "Easy string is True\n"
          ],
          "name": "stdout"
        }
      ]
    },
    {
      "cell_type": "code",
      "metadata": {
        "id": "5D0I19vL9NEP",
        "colab_type": "code",
        "colab": {
          "base_uri": "https://localhost:8080/",
          "height": 35
        },
        "outputId": "2efbb33f-6802-4658-ba10-2cce986017df"
      },
      "source": [
        "size = 5\n",
        "\n",
        "arr = bytearray(size)\n",
        "print(arr)"
      ],
      "execution_count": 13,
      "outputs": [
        {
          "output_type": "stream",
          "text": [
            "bytearray(b'\\x00\\x00\\x00\\x00\\x00')\n"
          ],
          "name": "stdout"
        }
      ]
    },
    {
      "cell_type": "code",
      "metadata": {
        "id": "n2sgPFI49R5y",
        "colab_type": "code",
        "colab": {
          "base_uri": "https://localhost:8080/",
          "height": 35
        },
        "outputId": "f080655a-e860-49c6-8805-8239d4a6eabb"
      },
      "source": [
        "rList = [1, 2, 3, 4, 5]\n",
        "\n",
        "arr = bytearray(rList)\n",
        "print(arr)"
      ],
      "execution_count": 14,
      "outputs": [
        {
          "output_type": "stream",
          "text": [
            "bytearray(b'\\x01\\x02\\x03\\x04\\x05')\n"
          ],
          "name": "stdout"
        }
      ]
    }
  ]
}