{
  "nbformat": 4,
  "nbformat_minor": 0,
  "metadata": {
    "colab": {
      "name": "Untitled23.ipynb",
      "provenance": [],
      "authorship_tag": "ABX9TyOg1EZZsQtgrEYYMiZPnGmn",
      "include_colab_link": true
    },
    "kernelspec": {
      "name": "python3",
      "display_name": "Python 3"
    }
  },
  "cells": [
    {
      "cell_type": "markdown",
      "metadata": {
        "id": "view-in-github",
        "colab_type": "text"
      },
      "source": [
        "<a href=\"https://colab.research.google.com/github/meghasyam/python/blob/master/2-flow.ipynb\" target=\"_parent\"><img src=\"https://colab.research.google.com/assets/colab-badge.svg\" alt=\"Open In Colab\"/></a>"
      ]
    },
    {
      "cell_type": "code",
      "metadata": {
        "id": "IUD2BukZZyU6",
        "colab_type": "code",
        "colab": {}
      },
      "source": [
        "num = float(input(\"Enter a number: \"))\n",
        "if num >= 0:\n",
        "    if num == 0:\n",
        "        print(\"Zero\")\n",
        "    else:\n",
        "        print(\"Positive number\")\n",
        "else:\n",
        "    print(\"Negative number\")"
      ],
      "execution_count": 0,
      "outputs": []
    },
    {
      "cell_type": "code",
      "metadata": {
        "id": "WTw-8Q4KaOaH",
        "colab_type": "code",
        "colab": {}
      },
      "source": [
        "x = int(input(\"Enter a number: \"))\n",
        "y = int(input(\"Enter a number: \"))\n",
        "z = int(input(\"Enter a number: \"))\n",
        "\n",
        "\n",
        "if x>y and x >z:\n",
        "  print( x,\" is greater\")\n",
        "elif y>x and y>z:  \n",
        "  print( y,\" is greater\")\n",
        "else:\n",
        "  print( z,\" is greater\")  "
      ],
      "execution_count": 0,
      "outputs": []
    },
    {
      "cell_type": "code",
      "metadata": {
        "id": "U_jJf-LWCwF2",
        "colab_type": "code",
        "colab": {}
      },
      "source": [
        "# R1 -100 to 0\n",
        "# R2  1 to 100\n",
        "# R3  101 to 200\n",
        "#findrange(x)\n",
        "\n",
        "x = int(input(\"enter a number\"))\n",
        "\n",
        "if x>=-100 and x<=0:\n",
        "  print(\"R1\")\n",
        "elif x>=1 and x<=100:\n",
        "  print(\"R2\")\n",
        "elif x>=100 and x<=200:\n",
        "  print(\"R3\")\n",
        "else:\n",
        "  print(\"not in any range\")  "
      ],
      "execution_count": 0,
      "outputs": []
    },
    {
      "cell_type": "code",
      "metadata": {
        "id": "UyBLcqlUEf0V",
        "colab_type": "code",
        "colab": {}
      },
      "source": [
        "numbers = [6, 5, 3, 8, 4, 2, 5, 4, 11]\n",
        "\n",
        "for i in numbers:\n",
        "  print(i)"
      ],
      "execution_count": 0,
      "outputs": []
    },
    {
      "cell_type": "code",
      "metadata": {
        "id": "ec6k4YvNbW57",
        "colab_type": "code",
        "colab": {}
      },
      "source": [
        "numbers = [6, 5, 3, 8, 4, 2, 5, 4, 11]\n",
        "\n",
        "sum = 0\n",
        "for val in numbers:\n",
        "\tsum+=val\n",
        "  \n",
        "print(\"the sum is\",sum)  "
      ],
      "execution_count": 0,
      "outputs": []
    },
    {
      "cell_type": "code",
      "metadata": {
        "id": "TGXtL8glb3W5",
        "colab_type": "code",
        "colab": {}
      },
      "source": [
        "print(range(10))\n",
        "\n",
        "print(list(range(10)))\n",
        "\n",
        "print(list(range(2, 8)))\n",
        "\n",
        "print(list(range(2, 20, 3)))"
      ],
      "execution_count": 0,
      "outputs": []
    },
    {
      "cell_type": "code",
      "metadata": {
        "id": "BbdrAjwxcGBi",
        "colab_type": "code",
        "colab": {}
      },
      "source": [
        "genre = ['pop', 'rock', 'jazz']\n",
        "\n",
        "for i in range(len(genre)): # 0,1,2\n",
        "\tprint(\"I like\", genre[i])"
      ],
      "execution_count": 0,
      "outputs": []
    },
    {
      "cell_type": "code",
      "metadata": {
        "id": "89PMWd-XcSQd",
        "colab_type": "code",
        "colab": {}
      },
      "source": [
        "digits = [0, 1, 5]\n",
        "\n",
        "for i in digits:\n",
        "    print(i)\n",
        "else:\n",
        "    print(\"No items left.\")"
      ],
      "execution_count": 0,
      "outputs": []
    },
    {
      "cell_type": "code",
      "metadata": {
        "id": "sLI89TyxG4_T",
        "colab_type": "code",
        "colab": {}
      },
      "source": [
        "x=int(input(\"enter number\"))\n",
        "\n",
        "fact=1\n",
        "\n",
        "for i in range(1,x+1):\n",
        "  fact=fact*i\n",
        "\n",
        "print(fact)"
      ],
      "execution_count": 0,
      "outputs": []
    },
    {
      "cell_type": "code",
      "metadata": {
        "id": "tNc2lo7SHu2I",
        "colab_type": "code",
        "colab": {}
      },
      "source": [
        "# *\n",
        "# * *\n",
        "# * * *\n",
        "# * * * *"
      ],
      "execution_count": 0,
      "outputs": []
    },
    {
      "cell_type": "code",
      "metadata": {
        "id": "m6xSGS2fcbyg",
        "colab_type": "code",
        "colab": {}
      },
      "source": [
        "student_name = 'Jules'\n",
        "marks = {'James': 90, 'Jules': 55, 'Arthur': 77}\n",
        "\n",
        "for student in marks:\n",
        "    print(\"....\",student)\n",
        "    if student == student_name:\n",
        "        print(marks[student])\n",
        "        break\n",
        "else:\n",
        "    print('No entry with that name found.')"
      ],
      "execution_count": 0,
      "outputs": []
    },
    {
      "cell_type": "code",
      "metadata": {
        "colab_type": "code",
        "id": "zxgkhA7oJSLk",
        "colab": {}
      },
      "source": [
        "student_name = 'Jules'\n",
        "marks = {'James1': 90, 'Jules1': 55, 'Arthur1': 77,'James': 90, 'Jules': 55, 'Arthur': 77}\n",
        "\n",
        "for student in marks:\n",
        "    if student == student_name:\n",
        "      continue # skip the remaining lines of code \n",
        "    print(\"....\",student)\n",
        "else:\n",
        "    print('No entry with that name found.')"
      ],
      "execution_count": 0,
      "outputs": []
    },
    {
      "cell_type": "code",
      "metadata": {
        "id": "UEDJtyB5LHfB",
        "colab_type": "code",
        "colab": {}
      },
      "source": [
        "# fibonacci & prime number programs"
      ],
      "execution_count": 0,
      "outputs": []
    },
    {
      "cell_type": "code",
      "metadata": {
        "id": "sujnbGAZdg37",
        "colab_type": "code",
        "colab": {}
      },
      "source": [
        "n =0 #initiliax out side of while\n",
        "\n",
        "while n<=10: # condition\n",
        "  print(n)\n",
        "  n+=1 # increment inside while \n",
        "\n",
        "for i in range(0,11):\n",
        "  print(i)\n"
      ],
      "execution_count": 0,
      "outputs": []
    },
    {
      "cell_type": "code",
      "metadata": {
        "id": "irJ9t9lgWPCv",
        "colab_type": "code",
        "colab": {}
      },
      "source": [
        "myInput=\"start\"\n",
        "while myInput!=\"stop\":\n",
        "  myInput=input(\"enter input  \")\n",
        " "
      ],
      "execution_count": 0,
      "outputs": []
    },
    {
      "cell_type": "code",
      "metadata": {
        "id": "2y3_6PThdtfi",
        "colab_type": "code",
        "colab": {}
      },
      "source": [
        "n = 10\n",
        "sum = 0\n",
        "i = 1\n",
        "\n",
        "while i <= n:\n",
        "    sum = sum + i\n",
        "    i = i+1    # update counter\n",
        "print(\"The sum is\", sum)\n",
        "\n",
        "sum1=0\n",
        "for i in range(1,n+1):\n",
        "  sum1 = sum1 + i\n",
        "\n",
        "print(\"sum1 \",sum1)"
      ],
      "execution_count": 0,
      "outputs": []
    },
    {
      "cell_type": "code",
      "metadata": {
        "id": "-aJHcIjMd2Rn",
        "colab_type": "code",
        "colab": {}
      },
      "source": [
        "counter = 0\n",
        "\n",
        "while counter < 3:\n",
        "    print(\"Inside loop\")\n",
        "    counter = counter + 1\n",
        "else:\n",
        "    print(\"Inside else\")"
      ],
      "execution_count": 0,
      "outputs": []
    },
    {
      "cell_type": "code",
      "metadata": {
        "id": "qvwRPplTeLKW",
        "colab_type": "code",
        "colab": {}
      },
      "source": [
        "for val in \"string\":\n",
        "    if val == \"i\":\n",
        "        break\n",
        "    print(val)\n",
        "\n",
        "print(\"The end\")\n",
        "\n",
        "\n",
        "val = \"string\"\n",
        "i = 0\n",
        "x=''\n",
        "while x != 'i':\n",
        "  print(x)\n",
        "  x=val[i]\n",
        "  i=i+1"
      ],
      "execution_count": 0,
      "outputs": []
    },
    {
      "cell_type": "code",
      "metadata": {
        "id": "zIsBtEf6eVQE",
        "colab_type": "code",
        "colab": {}
      },
      "source": [
        "for val in \"string\":\n",
        "    if val == \"i\":\n",
        "        continue\n",
        "    print(val)\n",
        "\n",
        "print(\"The end\")"
      ],
      "execution_count": 0,
      "outputs": []
    },
    {
      "cell_type": "code",
      "metadata": {
        "id": "Q6jHGxkeedNg",
        "colab_type": "code",
        "colab": {}
      },
      "source": [
        "sequence = {'p', 'a', 's', 's'}\n",
        "for val in sequence:\n",
        "    pass"
      ],
      "execution_count": 0,
      "outputs": []
    },
    {
      "cell_type": "code",
      "metadata": {
        "id": "ayVFNVrxepwx",
        "colab_type": "code",
        "colab": {}
      },
      "source": [
        "def function(args):\n",
        "    pass"
      ],
      "execution_count": 0,
      "outputs": []
    },
    {
      "cell_type": "code",
      "metadata": {
        "id": "VfFBFCbkes-1",
        "colab_type": "code",
        "colab": {}
      },
      "source": [
        "class Example:\n",
        "    pass"
      ],
      "execution_count": 0,
      "outputs": []
    }
  ]
}