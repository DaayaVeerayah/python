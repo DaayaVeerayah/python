{
  "nbformat": 4,
  "nbformat_minor": 0,
  "metadata": {
    "colab": {
      "name": "Untitled3.ipynb",
      "provenance": [],
      "authorship_tag": "ABX9TyPQya9YsuVhz6bblvIDlYWR",
      "include_colab_link": true
    },
    "kernelspec": {
      "name": "python3",
      "display_name": "Python 3"
    }
  },
  "cells": [
    {
      "cell_type": "markdown",
      "metadata": {
        "id": "view-in-github",
        "colab_type": "text"
      },
      "source": [
        "<a href=\"https://colab.research.google.com/github/meghasyam/python/blob/master/execptions.ipynb\" target=\"_parent\"><img src=\"https://colab.research.google.com/assets/colab-badge.svg\" alt=\"Open In Colab\"/></a>"
      ]
    },
    {
      "cell_type": "code",
      "metadata": {
        "id": "CAiekK2CROc9",
        "colab_type": "code",
        "outputId": "161c4190-6ea3-4f72-eaca-824ac84087fd",
        "colab": {
          "base_uri": "https://localhost:8080/",
          "height": 191
        }
      },
      "source": [
        "# import module sys to get the type of exception\n",
        "import sys\n",
        "\n",
        "randomList = ['a', 0, 2]\n",
        "\n",
        "for entry in randomList:\n",
        "    try:\n",
        "        print(\"The entry is\", entry)\n",
        "        r = 1/int(entry)   # raise vaulerror\n",
        "        break\n",
        "    except ValueError:  # handle ValueError exception   \n",
        "        print(\"Oops! ValueError\",sys.exc_info()[0],\"occured.\")\n",
        "        print(\"Next entry.\")\n",
        "        print() \n",
        "    except (TypeError, ZeroDivisionError):  # handle  exception   \n",
        "        print(\"Oops! ZeroDivisionError\",sys.exc_info()[0],\"occured.\")\n",
        "        print(\"Next entry.\")\n",
        "        print()        \n",
        "    except:   #all\n",
        "        print(\"Oops!\",sys.exc_info()[0],\"occured.\")\n",
        "        print(\"Next entry.\")\n",
        "        print()\n",
        "print(\"The reciprocal of\",entry,\"is\",r)"
      ],
      "execution_count": 0,
      "outputs": [
        {
          "output_type": "stream",
          "text": [
            "The entry is a\n",
            "Oops! ValueError <class 'ValueError'> occured.\n",
            "Next entry.\n",
            "\n",
            "The entry is 0\n",
            "Oops! ZeroDivisionError <class 'ZeroDivisionError'> occured.\n",
            "Next entry.\n",
            "\n",
            "The entry is 2\n",
            "The reciprocal of 2 is 0.5\n"
          ],
          "name": "stdout"
        }
      ]
    },
    {
      "cell_type": "code",
      "metadata": {
        "id": "SKnHTFnrXbIr",
        "colab_type": "code",
        "outputId": "60fba5b2-f64c-47ca-94f9-91ba3a7bb9af",
        "colab": {
          "base_uri": "https://localhost:8080/",
          "height": 166
        }
      },
      "source": [
        "raise KeyboardInterrupt"
      ],
      "execution_count": 0,
      "outputs": [
        {
          "output_type": "error",
          "ename": "KeyboardInterrupt",
          "evalue": "ignored",
          "traceback": [
            "\u001b[0;31m---------------------------------------------------------------------------\u001b[0m",
            "\u001b[0;31mKeyboardInterrupt\u001b[0m                         Traceback (most recent call last)",
            "\u001b[0;32m<ipython-input-3-c761920b81b0>\u001b[0m in \u001b[0;36m<module>\u001b[0;34m()\u001b[0m\n\u001b[0;32m----> 1\u001b[0;31m \u001b[0;32mraise\u001b[0m \u001b[0mKeyboardInterrupt\u001b[0m\u001b[0;34m\u001b[0m\u001b[0;34m\u001b[0m\u001b[0m\n\u001b[0m",
            "\u001b[0;31mKeyboardInterrupt\u001b[0m: "
          ]
        }
      ]
    },
    {
      "cell_type": "code",
      "metadata": {
        "id": "Smfc49xyYOlH",
        "colab_type": "code",
        "colab": {}
      },
      "source": [
        "try:\n",
        "   f = open(\"test.txt\",'w',encoding = 'utf-8')\n",
        "   # perform file operations\n",
        "finally:\n",
        "   f.close()"
      ],
      "execution_count": 0,
      "outputs": []
    },
    {
      "cell_type": "code",
      "metadata": {
        "id": "OOmKJU0TXny6",
        "colab_type": "code",
        "outputId": "c8447058-8701-486e-b86f-b1387510da20",
        "colab": {
          "base_uri": "https://localhost:8080/",
          "height": 166
        }
      },
      "source": [
        "raise MemoryError(\"This is an argument\")"
      ],
      "execution_count": 0,
      "outputs": [
        {
          "output_type": "error",
          "ename": "MemoryError",
          "evalue": "ignored",
          "traceback": [
            "\u001b[0;31m---------------------------------------------------------------------------\u001b[0m",
            "\u001b[0;31mMemoryError\u001b[0m                               Traceback (most recent call last)",
            "\u001b[0;32m<ipython-input-4-51782e52f201>\u001b[0m in \u001b[0;36m<module>\u001b[0;34m()\u001b[0m\n\u001b[0;32m----> 1\u001b[0;31m \u001b[0;32mraise\u001b[0m \u001b[0mMemoryError\u001b[0m\u001b[0;34m(\u001b[0m\u001b[0;34m\"This is an argument\"\u001b[0m\u001b[0;34m)\u001b[0m\u001b[0;34m\u001b[0m\u001b[0;34m\u001b[0m\u001b[0m\n\u001b[0m",
            "\u001b[0;31mMemoryError\u001b[0m: This is an argument"
          ]
        }
      ]
    },
    {
      "cell_type": "code",
      "metadata": {
        "id": "3_wBMpiWY3T6",
        "colab_type": "code",
        "colab": {}
      },
      "source": [
        "try:\n",
        "   f = open(\"test.txt\",'w',encoding = 'utf-8')\n",
        "   # perform file operations\n",
        "finally:\n",
        "\n",
        "   f.close()"
      ],
      "execution_count": 0,
      "outputs": []
    },
    {
      "cell_type": "code",
      "metadata": {
        "id": "tvpbxVevZLg4",
        "colab_type": "code",
        "colab": {
          "base_uri": "https://localhost:8080/",
          "height": 225
        },
        "outputId": "49362413-fa66-4324-80a0-b9b550456257"
      },
      "source": [
        "import sys\n",
        "import traceback\n",
        "class ValueTooSmallError(Exception):\n",
        "   \"\"\"Raised when the input value is too small\"\"\"\n",
        "   pass\n",
        "\n",
        "class ValueTooLargeError(Exception):\n",
        "   \"\"\"Raised when the input value is too large\"\"\"\n",
        "   pass\n",
        "\n",
        "number = 10\n",
        "\n",
        "while True:\n",
        "   try:\n",
        "       i_num = int(input(\"Enter a number: \"))\n",
        "       if i_num < number:\n",
        "           raise ValueTooSmallError\n",
        "       elif i_num > number:\n",
        "           raise ValueTooLargeError\n",
        "       break\n",
        "   except ValueTooSmallError as e:\n",
        "       print(\"This value is too small, try again!\")\n",
        "       print(traceback.format_exc())\n",
        "       print(sys.exc_info()[2])     #(type, value, traceback)  \n",
        "       print(e.with_traceback(sys.exc_info()[2]))\n",
        "       print()\n",
        "   except ValueTooLargeError:\n",
        "       print(\"This value is too large, try again!\")\n",
        "       print()\n",
        "\n",
        "print(\"Congratulations! You guessed it correctly.\")"
      ],
      "execution_count": 11,
      "outputs": [
        {
          "output_type": "stream",
          "text": [
            "Enter a number: 2\n",
            "This value is too small, try again!\n",
            "Traceback (most recent call last):\n",
            "  File \"<ipython-input-11-04a1e1381fbc>\", line 17, in <module>\n",
            "    raise ValueTooSmallError\n",
            "ValueTooSmallError\n",
            "\n",
            "<traceback object at 0x7fd8de5b6948>\n",
            "\n",
            "\n",
            "Enter a number: 10\n",
            "Congratulations! You guessed it correctly.\n"
          ],
          "name": "stdout"
        }
      ]
    }
  ]
}