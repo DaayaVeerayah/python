{
  "nbformat": 4,
  "nbformat_minor": 0,
  "metadata": {
    "colab": {
      "name": "Untitled3.ipynb",
      "provenance": [],
      "authorship_tag": "ABX9TyNTNXTqqlv/oq9kuAJ2z9Rc",
      "include_colab_link": true
    },
    "kernelspec": {
      "name": "python3",
      "display_name": "Python 3"
    }
  },
  "cells": [
    {
      "cell_type": "markdown",
      "metadata": {
        "id": "view-in-github",
        "colab_type": "text"
      },
      "source": [
        "<a href=\"https://colab.research.google.com/github/meghasyam/python/blob/master/execptions.ipynb\" target=\"_parent\"><img src=\"https://colab.research.google.com/assets/colab-badge.svg\" alt=\"Open In Colab\"/></a>"
      ]
    },
    {
      "cell_type": "code",
      "metadata": {
        "id": "vVjlR-aFvjjc",
        "colab_type": "code",
        "colab": {}
      },
      "source": [
        " #1 / 0"
      ],
      "execution_count": 0,
      "outputs": []
    },
    {
      "cell_type": "code",
      "metadata": {
        "id": "fpOIoL99vpcL",
        "colab_type": "code",
        "colab": {}
      },
      "source": [
        "#open(\"imaginary.txt\")"
      ],
      "execution_count": 0,
      "outputs": []
    },
    {
      "cell_type": "code",
      "metadata": {
        "id": "vZ7cXOjQwX9p",
        "colab_type": "code",
        "colab": {}
      },
      "source": [
        "import sys\n",
        "\n",
        "randomList = ['a', 0, 2]\n",
        "\n",
        "for entry in randomList:\n",
        "    try:\n",
        "        print(\"The entry is\", entry)\n",
        "        r = 1/int(entry)\n",
        "        break\n",
        "    except:\n",
        "        print(\"Oops!\", sys.exc_info()[0], \"occured.\")\n",
        "        print(\"Next entry.\")\n",
        "        print()\n",
        "print(\"The reciprocal of\", entry, \"is\", r)"
      ],
      "execution_count": 0,
      "outputs": []
    },
    {
      "cell_type": "code",
      "metadata": {
        "id": "CAiekK2CROc9",
        "colab_type": "code",
        "colab": {}
      },
      "source": [
        "# import module sys to get the type of exception\n",
        "import sys\n",
        "\n",
        "randomList = ['a', 0, 2]\n",
        "\n",
        "for entry in randomList:\n",
        "    try:\n",
        "        print(\"The entry is\", entry)\n",
        "        r = 1/int(entry)   # raise vaulerror\n",
        "        break\n",
        "    except ValueError:  # handle ValueError exception   \n",
        "        print(\"Oops! ValueError\",sys.exc_info()[0],\"occured.\")\n",
        "        print(\"Next entry.\")\n",
        "        print() \n",
        "    except (TypeError, ZeroDivisionError):  # handle  exception   \n",
        "        print(\"Oops! ZeroDivisionError\",sys.exc_info()[0],\"occured.\")\n",
        "        print(\"Next entry.\")\n",
        "        print()        \n",
        "    except:   #all\n",
        "        print(\"Oops!\",sys.exc_info()[0],\"occured.\")\n",
        "        print(\"Next entry.\")\n",
        "        print()\n",
        "print(\"The reciprocal of\",entry,\"is\",r)"
      ],
      "execution_count": 0,
      "outputs": []
    },
    {
      "cell_type": "code",
      "metadata": {
        "id": "SKnHTFnrXbIr",
        "colab_type": "code",
        "colab": {}
      },
      "source": [
        "#raise KeyboardInterrupt"
      ],
      "execution_count": 0,
      "outputs": []
    },
    {
      "cell_type": "code",
      "metadata": {
        "id": "Smfc49xyYOlH",
        "colab_type": "code",
        "colab": {}
      },
      "source": [
        "try:\n",
        "   f = open(\"test.txt\",'w',encoding = 'utf-8')\n",
        "   # perform file operations\n",
        "finally:\n",
        "   f.close()"
      ],
      "execution_count": 0,
      "outputs": []
    },
    {
      "cell_type": "code",
      "metadata": {
        "id": "OOmKJU0TXny6",
        "colab_type": "code",
        "colab": {}
      },
      "source": [
        "raise MemoryError(\"This is an argument\")"
      ],
      "execution_count": 0,
      "outputs": []
    },
    {
      "cell_type": "code",
      "metadata": {
        "id": "3_wBMpiWY3T6",
        "colab_type": "code",
        "colab": {}
      },
      "source": [
        "try:\n",
        "   f = open(\"test.txt\",'w',encoding = 'utf-8')\n",
        "   # perform file operations\n",
        "finally:\n",
        "   f.close()"
      ],
      "execution_count": 0,
      "outputs": []
    },
    {
      "cell_type": "code",
      "metadata": {
        "id": "-3H7jdq0xha7",
        "colab_type": "code",
        "colab": {}
      },
      "source": [
        "class CustomError(Exception):\n",
        "...     pass\n",
        "\n",
        "#raise CustomError"
      ],
      "execution_count": 0,
      "outputs": []
    },
    {
      "cell_type": "code",
      "metadata": {
        "id": "tvpbxVevZLg4",
        "colab_type": "code",
        "outputId": "c80e9717-1671-4c97-e51b-ca2e6c0bb398",
        "colab": {
          "base_uri": "https://localhost:8080/",
          "height": 277
        }
      },
      "source": [
        "import sys\n",
        "import traceback\n",
        "class ValueTooSmallError(Exception):\n",
        "   \"\"\"Raised when the input value is too small\"\"\"\n",
        "   pass\n",
        "\n",
        "class ValueTooLargeError(Exception):\n",
        "   \"\"\"Raised when the input value is too large\"\"\"\n",
        "   pass\n",
        "\n",
        "number = 10\n",
        "\n",
        "while True:\n",
        "   try:\n",
        "       i_num = int(input(\"Enter a number: \"))\n",
        "       if i_num < number:\n",
        "           raise ValueTooSmallError\n",
        "       elif i_num > number:\n",
        "           raise ValueTooLargeError\n",
        "       break\n",
        "   except ValueTooSmallError as e:\n",
        "       print(\"This value is too small, try again!\")\n",
        "       print(traceback.format_exc())\n",
        "       print(sys.exc_info()[2])     #(type, value, traceback)  \n",
        "       print(e.with_traceback(sys.exc_info()[2]))\n",
        "       print()\n",
        "   except ValueTooLargeError:\n",
        "       print(\"This value is too large, try again!\")\n",
        "       print()\n",
        "\n",
        "print(\"Congratulations! You guessed it correctly.\")"
      ],
      "execution_count": 16,
      "outputs": [
        {
          "output_type": "stream",
          "text": [
            "Enter a number: 11\n",
            "This value is too large, try again!\n",
            "\n",
            "Enter a number: 8\n",
            "This value is too small, try again!\n",
            "Traceback (most recent call last):\n",
            "  File \"<ipython-input-16-04a1e1381fbc>\", line 17, in <module>\n",
            "    raise ValueTooSmallError\n",
            "ValueTooSmallError\n",
            "\n",
            "<traceback object at 0x7fc1ab896d08>\n",
            "\n",
            "\n",
            "Enter a number: 10\n",
            "Congratulations! You guessed it correctly.\n"
          ],
          "name": "stdout"
        }
      ]
    }
  ]
}