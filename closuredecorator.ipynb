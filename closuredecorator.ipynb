{
  "nbformat": 4,
  "nbformat_minor": 0,
  "metadata": {
    "colab": {
      "name": "Untitled2.ipynb",
      "provenance": [],
      "authorship_tag": "ABX9TyN+51yQYETvv2DIHlb3upOl",
      "include_colab_link": true
    },
    "kernelspec": {
      "name": "python3",
      "display_name": "Python 3"
    }
  },
  "cells": [
    {
      "cell_type": "markdown",
      "metadata": {
        "id": "view-in-github",
        "colab_type": "text"
      },
      "source": [
        "<a href=\"https://colab.research.google.com/github/meghasyam/python/blob/master/closuredecorator.ipynb\" target=\"_parent\"><img src=\"https://colab.research.google.com/assets/colab-badge.svg\" alt=\"Open In Colab\"/></a>"
      ]
    },
    {
      "cell_type": "code",
      "metadata": {
        "id": "PQUbgE8hfUe4",
        "colab_type": "code",
        "colab": {}
      },
      "source": [
        "def outer_function():\n",
        "    a = 5  # local to outer_function \n",
        "    def inner_function():\n",
        "        nonlocal a\n",
        "        a = 10\n",
        "        print(\"Inner function: \",a)\n",
        "    inner_function()\n",
        "    print(\"Outer function: \",a)\n",
        "\n",
        "outer_function()"
      ],
      "execution_count": 0,
      "outputs": []
    },
    {
      "cell_type": "code",
      "metadata": {
        "id": "ordMHEfogmA2",
        "colab_type": "code",
        "outputId": "bf6cd1b6-5329-4b94-d0f5-ea29af617249",
        "colab": {
          "base_uri": "https://localhost:8080/",
          "height": 35
        }
      },
      "source": [
        "def print_msg(msg):\n",
        "# This is the outer enclosing function\n",
        "    def printer():\n",
        "# This is the nested function\n",
        "        nonlocal msg\n",
        "        msg = \"new\"\n",
        "        print(msg)\n",
        "    printer()\n",
        "\n",
        "# We execute the function\n",
        "# Output: Hello\n",
        "print_msg(\"Hello\")"
      ],
      "execution_count": 3,
      "outputs": [
        {
          "output_type": "stream",
          "text": [
            "new\n"
          ],
          "name": "stdout"
        }
      ]
    },
    {
      "cell_type": "code",
      "metadata": {
        "id": "FY4ldyG3hUVY",
        "colab_type": "code",
        "colab": {}
      },
      "source": [
        "def print_msg(msg):\n",
        "# This is the outer enclosing function\n",
        "\n",
        "    def printer():\n",
        "# This is the nested function\n",
        "        print(msg)\n",
        "\n",
        "    return printer  # this got changed\n",
        "\n",
        "# Now let's try calling this function.\n",
        "# Output: Hello\n",
        "another = print_msg(\"Hello\")\n",
        "another()"
      ],
      "execution_count": 0,
      "outputs": []
    },
    {
      "cell_type": "code",
      "metadata": {
        "id": "EU-V_l6kiJ_N",
        "colab_type": "code",
        "outputId": "dc00154b-cdd9-4055-dd46-a31231395e2e",
        "colab": {
          "base_uri": "https://localhost:8080/",
          "height": 69
        }
      },
      "source": [
        "def make_multiplier_of(n):\n",
        "    def multiplier(x):\n",
        "        return x * n\n",
        "    return multiplier  #inner functions returns\n",
        "\n",
        "# Multiplier of 3\n",
        "times3 = make_multiplier_of(3)\n",
        "\n",
        "# Multiplier of 5\n",
        "times5 = make_multiplier_of(5)\n",
        "\n",
        "# Output: 27\n",
        "print(times3(9))\n",
        "\n",
        "# Output: 15\n",
        "print(times5(3))\n",
        "\n",
        "# Output: 30\n",
        "print(times5(times3(2)))"
      ],
      "execution_count": 4,
      "outputs": [
        {
          "output_type": "stream",
          "text": [
            "27\n",
            "15\n",
            "30\n"
          ],
          "name": "stdout"
        }
      ]
    },
    {
      "cell_type": "code",
      "metadata": {
        "id": "QvF-zGZziRZW",
        "colab_type": "code",
        "colab": {}
      },
      "source": [
        "make_multiplier_of.__closure__"
      ],
      "execution_count": 0,
      "outputs": []
    },
    {
      "cell_type": "code",
      "metadata": {
        "id": "8q-r59KMimRM",
        "colab_type": "code",
        "outputId": "e7fb0186-5f57-49ec-a817-f22af080eadc",
        "colab": {
          "base_uri": "https://localhost:8080/",
          "height": 35
        }
      },
      "source": [
        "times3.__closure__"
      ],
      "execution_count": 6,
      "outputs": [
        {
          "output_type": "execute_result",
          "data": {
            "text/plain": [
              "(<cell at 0x7ff79364bf48: int object at 0xa68b00>,)"
            ]
          },
          "metadata": {
            "tags": []
          },
          "execution_count": 6
        }
      ]
    },
    {
      "cell_type": "code",
      "metadata": {
        "id": "3cUDWnEoitDC",
        "colab_type": "code",
        "outputId": "6c645148-d087-4714-fdbc-5162ce1c78f8",
        "colab": {
          "base_uri": "https://localhost:8080/",
          "height": 35
        }
      },
      "source": [
        "times3.__closure__[0].cell_contents  #oops encapsule - package (data + methoeds)  - data hiding -private __ or _"
      ],
      "execution_count": 7,
      "outputs": [
        {
          "output_type": "execute_result",
          "data": {
            "text/plain": [
              "3"
            ]
          },
          "metadata": {
            "tags": []
          },
          "execution_count": 7
        }
      ]
    },
    {
      "cell_type": "code",
      "metadata": {
        "id": "GqJnP1SDi6DM",
        "colab_type": "code",
        "outputId": "0c4d2dc1-41ba-4b7f-97ff-4321a069947f",
        "colab": {
          "base_uri": "https://localhost:8080/",
          "height": 35
        }
      },
      "source": [
        "times5.__closure__[0].cell_contents"
      ],
      "execution_count": 8,
      "outputs": [
        {
          "output_type": "execute_result",
          "data": {
            "text/plain": [
              "5"
            ]
          },
          "metadata": {
            "tags": []
          },
          "execution_count": 8
        }
      ]
    },
    {
      "cell_type": "code",
      "metadata": {
        "id": "Oi_oNuMXjlK9",
        "colab_type": "code",
        "outputId": "a3417417-6bae-4889-c992-e7ad0a055235",
        "colab": {
          "base_uri": "https://localhost:8080/",
          "height": 35
        }
      },
      "source": [
        "def inc(x):\n",
        "    return x + 1\n",
        "\n",
        "def dec(x):\n",
        "    return x - 1\n",
        "\n",
        "def operate(func, x):\n",
        "    result = func(x)\n",
        "    return result\n",
        "\n",
        "operate(inc,3)\n",
        "operate(dec,3)"
      ],
      "execution_count": 10,
      "outputs": [
        {
          "output_type": "execute_result",
          "data": {
            "text/plain": [
              "2"
            ]
          },
          "metadata": {
            "tags": []
          },
          "execution_count": 10
        }
      ]
    },
    {
      "cell_type": "code",
      "metadata": {
        "id": "ndmLTjW1kA66",
        "colab_type": "code",
        "outputId": "8bcf1adc-ad23-4bf6-e80d-fa160e45d1e1",
        "colab": {
          "base_uri": "https://localhost:8080/",
          "height": 35
        }
      },
      "source": [
        "def is_called():\n",
        "    def is_returned():\n",
        "        print(\"Hello\")\n",
        "    return is_returned\n",
        "\n",
        "new = is_called()\n",
        "\n",
        "#Outputs \"Hello\"\n",
        "new()"
      ],
      "execution_count": 11,
      "outputs": [
        {
          "output_type": "stream",
          "text": [
            "Hello\n"
          ],
          "name": "stdout"
        }
      ]
    },
    {
      "cell_type": "code",
      "metadata": {
        "id": "SN_G5yN4ckBa",
        "colab_type": "code",
        "colab": {
          "base_uri": "https://localhost:8080/",
          "height": 52
        },
        "outputId": "be637fd4-d583-4460-be3d-e381f44e182d"
      },
      "source": [
        "def make_pretty(func):\n",
        "    def inner():\n",
        "        print(\"I got decorated\")\n",
        "        func()\n",
        "    return inner\n",
        "\n",
        "def ordinary():\n",
        "    print(\"I am ordinary\")\n",
        "\n",
        "x = make_pretty(ordinary)\n",
        "\n",
        "x()"
      ],
      "execution_count": 12,
      "outputs": [
        {
          "output_type": "stream",
          "text": [
            "I got decorated\n",
            "I am ordinary\n"
          ],
          "name": "stdout"
        }
      ]
    },
    {
      "cell_type": "code",
      "metadata": {
        "id": "HqLCWi4xkDF6",
        "colab_type": "code",
        "outputId": "c9469dbf-b2fb-4820-9ea2-29fc6d2a46aa",
        "colab": {
          "base_uri": "https://localhost:8080/",
          "height": 121
        }
      },
      "source": [
        "def make_pretty(func):\n",
        "    def inner():\n",
        "        print(\"I got decorated\")\n",
        "        func()\n",
        "    return inner\n",
        "\n",
        "# ordinary -- make_pretty  -oridnary    \n",
        "@make_pretty\n",
        "def ordinary():\n",
        "    print(\"I am ordinary\")\n",
        "\n",
        "@make_pretty\n",
        "def ordinary1():\n",
        "    print(\"I am ordinary-1\")\n",
        "\n",
        "@make_pretty\n",
        "def ordinary2():\n",
        "    print(\"I am ordinary-2\")    \n",
        "\n",
        "decor = ordinary\n",
        "decor()\n",
        "ordinary1()\n",
        "ordinary2()"
      ],
      "execution_count": 19,
      "outputs": [
        {
          "output_type": "stream",
          "text": [
            "I got decorated\n",
            "I am ordinary\n",
            "I got decorated\n",
            "I am ordinary-1\n",
            "I got decorated\n",
            "I am ordinary-2\n"
          ],
          "name": "stdout"
        }
      ]
    },
    {
      "cell_type": "code",
      "metadata": {
        "id": "DPqnS4yclOWO",
        "colab_type": "code",
        "outputId": "332e9ae3-13c9-4cec-e196-a5e8694d0ddd",
        "colab": {
          "base_uri": "https://localhost:8080/",
          "height": 35
        }
      },
      "source": [
        "#print(decor.__closure__[0].cell_contents)\n",
        "print(ordinary.__closure__)"
      ],
      "execution_count": 17,
      "outputs": [
        {
          "output_type": "stream",
          "text": [
            "(<cell at 0x7ff79364be28: function object at 0x7ff792d7c730>,)\n"
          ],
          "name": "stdout"
        }
      ]
    },
    {
      "cell_type": "code",
      "metadata": {
        "id": "0DoMaBAMlR4h",
        "colab_type": "code",
        "outputId": "a74403a1-82da-453f-82f5-f8b3b35e22d9",
        "colab": {
          "base_uri": "https://localhost:8080/",
          "height": 87
        }
      },
      "source": [
        "def smart_divide(func):  # non local \n",
        "   def inner(a,b):\n",
        "      print(\"I am going to divide\",a,\"and\",b)\n",
        "      if b == 0:\n",
        "         print(\"Whoops! cannot divide\")\n",
        "         return\n",
        "\n",
        "      return func(a,b)\n",
        "   return inner\n",
        "\n",
        "@smart_divide\n",
        "def divide(a,b):\n",
        "    return a/b\n",
        "print(divide(2,3))  # smart - divide (divide)\n",
        "divide(2,0)    "
      ],
      "execution_count": 21,
      "outputs": [
        {
          "output_type": "stream",
          "text": [
            "I am going to divide 2 and 3\n",
            "0.6666666666666666\n",
            "I am going to divide 2 and 0\n",
            "Whoops! cannot divide\n"
          ],
          "name": "stdout"
        }
      ]
    },
    {
      "cell_type": "code",
      "metadata": {
        "id": "vV-1ouM-rcRB",
        "colab_type": "code",
        "outputId": "b3d07e9f-5001-49fb-cb73-042ffd537472",
        "colab": {
          "base_uri": "https://localhost:8080/",
          "height": 69
        }
      },
      "source": [
        "def works_for_all(func):\n",
        "    def inner(*args, **kwargs):\n",
        "        print(\"I can decorate any function\")\n",
        "        return func(*args, **kwargs)\n",
        "    return inner\n",
        "\n",
        "@works_for_all\n",
        "def multi(*args,**kwargs):\n",
        "    print(args) \n",
        "    print(kwargs) \n",
        "\n",
        "\n",
        "multi(\"new\",\"new1\",\"new2\",\"new3\",key=\"23\",key1=\"nnn\")    "
      ],
      "execution_count": 22,
      "outputs": [
        {
          "output_type": "stream",
          "text": [
            "I can decorate any function\n",
            "('new', 'new1', 'new2', 'new3')\n",
            "{'key': '23', 'key1': 'nnn'}\n"
          ],
          "name": "stdout"
        }
      ]
    },
    {
      "cell_type": "code",
      "metadata": {
        "id": "whrPHJz7tYtC",
        "colab_type": "code",
        "outputId": "8b10cfce-3a63-4090-ccc4-545fd431deae",
        "colab": {
          "base_uri": "https://localhost:8080/",
          "height": 104
        }
      },
      "source": [
        "def star(func):\n",
        "    def inner(*args, **kwargs):\n",
        "        print(\"*\" * 30)\n",
        "        func(*args, **kwargs)\n",
        "        print(\"*\" * 30)\n",
        "    return inner\n",
        "\n",
        "def percent(func):\n",
        "    def inner(*args, **kwargs):\n",
        "        print(\"%\" * 30)\n",
        "        func(*args, **kwargs)\n",
        "        print(\"%\" * 30)\n",
        "    return inner\n",
        "\n",
        "@star\n",
        "@percent\n",
        "def printer(msg):\n",
        "    print(msg)\n",
        "printer(\"Hello\")"
      ],
      "execution_count": 23,
      "outputs": [
        {
          "output_type": "stream",
          "text": [
            "******************************\n",
            "%%%%%%%%%%%%%%%%%%%%%%%%%%%%%%\n",
            "Hello\n",
            "%%%%%%%%%%%%%%%%%%%%%%%%%%%%%%\n",
            "******************************\n"
          ],
          "name": "stdout"
        }
      ]
    },
    {
      "cell_type": "code",
      "metadata": {
        "id": "JXo4JI83uQpk",
        "colab_type": "code",
        "outputId": "6e2a9aa2-2e84-4b3f-a0ca-ac0269be03e7",
        "colab": {
          "base_uri": "https://localhost:8080/",
          "height": 87
        }
      },
      "source": [
        "def trace(f):\n",
        "...     \"Decorate a function to print a message before and after execution.\"\n",
        "...     def traced(*args, **kw):\n",
        "...         \"Print message before and after a function call.\"\n",
        "...         print(\"Entering\", f.__name__)\n",
        "...         result = f(*args, **kw)\n",
        "...         print(\"Leaving\", f.__name__)\n",
        "...         return result\n",
        "...     return traced\n",
        "\n",
        "@trace\n",
        "... def myfunc(x, a=None):\n",
        "...     \"Simply prints a message and arguments.\"\n",
        "...     print(\"Inside myfunc\")\n",
        "...     print(\"x:\", x, \"a:\", a)\n",
        "\n",
        "myfunc(\"ONE\")"
      ],
      "execution_count": 24,
      "outputs": [
        {
          "output_type": "stream",
          "text": [
            "Entering myfunc\n",
            "Inside myfunc\n",
            "x: ONE a: None\n",
            "Leaving myfunc\n"
          ],
          "name": "stdout"
        }
      ]
    },
    {
      "cell_type": "code",
      "metadata": {
        "id": "tqqN4Bowu-PK",
        "colab_type": "code",
        "colab": {}
      },
      "source": [
        "trace.__name__\n",
        "myfunc.__name__\n",
        "myfunc.__doc__"
      ],
      "execution_count": 0,
      "outputs": []
    },
    {
      "cell_type": "code",
      "metadata": {
        "id": "S8WRdmiSvsVV",
        "colab_type": "code",
        "colab": {}
      },
      "source": [
        "from functools import wraps\n",
        ">>> def simpledec(f):\n",
        "...     \"A really simple decorator to demonstrate functools.wraps.\"\n",
        "...     @wraps(f)\n",
        "...     def wrapper(arg):\n",
        "...         print(\"Calling f with arg\", arg)\n",
        "...         return f(arg)\n",
        "...     return wrapper\n",
        "... \n",
        ">>> @simpledec\n",
        "... def f(x):\n",
        "...     \"Simply prints its argument.\"\n",
        "...     print(\"Inside f, arg is\", x)\n",
        "... \n",
        ">>> f(\"Hello\")\n",
        ">>> f.__name__\n",
        ">>> f.__doc__\n",
        ">>> "
      ],
      "execution_count": 0,
      "outputs": []
    },
    {
      "cell_type": "code",
      "metadata": {
        "id": "neZw0QrS29Xx",
        "colab_type": "code",
        "colab": {}
      },
      "source": [
        "class ctrace:\n",
        "...     def __init__(self, f):\n",
        "...         \"__init__ records the passed function for later use in __call__().\"\n",
        "...         self.__doc__ = f.__doc__\n",
        "...         self.__name__ = f.__name__\n",
        "...         self.f = f\n",
        "...     def __call__(self, *args, **kw):\n",
        "...         \"Prints a trace line before calling the wrapped function.\"\n",
        "...         print(\"Called\", self.f.__name__)\n",
        "...         return self.f(*args, **kw)\n",
        "... \n",
        ">>> @ctrace\n",
        "... def simple(x):\n",
        "...     \"Just prints arg and returns it.\"\n",
        "...     print(\"simple called with\", x)\n",
        "...     return x\n",
        "\n",
        "simple(\"class decorator\")"
      ],
      "execution_count": 0,
      "outputs": []
    },
    {
      "cell_type": "code",
      "metadata": {
        "id": "1MSd5v6p5Cbu",
        "colab_type": "code",
        "colab": {}
      },
      "source": [
        "def callable(o):\n",
        "...     return hasattr(o, \"__call__\")\n",
        "...\n",
        ">>> def mtrace(cls1):\n",
        "...     for key, val in cls1.__dict__.items():\n",
        "...         if key.startswith(\"__\") and key.endswith(\"__\") or not callable(val):\n",
        "...             continue\n",
        "...         setattr(cls1, key, trace(val))\n",
        "...         #print(\"Wrapped\", key)\n",
        "...     return cls1\n",
        "... \n",
        ">>> @mtrace  # mtrace class - dull\n",
        "... class dull:\n",
        "...     def method1(self, arg):\n",
        "...         print(\"Method 1 called with arg\", arg)\n",
        "...     def method2(self, arg):\n",
        "...         print(\"Method 2 called with arg\", arg)\n",
        "\n",
        ">>> d = dull()\n",
        ">>> d.method1(\"Hello\")\n",
        ">>> d.method2(\"Goodbye\")"
      ],
      "execution_count": 0,
      "outputs": []
    },
    {
      "cell_type": "code",
      "metadata": {
        "id": "XD_5UVzd6UDC",
        "colab_type": "code",
        "colab": {}
      },
      "source": [
        ">>> def framework(f):  # somefunc\n",
        "...     f.framework = True #somefunc.fr --- true\n",
        "...     f.author = \"Myself\" #somefunc.auth ---- myes\n",
        "...     return f\n",
        "... \n",
        ">>> @framework\n",
        "... def somefunc(x):\n",
        "...     pass\n",
        "... \n",
        ">>> somefunc.framework\n",
        ">>> somefunc.author"
      ],
      "execution_count": 0,
      "outputs": []
    },
    {
      "cell_type": "code",
      "metadata": {
        "id": "9Zyp4uuY7Btd",
        "colab_type": "code",
        "colab": {}
      },
      "source": [
        ">>> counts = {}\n",
        ">>> def countable(ftype):\n",
        "...     \"Returns a decorator that counts each call of a function against ftype.\"\n",
        "...     def decorator(f):\n",
        "...         \"Decorates a function and to count each call.\"\n",
        "...         def wrapper(*args, **kw):\n",
        "...             \"Counts every call as being of the given type.\"\n",
        "...             try:\n",
        "...                 counts[ftype] += 1\n",
        "...             except KeyError:\n",
        "...                 counts[ftype] = 1\n",
        "...             return f(*args, **kw)\n",
        "...         return wrapper\n",
        "...     return decorator\n",
        "... \n",
        ">>> @countable(\"short\")\n",
        "... def f1(a, b=None):\n",
        "...     print(\"f1 called with\", a, b)\n",
        "... \n",
        ">>> @countable(\"f2\")\n",
        "... def f2():\n",
        "...     print(\"f2 called\")\n",
        "... \n",
        ">>> @countable(\"short\")\n",
        "... def f3(*args, **kw):\n",
        "...     print(\"f3 called:\", args, kw)\n",
        "... \n",
        ">>> for i in range(10): # 0 - 9 \n",
        "...     f1(1)\n",
        "...     f2()\n",
        "...     f3(i, i*i, a=i)\n",
        "\n",
        "for k in sorted(counts.keys()):\n",
        "...     print(k, \":\", counts[k])"
      ],
      "execution_count": 0,
      "outputs": []
    }
  ]
}