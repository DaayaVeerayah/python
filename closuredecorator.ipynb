{
  "nbformat": 4,
  "nbformat_minor": 0,
  "metadata": {
    "colab": {
      "name": "Untitled2.ipynb",
      "provenance": [],
      "authorship_tag": "ABX9TyNSVYj7Jh8EkYSfjPARJtDW",
      "include_colab_link": true
    },
    "kernelspec": {
      "name": "python3",
      "display_name": "Python 3"
    }
  },
  "cells": [
    {
      "cell_type": "markdown",
      "metadata": {
        "id": "view-in-github",
        "colab_type": "text"
      },
      "source": [
        "<a href=\"https://colab.research.google.com/github/meghasyam/python/blob/master/closuredecorator.ipynb\" target=\"_parent\"><img src=\"https://colab.research.google.com/assets/colab-badge.svg\" alt=\"Open In Colab\"/></a>"
      ]
    },
    {
      "cell_type": "code",
      "metadata": {
        "id": "PQUbgE8hfUe4",
        "colab_type": "code",
        "outputId": "e88059e9-9d7a-4566-c631-e0395253bff0",
        "colab": {
          "base_uri": "https://localhost:8080/",
          "height": 52
        }
      },
      "source": [
        "def outer_function():\n",
        "    a = 5  # local to outer_function \n",
        "    def inner_function():\n",
        "        nonlocal a\n",
        "        a = 10\n",
        "        print(\"Inner function: \",a)\n",
        "    inner_function()\n",
        "    print(\"Outer function: \",a)\n",
        "\n",
        "outer_function()"
      ],
      "execution_count": 0,
      "outputs": [
        {
          "output_type": "stream",
          "text": [
            "Inner function:  10\n",
            "Outer function:  10\n"
          ],
          "name": "stdout"
        }
      ]
    },
    {
      "cell_type": "code",
      "metadata": {
        "id": "ordMHEfogmA2",
        "colab_type": "code",
        "outputId": "4b00d69e-8dd3-46dc-d1c2-c44186715a5d",
        "colab": {
          "base_uri": "https://localhost:8080/",
          "height": 35
        }
      },
      "source": [
        "def print_msg(msg):\n",
        "# This is the outer enclosing function\n",
        "    def printer():\n",
        "# This is the nested function\n",
        "        nonlocal msg\n",
        "        msg = \"new\"\n",
        "        print(msg)\n",
        "    printer()\n",
        "\n",
        "# We execute the function\n",
        "# Output: Hello\n",
        "print_msg(\"Hello\")"
      ],
      "execution_count": 0,
      "outputs": [
        {
          "output_type": "stream",
          "text": [
            "new\n"
          ],
          "name": "stdout"
        }
      ]
    },
    {
      "cell_type": "code",
      "metadata": {
        "id": "FY4ldyG3hUVY",
        "colab_type": "code",
        "outputId": "6efafd78-2209-42a4-8fb4-bfc7513ea2d9",
        "colab": {
          "base_uri": "https://localhost:8080/",
          "height": 35
        }
      },
      "source": [
        "def print_msg(msg):\n",
        "# This is the outer enclosing function\n",
        "\n",
        "    def printer():\n",
        "# This is the nested function\n",
        "        print(msg)\n",
        "\n",
        "    return printer  # this got changed\n",
        "\n",
        "# Now let's try calling this function.\n",
        "# Output: Hello\n",
        "another = print_msg(\"Hello\")\n",
        "another()"
      ],
      "execution_count": 0,
      "outputs": [
        {
          "output_type": "stream",
          "text": [
            "Hello\n"
          ],
          "name": "stdout"
        }
      ]
    },
    {
      "cell_type": "code",
      "metadata": {
        "id": "EU-V_l6kiJ_N",
        "colab_type": "code",
        "outputId": "1a106509-2c3c-4f4e-80d7-f469b5a73c35",
        "colab": {
          "base_uri": "https://localhost:8080/",
          "height": 69
        }
      },
      "source": [
        "def make_multiplier_of(n):\n",
        "    def multiplier(x):\n",
        "        return x * n\n",
        "    return multiplier  #inner functions returns\n",
        "\n",
        "# Multiplier of 3\n",
        "times3 = make_multiplier_of(3)\n",
        "\n",
        "# Multiplier of 5\n",
        "times5 = make_multiplier_of(5)\n",
        "\n",
        "# Output: 27\n",
        "print(times3(9))\n",
        "\n",
        "# Output: 15\n",
        "print(times5(3))\n",
        "\n",
        "# Output: 30\n",
        "print(times5(times3(2)))"
      ],
      "execution_count": 0,
      "outputs": [
        {
          "output_type": "stream",
          "text": [
            "27\n",
            "15\n",
            "30\n"
          ],
          "name": "stdout"
        }
      ]
    },
    {
      "cell_type": "code",
      "metadata": {
        "id": "QvF-zGZziRZW",
        "colab_type": "code",
        "colab": {}
      },
      "source": [
        "make_multiplier_of.__closure__"
      ],
      "execution_count": 0,
      "outputs": []
    },
    {
      "cell_type": "code",
      "metadata": {
        "id": "8q-r59KMimRM",
        "colab_type": "code",
        "outputId": "62cee0db-4abb-4783-87bb-099928ba9598",
        "colab": {
          "base_uri": "https://localhost:8080/",
          "height": 35
        }
      },
      "source": [
        "times3.__closure__"
      ],
      "execution_count": 0,
      "outputs": [
        {
          "output_type": "execute_result",
          "data": {
            "text/plain": [
              "(<cell at 0x7f0fbd94a0d8: int object at 0xa68b00>,)"
            ]
          },
          "metadata": {
            "tags": []
          },
          "execution_count": 11
        }
      ]
    },
    {
      "cell_type": "code",
      "metadata": {
        "id": "3cUDWnEoitDC",
        "colab_type": "code",
        "outputId": "935d4076-6aba-422f-b57b-f1b2fc2399b2",
        "colab": {
          "base_uri": "https://localhost:8080/",
          "height": 35
        }
      },
      "source": [
        "times3.__closure__[0].cell_contents  #oops encapsule - package (data + methoeds)  - data hiding -private __ or _"
      ],
      "execution_count": 0,
      "outputs": [
        {
          "output_type": "execute_result",
          "data": {
            "text/plain": [
              "3"
            ]
          },
          "metadata": {
            "tags": []
          },
          "execution_count": 12
        }
      ]
    },
    {
      "cell_type": "code",
      "metadata": {
        "id": "GqJnP1SDi6DM",
        "colab_type": "code",
        "outputId": "19dc8112-673f-46c1-cdd8-18770608fc95",
        "colab": {
          "base_uri": "https://localhost:8080/",
          "height": 35
        }
      },
      "source": [
        "times5.__closure__[0].cell_contents"
      ],
      "execution_count": 0,
      "outputs": [
        {
          "output_type": "execute_result",
          "data": {
            "text/plain": [
              "5"
            ]
          },
          "metadata": {
            "tags": []
          },
          "execution_count": 13
        }
      ]
    },
    {
      "cell_type": "code",
      "metadata": {
        "id": "Oi_oNuMXjlK9",
        "colab_type": "code",
        "outputId": "022319f9-059c-4b7a-bf92-c5cd17499ed7",
        "colab": {
          "base_uri": "https://localhost:8080/",
          "height": 35
        }
      },
      "source": [
        "def inc(x):\n",
        "    return x + 1\n",
        "\n",
        "def dec(x):\n",
        "    return x - 1\n",
        "\n",
        "def operate(func, x):\n",
        "    result = func(x)\n",
        "    return result\n",
        "\n",
        "operate(inc,3)\n",
        "#operate(dec,3)"
      ],
      "execution_count": 0,
      "outputs": [
        {
          "output_type": "execute_result",
          "data": {
            "text/plain": [
              "4"
            ]
          },
          "metadata": {
            "tags": []
          },
          "execution_count": 15
        }
      ]
    },
    {
      "cell_type": "code",
      "metadata": {
        "id": "ndmLTjW1kA66",
        "colab_type": "code",
        "outputId": "7189ef2c-54f9-4574-d558-de22cf1209ca",
        "colab": {
          "base_uri": "https://localhost:8080/",
          "height": 35
        }
      },
      "source": [
        "def is_called():\n",
        "    def is_returned():\n",
        "        print(\"Hello\")\n",
        "    return is_returned\n",
        "\n",
        "new = is_called()\n",
        "\n",
        "#Outputs \"Hello\"\n",
        "new()"
      ],
      "execution_count": 0,
      "outputs": [
        {
          "output_type": "stream",
          "text": [
            "Hello\n"
          ],
          "name": "stdout"
        }
      ]
    },
    {
      "cell_type": "code",
      "metadata": {
        "id": "HqLCWi4xkDF6",
        "colab_type": "code",
        "outputId": "d268e865-cf51-42ba-d4eb-50af094e3a1e",
        "colab": {
          "base_uri": "https://localhost:8080/",
          "height": 121
        }
      },
      "source": [
        "def make_pretty(func):\n",
        "    def inner():\n",
        "        print(\"I got decorated\")\n",
        "        func()\n",
        "    return inner\n",
        "\n",
        "# ordinary -- make_pretty  -oridnary    \n",
        "@make_pretty\n",
        "def ordinary():\n",
        "    print(\"I am ordinary\")\n",
        "\n",
        "@make_pretty\n",
        "def ordinary1():\n",
        "    print(\"I am ordinary-1\")\n",
        "\n",
        "@make_pretty\n",
        "def ordinary2():\n",
        "    print(\"I am ordinary-2\")    \n",
        "\n",
        "decor = ordinary\n",
        "decor()\n",
        "ordinary1()\n",
        "ordinary2()"
      ],
      "execution_count": 0,
      "outputs": [
        {
          "output_type": "stream",
          "text": [
            "I got decorated\n",
            "I am ordinary\n",
            "I got decorated\n",
            "I am ordinary-1\n",
            "I got decorated\n",
            "I am ordinary-2\n"
          ],
          "name": "stdout"
        }
      ]
    },
    {
      "cell_type": "code",
      "metadata": {
        "id": "DPqnS4yclOWO",
        "colab_type": "code",
        "outputId": "a283fff1-2b28-467c-bc28-cffe0b7c4ccd",
        "colab": {
          "base_uri": "https://localhost:8080/",
          "height": 52
        }
      },
      "source": [
        "print(decor.__closure__[0].cell_contents)\n",
        "print(make_pretty.__closure__)"
      ],
      "execution_count": 0,
      "outputs": [
        {
          "output_type": "stream",
          "text": [
            "<function ordinary at 0x7f0fbd0ee378>\n",
            "None\n"
          ],
          "name": "stdout"
        }
      ]
    },
    {
      "cell_type": "code",
      "metadata": {
        "id": "0DoMaBAMlR4h",
        "colab_type": "code",
        "outputId": "e197d5f2-e78b-4542-a537-5aee6c7b6310",
        "colab": {
          "base_uri": "https://localhost:8080/",
          "height": 69
        }
      },
      "source": [
        "def smart_divide(func):  # non local \n",
        "   def inner(a,b):\n",
        "      print(\"I am going to divide\",a,\"and\",b)\n",
        "      if b == 0:\n",
        "         print(\"Whoops! cannot divide\")\n",
        "         return\n",
        "\n",
        "      return func(a,b)\n",
        "   return inner\n",
        "\n",
        "@smart_divide\n",
        "def divide(a,b):\n",
        "    return a/b\n",
        "divide(2,3)  # smart - divide (divide)\n",
        "divide(2,0)    "
      ],
      "execution_count": 0,
      "outputs": [
        {
          "output_type": "stream",
          "text": [
            "I am going to divide 2 and 3\n",
            "I am going to divide 2 and 0\n",
            "Whoops! cannot divide\n"
          ],
          "name": "stdout"
        }
      ]
    },
    {
      "cell_type": "code",
      "metadata": {
        "id": "vV-1ouM-rcRB",
        "colab_type": "code",
        "outputId": "741c291f-d517-4924-a6dc-5afac2e15fdf",
        "colab": {
          "base_uri": "https://localhost:8080/",
          "height": 69
        }
      },
      "source": [
        "def works_for_all(func):\n",
        "    def inner(*args, **kwargs):\n",
        "        print(\"I can decorate any function\")\n",
        "        return func(*args, **kwargs)\n",
        "    return inner\n",
        "\n",
        "@works_for_all\n",
        "def multi(*args,**kwargs):\n",
        "    print(args) \n",
        "    print(kwargs) \n",
        "\n",
        "\n",
        "multi(\"new\",\"new1\",\"new2\",\"new3\",key=\"23\",key1=\"nnn\")    "
      ],
      "execution_count": 0,
      "outputs": [
        {
          "output_type": "stream",
          "text": [
            "I can decorate any function\n",
            "('new', 'new1', 'new2', 'new3')\n",
            "{'key': '23', 'key1': 'nnn'}\n"
          ],
          "name": "stdout"
        }
      ]
    },
    {
      "cell_type": "code",
      "metadata": {
        "id": "whrPHJz7tYtC",
        "colab_type": "code",
        "outputId": "e47ee439-74b1-4845-eabc-77af0ac6cfec",
        "colab": {
          "base_uri": "https://localhost:8080/",
          "height": 104
        }
      },
      "source": [
        "def star(func):\n",
        "    def inner(*args, **kwargs):\n",
        "        print(\"*\" * 30)\n",
        "        func(*args, **kwargs)\n",
        "        print(\"*\" * 30)\n",
        "    return inner\n",
        "\n",
        "def percent(func):\n",
        "    def inner(*args, **kwargs):\n",
        "        print(\"%\" * 30)\n",
        "        func(*args, **kwargs)\n",
        "        print(\"%\" * 30)\n",
        "    return inner\n",
        "\n",
        "@star\n",
        "@percent\n",
        "def printer(msg):\n",
        "    print(msg)\n",
        "printer(\"Hello\")"
      ],
      "execution_count": 0,
      "outputs": [
        {
          "output_type": "stream",
          "text": [
            "******************************\n",
            "%%%%%%%%%%%%%%%%%%%%%%%%%%%%%%\n",
            "Hello\n",
            "%%%%%%%%%%%%%%%%%%%%%%%%%%%%%%\n",
            "******************************\n"
          ],
          "name": "stdout"
        }
      ]
    },
    {
      "cell_type": "code",
      "metadata": {
        "id": "JXo4JI83uQpk",
        "colab_type": "code",
        "outputId": "664881fd-0b4c-457e-97b8-d5f5e8e35364",
        "colab": {
          "base_uri": "https://localhost:8080/",
          "height": 87
        }
      },
      "source": [
        "def trace(f):\n",
        "...     \"Decorate a function to print a message before and after execution.\"\n",
        "...     def traced(*args, **kw):\n",
        "...         \"Print message before and after a function call.\"\n",
        "...         print(\"Entering\", f.__name__)\n",
        "...         result = f(*args, **kw)\n",
        "...         print(\"Leaving\", f.__name__)\n",
        "...         return result\n",
        "...     return traced\n",
        "\n",
        "@trace\n",
        "... def myfunc(x, a=None):\n",
        "...     \"Simply prints a message and arguments.\"\n",
        "...     print(\"Inside myfunc\")\n",
        "...     print(\"x:\", x, \"a:\", a)\n",
        "\n",
        "myfunc(\"ONE\")"
      ],
      "execution_count": 4,
      "outputs": [
        {
          "output_type": "stream",
          "text": [
            "Entering myfunc\n",
            "Inside myfunc\n",
            "x: ONE a: None\n",
            "Leaving myfunc\n"
          ],
          "name": "stdout"
        }
      ]
    },
    {
      "cell_type": "code",
      "metadata": {
        "id": "tqqN4Bowu-PK",
        "colab_type": "code",
        "outputId": "ec9b21b9-1d11-4eab-e172-60ccc4ba215a",
        "colab": {
          "base_uri": "https://localhost:8080/",
          "height": 35
        }
      },
      "source": [
        "trace.__name__\n",
        "myfunc.__name__\n",
        "myfunc.__doc__"
      ],
      "execution_count": 0,
      "outputs": [
        {
          "output_type": "execute_result",
          "data": {
            "text/plain": [
              "'Print message before and after a function call.'"
            ]
          },
          "metadata": {
            "tags": []
          },
          "execution_count": 21
        }
      ]
    },
    {
      "cell_type": "code",
      "metadata": {
        "id": "S8WRdmiSvsVV",
        "colab_type": "code",
        "outputId": "d7237217-2841-4b08-c708-a86a98df786f",
        "colab": {
          "base_uri": "https://localhost:8080/",
          "height": 69
        }
      },
      "source": [
        "from functools import wraps\n",
        ">>> def simpledec(f):\n",
        "...     \"A really simple decorator to demonstrate functools.wraps.\"\n",
        "...     @wraps(f)\n",
        "...     def wrapper(arg):\n",
        "...         print(\"Calling f with arg\", arg)\n",
        "...         return f(arg)\n",
        "...     return wrapper\n",
        "... \n",
        ">>> @simpledec\n",
        "... def f(x):\n",
        "...     \"Simply prints its argument.\"\n",
        "...     print(\"Inside f, arg is\", x)\n",
        "... \n",
        ">>> f(\"Hello\")\n",
        ">>> f.__name__\n",
        ">>> f.__doc__\n",
        ">>> "
      ],
      "execution_count": 0,
      "outputs": [
        {
          "output_type": "stream",
          "text": [
            "Calling f with arg Hello\n",
            "Inside f, arg is Hello\n"
          ],
          "name": "stdout"
        },
        {
          "output_type": "execute_result",
          "data": {
            "text/plain": [
              "'Simply prints its argument.'"
            ]
          },
          "metadata": {
            "tags": []
          },
          "execution_count": 23
        }
      ]
    },
    {
      "cell_type": "code",
      "metadata": {
        "id": "neZw0QrS29Xx",
        "colab_type": "code",
        "colab": {
          "base_uri": "https://localhost:8080/",
          "height": 69
        },
        "outputId": "9120a730-40ec-44f8-861e-b79abf2150fc"
      },
      "source": [
        "class ctrace:\n",
        "...     def __init__(self, f):\n",
        "...         \"__init__ records the passed function for later use in __call__().\"\n",
        "...         self.__doc__ = f.__doc__\n",
        "...         self.__name__ = f.__name__\n",
        "...         self.f = f\n",
        "...     def __call__(self, *args, **kw):\n",
        "...         \"Prints a trace line before calling the wrapped function.\"\n",
        "...         print(\"Called\", self.f.__name__)\n",
        "...         return self.f(*args, **kw)\n",
        "... \n",
        ">>> @ctrace\n",
        "... def simple(x):\n",
        "...     \"Just prints arg and returns it.\"\n",
        "...     print(\"simple called with\", x)\n",
        "...     return x\n",
        "\n",
        "simple(\"class decorator\")"
      ],
      "execution_count": 2,
      "outputs": [
        {
          "output_type": "stream",
          "text": [
            "Called simple\n",
            "simple called with class decorator\n"
          ],
          "name": "stdout"
        },
        {
          "output_type": "execute_result",
          "data": {
            "text/plain": [
              "'class decorator'"
            ]
          },
          "metadata": {
            "tags": []
          },
          "execution_count": 2
        }
      ]
    },
    {
      "cell_type": "code",
      "metadata": {
        "id": "1MSd5v6p5Cbu",
        "colab_type": "code",
        "colab": {
          "base_uri": "https://localhost:8080/",
          "height": 121
        },
        "outputId": "37e80bcd-a27f-485b-b162-4eee46e6c7fa"
      },
      "source": [
        "def callable(o):\n",
        "...     return hasattr(o, \"__call__\")\n",
        "...\n",
        ">>> def mtrace(cls1):\n",
        "...     for key, val in cls1.__dict__.items():\n",
        "...         if key.startswith(\"__\") and key.endswith(\"__\") or not callable(val):\n",
        "...             continue\n",
        "...         setattr(cls1, key, trace(val))\n",
        "...         #print(\"Wrapped\", key)\n",
        "...     return cls1\n",
        "... \n",
        ">>> @mtrace  # mtrace class - dull\n",
        "... class dull:\n",
        "...     def method1(self, arg):\n",
        "...         print(\"Method 1 called with arg\", arg)\n",
        "...     def method2(self, arg):\n",
        "...         print(\"Method 2 called with arg\", arg)\n",
        "\n",
        ">>> d = dull()\n",
        ">>> d.method1(\"Hello\")\n",
        ">>> d.method2(\"Goodbye\")"
      ],
      "execution_count": 9,
      "outputs": [
        {
          "output_type": "stream",
          "text": [
            "Entering method1\n",
            "Method 1 called with arg Hello\n",
            "Leaving method1\n",
            "Entering method2\n",
            "Method 2 called with arg Goodbye\n",
            "Leaving method2\n"
          ],
          "name": "stdout"
        }
      ]
    },
    {
      "cell_type": "code",
      "metadata": {
        "id": "XD_5UVzd6UDC",
        "colab_type": "code",
        "colab": {
          "base_uri": "https://localhost:8080/",
          "height": 35
        },
        "outputId": "de614e93-c2ae-4104-d08e-4ffc38c6a615"
      },
      "source": [
        ">>> def framework(f):  # somefunc\n",
        "...     f.framework = True #somefunc.fr --- true\n",
        "...     f.author = \"Myself\" #somefunc.auth ---- myes\n",
        "...     return f\n",
        "... \n",
        ">>> @framework\n",
        "... def somefunc(x):\n",
        "...     pass\n",
        "... \n",
        ">>> somefunc.framework\n",
        ">>> somefunc.author"
      ],
      "execution_count": 11,
      "outputs": [
        {
          "output_type": "execute_result",
          "data": {
            "text/plain": [
              "'Myself'"
            ]
          },
          "metadata": {
            "tags": []
          },
          "execution_count": 11
        }
      ]
    },
    {
      "cell_type": "code",
      "metadata": {
        "id": "9Zyp4uuY7Btd",
        "colab_type": "code",
        "colab": {
          "base_uri": "https://localhost:8080/",
          "height": 572
        },
        "outputId": "87a0c215-8b81-478b-93e6-39751a7e2d9e"
      },
      "source": [
        ">>> counts = {}\n",
        ">>> def countable(ftype):\n",
        "...     \"Returns a decorator that counts each call of a function against ftype.\"\n",
        "...     def decorator(f):\n",
        "...         \"Decorates a function and to count each call.\"\n",
        "...         def wrapper(*args, **kw):\n",
        "...             \"Counts every call as being of the given type.\"\n",
        "...             try:\n",
        "...                 counts[ftype] += 1\n",
        "...             except KeyError:\n",
        "...                 counts[ftype] = 1\n",
        "...             return f(*args, **kw)\n",
        "...         return wrapper\n",
        "...     return decorator\n",
        "... \n",
        ">>> @countable(\"short\")\n",
        "... def f1(a, b=None):\n",
        "...     print(\"f1 called with\", a, b)\n",
        "... \n",
        ">>> @countable(\"f2\")\n",
        "... def f2():\n",
        "...     print(\"f2 called\")\n",
        "... \n",
        ">>> @countable(\"short\")\n",
        "... def f3(*args, **kw):\n",
        "...     print(\"f3 called:\", args, kw)\n",
        "... \n",
        ">>> for i in range(10): # 0 - 9 \n",
        "...     f1(1)\n",
        "...     f2()\n",
        "...     f3(i, i*i, a=i)\n",
        "\n",
        "for k in sorted(counts.keys()):\n",
        "...     print(k, \":\", counts[k])"
      ],
      "execution_count": 13,
      "outputs": [
        {
          "output_type": "stream",
          "text": [
            "f1 called with 1 None\n",
            "f2 called\n",
            "f3 called: (0, 0) {'a': 0}\n",
            "f1 called with 1 None\n",
            "f2 called\n",
            "f3 called: (1, 1) {'a': 1}\n",
            "f1 called with 1 None\n",
            "f2 called\n",
            "f3 called: (2, 4) {'a': 2}\n",
            "f1 called with 1 None\n",
            "f2 called\n",
            "f3 called: (3, 9) {'a': 3}\n",
            "f1 called with 1 None\n",
            "f2 called\n",
            "f3 called: (4, 16) {'a': 4}\n",
            "f1 called with 1 None\n",
            "f2 called\n",
            "f3 called: (5, 25) {'a': 5}\n",
            "f1 called with 1 None\n",
            "f2 called\n",
            "f3 called: (6, 36) {'a': 6}\n",
            "f1 called with 1 None\n",
            "f2 called\n",
            "f3 called: (7, 49) {'a': 7}\n",
            "f1 called with 1 None\n",
            "f2 called\n",
            "f3 called: (8, 64) {'a': 8}\n",
            "f1 called with 1 None\n",
            "f2 called\n",
            "f3 called: (9, 81) {'a': 9}\n",
            "f2 : 10\n",
            "short : 20\n"
          ],
          "name": "stdout"
        }
      ]
    }
  ]
}