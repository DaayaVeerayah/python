{
  "nbformat": 4,
  "nbformat_minor": 0,
  "metadata": {
    "colab": {
      "name": "Untitled31.ipynb",
      "provenance": [],
      "authorship_tag": "ABX9TyOqy759fzQTR892oaG+IcuM",
      "include_colab_link": true
    },
    "kernelspec": {
      "name": "python3",
      "display_name": "Python 3"
    }
  },
  "cells": [
    {
      "cell_type": "markdown",
      "metadata": {
        "id": "view-in-github",
        "colab_type": "text"
      },
      "source": [
        "<a href=\"https://colab.research.google.com/github/meghasyam/python/blob/master/tuple.ipynb\" target=\"_parent\"><img src=\"https://colab.research.google.com/assets/colab-badge.svg\" alt=\"Open In Colab\"/></a>"
      ]
    },
    {
      "cell_type": "code",
      "metadata": {
        "id": "gNo93TerXOXz",
        "colab_type": "code",
        "colab": {}
      },
      "source": [
        "# Different types of tuples\n",
        "\n",
        "# Empty tuple\n",
        "my_tuple = ()\n",
        "print(my_tuple)\n",
        "\n",
        "# Tuple having integers\n",
        "my_tuple = (1, 2, 3)\n",
        "print(my_tuple)\n",
        "\n",
        "# tuple with mixed datatypes\n",
        "my_tuple = (1, \"Hello\", 3.4)\n",
        "print(my_tuple)\n",
        "\n",
        "# nested tuple\n",
        "my_tuple = (\"mouse\", [8, 4, 6], (1, 2, 3))\n",
        "print(my_tuple)"
      ],
      "execution_count": 0,
      "outputs": []
    },
    {
      "cell_type": "code",
      "metadata": {
        "id": "GJgljRqyYfg1",
        "colab_type": "code",
        "colab": {}
      },
      "source": [
        "# Accessing tuple elements using indexing\n",
        "my_tuple = ('p','e','r','m','i','t')\n",
        "\n",
        "print(my_tuple[0])   # 'p' \n",
        "print(my_tuple[5])   # 't'\n",
        "\n",
        "# IndexError: list index out of range\n",
        "# print(my_tuple[6])\n",
        "\n",
        "# Index must be an integer\n",
        "# TypeError: list indices must be integers, not float\n",
        "# my_tuple[2.0]\n",
        "\n",
        "# nested tuple\n",
        "n_tuple = (\"mouse\", [8, 4, 6], (1, 2, 3))\n",
        "\n",
        "# nested index\n",
        "print(n_tuple[0][3])       # 's'\n",
        "print(n_tuple[1][1])       # 4"
      ],
      "execution_count": 0,
      "outputs": []
    },
    {
      "cell_type": "code",
      "metadata": {
        "id": "NN0yVDMyYkZZ",
        "colab_type": "code",
        "colab": {}
      },
      "source": [
        "# Negative indexing for accessing tuple elements\n",
        "my_tuple = ('p', 'e', 'r', 'm', 'i', 't')\n",
        "\n",
        "# Output: 't'\n",
        "print(my_tuple[-1])\n",
        "\n",
        "# Output: 'p'\n",
        "print(my_tuple[-6])"
      ],
      "execution_count": 0,
      "outputs": []
    },
    {
      "cell_type": "code",
      "metadata": {
        "id": "C34XirkHY7NQ",
        "colab_type": "code",
        "colab": {
          "base_uri": "https://localhost:8080/",
          "height": 87
        },
        "outputId": "7c2bb417-3704-498c-c739-e096d11cd15f"
      },
      "source": [
        "# Accessing tuple elements using slicing\n",
        "my_tuple = ('p','r','o','g','r','a','m','i','z')\n",
        "\n",
        "# elements 2nd to 4th\n",
        "# Output: ('r', 'o', 'g')\n",
        "print(my_tuple[1:4])\n",
        "\n",
        "# elements beginning to 2nd\n",
        "# Output: ('p', 'r')\n",
        "print(my_tuple[:-7])\n",
        "\n",
        "# elements 8th to end\n",
        "# Output: ('i', 'z')\n",
        "print(my_tuple[7:])\n",
        "\n",
        "# elements beginning to end\n",
        "# Output: ('p', 'r', 'o', 'g', 'r', 'a', 'm', 'i', 'z')\n",
        "print(my_tuple[:])"
      ],
      "execution_count": 4,
      "outputs": [
        {
          "output_type": "stream",
          "text": [
            "('r', 'o', 'g')\n",
            "('p', 'r')\n",
            "('i', 'z')\n",
            "('p', 'r', 'o', 'g', 'r', 'a', 'm', 'i', 'z')\n"
          ],
          "name": "stdout"
        }
      ]
    },
    {
      "cell_type": "code",
      "metadata": {
        "id": "KOPHVlt-ZSwn",
        "colab_type": "code",
        "colab": {
          "base_uri": "https://localhost:8080/",
          "height": 52
        },
        "outputId": "f78bf7fc-e7db-464c-85f3-2e083749278e"
      },
      "source": [
        "# Changing tuple values\n",
        "my_tuple = (4, 2, 3, [6, 5])\n",
        "\n",
        "\n",
        "# TypeError: 'tuple' object does not support item assignment\n",
        "# my_tuple[1] = 9\n",
        "\n",
        "# However, item of mutable element can be changed\n",
        "my_tuple[3][0] = 9    # Output: (4, 2, 3, [9, 5])  replace\n",
        "print(my_tuple)\n",
        "\n",
        "# Tuples can be reassigned\n",
        "my_tuple = ('p', 'r', 'o', 'g', 'r', 'a', 'm', 'i', 'z')\n",
        "\n",
        "# Output: ('p', 'r', 'o', 'g', 'r', 'a', 'm', 'i', 'z')\n",
        "print(my_tuple)"
      ],
      "execution_count": 5,
      "outputs": [
        {
          "output_type": "stream",
          "text": [
            "(4, 2, 3, [9, 5])\n",
            "('p', 'r', 'o', 'g', 'r', 'a', 'm', 'i', 'z')\n"
          ],
          "name": "stdout"
        }
      ]
    },
    {
      "cell_type": "code",
      "metadata": {
        "id": "XWfXGUSgZxDB",
        "colab_type": "code",
        "colab": {
          "base_uri": "https://localhost:8080/",
          "height": 52
        },
        "outputId": "3f052f60-0931-47b2-9887-805953b0ac38"
      },
      "source": [
        "# Concatenation\n",
        "# Output: (1, 2, 3, 4, 5, 6)\n",
        "print((1, 2, 3) + (4, 5, 6))\n",
        "\n",
        "# Repeat\n",
        "# Output: ('Repeat', 'Repeat', 'Repeat')\n",
        "print((\"Repeat\",) * 3)"
      ],
      "execution_count": 6,
      "outputs": [
        {
          "output_type": "stream",
          "text": [
            "(1, 2, 3, 4, 5, 6)\n",
            "('Repeat', 'Repeat', 'Repeat')\n"
          ],
          "name": "stdout"
        }
      ]
    },
    {
      "cell_type": "code",
      "metadata": {
        "id": "SDXnmuyCZ6n9",
        "colab_type": "code",
        "colab": {}
      },
      "source": [
        "# Deleting tuples\n",
        "my_tuple = ('p', 'r', 'o', 'g', 'r', 'a', 'm', 'i', 'z')\n",
        "\n",
        "# can't delete items\n",
        "# TypeError: 'tuple' object doesn't support item deletion\n",
        "#del my_tuple[3]\n",
        "\n",
        "# Can delete an entire tuple\n",
        "del my_tuple\n",
        "\n",
        "# NameError: name 'my_tuple' is not defined\n",
        "#print(my_tuple)"
      ],
      "execution_count": 0,
      "outputs": []
    },
    {
      "cell_type": "code",
      "metadata": {
        "id": "96Qg_sbjbIZG",
        "colab_type": "code",
        "colab": {
          "base_uri": "https://localhost:8080/",
          "height": 52
        },
        "outputId": "b9f4e854-a0f8-4dce-c6f5-07eab2172d5c"
      },
      "source": [
        "my_tuple = ('a', 'p', 'p', 'l', 'e',)\n",
        "\n",
        "print(my_tuple.count('p'))  # Output: 2\n",
        "print(my_tuple.index('l'))  # Output: 3"
      ],
      "execution_count": 11,
      "outputs": [
        {
          "output_type": "stream",
          "text": [
            "2\n",
            "3\n"
          ],
          "name": "stdout"
        }
      ]
    },
    {
      "cell_type": "code",
      "metadata": {
        "id": "9lJwWMXybNJW",
        "colab_type": "code",
        "colab": {
          "base_uri": "https://localhost:8080/",
          "height": 69
        },
        "outputId": "2ffa41bf-dd6d-4c22-c148-ffedef909567"
      },
      "source": [
        "# Membership test in tuple\n",
        "my_tuple = ('a', 'p', 'p', 'l', 'e',)\n",
        "\n",
        "# In operation\n",
        "print('a' in my_tuple)\n",
        "print('b' in my_tuple)\n",
        "\n",
        "# Not in operation\n",
        "print('g' not in my_tuple)"
      ],
      "execution_count": 12,
      "outputs": [
        {
          "output_type": "stream",
          "text": [
            "True\n",
            "False\n",
            "True\n"
          ],
          "name": "stdout"
        }
      ]
    },
    {
      "cell_type": "code",
      "metadata": {
        "id": "hbvV917dbSnE",
        "colab_type": "code",
        "colab": {
          "base_uri": "https://localhost:8080/",
          "height": 52
        },
        "outputId": "40185ccd-2d6e-47c1-aa57-94ec79f9bd52"
      },
      "source": [
        "# Using a for loop to iterate through a tuple\n",
        "for name in ('John', 'Kate'):\n",
        "    print(\"Hello\", name)"
      ],
      "execution_count": 13,
      "outputs": [
        {
          "output_type": "stream",
          "text": [
            "Hello John\n",
            "Hello Kate\n"
          ],
          "name": "stdout"
        }
      ]
    },
    {
      "cell_type": "code",
      "metadata": {
        "id": "pkcmpwVSbkhw",
        "colab_type": "code",
        "colab": {
          "base_uri": "https://localhost:8080/",
          "height": 159
        },
        "outputId": "e1db5ac1-997e-48f7-c2b5-87acf79f1f78"
      },
      "source": [
        "tup = (2,333.3,\"ashdf\",True)\n",
        "\n",
        "print(type(tup))\n",
        "\n",
        "print(dir(tup))\n",
        "print(tup.__doc__)\n",
        "print(tup.__sizeof__)\n",
        "\n",
        "print()\n"
      ],
      "execution_count": 19,
      "outputs": [
        {
          "output_type": "stream",
          "text": [
            "<class 'tuple'>\n",
            "['__add__', '__class__', '__contains__', '__delattr__', '__dir__', '__doc__', '__eq__', '__format__', '__ge__', '__getattribute__', '__getitem__', '__getnewargs__', '__gt__', '__hash__', '__init__', '__init_subclass__', '__iter__', '__le__', '__len__', '__lt__', '__mul__', '__ne__', '__new__', '__reduce__', '__reduce_ex__', '__repr__', '__rmul__', '__setattr__', '__sizeof__', '__str__', '__subclasshook__', 'count', 'index']\n",
            "tuple() -> empty tuple\n",
            "tuple(iterable) -> tuple initialized from iterable's items\n",
            "\n",
            "If the argument is a tuple, the return value is the same object.\n",
            "<built-in method __sizeof__ of tuple object at 0x7f763e694408>\n"
          ],
          "name": "stdout"
        }
      ]
    }
  ]
}