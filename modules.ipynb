{
  "nbformat": 4,
  "nbformat_minor": 0,
  "metadata": {
    "colab": {
      "name": "Untitled26.ipynb",
      "provenance": [],
      "authorship_tag": "ABX9TyOmAgUeQgvSoFylArSlUnTE",
      "include_colab_link": true
    },
    "kernelspec": {
      "name": "python3",
      "display_name": "Python 3"
    }
  },
  "cells": [
    {
      "cell_type": "markdown",
      "metadata": {
        "id": "view-in-github",
        "colab_type": "text"
      },
      "source": [
        "<a href=\"https://colab.research.google.com/github/meghasyam/python/blob/master/modules.ipynb\" target=\"_parent\"><img src=\"https://colab.research.google.com/assets/colab-badge.svg\" alt=\"Open In Colab\"/></a>"
      ]
    },
    {
      "cell_type": "code",
      "metadata": {
        "id": "67JFLsFotwQt",
        "colab_type": "code",
        "colab": {}
      },
      "source": [
        "%%writefile newMod.py\n",
        "\n",
        "def add(a, b):\n",
        "   \"\"\"This program adds two\n",
        "   numbers and return the result\"\"\"\n",
        "\n",
        "   result = a + b\n",
        "   return result\n",
        "\n",
        "name = \"new name\"\n",
        "\n",
        "def subtr(a, b):\n",
        "   \"\"\"This program adds two\n",
        "   numbers and return the result\"\"\"\n",
        "\n",
        "   result = a - b\n",
        "   return result\n",
        "\n",
        "class myClass:\n",
        "  pass"
      ],
      "execution_count": 0,
      "outputs": []
    },
    {
      "cell_type": "code",
      "metadata": {
        "id": "EdF59CsvucRL",
        "colab_type": "code",
        "colab": {}
      },
      "source": [
        "!ls"
      ],
      "execution_count": 0,
      "outputs": []
    },
    {
      "cell_type": "code",
      "metadata": {
        "id": "xItKBCxfvVlx",
        "colab_type": "code",
        "colab": {}
      },
      "source": [
        "!cat newMod.py"
      ],
      "execution_count": 0,
      "outputs": []
    },
    {
      "cell_type": "code",
      "metadata": {
        "id": "lE0gFOeguhTn",
        "colab_type": "code",
        "colab": {}
      },
      "source": [
        "from addition import * "
      ],
      "execution_count": 0,
      "outputs": []
    },
    {
      "cell_type": "code",
      "metadata": {
        "id": "KnYgOu9avy88",
        "colab_type": "code",
        "colab": {}
      },
      "source": [
        "import newMod"
      ],
      "execution_count": 0,
      "outputs": []
    },
    {
      "cell_type": "code",
      "metadata": {
        "id": "Eo5siEx9uruU",
        "colab_type": "code",
        "colab": {}
      },
      "source": [
        "newMod.add(4545,234324)"
      ],
      "execution_count": 0,
      "outputs": []
    },
    {
      "cell_type": "code",
      "metadata": {
        "id": "5NoFj4tmu5sT",
        "colab_type": "code",
        "colab": {}
      },
      "source": [
        "dir(newMod)"
      ],
      "execution_count": 0,
      "outputs": []
    },
    {
      "cell_type": "code",
      "metadata": {
        "id": "7OuPXO2kwP0r",
        "colab_type": "code",
        "colab": {}
      },
      "source": [
        "import math as m\n",
        "print(\"The value of pi is\", m.pi)"
      ],
      "execution_count": 0,
      "outputs": []
    },
    {
      "cell_type": "code",
      "metadata": {
        "id": "2s7aSBsMwdu6",
        "colab_type": "code",
        "colab": {}
      },
      "source": [
        "dir(m)"
      ],
      "execution_count": 0,
      "outputs": []
    },
    {
      "cell_type": "code",
      "metadata": {
        "id": "UKk80HfLwjQX",
        "colab_type": "code",
        "colab": {}
      },
      "source": [
        "from math import pi # only class,functions,or any globle variable\n",
        "print(\"The value of pi is\", pi)"
      ],
      "execution_count": 0,
      "outputs": []
    },
    {
      "cell_type": "code",
      "metadata": {
        "id": "X9ZbvvgLwyvi",
        "colab_type": "code",
        "colab": {}
      },
      "source": [
        "from math import pi, e\n",
        "print(pi,e)"
      ],
      "execution_count": 0,
      "outputs": []
    },
    {
      "cell_type": "code",
      "metadata": {
        "id": "fX8r6lREw6Ak",
        "colab_type": "code",
        "colab": {}
      },
      "source": [
        "from math import * # import math"
      ],
      "execution_count": 0,
      "outputs": []
    },
    {
      "cell_type": "code",
      "metadata": {
        "id": "azqQ15-jxDQ0",
        "colab_type": "code",
        "colab": {}
      },
      "source": [
        "import sys\n",
        "\n",
        "sys.path"
      ],
      "execution_count": 0,
      "outputs": []
    },
    {
      "cell_type": "code",
      "metadata": {
        "id": "gFgwYhxjxOE0",
        "colab_type": "code",
        "colab": {}
      },
      "source": [
        "%%writefile my_module.py\n",
        "\n",
        "\n",
        "print(\"This code got executed\")"
      ],
      "execution_count": 0,
      "outputs": []
    },
    {
      "cell_type": "code",
      "metadata": {
        "id": "sTsEmNWoxUZp",
        "colab_type": "code",
        "colab": {}
      },
      "source": [
        "!ls"
      ],
      "execution_count": 0,
      "outputs": []
    },
    {
      "cell_type": "code",
      "metadata": {
        "id": "rXdksUpsxZIh",
        "colab_type": "code",
        "colab": {}
      },
      "source": [
        "import my_module"
      ],
      "execution_count": 0,
      "outputs": []
    },
    {
      "cell_type": "code",
      "metadata": {
        "id": "Azcpp2LYxc5l",
        "colab_type": "code",
        "colab": {}
      },
      "source": [
        "import my_module"
      ],
      "execution_count": 0,
      "outputs": []
    },
    {
      "cell_type": "code",
      "metadata": {
        "id": "7dCJdYVYxiZR",
        "colab_type": "code",
        "colab": {}
      },
      "source": [
        "import imp\n",
        "imp.reload(my_module)"
      ],
      "execution_count": 0,
      "outputs": []
    },
    {
      "cell_type": "code",
      "metadata": {
        "id": "_bbvJElTxysm",
        "colab_type": "code",
        "colab": {}
      },
      "source": [
        "import imp\n",
        "imp.reload(addition)"
      ],
      "execution_count": 0,
      "outputs": []
    },
    {
      "cell_type": "code",
      "metadata": {
        "id": "bXV5-1eRxuX4",
        "colab_type": "code",
        "colab": {}
      },
      "source": [
        "print(dir(addition))\n",
        "\n",
        "print(addition.__name__, type(addition.__name__))"
      ],
      "execution_count": 0,
      "outputs": []
    },
    {
      "cell_type": "code",
      "metadata": {
        "id": "rtIfIfV7yknE",
        "colab_type": "code",
        "colab": {
          "base_uri": "https://localhost:8080/",
          "height": 34
        },
        "outputId": "99617170-82fc-471b-aeba-3dc77b040208"
      },
      "source": [
        "%%writefile empty.py\n",
        "\n",
        "#empty file"
      ],
      "execution_count": 46,
      "outputs": [
        {
          "output_type": "stream",
          "text": [
            "Writing empty.py\n"
          ],
          "name": "stdout"
        }
      ]
    },
    {
      "cell_type": "code",
      "metadata": {
        "id": "KFD8G4uzy_8L",
        "colab_type": "code",
        "colab": {
          "base_uri": "https://localhost:8080/",
          "height": 54
        },
        "outputId": "ea2d80c7-7f8d-4151-8869-587cd04e8c8a"
      },
      "source": [
        "import empty\n",
        "\n",
        "print(dir(empty))"
      ],
      "execution_count": 48,
      "outputs": [
        {
          "output_type": "stream",
          "text": [
            "['__builtins__', '__cached__', '__doc__', '__file__', '__loader__', '__name__', '__package__', '__spec__']\n"
          ],
          "name": "stdout"
        }
      ]
    },
    {
      "cell_type": "code",
      "metadata": {
        "id": "kpnu5LY5zGhK",
        "colab_type": "code",
        "colab": {}
      },
      "source": [
        ""
      ],
      "execution_count": 0,
      "outputs": []
    }
  ]
}